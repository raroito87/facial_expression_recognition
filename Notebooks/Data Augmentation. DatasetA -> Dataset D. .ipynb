{
 "cells": [
  {
   "cell_type": "code",
   "execution_count": 1,
   "metadata": {},
   "outputs": [],
   "source": [
    "from utils import ModelImporter, Preprocessing\n",
    "import torch\n",
    "import pandas as pd\n",
    "import numpy as np\n",
    "import matplotlib.pyplot as plt"
   ]
  },
  {
   "cell_type": "code",
   "execution_count": 2,
   "metadata": {},
   "outputs": [],
   "source": [
    "pre = Preprocessing('fer2013')\n",
    "train = pre.load_data(filename='train_norm.csv', name='train')"
   ]
  },
  {
   "cell_type": "markdown",
   "metadata": {},
   "source": [
    "#### I have a very little amount of samples of class 1:Disgust,  I am going to increase that number by rotating and flipping horizontal"
   ]
  },
  {
   "cell_type": "code",
   "execution_count": 3,
   "metadata": {},
   "outputs": [
    {
     "data": {
      "text/html": [
       "<div>\n",
       "<style scoped>\n",
       "    .dataframe tbody tr th:only-of-type {\n",
       "        vertical-align: middle;\n",
       "    }\n",
       "\n",
       "    .dataframe tbody tr th {\n",
       "        vertical-align: top;\n",
       "    }\n",
       "\n",
       "    .dataframe thead th {\n",
       "        text-align: right;\n",
       "    }\n",
       "</style>\n",
       "<table border=\"1\" class=\"dataframe\">\n",
       "  <thead>\n",
       "    <tr style=\"text-align: right;\">\n",
       "      <th></th>\n",
       "      <th>0</th>\n",
       "      <th>1</th>\n",
       "      <th>2</th>\n",
       "      <th>3</th>\n",
       "      <th>4</th>\n",
       "      <th>5</th>\n",
       "      <th>6</th>\n",
       "      <th>7</th>\n",
       "      <th>8</th>\n",
       "      <th>9</th>\n",
       "      <th>...</th>\n",
       "      <th>2295</th>\n",
       "      <th>2296</th>\n",
       "      <th>2297</th>\n",
       "      <th>2298</th>\n",
       "      <th>2299</th>\n",
       "      <th>2300</th>\n",
       "      <th>2301</th>\n",
       "      <th>2302</th>\n",
       "      <th>2303</th>\n",
       "      <th>emotion</th>\n",
       "    </tr>\n",
       "  </thead>\n",
       "  <tbody>\n",
       "    <tr>\n",
       "      <th>299</th>\n",
       "      <td>0.494118</td>\n",
       "      <td>0.494118</td>\n",
       "      <td>0.505882</td>\n",
       "      <td>0.470588</td>\n",
       "      <td>0.431373</td>\n",
       "      <td>0.658824</td>\n",
       "      <td>0.682353</td>\n",
       "      <td>0.674510</td>\n",
       "      <td>0.678431</td>\n",
       "      <td>0.682353</td>\n",
       "      <td>...</td>\n",
       "      <td>0.509804</td>\n",
       "      <td>0.415686</td>\n",
       "      <td>0.333333</td>\n",
       "      <td>0.301961</td>\n",
       "      <td>0.278431</td>\n",
       "      <td>0.235294</td>\n",
       "      <td>0.419608</td>\n",
       "      <td>0.780392</td>\n",
       "      <td>0.815686</td>\n",
       "      <td>1</td>\n",
       "    </tr>\n",
       "    <tr>\n",
       "      <th>388</th>\n",
       "      <td>0.349020</td>\n",
       "      <td>0.215686</td>\n",
       "      <td>0.094118</td>\n",
       "      <td>0.156863</td>\n",
       "      <td>0.168627</td>\n",
       "      <td>0.188235</td>\n",
       "      <td>0.207843</td>\n",
       "      <td>0.215686</td>\n",
       "      <td>0.231373</td>\n",
       "      <td>0.160784</td>\n",
       "      <td>...</td>\n",
       "      <td>0.388235</td>\n",
       "      <td>0.431373</td>\n",
       "      <td>0.478431</td>\n",
       "      <td>0.392157</td>\n",
       "      <td>0.266667</td>\n",
       "      <td>0.137255</td>\n",
       "      <td>0.090196</td>\n",
       "      <td>0.090196</td>\n",
       "      <td>0.070588</td>\n",
       "      <td>1</td>\n",
       "    </tr>\n",
       "    <tr>\n",
       "      <th>416</th>\n",
       "      <td>0.800000</td>\n",
       "      <td>0.764706</td>\n",
       "      <td>0.709804</td>\n",
       "      <td>0.513725</td>\n",
       "      <td>0.196078</td>\n",
       "      <td>0.196078</td>\n",
       "      <td>0.223529</td>\n",
       "      <td>0.219608</td>\n",
       "      <td>0.258824</td>\n",
       "      <td>0.384314</td>\n",
       "      <td>...</td>\n",
       "      <td>0.462745</td>\n",
       "      <td>0.447059</td>\n",
       "      <td>0.435294</td>\n",
       "      <td>0.470588</td>\n",
       "      <td>0.545098</td>\n",
       "      <td>0.560784</td>\n",
       "      <td>0.588235</td>\n",
       "      <td>0.611765</td>\n",
       "      <td>0.631373</td>\n",
       "      <td>1</td>\n",
       "    </tr>\n",
       "    <tr>\n",
       "      <th>473</th>\n",
       "      <td>0.054902</td>\n",
       "      <td>0.043137</td>\n",
       "      <td>0.050980</td>\n",
       "      <td>0.047059</td>\n",
       "      <td>0.160784</td>\n",
       "      <td>0.372549</td>\n",
       "      <td>0.443137</td>\n",
       "      <td>0.439216</td>\n",
       "      <td>0.435294</td>\n",
       "      <td>0.478431</td>\n",
       "      <td>...</td>\n",
       "      <td>0.274510</td>\n",
       "      <td>0.203922</td>\n",
       "      <td>0.121569</td>\n",
       "      <td>0.090196</td>\n",
       "      <td>0.137255</td>\n",
       "      <td>0.176471</td>\n",
       "      <td>0.176471</td>\n",
       "      <td>0.180392</td>\n",
       "      <td>0.188235</td>\n",
       "      <td>1</td>\n",
       "    </tr>\n",
       "    <tr>\n",
       "      <th>533</th>\n",
       "      <td>0.070588</td>\n",
       "      <td>0.098039</td>\n",
       "      <td>0.192157</td>\n",
       "      <td>0.294118</td>\n",
       "      <td>0.349020</td>\n",
       "      <td>0.380392</td>\n",
       "      <td>0.392157</td>\n",
       "      <td>0.392157</td>\n",
       "      <td>0.396078</td>\n",
       "      <td>0.403922</td>\n",
       "      <td>...</td>\n",
       "      <td>0.643137</td>\n",
       "      <td>0.647059</td>\n",
       "      <td>0.654902</td>\n",
       "      <td>0.658824</td>\n",
       "      <td>0.658824</td>\n",
       "      <td>0.639216</td>\n",
       "      <td>0.619608</td>\n",
       "      <td>0.329412</td>\n",
       "      <td>0.054902</td>\n",
       "      <td>1</td>\n",
       "    </tr>\n",
       "  </tbody>\n",
       "</table>\n",
       "<p>5 rows × 2305 columns</p>\n",
       "</div>"
      ],
      "text/plain": [
       "            0         1         2         3         4         5         6  \\\n",
       "299  0.494118  0.494118  0.505882  0.470588  0.431373  0.658824  0.682353   \n",
       "388  0.349020  0.215686  0.094118  0.156863  0.168627  0.188235  0.207843   \n",
       "416  0.800000  0.764706  0.709804  0.513725  0.196078  0.196078  0.223529   \n",
       "473  0.054902  0.043137  0.050980  0.047059  0.160784  0.372549  0.443137   \n",
       "533  0.070588  0.098039  0.192157  0.294118  0.349020  0.380392  0.392157   \n",
       "\n",
       "            7         8         9  ...      2295      2296      2297  \\\n",
       "299  0.674510  0.678431  0.682353  ...  0.509804  0.415686  0.333333   \n",
       "388  0.215686  0.231373  0.160784  ...  0.388235  0.431373  0.478431   \n",
       "416  0.219608  0.258824  0.384314  ...  0.462745  0.447059  0.435294   \n",
       "473  0.439216  0.435294  0.478431  ...  0.274510  0.203922  0.121569   \n",
       "533  0.392157  0.396078  0.403922  ...  0.643137  0.647059  0.654902   \n",
       "\n",
       "         2298      2299      2300      2301      2302      2303  emotion  \n",
       "299  0.301961  0.278431  0.235294  0.419608  0.780392  0.815686        1  \n",
       "388  0.392157  0.266667  0.137255  0.090196  0.090196  0.070588        1  \n",
       "416  0.470588  0.545098  0.560784  0.588235  0.611765  0.631373        1  \n",
       "473  0.090196  0.137255  0.176471  0.176471  0.180392  0.188235        1  \n",
       "533  0.658824  0.658824  0.639216  0.619608  0.329412  0.054902        1  \n",
       "\n",
       "[5 rows x 2305 columns]"
      ]
     },
     "execution_count": 3,
     "metadata": {},
     "output_type": "execute_result"
    }
   ],
   "source": [
    "disgust = train.loc[train['emotion'] == 1]\n",
    "disgust.head()"
   ]
  },
  {
   "cell_type": "code",
   "execution_count": 4,
   "metadata": {},
   "outputs": [
    {
     "data": {
      "text/plain": [
       "436"
      ]
     },
     "execution_count": 4,
     "metadata": {},
     "output_type": "execute_result"
    }
   ],
   "source": [
    "len(disgust)"
   ]
  },
  {
   "cell_type": "code",
   "execution_count": 5,
   "metadata": {},
   "outputs": [],
   "source": [
    "from image_utils import ImageConverter\n",
    "import matplotlib.pyplot as plt"
   ]
  },
  {
   "cell_type": "code",
   "execution_count": 6,
   "metadata": {},
   "outputs": [],
   "source": [
    "img_conv = ImageConverter()"
   ]
  },
  {
   "cell_type": "code",
   "execution_count": 7,
   "metadata": {},
   "outputs": [],
   "source": [
    "train_only_disgust_np = disgust.drop(columns = ['emotion']).values"
   ]
  },
  {
   "cell_type": "code",
   "execution_count": 8,
   "metadata": {},
   "outputs": [],
   "source": [
    "array_0 = train_only_disgust_np[0]\n",
    "array_0_frame = img_conv.reshape_array_to_frame(array_0)\n",
    "array_0_frame_flipped = img_conv.rotate_image(array_0_frame, 20)"
   ]
  },
  {
   "cell_type": "code",
   "execution_count": 9,
   "metadata": {},
   "outputs": [
    {
     "data": {
      "image/png": "[encoded data removed]",
      "text/plain": [
       "<Figure size 720x360 with 2 Axes>"
      ]
     },
     "metadata": {
      "needs_background": "light"
     },
     "output_type": "display_data"
    }
   ],
   "source": [
    "plt.figure(1, figsize=(10, 5))\n",
    "plt.subplot(1,2, 1)\n",
    "plt.imshow(array_0_frame, cmap='gray', interpolation='none')\n",
    "plt.subplot(1,2, 2)\n",
    "plt.imshow(array_0_frame_flipped, cmap='gray', interpolation='none')\n",
    "plt.show()"
   ]
  },
  {
   "cell_type": "code",
   "execution_count": 10,
   "metadata": {},
   "outputs": [],
   "source": [
    "array_50 = train_only_disgust_np[50]\n",
    "array_50_frame = img_conv.reshape_array_to_frame(array_50)\n",
    "array_50_frame_flipped = img_conv.rotate_image(array_50_frame, 20)"
   ]
  },
  {
   "cell_type": "code",
   "execution_count": 11,
   "metadata": {},
   "outputs": [
    {
     "data": {
      "image/png": "[encoded data removed]",
      "text/plain": [
       "<Figure size 720x360 with 2 Axes>"
      ]
     },
     "metadata": {
      "needs_background": "light"
     },
     "output_type": "display_data"
    }
   ],
   "source": [
    "plt.figure(1, figsize=(10, 5))\n",
    "plt.subplot(1,2, 1)\n",
    "plt.imshow(array_50_frame, cmap='gray', interpolation='none')\n",
    "plt.subplot(1,2, 2)\n",
    "plt.imshow(array_50_frame_flipped, cmap='gray', interpolation='none')\n",
    "plt.show()"
   ]
  },
  {
   "cell_type": "code",
   "execution_count": 12,
   "metadata": {},
   "outputs": [],
   "source": [
    "rotated_10_train_only_disgust = np.zeros(shape=train_only_disgust_np.shape)\n",
    "rotated_20_train_only_disgust = np.zeros(shape=train_only_disgust_np.shape)\n",
    "idx = 0\n",
    "for i in range(len(train_only_disgust_np)):\n",
    "    array = train_only_disgust_np[i]\n",
    "    frame = img_conv.reshape_array_to_frame(array)\n",
    "    \n",
    "    rot_10 = img_conv.rotate_image(frame, 10)\n",
    "    array_rot_10 = img_conv.reshape_frame_to_array(rot_10)\n",
    "    rotated_10_train_only_disgust[i] = array_rot_10  \n",
    "    \n",
    "    rot_20 = img_conv.rotate_image(frame, 20)\n",
    "    array_rot_20 = img_conv.reshape_frame_to_array(rot_20)\n",
    "    rotated_20_train_only_disgust[i] = array_rot_20\n",
    "    \n",
    "    ##rot_15 = img_conv.rotate_image(img_conv.reshape_array_to_frame(train_only_disgust_np[i]), 15)\n",
    "    #rotated_train_only_disgust[i] = img_conv.reshape_frame_to_array(rot_5)\n",
    "    #rotated_train_only_disgust[idx + 1] = img_conv.reshape_frame_to_array(rot_15)"
   ]
  },
  {
   "cell_type": "code",
   "execution_count": 13,
   "metadata": {},
   "outputs": [
    {
     "data": {
      "text/plain": [
       "436"
      ]
     },
     "execution_count": 13,
     "metadata": {},
     "output_type": "execute_result"
    }
   ],
   "source": [
    "len(rotated_10_train_only_disgust)"
   ]
  },
  {
   "cell_type": "code",
   "execution_count": 14,
   "metadata": {},
   "outputs": [
    {
     "data": {
      "text/plain": [
       "436"
      ]
     },
     "execution_count": 14,
     "metadata": {},
     "output_type": "execute_result"
    }
   ],
   "source": [
    "len(rotated_20_train_only_disgust)"
   ]
  },
  {
   "cell_type": "code",
   "execution_count": 18,
   "metadata": {},
   "outputs": [
    {
     "data": {
      "image/png": "[encoded data removed]",
      "text/plain": [
       "<Figure size 720x360 with 3 Axes>"
      ]
     },
     "metadata": {
      "needs_background": "light"
     },
     "output_type": "display_data"
    }
   ],
   "source": [
    "img_idx = 170\n",
    "plt.figure(1, figsize=(10, 5))\n",
    "plt.subplot(1,3, 1)\n",
    "plt.imshow(img_conv.reshape_array_to_frame(train_only_disgust_np[img_idx]), cmap='gray', interpolation='none')\n",
    "plt.subplot(1,3, 2)\n",
    "plt.imshow(img_conv.reshape_array_to_frame(rotated_10_train_only_disgust[img_idx]), cmap='gray', interpolation='none')\n",
    "plt.subplot(1,3, 3)\n",
    "plt.imshow(img_conv.reshape_array_to_frame(rotated_20_train_only_disgust[img_idx]), cmap='gray', interpolation='none')\n",
    "plt.show()"
   ]
  },
  {
   "cell_type": "code",
   "execution_count": 19,
   "metadata": {},
   "outputs": [],
   "source": [
    "#Seems to work, going to save the data"
   ]
  },
  {
   "cell_type": "code",
   "execution_count": 20,
   "metadata": {},
   "outputs": [
    {
     "data": {
      "text/html": [
       "<div>\n",
       "<style scoped>\n",
       "    .dataframe tbody tr th:only-of-type {\n",
       "        vertical-align: middle;\n",
       "    }\n",
       "\n",
       "    .dataframe tbody tr th {\n",
       "        vertical-align: top;\n",
       "    }\n",
       "\n",
       "    .dataframe thead th {\n",
       "        text-align: right;\n",
       "    }\n",
       "</style>\n",
       "<table border=\"1\" class=\"dataframe\">\n",
       "  <thead>\n",
       "    <tr style=\"text-align: right;\">\n",
       "      <th></th>\n",
       "      <th>0</th>\n",
       "      <th>1</th>\n",
       "      <th>2</th>\n",
       "      <th>3</th>\n",
       "      <th>4</th>\n",
       "      <th>5</th>\n",
       "      <th>6</th>\n",
       "      <th>7</th>\n",
       "      <th>8</th>\n",
       "      <th>9</th>\n",
       "      <th>...</th>\n",
       "      <th>2295</th>\n",
       "      <th>2296</th>\n",
       "      <th>2297</th>\n",
       "      <th>2298</th>\n",
       "      <th>2299</th>\n",
       "      <th>2300</th>\n",
       "      <th>2301</th>\n",
       "      <th>2302</th>\n",
       "      <th>2303</th>\n",
       "      <th>emotion</th>\n",
       "    </tr>\n",
       "  </thead>\n",
       "  <tbody>\n",
       "    <tr>\n",
       "      <th>431</th>\n",
       "      <td>0.130882</td>\n",
       "      <td>0.144363</td>\n",
       "      <td>0.158824</td>\n",
       "      <td>0.290074</td>\n",
       "      <td>0.537745</td>\n",
       "      <td>0.774510</td>\n",
       "      <td>0.877574</td>\n",
       "      <td>0.908578</td>\n",
       "      <td>0.914951</td>\n",
       "      <td>0.918873</td>\n",
       "      <td>...</td>\n",
       "      <td>0.166912</td>\n",
       "      <td>0.142770</td>\n",
       "      <td>0.120466</td>\n",
       "      <td>0.103922</td>\n",
       "      <td>0.078431</td>\n",
       "      <td>0.066667</td>\n",
       "      <td>0.075980</td>\n",
       "      <td>0.117647</td>\n",
       "      <td>0.127451</td>\n",
       "      <td>1</td>\n",
       "    </tr>\n",
       "    <tr>\n",
       "      <th>432</th>\n",
       "      <td>0.317647</td>\n",
       "      <td>0.315931</td>\n",
       "      <td>0.312132</td>\n",
       "      <td>0.308211</td>\n",
       "      <td>0.304412</td>\n",
       "      <td>0.303431</td>\n",
       "      <td>0.308578</td>\n",
       "      <td>0.316422</td>\n",
       "      <td>0.325245</td>\n",
       "      <td>0.335784</td>\n",
       "      <td>...</td>\n",
       "      <td>0.460539</td>\n",
       "      <td>0.451225</td>\n",
       "      <td>0.417402</td>\n",
       "      <td>0.391667</td>\n",
       "      <td>0.389216</td>\n",
       "      <td>0.429412</td>\n",
       "      <td>0.450245</td>\n",
       "      <td>0.447059</td>\n",
       "      <td>0.438235</td>\n",
       "      <td>1</td>\n",
       "    </tr>\n",
       "    <tr>\n",
       "      <th>433</th>\n",
       "      <td>0.812010</td>\n",
       "      <td>0.861029</td>\n",
       "      <td>0.868382</td>\n",
       "      <td>0.888725</td>\n",
       "      <td>0.900980</td>\n",
       "      <td>0.907353</td>\n",
       "      <td>0.907108</td>\n",
       "      <td>0.895221</td>\n",
       "      <td>0.881127</td>\n",
       "      <td>0.872304</td>\n",
       "      <td>...</td>\n",
       "      <td>0.771814</td>\n",
       "      <td>0.770098</td>\n",
       "      <td>0.720956</td>\n",
       "      <td>0.653922</td>\n",
       "      <td>0.441176</td>\n",
       "      <td>0.133824</td>\n",
       "      <td>0.009314</td>\n",
       "      <td>0.006863</td>\n",
       "      <td>0.000000</td>\n",
       "      <td>1</td>\n",
       "    </tr>\n",
       "    <tr>\n",
       "      <th>434</th>\n",
       "      <td>0.166176</td>\n",
       "      <td>0.200245</td>\n",
       "      <td>0.220466</td>\n",
       "      <td>0.229044</td>\n",
       "      <td>0.241667</td>\n",
       "      <td>0.269118</td>\n",
       "      <td>0.301103</td>\n",
       "      <td>0.341544</td>\n",
       "      <td>0.365931</td>\n",
       "      <td>0.364951</td>\n",
       "      <td>...</td>\n",
       "      <td>0.215686</td>\n",
       "      <td>0.213113</td>\n",
       "      <td>0.211765</td>\n",
       "      <td>0.214216</td>\n",
       "      <td>0.215686</td>\n",
       "      <td>0.215686</td>\n",
       "      <td>0.213358</td>\n",
       "      <td>0.211765</td>\n",
       "      <td>0.211765</td>\n",
       "      <td>1</td>\n",
       "    </tr>\n",
       "    <tr>\n",
       "      <th>435</th>\n",
       "      <td>0.512010</td>\n",
       "      <td>0.382598</td>\n",
       "      <td>0.289093</td>\n",
       "      <td>0.332108</td>\n",
       "      <td>0.537745</td>\n",
       "      <td>0.731373</td>\n",
       "      <td>0.795221</td>\n",
       "      <td>0.820833</td>\n",
       "      <td>0.814461</td>\n",
       "      <td>0.810539</td>\n",
       "      <td>...</td>\n",
       "      <td>0.796814</td>\n",
       "      <td>0.777941</td>\n",
       "      <td>0.762255</td>\n",
       "      <td>0.734804</td>\n",
       "      <td>0.679902</td>\n",
       "      <td>0.592034</td>\n",
       "      <td>0.488480</td>\n",
       "      <td>0.413971</td>\n",
       "      <td>0.368382</td>\n",
       "      <td>1</td>\n",
       "    </tr>\n",
       "  </tbody>\n",
       "</table>\n",
       "<p>5 rows × 2305 columns</p>\n",
       "</div>"
      ],
      "text/plain": [
       "            0         1         2         3         4         5         6  \\\n",
       "431  0.130882  0.144363  0.158824  0.290074  0.537745  0.774510  0.877574   \n",
       "432  0.317647  0.315931  0.312132  0.308211  0.304412  0.303431  0.308578   \n",
       "433  0.812010  0.861029  0.868382  0.888725  0.900980  0.907353  0.907108   \n",
       "434  0.166176  0.200245  0.220466  0.229044  0.241667  0.269118  0.301103   \n",
       "435  0.512010  0.382598  0.289093  0.332108  0.537745  0.731373  0.795221   \n",
       "\n",
       "            7         8         9  ...      2295      2296      2297  \\\n",
       "431  0.908578  0.914951  0.918873  ...  0.166912  0.142770  0.120466   \n",
       "432  0.316422  0.325245  0.335784  ...  0.460539  0.451225  0.417402   \n",
       "433  0.895221  0.881127  0.872304  ...  0.771814  0.770098  0.720956   \n",
       "434  0.341544  0.365931  0.364951  ...  0.215686  0.213113  0.211765   \n",
       "435  0.820833  0.814461  0.810539  ...  0.796814  0.777941  0.762255   \n",
       "\n",
       "         2298      2299      2300      2301      2302      2303  emotion  \n",
       "431  0.103922  0.078431  0.066667  0.075980  0.117647  0.127451        1  \n",
       "432  0.391667  0.389216  0.429412  0.450245  0.447059  0.438235        1  \n",
       "433  0.653922  0.441176  0.133824  0.009314  0.006863  0.000000        1  \n",
       "434  0.214216  0.215686  0.215686  0.213358  0.211765  0.211765        1  \n",
       "435  0.734804  0.679902  0.592034  0.488480  0.413971  0.368382        1  \n",
       "\n",
       "[5 rows x 2305 columns]"
      ]
     },
     "execution_count": 20,
     "metadata": {},
     "output_type": "execute_result"
    }
   ],
   "source": [
    "rot_disgust_10_df = pd.DataFrame(rotated_10_train_only_disgust)\n",
    "rot_disgust_10_df['emotion'] = 1\n",
    "rot_disgust_10_df.tail()"
   ]
  },
  {
   "cell_type": "code",
   "execution_count": 21,
   "metadata": {},
   "outputs": [
    {
     "data": {
      "text/html": [
       "<div>\n",
       "<style scoped>\n",
       "    .dataframe tbody tr th:only-of-type {\n",
       "        vertical-align: middle;\n",
       "    }\n",
       "\n",
       "    .dataframe tbody tr th {\n",
       "        vertical-align: top;\n",
       "    }\n",
       "\n",
       "    .dataframe thead th {\n",
       "        text-align: right;\n",
       "    }\n",
       "</style>\n",
       "<table border=\"1\" class=\"dataframe\">\n",
       "  <thead>\n",
       "    <tr style=\"text-align: right;\">\n",
       "      <th></th>\n",
       "      <th>0</th>\n",
       "      <th>1</th>\n",
       "      <th>2</th>\n",
       "      <th>3</th>\n",
       "      <th>4</th>\n",
       "      <th>5</th>\n",
       "      <th>6</th>\n",
       "      <th>7</th>\n",
       "      <th>8</th>\n",
       "      <th>9</th>\n",
       "      <th>...</th>\n",
       "      <th>2295</th>\n",
       "      <th>2296</th>\n",
       "      <th>2297</th>\n",
       "      <th>2298</th>\n",
       "      <th>2299</th>\n",
       "      <th>2300</th>\n",
       "      <th>2301</th>\n",
       "      <th>2302</th>\n",
       "      <th>2303</th>\n",
       "      <th>emotion</th>\n",
       "    </tr>\n",
       "  </thead>\n",
       "  <tbody>\n",
       "    <tr>\n",
       "      <th>431</th>\n",
       "      <td>0.787745</td>\n",
       "      <td>0.880270</td>\n",
       "      <td>0.908578</td>\n",
       "      <td>0.914828</td>\n",
       "      <td>0.918505</td>\n",
       "      <td>0.922181</td>\n",
       "      <td>0.924020</td>\n",
       "      <td>0.909681</td>\n",
       "      <td>0.906005</td>\n",
       "      <td>0.909436</td>\n",
       "      <td>...</td>\n",
       "      <td>0.311765</td>\n",
       "      <td>0.252941</td>\n",
       "      <td>0.222549</td>\n",
       "      <td>0.203064</td>\n",
       "      <td>0.184681</td>\n",
       "      <td>0.166299</td>\n",
       "      <td>0.142770</td>\n",
       "      <td>0.121691</td>\n",
       "      <td>0.105392</td>\n",
       "      <td>1</td>\n",
       "    </tr>\n",
       "    <tr>\n",
       "      <th>432</th>\n",
       "      <td>0.303799</td>\n",
       "      <td>0.309069</td>\n",
       "      <td>0.316422</td>\n",
       "      <td>0.324877</td>\n",
       "      <td>0.335049</td>\n",
       "      <td>0.343015</td>\n",
       "      <td>0.354412</td>\n",
       "      <td>0.368995</td>\n",
       "      <td>0.380025</td>\n",
       "      <td>0.380392</td>\n",
       "      <td>...</td>\n",
       "      <td>0.436029</td>\n",
       "      <td>0.458088</td>\n",
       "      <td>0.455270</td>\n",
       "      <td>0.435049</td>\n",
       "      <td>0.443627</td>\n",
       "      <td>0.461152</td>\n",
       "      <td>0.451225</td>\n",
       "      <td>0.419853</td>\n",
       "      <td>0.393505</td>\n",
       "      <td>1</td>\n",
       "    </tr>\n",
       "    <tr>\n",
       "      <th>433</th>\n",
       "      <td>0.907721</td>\n",
       "      <td>0.906618</td>\n",
       "      <td>0.895221</td>\n",
       "      <td>0.881250</td>\n",
       "      <td>0.874142</td>\n",
       "      <td>0.855147</td>\n",
       "      <td>0.834926</td>\n",
       "      <td>0.831005</td>\n",
       "      <td>0.819975</td>\n",
       "      <td>0.816054</td>\n",
       "      <td>...</td>\n",
       "      <td>0.831250</td>\n",
       "      <td>0.827574</td>\n",
       "      <td>0.813235</td>\n",
       "      <td>0.768750</td>\n",
       "      <td>0.754657</td>\n",
       "      <td>0.772672</td>\n",
       "      <td>0.770098</td>\n",
       "      <td>0.725123</td>\n",
       "      <td>0.660539</td>\n",
       "      <td>1</td>\n",
       "    </tr>\n",
       "    <tr>\n",
       "      <th>434</th>\n",
       "      <td>0.271691</td>\n",
       "      <td>0.303799</td>\n",
       "      <td>0.341544</td>\n",
       "      <td>0.365809</td>\n",
       "      <td>0.366054</td>\n",
       "      <td>0.355025</td>\n",
       "      <td>0.344363</td>\n",
       "      <td>0.336520</td>\n",
       "      <td>0.314461</td>\n",
       "      <td>0.303064</td>\n",
       "      <td>...</td>\n",
       "      <td>0.231005</td>\n",
       "      <td>0.219975</td>\n",
       "      <td>0.219608</td>\n",
       "      <td>0.219608</td>\n",
       "      <td>0.216544</td>\n",
       "      <td>0.215686</td>\n",
       "      <td>0.213113</td>\n",
       "      <td>0.211765</td>\n",
       "      <td>0.213848</td>\n",
       "      <td>1</td>\n",
       "    </tr>\n",
       "    <tr>\n",
       "      <th>435</th>\n",
       "      <td>0.738725</td>\n",
       "      <td>0.797917</td>\n",
       "      <td>0.820833</td>\n",
       "      <td>0.814583</td>\n",
       "      <td>0.810907</td>\n",
       "      <td>0.807843</td>\n",
       "      <td>0.808578</td>\n",
       "      <td>0.816422</td>\n",
       "      <td>0.838480</td>\n",
       "      <td>0.835662</td>\n",
       "      <td>...</td>\n",
       "      <td>0.823652</td>\n",
       "      <td>0.827328</td>\n",
       "      <td>0.827451</td>\n",
       "      <td>0.827451</td>\n",
       "      <td>0.818260</td>\n",
       "      <td>0.795956</td>\n",
       "      <td>0.777941</td>\n",
       "      <td>0.763235</td>\n",
       "      <td>0.738113</td>\n",
       "      <td>1</td>\n",
       "    </tr>\n",
       "  </tbody>\n",
       "</table>\n",
       "<p>5 rows × 2305 columns</p>\n",
       "</div>"
      ],
      "text/plain": [
       "            0         1         2         3         4         5         6  \\\n",
       "431  0.787745  0.880270  0.908578  0.914828  0.918505  0.922181  0.924020   \n",
       "432  0.303799  0.309069  0.316422  0.324877  0.335049  0.343015  0.354412   \n",
       "433  0.907721  0.906618  0.895221  0.881250  0.874142  0.855147  0.834926   \n",
       "434  0.271691  0.303799  0.341544  0.365809  0.366054  0.355025  0.344363   \n",
       "435  0.738725  0.797917  0.820833  0.814583  0.810907  0.807843  0.808578   \n",
       "\n",
       "            7         8         9  ...      2295      2296      2297  \\\n",
       "431  0.909681  0.906005  0.909436  ...  0.311765  0.252941  0.222549   \n",
       "432  0.368995  0.380025  0.380392  ...  0.436029  0.458088  0.455270   \n",
       "433  0.831005  0.819975  0.816054  ...  0.831250  0.827574  0.813235   \n",
       "434  0.336520  0.314461  0.303064  ...  0.231005  0.219975  0.219608   \n",
       "435  0.816422  0.838480  0.835662  ...  0.823652  0.827328  0.827451   \n",
       "\n",
       "         2298      2299      2300      2301      2302      2303  emotion  \n",
       "431  0.203064  0.184681  0.166299  0.142770  0.121691  0.105392        1  \n",
       "432  0.435049  0.443627  0.461152  0.451225  0.419853  0.393505        1  \n",
       "433  0.768750  0.754657  0.772672  0.770098  0.725123  0.660539        1  \n",
       "434  0.219608  0.216544  0.215686  0.213113  0.211765  0.213848        1  \n",
       "435  0.827451  0.818260  0.795956  0.777941  0.763235  0.738113        1  \n",
       "\n",
       "[5 rows x 2305 columns]"
      ]
     },
     "execution_count": 21,
     "metadata": {},
     "output_type": "execute_result"
    }
   ],
   "source": [
    "rot_disgust_20_df = pd.DataFrame(rotated_20_train_only_disgust)\n",
    "rot_disgust_20_df['emotion'] = 1\n",
    "rot_disgust_20_df.tail()"
   ]
  },
  {
   "cell_type": "code",
   "execution_count": 22,
   "metadata": {},
   "outputs": [],
   "source": [
    "rot_disgust_df = pd.concat([rot_disgust_10_df, rot_disgust_20_df])"
   ]
  },
  {
   "cell_type": "code",
   "execution_count": 23,
   "metadata": {},
   "outputs": [
    {
     "name": "stdout",
     "output_type": "stream",
     "text": [
      "<class 'pandas.core.frame.DataFrame'>\n",
      "Int64Index: 872 entries, 0 to 435\n",
      "Columns: 2305 entries, 0 to emotion\n",
      "dtypes: float64(2304), int64(1)\n",
      "memory usage: 15.3 MB\n"
     ]
    }
   ],
   "source": [
    "rot_disgust_df.info()"
   ]
  },
  {
   "cell_type": "code",
   "execution_count": null,
   "metadata": {},
   "outputs": [],
   "source": []
  },
  {
   "cell_type": "code",
   "execution_count": 24,
   "metadata": {},
   "outputs": [
    {
     "name": "stdout",
     "output_type": "stream",
     "text": [
      "<class 'pandas.core.frame.DataFrame'>\n",
      "RangeIndex: 28709 entries, 0 to 28708\n",
      "Columns: 2305 entries, 0 to emotion\n",
      "dtypes: float64(2304), int64(1)\n",
      "memory usage: 504.9 MB\n"
     ]
    }
   ],
   "source": [
    "train.info()"
   ]
  },
  {
   "cell_type": "code",
   "execution_count": 25,
   "metadata": {},
   "outputs": [],
   "source": [
    "#the rotated dataset and the train seems to match"
   ]
  },
  {
   "cell_type": "code",
   "execution_count": 26,
   "metadata": {},
   "outputs": [],
   "source": [
    "rot_disgust_df.columns = train.columns "
   ]
  },
  {
   "cell_type": "code",
   "execution_count": 27,
   "metadata": {},
   "outputs": [],
   "source": [
    "train_expanded_disgust_rot = pd.concat([train, rot_disgust_df], axis = 0)"
   ]
  },
  {
   "cell_type": "code",
   "execution_count": 28,
   "metadata": {},
   "outputs": [],
   "source": [
    "train_expanded_disgust_rot = train_expanded_disgust_rot.reset_index().drop(columns = ['index'])"
   ]
  },
  {
   "cell_type": "code",
   "execution_count": 29,
   "metadata": {},
   "outputs": [
    {
     "data": {
      "text/html": [
       "<div>\n",
       "<style scoped>\n",
       "    .dataframe tbody tr th:only-of-type {\n",
       "        vertical-align: middle;\n",
       "    }\n",
       "\n",
       "    .dataframe tbody tr th {\n",
       "        vertical-align: top;\n",
       "    }\n",
       "\n",
       "    .dataframe thead th {\n",
       "        text-align: right;\n",
       "    }\n",
       "</style>\n",
       "<table border=\"1\" class=\"dataframe\">\n",
       "  <thead>\n",
       "    <tr style=\"text-align: right;\">\n",
       "      <th></th>\n",
       "      <th>0</th>\n",
       "      <th>1</th>\n",
       "      <th>2</th>\n",
       "      <th>3</th>\n",
       "      <th>4</th>\n",
       "      <th>5</th>\n",
       "      <th>6</th>\n",
       "      <th>7</th>\n",
       "      <th>8</th>\n",
       "      <th>9</th>\n",
       "      <th>...</th>\n",
       "      <th>2295</th>\n",
       "      <th>2296</th>\n",
       "      <th>2297</th>\n",
       "      <th>2298</th>\n",
       "      <th>2299</th>\n",
       "      <th>2300</th>\n",
       "      <th>2301</th>\n",
       "      <th>2302</th>\n",
       "      <th>2303</th>\n",
       "      <th>emotion</th>\n",
       "    </tr>\n",
       "  </thead>\n",
       "  <tbody>\n",
       "    <tr>\n",
       "      <th>29576</th>\n",
       "      <td>0.787745</td>\n",
       "      <td>0.880270</td>\n",
       "      <td>0.908578</td>\n",
       "      <td>0.914828</td>\n",
       "      <td>0.918505</td>\n",
       "      <td>0.922181</td>\n",
       "      <td>0.924020</td>\n",
       "      <td>0.909681</td>\n",
       "      <td>0.906005</td>\n",
       "      <td>0.909436</td>\n",
       "      <td>...</td>\n",
       "      <td>0.311765</td>\n",
       "      <td>0.252941</td>\n",
       "      <td>0.222549</td>\n",
       "      <td>0.203064</td>\n",
       "      <td>0.184681</td>\n",
       "      <td>0.166299</td>\n",
       "      <td>0.142770</td>\n",
       "      <td>0.121691</td>\n",
       "      <td>0.105392</td>\n",
       "      <td>1</td>\n",
       "    </tr>\n",
       "    <tr>\n",
       "      <th>29577</th>\n",
       "      <td>0.303799</td>\n",
       "      <td>0.309069</td>\n",
       "      <td>0.316422</td>\n",
       "      <td>0.324877</td>\n",
       "      <td>0.335049</td>\n",
       "      <td>0.343015</td>\n",
       "      <td>0.354412</td>\n",
       "      <td>0.368995</td>\n",
       "      <td>0.380025</td>\n",
       "      <td>0.380392</td>\n",
       "      <td>...</td>\n",
       "      <td>0.436029</td>\n",
       "      <td>0.458088</td>\n",
       "      <td>0.455270</td>\n",
       "      <td>0.435049</td>\n",
       "      <td>0.443627</td>\n",
       "      <td>0.461152</td>\n",
       "      <td>0.451225</td>\n",
       "      <td>0.419853</td>\n",
       "      <td>0.393505</td>\n",
       "      <td>1</td>\n",
       "    </tr>\n",
       "    <tr>\n",
       "      <th>29578</th>\n",
       "      <td>0.907721</td>\n",
       "      <td>0.906618</td>\n",
       "      <td>0.895221</td>\n",
       "      <td>0.881250</td>\n",
       "      <td>0.874142</td>\n",
       "      <td>0.855147</td>\n",
       "      <td>0.834926</td>\n",
       "      <td>0.831005</td>\n",
       "      <td>0.819975</td>\n",
       "      <td>0.816054</td>\n",
       "      <td>...</td>\n",
       "      <td>0.831250</td>\n",
       "      <td>0.827574</td>\n",
       "      <td>0.813235</td>\n",
       "      <td>0.768750</td>\n",
       "      <td>0.754657</td>\n",
       "      <td>0.772672</td>\n",
       "      <td>0.770098</td>\n",
       "      <td>0.725123</td>\n",
       "      <td>0.660539</td>\n",
       "      <td>1</td>\n",
       "    </tr>\n",
       "    <tr>\n",
       "      <th>29579</th>\n",
       "      <td>0.271691</td>\n",
       "      <td>0.303799</td>\n",
       "      <td>0.341544</td>\n",
       "      <td>0.365809</td>\n",
       "      <td>0.366054</td>\n",
       "      <td>0.355025</td>\n",
       "      <td>0.344363</td>\n",
       "      <td>0.336520</td>\n",
       "      <td>0.314461</td>\n",
       "      <td>0.303064</td>\n",
       "      <td>...</td>\n",
       "      <td>0.231005</td>\n",
       "      <td>0.219975</td>\n",
       "      <td>0.219608</td>\n",
       "      <td>0.219608</td>\n",
       "      <td>0.216544</td>\n",
       "      <td>0.215686</td>\n",
       "      <td>0.213113</td>\n",
       "      <td>0.211765</td>\n",
       "      <td>0.213848</td>\n",
       "      <td>1</td>\n",
       "    </tr>\n",
       "    <tr>\n",
       "      <th>29580</th>\n",
       "      <td>0.738725</td>\n",
       "      <td>0.797917</td>\n",
       "      <td>0.820833</td>\n",
       "      <td>0.814583</td>\n",
       "      <td>0.810907</td>\n",
       "      <td>0.807843</td>\n",
       "      <td>0.808578</td>\n",
       "      <td>0.816422</td>\n",
       "      <td>0.838480</td>\n",
       "      <td>0.835662</td>\n",
       "      <td>...</td>\n",
       "      <td>0.823652</td>\n",
       "      <td>0.827328</td>\n",
       "      <td>0.827451</td>\n",
       "      <td>0.827451</td>\n",
       "      <td>0.818260</td>\n",
       "      <td>0.795956</td>\n",
       "      <td>0.777941</td>\n",
       "      <td>0.763235</td>\n",
       "      <td>0.738113</td>\n",
       "      <td>1</td>\n",
       "    </tr>\n",
       "  </tbody>\n",
       "</table>\n",
       "<p>5 rows × 2305 columns</p>\n",
       "</div>"
      ],
      "text/plain": [
       "              0         1         2         3         4         5         6  \\\n",
       "29576  0.787745  0.880270  0.908578  0.914828  0.918505  0.922181  0.924020   \n",
       "29577  0.303799  0.309069  0.316422  0.324877  0.335049  0.343015  0.354412   \n",
       "29578  0.907721  0.906618  0.895221  0.881250  0.874142  0.855147  0.834926   \n",
       "29579  0.271691  0.303799  0.341544  0.365809  0.366054  0.355025  0.344363   \n",
       "29580  0.738725  0.797917  0.820833  0.814583  0.810907  0.807843  0.808578   \n",
       "\n",
       "              7         8         9  ...      2295      2296      2297  \\\n",
       "29576  0.909681  0.906005  0.909436  ...  0.311765  0.252941  0.222549   \n",
       "29577  0.368995  0.380025  0.380392  ...  0.436029  0.458088  0.455270   \n",
       "29578  0.831005  0.819975  0.816054  ...  0.831250  0.827574  0.813235   \n",
       "29579  0.336520  0.314461  0.303064  ...  0.231005  0.219975  0.219608   \n",
       "29580  0.816422  0.838480  0.835662  ...  0.823652  0.827328  0.827451   \n",
       "\n",
       "           2298      2299      2300      2301      2302      2303  emotion  \n",
       "29576  0.203064  0.184681  0.166299  0.142770  0.121691  0.105392        1  \n",
       "29577  0.435049  0.443627  0.461152  0.451225  0.419853  0.393505        1  \n",
       "29578  0.768750  0.754657  0.772672  0.770098  0.725123  0.660539        1  \n",
       "29579  0.219608  0.216544  0.215686  0.213113  0.211765  0.213848        1  \n",
       "29580  0.827451  0.818260  0.795956  0.777941  0.763235  0.738113        1  \n",
       "\n",
       "[5 rows x 2305 columns]"
      ]
     },
     "execution_count": 29,
     "metadata": {},
     "output_type": "execute_result"
    }
   ],
   "source": [
    "train_expanded_disgust_rot.tail()"
   ]
  },
  {
   "cell_type": "code",
   "execution_count": 30,
   "metadata": {},
   "outputs": [],
   "source": [
    "# I have now the data with rotated disgust images, my next step is to flip ALL OF IT"
   ]
  },
  {
   "cell_type": "code",
   "execution_count": 31,
   "metadata": {},
   "outputs": [],
   "source": [
    "train_np = train_expanded_disgust_rot.drop(columns = ['emotion']).values"
   ]
  },
  {
   "cell_type": "code",
   "execution_count": 32,
   "metadata": {},
   "outputs": [],
   "source": [
    "flipped_train_np = np.zeros(shape=train_np.shape)\n",
    "for i in range(len(train_np)):\n",
    "    flipped_np = img_conv.flip_frame_horitzontally(img_conv.reshape_array_to_frame(train_np[i]))\n",
    "    flipped_train_np[i] = img_conv.reshape_frame_to_array(flipped_np)"
   ]
  },
  {
   "cell_type": "code",
   "execution_count": 33,
   "metadata": {},
   "outputs": [
    {
     "data": {
      "text/plain": [
       "array([[0.16078431, 0.16862745, 0.20392157, ..., 0.32941176, 0.28235294,\n",
       "        0.30196078],\n",
       "       [0.47058824, 0.54901961, 0.50588235, ..., 0.7254902 , 0.72156863,\n",
       "        0.72941176],\n",
       "       [0.0627451 , 0.10588235, 0.17254902, ..., 0.98039216, 0.98431373,\n",
       "        0.98039216],\n",
       "       ...,\n",
       "       [0.53958333, 0.58676471, 0.59705882, ..., 0.00784314, 0.00735294,\n",
       "        0.0060049 ],\n",
       "       [0.04546569, 0.0495098 , 0.05441176, ..., 0.45122549, 0.49264706,\n",
       "        0.48860294],\n",
       "       [0.4564951 , 0.45245098, 0.45098039, ..., 1.        , 1.        ,\n",
       "        1.        ]])"
      ]
     },
     "execution_count": 33,
     "metadata": {},
     "output_type": "execute_result"
    }
   ],
   "source": [
    "flipped_train_np"
   ]
  },
  {
   "cell_type": "code",
   "execution_count": null,
   "metadata": {},
   "outputs": [],
   "source": []
  },
  {
   "cell_type": "code",
   "execution_count": 34,
   "metadata": {},
   "outputs": [
    {
     "data": {
      "text/html": [
       "<div>\n",
       "<style scoped>\n",
       "    .dataframe tbody tr th:only-of-type {\n",
       "        vertical-align: middle;\n",
       "    }\n",
       "\n",
       "    .dataframe tbody tr th {\n",
       "        vertical-align: top;\n",
       "    }\n",
       "\n",
       "    .dataframe thead th {\n",
       "        text-align: right;\n",
       "    }\n",
       "</style>\n",
       "<table border=\"1\" class=\"dataframe\">\n",
       "  <thead>\n",
       "    <tr style=\"text-align: right;\">\n",
       "      <th></th>\n",
       "      <th>0</th>\n",
       "      <th>1</th>\n",
       "      <th>2</th>\n",
       "      <th>3</th>\n",
       "      <th>4</th>\n",
       "      <th>5</th>\n",
       "      <th>6</th>\n",
       "      <th>7</th>\n",
       "      <th>8</th>\n",
       "      <th>9</th>\n",
       "      <th>...</th>\n",
       "      <th>2295</th>\n",
       "      <th>2296</th>\n",
       "      <th>2297</th>\n",
       "      <th>2298</th>\n",
       "      <th>2299</th>\n",
       "      <th>2300</th>\n",
       "      <th>2301</th>\n",
       "      <th>2302</th>\n",
       "      <th>2303</th>\n",
       "      <th>emotion</th>\n",
       "    </tr>\n",
       "  </thead>\n",
       "  <tbody>\n",
       "    <tr>\n",
       "      <th>29576</th>\n",
       "      <td>0.375735</td>\n",
       "      <td>0.410784</td>\n",
       "      <td>0.432108</td>\n",
       "      <td>0.445588</td>\n",
       "      <td>0.459069</td>\n",
       "      <td>0.453922</td>\n",
       "      <td>0.441789</td>\n",
       "      <td>0.429657</td>\n",
       "      <td>0.431081</td>\n",
       "      <td>0.475797</td>\n",
       "      <td>...</td>\n",
       "      <td>0.653646</td>\n",
       "      <td>0.695343</td>\n",
       "      <td>0.745221</td>\n",
       "      <td>0.795098</td>\n",
       "      <td>0.832843</td>\n",
       "      <td>0.838235</td>\n",
       "      <td>0.843627</td>\n",
       "      <td>0.847059</td>\n",
       "      <td>0.847059</td>\n",
       "      <td>1</td>\n",
       "    </tr>\n",
       "    <tr>\n",
       "      <th>29577</th>\n",
       "      <td>0.522672</td>\n",
       "      <td>0.513235</td>\n",
       "      <td>0.497794</td>\n",
       "      <td>0.478922</td>\n",
       "      <td>0.460049</td>\n",
       "      <td>0.444118</td>\n",
       "      <td>0.429289</td>\n",
       "      <td>0.414461</td>\n",
       "      <td>0.545891</td>\n",
       "      <td>0.594899</td>\n",
       "      <td>...</td>\n",
       "      <td>0.677225</td>\n",
       "      <td>0.673529</td>\n",
       "      <td>0.646569</td>\n",
       "      <td>0.619608</td>\n",
       "      <td>0.604044</td>\n",
       "      <td>0.618873</td>\n",
       "      <td>0.633701</td>\n",
       "      <td>0.648039</td>\n",
       "      <td>0.661520</td>\n",
       "      <td>1</td>\n",
       "    </tr>\n",
       "    <tr>\n",
       "      <th>29578</th>\n",
       "      <td>0.539583</td>\n",
       "      <td>0.586765</td>\n",
       "      <td>0.597059</td>\n",
       "      <td>0.586275</td>\n",
       "      <td>0.575490</td>\n",
       "      <td>0.571569</td>\n",
       "      <td>0.570221</td>\n",
       "      <td>0.568873</td>\n",
       "      <td>0.474939</td>\n",
       "      <td>0.176945</td>\n",
       "      <td>...</td>\n",
       "      <td>0.000000</td>\n",
       "      <td>0.000490</td>\n",
       "      <td>0.003186</td>\n",
       "      <td>0.005882</td>\n",
       "      <td>0.007843</td>\n",
       "      <td>0.007843</td>\n",
       "      <td>0.007843</td>\n",
       "      <td>0.007353</td>\n",
       "      <td>0.006005</td>\n",
       "      <td>1</td>\n",
       "    </tr>\n",
       "    <tr>\n",
       "      <th>29579</th>\n",
       "      <td>0.045466</td>\n",
       "      <td>0.049510</td>\n",
       "      <td>0.054412</td>\n",
       "      <td>0.059804</td>\n",
       "      <td>0.065196</td>\n",
       "      <td>0.065686</td>\n",
       "      <td>0.064338</td>\n",
       "      <td>0.062990</td>\n",
       "      <td>0.067402</td>\n",
       "      <td>0.067877</td>\n",
       "      <td>...</td>\n",
       "      <td>0.437251</td>\n",
       "      <td>0.305392</td>\n",
       "      <td>0.302696</td>\n",
       "      <td>0.300000</td>\n",
       "      <td>0.316422</td>\n",
       "      <td>0.383824</td>\n",
       "      <td>0.451225</td>\n",
       "      <td>0.492647</td>\n",
       "      <td>0.488603</td>\n",
       "      <td>1</td>\n",
       "    </tr>\n",
       "    <tr>\n",
       "      <th>29580</th>\n",
       "      <td>0.456495</td>\n",
       "      <td>0.452451</td>\n",
       "      <td>0.450980</td>\n",
       "      <td>0.450980</td>\n",
       "      <td>0.450980</td>\n",
       "      <td>0.463725</td>\n",
       "      <td>0.481250</td>\n",
       "      <td>0.498775</td>\n",
       "      <td>0.468176</td>\n",
       "      <td>0.471906</td>\n",
       "      <td>...</td>\n",
       "      <td>1.000000</td>\n",
       "      <td>1.000000</td>\n",
       "      <td>1.000000</td>\n",
       "      <td>1.000000</td>\n",
       "      <td>1.000000</td>\n",
       "      <td>1.000000</td>\n",
       "      <td>1.000000</td>\n",
       "      <td>1.000000</td>\n",
       "      <td>1.000000</td>\n",
       "      <td>1</td>\n",
       "    </tr>\n",
       "  </tbody>\n",
       "</table>\n",
       "<p>5 rows × 2305 columns</p>\n",
       "</div>"
      ],
      "text/plain": [
       "              0         1         2         3         4         5         6  \\\n",
       "29576  0.375735  0.410784  0.432108  0.445588  0.459069  0.453922  0.441789   \n",
       "29577  0.522672  0.513235  0.497794  0.478922  0.460049  0.444118  0.429289   \n",
       "29578  0.539583  0.586765  0.597059  0.586275  0.575490  0.571569  0.570221   \n",
       "29579  0.045466  0.049510  0.054412  0.059804  0.065196  0.065686  0.064338   \n",
       "29580  0.456495  0.452451  0.450980  0.450980  0.450980  0.463725  0.481250   \n",
       "\n",
       "              7         8         9  ...      2295      2296      2297  \\\n",
       "29576  0.429657  0.431081  0.475797  ...  0.653646  0.695343  0.745221   \n",
       "29577  0.414461  0.545891  0.594899  ...  0.677225  0.673529  0.646569   \n",
       "29578  0.568873  0.474939  0.176945  ...  0.000000  0.000490  0.003186   \n",
       "29579  0.062990  0.067402  0.067877  ...  0.437251  0.305392  0.302696   \n",
       "29580  0.498775  0.468176  0.471906  ...  1.000000  1.000000  1.000000   \n",
       "\n",
       "           2298      2299      2300      2301      2302      2303  emotion  \n",
       "29576  0.795098  0.832843  0.838235  0.843627  0.847059  0.847059        1  \n",
       "29577  0.619608  0.604044  0.618873  0.633701  0.648039  0.661520        1  \n",
       "29578  0.005882  0.007843  0.007843  0.007843  0.007353  0.006005        1  \n",
       "29579  0.300000  0.316422  0.383824  0.451225  0.492647  0.488603        1  \n",
       "29580  1.000000  1.000000  1.000000  1.000000  1.000000  1.000000        1  \n",
       "\n",
       "[5 rows x 2305 columns]"
      ]
     },
     "execution_count": 34,
     "metadata": {},
     "output_type": "execute_result"
    }
   ],
   "source": [
    "new_train = pd.DataFrame(flipped_train_np)\n",
    "new_train['emotion'] = train_expanded_disgust_rot['emotion']\n",
    "new_train.tail()"
   ]
  },
  {
   "cell_type": "code",
   "execution_count": 35,
   "metadata": {},
   "outputs": [],
   "source": [
    "new_train.columns = train_expanded_disgust_rot.columns "
   ]
  },
  {
   "cell_type": "code",
   "execution_count": 36,
   "metadata": {},
   "outputs": [],
   "source": [
    "train_expanded = pd.concat([train_expanded_disgust_rot, new_train], axis = 0)"
   ]
  },
  {
   "cell_type": "code",
   "execution_count": 37,
   "metadata": {},
   "outputs": [
    {
     "name": "stdout",
     "output_type": "stream",
     "text": [
      "<class 'pandas.core.frame.DataFrame'>\n",
      "Int64Index: 59162 entries, 0 to 29580\n",
      "Columns: 2305 entries, 0 to emotion\n",
      "dtypes: float64(2304), int64(1)\n",
      "memory usage: 1.0 GB\n"
     ]
    }
   ],
   "source": [
    "train_expanded.info()"
   ]
  },
  {
   "cell_type": "code",
   "execution_count": 38,
   "metadata": {},
   "outputs": [],
   "source": [
    "pre.set(name='train_expanded_c1_rot', value=train_expanded)\n",
    "pre.save(name= 'train_expanded_c1_rot')"
   ]
  },
  {
   "cell_type": "code",
   "execution_count": 39,
   "metadata": {},
   "outputs": [],
   "source": [
    "#Chack the structure of the new training dataset"
   ]
  },
  {
   "cell_type": "code",
   "execution_count": 40,
   "metadata": {},
   "outputs": [],
   "source": [
    "X_df = train_expanded.drop(columns=['emotion'])\n",
    "y_df = train_expanded['emotion']"
   ]
  },
  {
   "cell_type": "code",
   "execution_count": 41,
   "metadata": {},
   "outputs": [
    {
     "data": {
      "image/png": "[encoded data removed]",
      "text/plain": [
       "<Figure size 720x360 with 1 Axes>"
      ]
     },
     "metadata": {
      "needs_background": "light"
     },
     "output_type": "display_data"
    }
   ],
   "source": [
    "plt.figure(1, figsize=(10, 5))\n",
    "plt.hist(y_df.values, bins = [0, 1, 2, 3, 4, 5, 6, 7])\n",
    "plt.show()"
   ]
  },
  {
   "cell_type": "code",
   "execution_count": 16,
   "metadata": {},
   "outputs": [],
   "source": [
    "#compare the new with the old one"
   ]
  },
  {
   "cell_type": "code",
   "execution_count": 46,
   "metadata": {},
   "outputs": [],
   "source": [
    "pre.load_data(filename='train_norm.csv', name='train_norm')\n",
    "\n",
    "X_df_old = pre.get(name='train_norm').drop(columns=['emotion'])\n",
    "y_df_old= pre.get(name='train_norm')['emotion']"
   ]
  },
  {
   "cell_type": "code",
   "execution_count": 49,
   "metadata": {},
   "outputs": [],
   "source": [
    "pre.load_data(filename='train_expanded_disgust.csv', name='train_expanded_disgust')\n",
    "\n",
    "X_df_exp_c1 = pre.get(name='train_expanded_disgust').drop(columns=['emotion'])\n",
    "y_df_exp_c1 = pre.get(name='train_expanded_disgust')['emotion']"
   ]
  },
  {
   "cell_type": "code",
   "execution_count": 48,
   "metadata": {},
   "outputs": [],
   "source": [
    "pre.load_data(filename='train_expanded.csv', name='train_expanded')\n",
    "\n",
    "X_df_exp = pre.get(name='train_expanded').drop(columns=['emotion'])\n",
    "y_df_exp = pre.get(name='train_expanded')['emotion']"
   ]
  },
  {
   "cell_type": "code",
   "execution_count": null,
   "metadata": {},
   "outputs": [],
   "source": []
  },
  {
   "cell_type": "code",
   "execution_count": 69,
   "metadata": {},
   "outputs": [
    {
     "data": {
      "image/png": "[encoded data removed]",
      "text/plain": [
       "<Figure size 1440x360 with 4 Axes>"
      ]
     },
     "metadata": {
      "needs_background": "light"
     },
     "output_type": "display_data"
    }
   ],
   "source": [
    "plt.figure(1, figsize=(20, 5))\n",
    "plt.subplot(1,4, 1)\n",
    "plt.hist(y_df_old.values, bins = [0, 1, 2, 3, 4, 5, 6, 7])\n",
    "plt.ylim([0,15000])\n",
    "plt.title('A: original')\n",
    "plt.subplot(1,4, 2)\n",
    "plt.hist(y_df_exp_c1.values, bins = [0, 1, 2, 3, 4, 5, 6, 7])\n",
    "plt.ylim([0,15000])\n",
    "plt.title('B: 1:Disgust x2')\n",
    "plt.subplot(1,4, 3)\n",
    "plt.hist(y_df_exp.values, bins = [0, 1, 2, 3, 4, 5, 6, 7])\n",
    "plt.ylim([0,15000])\n",
    "plt.title('C: original x2')\n",
    "plt.subplot(1,4, 4)\n",
    "plt.hist(y_df.values, bins = [0, 1, 2, 3, 4, 5, 6, 7])\n",
    "plt.ylim([0,15000])\n",
    "plt.title('D: 1:Disgust x6, rest x2')\n",
    "plt.show()"
   ]
  },
  {
   "cell_type": "code",
   "execution_count": null,
   "metadata": {},
   "outputs": [],
   "source": []
  }
 ],
 "metadata": {
  "kernelspec": {
   "display_name": "Python 3",
   "language": "python",
   "name": "python3"
  },
  "language_info": {
   "codemirror_mode": {
    "name": "ipython",
    "version": 3
   },
   "file_extension": ".py",
   "mimetype": "text/x-python",
   "name": "python",
   "nbconvert_exporter": "python",
   "pygments_lexer": "ipython3",
   "version": "3.6.8"
  }
 },
 "nbformat": 4,
 "nbformat_minor": 2
}
