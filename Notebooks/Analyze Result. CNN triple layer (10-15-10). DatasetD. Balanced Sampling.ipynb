{
 "cells": [
  {
   "cell_type": "code",
   "execution_count": 1,
   "metadata": {},
   "outputs": [],
   "source": [
    "from utils import ModelImporter, Preprocessing, Metrics\n",
    "import torch\n",
    "import torchsummary\n",
    "import pandas as pd\n",
    "import numpy as np\n",
    "from sklearn import metrics\n",
    "import matplotlib.pyplot as plt"
   ]
  },
  {
   "cell_type": "code",
   "execution_count": 30,
   "metadata": {},
   "outputs": [
    {
     "name": "stdout",
     "output_type": "stream",
     "text": [
      "The autoreload extension is already loaded. To reload it, use:\n",
      "  %reload_ext autoreload\n"
     ]
    }
   ],
   "source": [
    "%load_ext autoreload\n",
    "%autoreload 2"
   ]
  },
  {
   "cell_type": "code",
   "execution_count": 31,
   "metadata": {},
   "outputs": [],
   "source": [
    "%reload_ext autoreload"
   ]
  },
  {
   "cell_type": "markdown",
   "metadata": {},
   "source": [
    "# Analize Model with the Public Test Data"
   ]
  },
  {
   "cell_type": "code",
   "execution_count": 2,
   "metadata": {},
   "outputs": [],
   "source": [
    "#load data\n",
    "pre = Preprocessing('fer2013')\n",
    "pre.load_data(filename='test_private_norm.csv', name='test')\n",
    "\n",
    "X_df = pre.get(name='test').drop(columns=['emotion'])\n",
    "y_df = pre.get(name='test')['emotion']"
   ]
  },
  {
   "cell_type": "code",
   "execution_count": 3,
   "metadata": {},
   "outputs": [
    {
     "name": "stdout",
     "output_type": "stream",
     "text": [
      "['cnn_triple_layer_D_bs_0.001_64_200_7', 1, 7, [48, 48], 10, 15, 10, 2]\n",
      "load model CnnTripleLayer(\n",
      "  (drop_hidden): Dropout(p=0.5)\n",
      "  (drop_visible): Dropout(p=0.2)\n",
      "  (conv1): Conv2d(1, 10, kernel_size=(3, 3), stride=(1, 1), padding=(1, 1))\n",
      "  (batchnorm1): BatchNorm2d(10, eps=1e-05, momentum=0.1, affine=True, track_running_stats=True)\n",
      "  (pool): MaxPool2d(kernel_size=2, stride=2, padding=0, dilation=1, ceil_mode=False)\n",
      "  (conv2): Conv2d(10, 15, kernel_size=(3, 3), stride=(1, 1), padding=(1, 1))\n",
      "  (batchnorm2): BatchNorm2d(15, eps=1e-05, momentum=0.1, affine=True, track_running_stats=True)\n",
      "  (conv3): Conv2d(15, 10, kernel_size=(3, 3), stride=(1, 1), padding=(1, 1))\n",
      "  (batchnorm3): BatchNorm2d(10, eps=1e-05, momentum=0.1, affine=True, track_running_stats=True)\n",
      "  (fc1): Linear(in_features=360, out_features=32, bias=True)\n",
      "  (fc2): Linear(in_features=32, out_features=7, bias=True)\n",
      ")\n"
     ]
    }
   ],
   "source": [
    "dtype = torch.float\n",
    "device = torch.device(\"cpu\")\n",
    "\n",
    "n_classes = 7\n",
    "n_epochs = 200\n",
    "learning_rate = 0.001\n",
    "batch_size = 64\n",
    "\n",
    "loss_ep_n = 90\n",
    "acc_ep_n = 140\n",
    "f1_ep_n = 150\n",
    "bs_ep_n = 180\n",
    "\n",
    "model_name = f'cnn_triple_layer_D_bs_{learning_rate}_{batch_size}_{n_epochs}_{n_classes}_epoch{bs_ep_n}'\n",
    "\n",
    "m_importer = ModelImporter('fer2013_DatasetD')\n",
    "\n",
    "model = m_importer.load_nn_model(model_name)"
   ]
  },
  {
   "cell_type": "code",
   "execution_count": 10,
   "metadata": {},
   "outputs": [
    {
     "name": "stdout",
     "output_type": "stream",
     "text": [
      "----------------------------------------------------------------\n",
      "        Layer (type)               Output Shape         Param #\n",
      "================================================================\n",
      "            Conv2d-1           [-1, 10, 48, 48]             100\n",
      "       BatchNorm2d-2           [-1, 10, 48, 48]              20\n",
      "         MaxPool2d-3           [-1, 10, 24, 24]               0\n",
      "            Conv2d-4           [-1, 15, 24, 24]           1,365\n",
      "       BatchNorm2d-5           [-1, 15, 24, 24]              30\n",
      "         MaxPool2d-6           [-1, 15, 12, 12]               0\n",
      "            Conv2d-7           [-1, 10, 12, 12]           1,360\n",
      "       BatchNorm2d-8           [-1, 10, 12, 12]              20\n",
      "         MaxPool2d-9             [-1, 10, 6, 6]               0\n",
      "          Dropout-10                  [-1, 360]               0\n",
      "           Linear-11                   [-1, 32]          11,552\n",
      "          Dropout-12                   [-1, 32]               0\n",
      "           Linear-13                    [-1, 7]             231\n",
      "================================================================\n",
      "Total params: 14,678\n",
      "Trainable params: 14,678\n",
      "Non-trainable params: 0\n",
      "----------------------------------------------------------------\n",
      "Input size (MB): 0.01\n",
      "Forward/backward pass size (MB): 0.57\n",
      "Params size (MB): 0.06\n",
      "Estimated Total Size (MB): 0.64\n",
      "----------------------------------------------------------------\n"
     ]
    }
   ],
   "source": [
    "torchsummary.summary(model, (1, 48, 48))"
   ]
  },
  {
   "cell_type": "code",
   "execution_count": 4,
   "metadata": {},
   "outputs": [],
   "source": [
    "X_test = model.reshape_data(torch.tensor(X_df.values, device=device, dtype=dtype))\n",
    "y_test = torch.tensor(y_df.values, device=device, dtype=torch.long)"
   ]
  },
  {
   "cell_type": "code",
   "execution_count": 5,
   "metadata": {},
   "outputs": [],
   "source": [
    "y_pred_prob = model(X_test)"
   ]
  },
  {
   "cell_type": "code",
   "execution_count": 8,
   "metadata": {},
   "outputs": [],
   "source": [
    "labels = ['Angry', 'Disgust', 'Fear', 'Happy', 'Sad', 'Surprise', 'Neutral']\n",
    "labels_num = [0, 1, 2, 3, 4, 5, 6]\n",
    "metrics = Metrics(y_test, y_pred, labels, labels_num)"
   ]
  },
  {
   "cell_type": "code",
   "execution_count": 11,
   "metadata": {},
   "outputs": [
    {
     "data": {
      "text/plain": [
       "<module 'matplotlib.pyplot' from '/Users/raroito/anaconda3/envs/facial_expression_recognition/lib/python3.6/site-packages/matplotlib/pyplot.py'>"
      ]
     },
     "execution_count": 11,
     "metadata": {},
     "output_type": "execute_result"
    },
    {
     "data": {
      "image/png": "[encoded data removed]",
      "text/plain": [
       "<Figure size 504x504 with 2 Axes>"
      ]
     },
     "metadata": {
      "needs_background": "light"
     },
     "output_type": "display_data"
    }
   ],
   "source": [
    "metrics.represent_cm()"
   ]
  },
  {
   "cell_type": "code",
   "execution_count": 12,
   "metadata": {},
   "outputs": [
    {
     "data": {
      "text/plain": [
       "0.5292701098444871"
      ]
     },
     "execution_count": 12,
     "metadata": {},
     "output_type": "execute_result"
    }
   ],
   "source": [
    "metrics.balanced_score()"
   ]
  },
  {
   "cell_type": "code",
   "execution_count": 14,
   "metadata": {},
   "outputs": [
    {
     "name": "stdout",
     "output_type": "stream",
     "text": [
      "['cnn_triple_layer_D_bs_0.001_64_200_7', 1, 7, [48, 48], 10, 15, 10, 2]\n",
      "load model CnnTripleLayer(\n",
      "  (drop_hidden): Dropout(p=0.5)\n",
      "  (drop_visible): Dropout(p=0.2)\n",
      "  (conv1): Conv2d(1, 10, kernel_size=(3, 3), stride=(1, 1), padding=(1, 1))\n",
      "  (batchnorm1): BatchNorm2d(10, eps=1e-05, momentum=0.1, affine=True, track_running_stats=True)\n",
      "  (pool): MaxPool2d(kernel_size=2, stride=2, padding=0, dilation=1, ceil_mode=False)\n",
      "  (conv2): Conv2d(10, 15, kernel_size=(3, 3), stride=(1, 1), padding=(1, 1))\n",
      "  (batchnorm2): BatchNorm2d(15, eps=1e-05, momentum=0.1, affine=True, track_running_stats=True)\n",
      "  (conv3): Conv2d(15, 10, kernel_size=(3, 3), stride=(1, 1), padding=(1, 1))\n",
      "  (batchnorm3): BatchNorm2d(10, eps=1e-05, momentum=0.1, affine=True, track_running_stats=True)\n",
      "  (fc1): Linear(in_features=360, out_features=32, bias=True)\n",
      "  (fc2): Linear(in_features=32, out_features=7, bias=True)\n",
      ")\n"
     ]
    }
   ],
   "source": [
    "model_name = f'cnn_triple_layer_D_bs_{learning_rate}_{batch_size}_{n_epochs}_{n_classes}_epoch{acc_ep_n}'\n",
    "model = m_importer.load_nn_model(model_name)"
   ]
  },
  {
   "cell_type": "code",
   "execution_count": 15,
   "metadata": {},
   "outputs": [
    {
     "data": {
      "text/plain": [
       "tensor(0.5436)"
      ]
     },
     "execution_count": 15,
     "metadata": {},
     "output_type": "execute_result"
    }
   ],
   "source": [
    "X_test = model.reshape_data(torch.tensor(X_df.values, device=device, dtype=dtype))\n",
    "y_test = torch.tensor(y_df.values, device=device, dtype=torch.long)\n",
    "y_pred_prob = model(X_test)\n",
    "y_pred = y_pred_prob.argmax(1)\n",
    "accuracy_soft = (y_pred == y_test).float().mean()\n",
    "accuracy_soft"
   ]
  },
  {
   "cell_type": "code",
   "execution_count": null,
   "metadata": {},
   "outputs": [],
   "source": []
  }
 ],
 "metadata": {
  "kernelspec": {
   "display_name": "Python 3",
   "language": "python",
   "name": "python3"
  },
  "language_info": {
   "codemirror_mode": {
    "name": "ipython",
    "version": 3
   },
   "file_extension": ".py",
   "mimetype": "text/x-python",
   "name": "python",
   "nbconvert_exporter": "python",
   "pygments_lexer": "ipython3",
   "version": "3.6.8"
  }
 },
 "nbformat": 4,
 "nbformat_minor": 2
}
