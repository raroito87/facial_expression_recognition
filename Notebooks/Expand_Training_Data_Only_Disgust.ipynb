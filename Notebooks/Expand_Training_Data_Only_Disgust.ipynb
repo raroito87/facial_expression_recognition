{
 "cells": [
  {
   "cell_type": "code",
   "execution_count": 1,
   "metadata": {},
   "outputs": [],
   "source": [
    "from utils import ModelImporter, Preprocessing\n",
    "import torch\n",
    "import pandas as pd\n",
    "import numpy as np\n",
    "import matplotlib.pyplot as plt"
   ]
  },
  {
   "cell_type": "code",
   "execution_count": 2,
   "metadata": {},
   "outputs": [],
   "source": [
    "pre = Preprocessing('fer2013')\n",
    "train = pre.load_data(filename='train_norm.csv', name='train')"
   ]
  },
  {
   "cell_type": "markdown",
   "metadata": {},
   "source": [
    "#### I have a very little amount of samples of class 1:Disgust, I am gonna duplicate that amount by flipping the images horizontally. Another common technique is to rotate, zoom in and crop but since my images are already so small, I will no do it"
   ]
  },
  {
   "cell_type": "code",
   "execution_count": 4,
   "metadata": {},
   "outputs": [
    {
     "data": {
      "text/html": [
       "<div>\n",
       "<style scoped>\n",
       "    .dataframe tbody tr th:only-of-type {\n",
       "        vertical-align: middle;\n",
       "    }\n",
       "\n",
       "    .dataframe tbody tr th {\n",
       "        vertical-align: top;\n",
       "    }\n",
       "\n",
       "    .dataframe thead th {\n",
       "        text-align: right;\n",
       "    }\n",
       "</style>\n",
       "<table border=\"1\" class=\"dataframe\">\n",
       "  <thead>\n",
       "    <tr style=\"text-align: right;\">\n",
       "      <th></th>\n",
       "      <th>0</th>\n",
       "      <th>1</th>\n",
       "      <th>2</th>\n",
       "      <th>3</th>\n",
       "      <th>4</th>\n",
       "      <th>5</th>\n",
       "      <th>6</th>\n",
       "      <th>7</th>\n",
       "      <th>8</th>\n",
       "      <th>9</th>\n",
       "      <th>...</th>\n",
       "      <th>2295</th>\n",
       "      <th>2296</th>\n",
       "      <th>2297</th>\n",
       "      <th>2298</th>\n",
       "      <th>2299</th>\n",
       "      <th>2300</th>\n",
       "      <th>2301</th>\n",
       "      <th>2302</th>\n",
       "      <th>2303</th>\n",
       "      <th>emotion</th>\n",
       "    </tr>\n",
       "  </thead>\n",
       "  <tbody>\n",
       "    <tr>\n",
       "      <th>299</th>\n",
       "      <td>0.494118</td>\n",
       "      <td>0.494118</td>\n",
       "      <td>0.505882</td>\n",
       "      <td>0.470588</td>\n",
       "      <td>0.431373</td>\n",
       "      <td>0.658824</td>\n",
       "      <td>0.682353</td>\n",
       "      <td>0.674510</td>\n",
       "      <td>0.678431</td>\n",
       "      <td>0.682353</td>\n",
       "      <td>...</td>\n",
       "      <td>0.509804</td>\n",
       "      <td>0.415686</td>\n",
       "      <td>0.333333</td>\n",
       "      <td>0.301961</td>\n",
       "      <td>0.278431</td>\n",
       "      <td>0.235294</td>\n",
       "      <td>0.419608</td>\n",
       "      <td>0.780392</td>\n",
       "      <td>0.815686</td>\n",
       "      <td>1</td>\n",
       "    </tr>\n",
       "    <tr>\n",
       "      <th>388</th>\n",
       "      <td>0.349020</td>\n",
       "      <td>0.215686</td>\n",
       "      <td>0.094118</td>\n",
       "      <td>0.156863</td>\n",
       "      <td>0.168627</td>\n",
       "      <td>0.188235</td>\n",
       "      <td>0.207843</td>\n",
       "      <td>0.215686</td>\n",
       "      <td>0.231373</td>\n",
       "      <td>0.160784</td>\n",
       "      <td>...</td>\n",
       "      <td>0.388235</td>\n",
       "      <td>0.431373</td>\n",
       "      <td>0.478431</td>\n",
       "      <td>0.392157</td>\n",
       "      <td>0.266667</td>\n",
       "      <td>0.137255</td>\n",
       "      <td>0.090196</td>\n",
       "      <td>0.090196</td>\n",
       "      <td>0.070588</td>\n",
       "      <td>1</td>\n",
       "    </tr>\n",
       "    <tr>\n",
       "      <th>416</th>\n",
       "      <td>0.800000</td>\n",
       "      <td>0.764706</td>\n",
       "      <td>0.709804</td>\n",
       "      <td>0.513725</td>\n",
       "      <td>0.196078</td>\n",
       "      <td>0.196078</td>\n",
       "      <td>0.223529</td>\n",
       "      <td>0.219608</td>\n",
       "      <td>0.258824</td>\n",
       "      <td>0.384314</td>\n",
       "      <td>...</td>\n",
       "      <td>0.462745</td>\n",
       "      <td>0.447059</td>\n",
       "      <td>0.435294</td>\n",
       "      <td>0.470588</td>\n",
       "      <td>0.545098</td>\n",
       "      <td>0.560784</td>\n",
       "      <td>0.588235</td>\n",
       "      <td>0.611765</td>\n",
       "      <td>0.631373</td>\n",
       "      <td>1</td>\n",
       "    </tr>\n",
       "    <tr>\n",
       "      <th>473</th>\n",
       "      <td>0.054902</td>\n",
       "      <td>0.043137</td>\n",
       "      <td>0.050980</td>\n",
       "      <td>0.047059</td>\n",
       "      <td>0.160784</td>\n",
       "      <td>0.372549</td>\n",
       "      <td>0.443137</td>\n",
       "      <td>0.439216</td>\n",
       "      <td>0.435294</td>\n",
       "      <td>0.478431</td>\n",
       "      <td>...</td>\n",
       "      <td>0.274510</td>\n",
       "      <td>0.203922</td>\n",
       "      <td>0.121569</td>\n",
       "      <td>0.090196</td>\n",
       "      <td>0.137255</td>\n",
       "      <td>0.176471</td>\n",
       "      <td>0.176471</td>\n",
       "      <td>0.180392</td>\n",
       "      <td>0.188235</td>\n",
       "      <td>1</td>\n",
       "    </tr>\n",
       "    <tr>\n",
       "      <th>533</th>\n",
       "      <td>0.070588</td>\n",
       "      <td>0.098039</td>\n",
       "      <td>0.192157</td>\n",
       "      <td>0.294118</td>\n",
       "      <td>0.349020</td>\n",
       "      <td>0.380392</td>\n",
       "      <td>0.392157</td>\n",
       "      <td>0.392157</td>\n",
       "      <td>0.396078</td>\n",
       "      <td>0.403922</td>\n",
       "      <td>...</td>\n",
       "      <td>0.643137</td>\n",
       "      <td>0.647059</td>\n",
       "      <td>0.654902</td>\n",
       "      <td>0.658824</td>\n",
       "      <td>0.658824</td>\n",
       "      <td>0.639216</td>\n",
       "      <td>0.619608</td>\n",
       "      <td>0.329412</td>\n",
       "      <td>0.054902</td>\n",
       "      <td>1</td>\n",
       "    </tr>\n",
       "  </tbody>\n",
       "</table>\n",
       "<p>5 rows × 2305 columns</p>\n",
       "</div>"
      ],
      "text/plain": [
       "            0         1         2         3         4         5         6  \\\n",
       "299  0.494118  0.494118  0.505882  0.470588  0.431373  0.658824  0.682353   \n",
       "388  0.349020  0.215686  0.094118  0.156863  0.168627  0.188235  0.207843   \n",
       "416  0.800000  0.764706  0.709804  0.513725  0.196078  0.196078  0.223529   \n",
       "473  0.054902  0.043137  0.050980  0.047059  0.160784  0.372549  0.443137   \n",
       "533  0.070588  0.098039  0.192157  0.294118  0.349020  0.380392  0.392157   \n",
       "\n",
       "            7         8         9  ...      2295      2296      2297  \\\n",
       "299  0.674510  0.678431  0.682353  ...  0.509804  0.415686  0.333333   \n",
       "388  0.215686  0.231373  0.160784  ...  0.388235  0.431373  0.478431   \n",
       "416  0.219608  0.258824  0.384314  ...  0.462745  0.447059  0.435294   \n",
       "473  0.439216  0.435294  0.478431  ...  0.274510  0.203922  0.121569   \n",
       "533  0.392157  0.396078  0.403922  ...  0.643137  0.647059  0.654902   \n",
       "\n",
       "         2298      2299      2300      2301      2302      2303  emotion  \n",
       "299  0.301961  0.278431  0.235294  0.419608  0.780392  0.815686        1  \n",
       "388  0.392157  0.266667  0.137255  0.090196  0.090196  0.070588        1  \n",
       "416  0.470588  0.545098  0.560784  0.588235  0.611765  0.631373        1  \n",
       "473  0.090196  0.137255  0.176471  0.176471  0.180392  0.188235        1  \n",
       "533  0.658824  0.658824  0.639216  0.619608  0.329412  0.054902        1  \n",
       "\n",
       "[5 rows x 2305 columns]"
      ]
     },
     "execution_count": 4,
     "metadata": {},
     "output_type": "execute_result"
    }
   ],
   "source": [
    "disgust = train.loc[train['emotion'] == 1]\n",
    "disgust.head()"
   ]
  },
  {
   "cell_type": "code",
   "execution_count": 5,
   "metadata": {},
   "outputs": [
    {
     "data": {
      "text/plain": [
       "436"
      ]
     },
     "execution_count": 5,
     "metadata": {},
     "output_type": "execute_result"
    }
   ],
   "source": [
    "len(disgust)"
   ]
  },
  {
   "cell_type": "code",
   "execution_count": 6,
   "metadata": {},
   "outputs": [],
   "source": [
    "from image_utils import ImageConverter\n",
    "import matplotlib.pyplot as plt"
   ]
  },
  {
   "cell_type": "code",
   "execution_count": 7,
   "metadata": {},
   "outputs": [],
   "source": [
    "array_0 = disgust.drop(columns = ['emotion']).values[0]"
   ]
  },
  {
   "cell_type": "code",
   "execution_count": 8,
   "metadata": {},
   "outputs": [],
   "source": [
    "img_conv = ImageConverter()"
   ]
  },
  {
   "cell_type": "code",
   "execution_count": 10,
   "metadata": {},
   "outputs": [],
   "source": [
    "array_0_frame = img_conv.reshape_array_to_frame(array_0)"
   ]
  },
  {
   "cell_type": "code",
   "execution_count": 11,
   "metadata": {},
   "outputs": [],
   "source": [
    "array_0_frame_flipped = img_conv.flip_frame_horitzontally(array_0_frame)"
   ]
  },
  {
   "cell_type": "code",
   "execution_count": 14,
   "metadata": {},
   "outputs": [
    {
     "data": {
      "image/png": "[encoded data removed]",
      "text/plain": [
       "<Figure size 720x360 with 2 Axes>"
      ]
     },
     "metadata": {
      "needs_background": "light"
     },
     "output_type": "display_data"
    }
   ],
   "source": [
    "plt.figure(1, figsize=(10, 5))\n",
    "plt.subplot(1,2, 1)\n",
    "plt.imshow(array_0_frame, cmap='gray', interpolation='none')\n",
    "plt.subplot(1,2, 2)\n",
    "plt.imshow(array_0_frame_flipped, cmap='gray', interpolation='none')\n",
    "plt.show()"
   ]
  },
  {
   "cell_type": "code",
   "execution_count": 23,
   "metadata": {},
   "outputs": [],
   "source": [
    "train_only_disgust_np = disgust.drop(columns = ['emotion']).values"
   ]
  },
  {
   "cell_type": "code",
   "execution_count": 60,
   "metadata": {},
   "outputs": [
    {
     "data": {
      "text/plain": [
       "array([[0.49411765, 0.49411765, 0.50588235, ..., 0.41960784, 0.78039216,\n",
       "        0.81568627],\n",
       "       [0.34901961, 0.21568627, 0.09411765, ..., 0.09019608, 0.09019608,\n",
       "        0.07058824],\n",
       "       [0.8       , 0.76470588, 0.70980392, ..., 0.58823529, 0.61176471,\n",
       "        0.63137255],\n",
       "       ...,\n",
       "       [0.00784314, 0.        , 0.33333333, ..., 0.        , 0.00392157,\n",
       "        0.05098039],\n",
       "       [0.08627451, 0.07843137, 0.07058824, ..., 0.21176471, 0.21176471,\n",
       "        0.21176471],\n",
       "       [0.89411765, 0.67843137, 0.6       , ..., 0.37647059, 0.42352941,\n",
       "        0.50196078]])"
      ]
     },
     "execution_count": 60,
     "metadata": {},
     "output_type": "execute_result"
    }
   ],
   "source": [
    "train_only_disgust_np"
   ]
  },
  {
   "cell_type": "code",
   "execution_count": 71,
   "metadata": {},
   "outputs": [],
   "source": [
    "flipped_train_only_disgust = np.zeros(shape=train_only_disgust_np.shape)\n",
    "for i in range(len(train_only_disgust_np)):\n",
    "    flipped_np = img_conv.flip_frame_horitzontally(img_conv.reshape_array_to_frame(train_only_disgust_np[i]))\n",
    "    flipped_train_only_disgust[i] = img_conv.reshape_frame_to_array(flipped_np)"
   ]
  },
  {
   "cell_type": "code",
   "execution_count": 72,
   "metadata": {},
   "outputs": [
    {
     "data": {
      "text/plain": [
       "array([[0.38431373, 0.33333333, 0.34901961, ..., 0.16078431, 0.17647059,\n",
       "        0.17647059],\n",
       "       [0.28627451, 0.28235294, 0.3254902 , ..., 0.15294118, 0.21176471,\n",
       "        0.22352941],\n",
       "       [0.31372549, 0.28235294, 0.24705882, ..., 0.80784314, 0.81568627,\n",
       "        0.81960784],\n",
       "       ...,\n",
       "       [0.28235294, 0.23137255, 0.29803922, ..., 0.        , 0.        ,\n",
       "        0.        ],\n",
       "       [0.0745098 , 0.08627451, 0.09411765, ..., 0.41176471, 0.40784314,\n",
       "        0.40784314],\n",
       "       [0.48235294, 0.5254902 , 0.49411765, ..., 1.        , 1.        ,\n",
       "        1.        ]])"
      ]
     },
     "execution_count": 72,
     "metadata": {},
     "output_type": "execute_result"
    }
   ],
   "source": [
    "flipped_train_only_disgust"
   ]
  },
  {
   "cell_type": "code",
   "execution_count": 77,
   "metadata": {},
   "outputs": [
    {
     "data": {
      "image/png": "[encoded data removed]",
      "text/plain": [
       "<Figure size 720x360 with 2 Axes>"
      ]
     },
     "metadata": {
      "needs_background": "light"
     },
     "output_type": "display_data"
    }
   ],
   "source": [
    "plt.figure(1, figsize=(10, 5))\n",
    "plt.subplot(1,2, 1)\n",
    "plt.imshow(img_conv.reshape_array_to_frame(train_only_disgust_np[400]), cmap='gray', interpolation='none')\n",
    "plt.subplot(1,2, 2)\n",
    "plt.imshow(img_conv.reshape_array_to_frame(flipped_train_only_disgust[400]), cmap='gray', interpolation='none')\n",
    "plt.show()"
   ]
  },
  {
   "cell_type": "code",
   "execution_count": 75,
   "metadata": {},
   "outputs": [],
   "source": [
    "#Seems to work, going to save the data"
   ]
  },
  {
   "cell_type": "code",
   "execution_count": 81,
   "metadata": {},
   "outputs": [
    {
     "data": {
      "text/html": [
       "<div>\n",
       "<style scoped>\n",
       "    .dataframe tbody tr th:only-of-type {\n",
       "        vertical-align: middle;\n",
       "    }\n",
       "\n",
       "    .dataframe tbody tr th {\n",
       "        vertical-align: top;\n",
       "    }\n",
       "\n",
       "    .dataframe thead th {\n",
       "        text-align: right;\n",
       "    }\n",
       "</style>\n",
       "<table border=\"1\" class=\"dataframe\">\n",
       "  <thead>\n",
       "    <tr style=\"text-align: right;\">\n",
       "      <th></th>\n",
       "      <th>0</th>\n",
       "      <th>1</th>\n",
       "      <th>2</th>\n",
       "      <th>3</th>\n",
       "      <th>4</th>\n",
       "      <th>5</th>\n",
       "      <th>6</th>\n",
       "      <th>7</th>\n",
       "      <th>8</th>\n",
       "      <th>9</th>\n",
       "      <th>...</th>\n",
       "      <th>2295</th>\n",
       "      <th>2296</th>\n",
       "      <th>2297</th>\n",
       "      <th>2298</th>\n",
       "      <th>2299</th>\n",
       "      <th>2300</th>\n",
       "      <th>2301</th>\n",
       "      <th>2302</th>\n",
       "      <th>2303</th>\n",
       "      <th>emotion</th>\n",
       "    </tr>\n",
       "  </thead>\n",
       "  <tbody>\n",
       "    <tr>\n",
       "      <th>431</th>\n",
       "      <td>0.121569</td>\n",
       "      <td>0.200000</td>\n",
       "      <td>0.270588</td>\n",
       "      <td>0.407843</td>\n",
       "      <td>0.576471</td>\n",
       "      <td>0.666667</td>\n",
       "      <td>0.709804</td>\n",
       "      <td>0.772549</td>\n",
       "      <td>0.800000</td>\n",
       "      <td>0.803922</td>\n",
       "      <td>...</td>\n",
       "      <td>0.611765</td>\n",
       "      <td>0.690196</td>\n",
       "      <td>0.741176</td>\n",
       "      <td>0.752941</td>\n",
       "      <td>0.752941</td>\n",
       "      <td>0.776471</td>\n",
       "      <td>0.784314</td>\n",
       "      <td>0.800000</td>\n",
       "      <td>0.788235</td>\n",
       "      <td>1</td>\n",
       "    </tr>\n",
       "    <tr>\n",
       "      <th>432</th>\n",
       "      <td>0.388235</td>\n",
       "      <td>0.388235</td>\n",
       "      <td>0.419608</td>\n",
       "      <td>0.517647</td>\n",
       "      <td>0.611765</td>\n",
       "      <td>0.631373</td>\n",
       "      <td>0.603922</td>\n",
       "      <td>0.588235</td>\n",
       "      <td>0.576471</td>\n",
       "      <td>0.560784</td>\n",
       "      <td>...</td>\n",
       "      <td>0.917647</td>\n",
       "      <td>0.917647</td>\n",
       "      <td>0.921569</td>\n",
       "      <td>0.921569</td>\n",
       "      <td>0.929412</td>\n",
       "      <td>0.933333</td>\n",
       "      <td>0.933333</td>\n",
       "      <td>0.937255</td>\n",
       "      <td>0.941176</td>\n",
       "      <td>1</td>\n",
       "    </tr>\n",
       "    <tr>\n",
       "      <th>433</th>\n",
       "      <td>0.282353</td>\n",
       "      <td>0.231373</td>\n",
       "      <td>0.298039</td>\n",
       "      <td>0.239216</td>\n",
       "      <td>0.596078</td>\n",
       "      <td>0.666667</td>\n",
       "      <td>0.713725</td>\n",
       "      <td>0.839216</td>\n",
       "      <td>0.878431</td>\n",
       "      <td>0.890196</td>\n",
       "      <td>...</td>\n",
       "      <td>0.007843</td>\n",
       "      <td>0.000000</td>\n",
       "      <td>0.000000</td>\n",
       "      <td>0.000000</td>\n",
       "      <td>0.000000</td>\n",
       "      <td>0.000000</td>\n",
       "      <td>0.000000</td>\n",
       "      <td>0.000000</td>\n",
       "      <td>0.000000</td>\n",
       "      <td>1</td>\n",
       "    </tr>\n",
       "    <tr>\n",
       "      <th>434</th>\n",
       "      <td>0.074510</td>\n",
       "      <td>0.086275</td>\n",
       "      <td>0.094118</td>\n",
       "      <td>0.098039</td>\n",
       "      <td>0.098039</td>\n",
       "      <td>0.101961</td>\n",
       "      <td>0.101961</td>\n",
       "      <td>0.101961</td>\n",
       "      <td>0.109804</td>\n",
       "      <td>0.121569</td>\n",
       "      <td>...</td>\n",
       "      <td>0.372549</td>\n",
       "      <td>0.388235</td>\n",
       "      <td>0.396078</td>\n",
       "      <td>0.403922</td>\n",
       "      <td>0.403922</td>\n",
       "      <td>0.403922</td>\n",
       "      <td>0.411765</td>\n",
       "      <td>0.407843</td>\n",
       "      <td>0.407843</td>\n",
       "      <td>1</td>\n",
       "    </tr>\n",
       "    <tr>\n",
       "      <th>435</th>\n",
       "      <td>0.482353</td>\n",
       "      <td>0.525490</td>\n",
       "      <td>0.494118</td>\n",
       "      <td>0.521569</td>\n",
       "      <td>0.568627</td>\n",
       "      <td>0.501961</td>\n",
       "      <td>0.490196</td>\n",
       "      <td>0.486275</td>\n",
       "      <td>0.470588</td>\n",
       "      <td>0.494118</td>\n",
       "      <td>...</td>\n",
       "      <td>0.976471</td>\n",
       "      <td>1.000000</td>\n",
       "      <td>1.000000</td>\n",
       "      <td>1.000000</td>\n",
       "      <td>1.000000</td>\n",
       "      <td>1.000000</td>\n",
       "      <td>1.000000</td>\n",
       "      <td>1.000000</td>\n",
       "      <td>1.000000</td>\n",
       "      <td>1</td>\n",
       "    </tr>\n",
       "  </tbody>\n",
       "</table>\n",
       "<p>5 rows × 2305 columns</p>\n",
       "</div>"
      ],
      "text/plain": [
       "            0         1         2         3         4         5         6  \\\n",
       "431  0.121569  0.200000  0.270588  0.407843  0.576471  0.666667  0.709804   \n",
       "432  0.388235  0.388235  0.419608  0.517647  0.611765  0.631373  0.603922   \n",
       "433  0.282353  0.231373  0.298039  0.239216  0.596078  0.666667  0.713725   \n",
       "434  0.074510  0.086275  0.094118  0.098039  0.098039  0.101961  0.101961   \n",
       "435  0.482353  0.525490  0.494118  0.521569  0.568627  0.501961  0.490196   \n",
       "\n",
       "            7         8         9  ...      2295      2296      2297  \\\n",
       "431  0.772549  0.800000  0.803922  ...  0.611765  0.690196  0.741176   \n",
       "432  0.588235  0.576471  0.560784  ...  0.917647  0.917647  0.921569   \n",
       "433  0.839216  0.878431  0.890196  ...  0.007843  0.000000  0.000000   \n",
       "434  0.101961  0.109804  0.121569  ...  0.372549  0.388235  0.396078   \n",
       "435  0.486275  0.470588  0.494118  ...  0.976471  1.000000  1.000000   \n",
       "\n",
       "         2298      2299      2300      2301      2302      2303  emotion  \n",
       "431  0.752941  0.752941  0.776471  0.784314  0.800000  0.788235        1  \n",
       "432  0.921569  0.929412  0.933333  0.933333  0.937255  0.941176        1  \n",
       "433  0.000000  0.000000  0.000000  0.000000  0.000000  0.000000        1  \n",
       "434  0.403922  0.403922  0.403922  0.411765  0.407843  0.407843        1  \n",
       "435  1.000000  1.000000  1.000000  1.000000  1.000000  1.000000        1  \n",
       "\n",
       "[5 rows x 2305 columns]"
      ]
     },
     "execution_count": 81,
     "metadata": {},
     "output_type": "execute_result"
    }
   ],
   "source": [
    "new_disgust_df = pd.DataFrame(flipped_train_only_disgust)\n",
    "new_disgust_df['emotion'] = 1\n",
    "new_disgust_df.tail()"
   ]
  },
  {
   "cell_type": "code",
   "execution_count": 95,
   "metadata": {},
   "outputs": [
    {
     "name": "stdout",
     "output_type": "stream",
     "text": [
      "<class 'pandas.core.frame.DataFrame'>\n",
      "RangeIndex: 436 entries, 0 to 435\n",
      "Columns: 2305 entries, 0 to emotion\n",
      "dtypes: float64(2304), int64(1)\n",
      "memory usage: 7.7 MB\n"
     ]
    }
   ],
   "source": [
    "new_disgust_df.info()"
   ]
  },
  {
   "cell_type": "code",
   "execution_count": 93,
   "metadata": {},
   "outputs": [
    {
     "name": "stdout",
     "output_type": "stream",
     "text": [
      "<class 'pandas.core.frame.DataFrame'>\n",
      "RangeIndex: 28709 entries, 0 to 28708\n",
      "Columns: 2305 entries, 0 to emotion\n",
      "dtypes: float64(2304), int64(1)\n",
      "memory usage: 504.9 MB\n"
     ]
    }
   ],
   "source": [
    "train.info()"
   ]
  },
  {
   "cell_type": "code",
   "execution_count": 107,
   "metadata": {},
   "outputs": [],
   "source": [
    "new_disgust_df.columns = train.columns "
   ]
  },
  {
   "cell_type": "code",
   "execution_count": 108,
   "metadata": {},
   "outputs": [],
   "source": [
    "train_expanded_disgust_only = pd.concat([train, new_disgust_df], axis = 0)"
   ]
  },
  {
   "cell_type": "code",
   "execution_count": 110,
   "metadata": {},
   "outputs": [
    {
     "data": {
      "text/html": [
       "<div>\n",
       "<style scoped>\n",
       "    .dataframe tbody tr th:only-of-type {\n",
       "        vertical-align: middle;\n",
       "    }\n",
       "\n",
       "    .dataframe tbody tr th {\n",
       "        vertical-align: top;\n",
       "    }\n",
       "\n",
       "    .dataframe thead th {\n",
       "        text-align: right;\n",
       "    }\n",
       "</style>\n",
       "<table border=\"1\" class=\"dataframe\">\n",
       "  <thead>\n",
       "    <tr style=\"text-align: right;\">\n",
       "      <th></th>\n",
       "      <th>0</th>\n",
       "      <th>1</th>\n",
       "      <th>2</th>\n",
       "      <th>3</th>\n",
       "      <th>4</th>\n",
       "      <th>5</th>\n",
       "      <th>6</th>\n",
       "      <th>7</th>\n",
       "      <th>8</th>\n",
       "      <th>9</th>\n",
       "      <th>...</th>\n",
       "      <th>2295</th>\n",
       "      <th>2296</th>\n",
       "      <th>2297</th>\n",
       "      <th>2298</th>\n",
       "      <th>2299</th>\n",
       "      <th>2300</th>\n",
       "      <th>2301</th>\n",
       "      <th>2302</th>\n",
       "      <th>2303</th>\n",
       "      <th>emotion</th>\n",
       "    </tr>\n",
       "  </thead>\n",
       "  <tbody>\n",
       "    <tr>\n",
       "      <th>0</th>\n",
       "      <td>0.274510</td>\n",
       "      <td>0.313725</td>\n",
       "      <td>0.321569</td>\n",
       "      <td>0.282353</td>\n",
       "      <td>0.227451</td>\n",
       "      <td>0.227451</td>\n",
       "      <td>0.235294</td>\n",
       "      <td>0.247059</td>\n",
       "      <td>0.211765</td>\n",
       "      <td>0.227451</td>\n",
       "      <td>...</td>\n",
       "      <td>0.713725</td>\n",
       "      <td>0.717647</td>\n",
       "      <td>0.533333</td>\n",
       "      <td>0.415686</td>\n",
       "      <td>0.454902</td>\n",
       "      <td>0.372549</td>\n",
       "      <td>0.415686</td>\n",
       "      <td>0.427451</td>\n",
       "      <td>0.321569</td>\n",
       "      <td>0</td>\n",
       "    </tr>\n",
       "    <tr>\n",
       "      <th>1</th>\n",
       "      <td>0.592157</td>\n",
       "      <td>0.588235</td>\n",
       "      <td>0.576471</td>\n",
       "      <td>0.607843</td>\n",
       "      <td>0.580392</td>\n",
       "      <td>0.521569</td>\n",
       "      <td>0.435294</td>\n",
       "      <td>0.549020</td>\n",
       "      <td>0.666667</td>\n",
       "      <td>0.682353</td>\n",
       "      <td>...</td>\n",
       "      <td>0.423529</td>\n",
       "      <td>0.372549</td>\n",
       "      <td>0.423529</td>\n",
       "      <td>0.400000</td>\n",
       "      <td>0.262745</td>\n",
       "      <td>0.670588</td>\n",
       "      <td>0.756863</td>\n",
       "      <td>0.717647</td>\n",
       "      <td>0.721569</td>\n",
       "      <td>0</td>\n",
       "    </tr>\n",
       "    <tr>\n",
       "      <th>2</th>\n",
       "      <td>0.905882</td>\n",
       "      <td>0.831373</td>\n",
       "      <td>0.611765</td>\n",
       "      <td>0.643137</td>\n",
       "      <td>0.682353</td>\n",
       "      <td>0.541176</td>\n",
       "      <td>0.631373</td>\n",
       "      <td>0.678431</td>\n",
       "      <td>0.713725</td>\n",
       "      <td>0.784314</td>\n",
       "      <td>...</td>\n",
       "      <td>0.541176</td>\n",
       "      <td>0.596078</td>\n",
       "      <td>0.478431</td>\n",
       "      <td>0.447059</td>\n",
       "      <td>0.396078</td>\n",
       "      <td>0.380392</td>\n",
       "      <td>0.345098</td>\n",
       "      <td>0.431373</td>\n",
       "      <td>0.596078</td>\n",
       "      <td>2</td>\n",
       "    </tr>\n",
       "    <tr>\n",
       "      <th>3</th>\n",
       "      <td>0.094118</td>\n",
       "      <td>0.125490</td>\n",
       "      <td>0.141176</td>\n",
       "      <td>0.117647</td>\n",
       "      <td>0.125490</td>\n",
       "      <td>0.090196</td>\n",
       "      <td>0.074510</td>\n",
       "      <td>0.078431</td>\n",
       "      <td>0.117647</td>\n",
       "      <td>0.160784</td>\n",
       "      <td>...</td>\n",
       "      <td>0.494118</td>\n",
       "      <td>0.517647</td>\n",
       "      <td>0.517647</td>\n",
       "      <td>0.521569</td>\n",
       "      <td>0.533333</td>\n",
       "      <td>0.545098</td>\n",
       "      <td>0.556863</td>\n",
       "      <td>0.560784</td>\n",
       "      <td>0.556863</td>\n",
       "      <td>4</td>\n",
       "    </tr>\n",
       "    <tr>\n",
       "      <th>4</th>\n",
       "      <td>0.015686</td>\n",
       "      <td>0.000000</td>\n",
       "      <td>0.000000</td>\n",
       "      <td>0.000000</td>\n",
       "      <td>0.000000</td>\n",
       "      <td>0.000000</td>\n",
       "      <td>0.000000</td>\n",
       "      <td>0.000000</td>\n",
       "      <td>0.000000</td>\n",
       "      <td>0.000000</td>\n",
       "      <td>...</td>\n",
       "      <td>0.133333</td>\n",
       "      <td>0.121569</td>\n",
       "      <td>0.121569</td>\n",
       "      <td>0.121569</td>\n",
       "      <td>0.105882</td>\n",
       "      <td>0.121569</td>\n",
       "      <td>0.117647</td>\n",
       "      <td>0.113725</td>\n",
       "      <td>0.117647</td>\n",
       "      <td>6</td>\n",
       "    </tr>\n",
       "  </tbody>\n",
       "</table>\n",
       "<p>5 rows × 2305 columns</p>\n",
       "</div>"
      ],
      "text/plain": [
       "          0         1         2         3         4         5         6  \\\n",
       "0  0.274510  0.313725  0.321569  0.282353  0.227451  0.227451  0.235294   \n",
       "1  0.592157  0.588235  0.576471  0.607843  0.580392  0.521569  0.435294   \n",
       "2  0.905882  0.831373  0.611765  0.643137  0.682353  0.541176  0.631373   \n",
       "3  0.094118  0.125490  0.141176  0.117647  0.125490  0.090196  0.074510   \n",
       "4  0.015686  0.000000  0.000000  0.000000  0.000000  0.000000  0.000000   \n",
       "\n",
       "          7         8         9  ...      2295      2296      2297      2298  \\\n",
       "0  0.247059  0.211765  0.227451  ...  0.713725  0.717647  0.533333  0.415686   \n",
       "1  0.549020  0.666667  0.682353  ...  0.423529  0.372549  0.423529  0.400000   \n",
       "2  0.678431  0.713725  0.784314  ...  0.541176  0.596078  0.478431  0.447059   \n",
       "3  0.078431  0.117647  0.160784  ...  0.494118  0.517647  0.517647  0.521569   \n",
       "4  0.000000  0.000000  0.000000  ...  0.133333  0.121569  0.121569  0.121569   \n",
       "\n",
       "       2299      2300      2301      2302      2303  emotion  \n",
       "0  0.454902  0.372549  0.415686  0.427451  0.321569        0  \n",
       "1  0.262745  0.670588  0.756863  0.717647  0.721569        0  \n",
       "2  0.396078  0.380392  0.345098  0.431373  0.596078        2  \n",
       "3  0.533333  0.545098  0.556863  0.560784  0.556863        4  \n",
       "4  0.105882  0.121569  0.117647  0.113725  0.117647        6  \n",
       "\n",
       "[5 rows x 2305 columns]"
      ]
     },
     "execution_count": 110,
     "metadata": {},
     "output_type": "execute_result"
    }
   ],
   "source": [
    "train_expanded_disgust_only.head()"
   ]
  },
  {
   "cell_type": "code",
   "execution_count": 111,
   "metadata": {},
   "outputs": [],
   "source": [
    "pre.set(name='train_expanded_disgust', value=train_expanded_disgust_only)\n",
    "pre.save(name= 'train_expanded_disgust')"
   ]
  },
  {
   "cell_type": "code",
   "execution_count": null,
   "metadata": {},
   "outputs": [],
   "source": []
  }
 ],
 "metadata": {
  "kernelspec": {
   "display_name": "Python 3",
   "language": "python",
   "name": "python3"
  },
  "language_info": {
   "codemirror_mode": {
    "name": "ipython",
    "version": 3
   },
   "file_extension": ".py",
   "mimetype": "text/x-python",
   "name": "python",
   "nbconvert_exporter": "python",
   "pygments_lexer": "ipython3",
   "version": "3.6.8"
  }
 },
 "nbformat": 4,
 "nbformat_minor": 2
}
