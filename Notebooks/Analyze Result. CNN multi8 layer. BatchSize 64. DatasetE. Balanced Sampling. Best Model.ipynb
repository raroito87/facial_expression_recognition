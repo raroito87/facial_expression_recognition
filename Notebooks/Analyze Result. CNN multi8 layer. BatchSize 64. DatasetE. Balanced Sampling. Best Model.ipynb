{
 "cells": [
  {
   "cell_type": "code",
   "execution_count": 13,
   "metadata": {},
   "outputs": [],
   "source": [
    "from utils import ModelImporter, Preprocessing, Metrics\n",
    "import torch\n",
    "import pandas as pd\n",
    "import numpy as np\n",
    "from sklearn import metrics\n",
    "import matplotlib.pyplot as plt\n",
    "import torchsummary"
   ]
  },
  {
   "cell_type": "code",
   "execution_count": 14,
   "metadata": {},
   "outputs": [
    {
     "name": "stdout",
     "output_type": "stream",
     "text": [
      "The autoreload extension is already loaded. To reload it, use:\n",
      "  %reload_ext autoreload\n"
     ]
    }
   ],
   "source": [
    "%load_ext autoreload\n",
    "%autoreload 2"
   ]
  },
  {
   "cell_type": "code",
   "execution_count": 15,
   "metadata": {},
   "outputs": [],
   "source": [
    "%reload_ext autoreload"
   ]
  },
  {
   "cell_type": "markdown",
   "metadata": {},
   "source": [
    "# Analize Model with the Public Test Data"
   ]
  },
  {
   "cell_type": "code",
   "execution_count": 35,
   "metadata": {},
   "outputs": [],
   "source": [
    "#load data\n",
    "pre = Preprocessing('fer2013')\n",
    "pre.load_data(filename='test_public_norm.csv.gz', name='test')\n",
    "\n",
    "X_df = pre.get(name='test').drop(columns=['emotion'])\n",
    "y_df = pre.get(name='test')['emotion']"
   ]
  },
  {
   "cell_type": "code",
   "execution_count": 36,
   "metadata": {},
   "outputs": [],
   "source": [
    "dtype = torch.float\n",
    "device = torch.device(\"cpu\")\n",
    "\n",
    "n_classes = 7\n",
    "n_epochs = 100\n",
    "learning_rate = 0.001\n",
    "batch_size = 64\n",
    "\n",
    "#loss_ep_n = 10\n",
    "acc_ep_n = 60\n",
    "#f1_ep_n = 20\n",
    "#bs_ep_n = 25\n",
    "\n",
    "m_importer = ModelImporter('fer2013_DatasetE')"
   ]
  },
  {
   "cell_type": "code",
   "execution_count": 37,
   "metadata": {},
   "outputs": [
    {
     "name": "stdout",
     "output_type": "stream",
     "text": [
      "['cnn_multi8_layer_E_bs_0.001_64_100_7', 1, 7, [48, 48], 64, 64, 128, 128, 256, 256, 512, 512, 2]\n",
      "load model CnnMulti8Layer(\n",
      "  (drop_hidden): Dropout(p=0.5)\n",
      "  (drop_visible): Dropout(p=0.4)\n",
      "  (conv1): Conv2d(1, 64, kernel_size=(3, 3), stride=(1, 1), padding=(1, 1))\n",
      "  (batchnorm1): BatchNorm2d(64, eps=1e-05, momentum=0.1, affine=True, track_running_stats=True)\n",
      "  (conv2): Conv2d(64, 64, kernel_size=(3, 3), stride=(1, 1), padding=(1, 1))\n",
      "  (batchnorm2): BatchNorm2d(64, eps=1e-05, momentum=0.1, affine=True, track_running_stats=True)\n",
      "  (pool): MaxPool2d(kernel_size=2, stride=2, padding=0, dilation=1, ceil_mode=False)\n",
      "  (conv3): Conv2d(64, 128, kernel_size=(3, 3), stride=(1, 1), padding=(1, 1))\n",
      "  (batchnorm3): BatchNorm2d(128, eps=1e-05, momentum=0.1, affine=True, track_running_stats=True)\n",
      "  (conv4): Conv2d(128, 128, kernel_size=(3, 3), stride=(1, 1), padding=(1, 1))\n",
      "  (batchnorm4): BatchNorm2d(128, eps=1e-05, momentum=0.1, affine=True, track_running_stats=True)\n",
      "  (conv5): Conv2d(128, 256, kernel_size=(3, 3), stride=(1, 1), padding=(1, 1))\n",
      "  (batchnorm5): BatchNorm2d(256, eps=1e-05, momentum=0.1, affine=True, track_running_stats=True)\n",
      "  (conv6): Conv2d(256, 256, kernel_size=(3, 3), stride=(1, 1), padding=(1, 1))\n",
      "  (batchnorm6): BatchNorm2d(256, eps=1e-05, momentum=0.1, affine=True, track_running_stats=True)\n",
      "  (conv7): Conv2d(256, 512, kernel_size=(3, 3), stride=(1, 1), padding=(1, 1))\n",
      "  (batchnorm7): BatchNorm2d(512, eps=1e-05, momentum=0.1, affine=True, track_running_stats=True)\n",
      "  (conv8): Conv2d(512, 512, kernel_size=(3, 3), stride=(1, 1), padding=(1, 1))\n",
      "  (batchnorm8): BatchNorm2d(512, eps=1e-05, momentum=0.1, affine=True, track_running_stats=True)\n",
      "  (fc1): Linear(in_features=4608, out_features=512, bias=True)\n",
      "  (fc2): Linear(in_features=512, out_features=256, bias=True)\n",
      "  (fc3): Linear(in_features=256, out_features=128, bias=True)\n",
      "  (fc4): Linear(in_features=128, out_features=7, bias=True)\n",
      ")\n"
     ]
    }
   ],
   "source": [
    "model_name = f'cnn_multi8_layer_E_bs_{learning_rate}_{batch_size}_{n_epochs}_{n_classes}_epoch{acc_ep_n}'\n",
    "model = m_importer.load_nn_model(model_name)"
   ]
  },
  {
   "cell_type": "code",
   "execution_count": 38,
   "metadata": {},
   "outputs": [
    {
     "name": "stdout",
     "output_type": "stream",
     "text": [
      "----------------------------------------------------------------\n",
      "        Layer (type)               Output Shape         Param #\n",
      "================================================================\n",
      "            Conv2d-1           [-1, 64, 48, 48]             640\n",
      "       BatchNorm2d-2           [-1, 64, 48, 48]             128\n",
      "            Conv2d-3           [-1, 64, 48, 48]          36,928\n",
      "       BatchNorm2d-4           [-1, 64, 48, 48]             128\n",
      "         MaxPool2d-5           [-1, 64, 24, 24]               0\n",
      "            Conv2d-6          [-1, 128, 24, 24]          73,856\n",
      "       BatchNorm2d-7          [-1, 128, 24, 24]             256\n",
      "            Conv2d-8          [-1, 128, 24, 24]         147,584\n",
      "       BatchNorm2d-9          [-1, 128, 24, 24]             256\n",
      "        MaxPool2d-10          [-1, 128, 12, 12]               0\n",
      "           Conv2d-11          [-1, 256, 12, 12]         295,168\n",
      "      BatchNorm2d-12          [-1, 256, 12, 12]             512\n",
      "           Conv2d-13          [-1, 256, 12, 12]         590,080\n",
      "      BatchNorm2d-14          [-1, 256, 12, 12]             512\n",
      "        MaxPool2d-15            [-1, 256, 6, 6]               0\n",
      "           Conv2d-16            [-1, 512, 6, 6]       1,180,160\n",
      "      BatchNorm2d-17            [-1, 512, 6, 6]           1,024\n",
      "           Conv2d-18            [-1, 512, 6, 6]       2,359,808\n",
      "      BatchNorm2d-19            [-1, 512, 6, 6]           1,024\n",
      "        MaxPool2d-20            [-1, 512, 3, 3]               0\n",
      "          Dropout-21                 [-1, 4608]               0\n",
      "           Linear-22                  [-1, 512]       2,359,808\n",
      "          Dropout-23                  [-1, 512]               0\n",
      "           Linear-24                  [-1, 256]         131,328\n",
      "          Dropout-25                  [-1, 256]               0\n",
      "           Linear-26                  [-1, 128]          32,896\n",
      "          Dropout-27                  [-1, 128]               0\n",
      "           Linear-28                    [-1, 7]             903\n",
      "================================================================\n",
      "Total params: 7,212,999\n",
      "Trainable params: 7,212,999\n",
      "Non-trainable params: 0\n",
      "----------------------------------------------------------------\n",
      "Input size (MB): 0.01\n",
      "Forward/backward pass size (MB): 9.01\n",
      "Params size (MB): 27.52\n",
      "Estimated Total Size (MB): 36.54\n",
      "----------------------------------------------------------------\n"
     ]
    }
   ],
   "source": [
    "torchsummary.summary(model, (1, 48, 48))"
   ]
  },
  {
   "cell_type": "code",
   "execution_count": 39,
   "metadata": {},
   "outputs": [],
   "source": [
    "X_test = model.reshape_data(torch.tensor(X_df.values, device=device, dtype=dtype))\n",
    "y_test = torch.tensor(y_df.values, device=device, dtype=torch.long)"
   ]
  },
  {
   "cell_type": "code",
   "execution_count": 40,
   "metadata": {},
   "outputs": [
    {
     "data": {
      "text/plain": [
       "tensor(0.6673)"
      ]
     },
     "execution_count": 40,
     "metadata": {},
     "output_type": "execute_result"
    }
   ],
   "source": [
    "y_pred_prob = None\n",
    "with torch.no_grad():\n",
    "    y_pred_prob = model(X_test)\n",
    "y_pred = y_pred_prob.argmax(1)\n",
    "accuracy_soft = (y_pred == y_test).float().mean()\n",
    "del model\n",
    "accuracy_soft"
   ]
  },
  {
   "cell_type": "code",
   "execution_count": 41,
   "metadata": {},
   "outputs": [],
   "source": [
    "labels = ['Angry', 'Disgust', 'Fear', 'Happy', 'Sad', 'Surprise', 'Neutral']\n",
    "labels_num = [0, 1, 2, 3, 4, 5, 6]\n",
    "metrics = Metrics(y_test, y_pred, labels_num, labels)"
   ]
  },
  {
   "cell_type": "code",
   "execution_count": 42,
   "metadata": {},
   "outputs": [
    {
     "data": {
      "text/plain": [
       "<module 'matplotlib.pyplot' from '/Users/raroito/anaconda3/envs/facial_expression_recognition/lib/python3.6/site-packages/matplotlib/pyplot.py'>"
      ]
     },
     "execution_count": 42,
     "metadata": {},
     "output_type": "execute_result"
    },
    {
     "data": {
      "image/png": "[encoded data removed]",
      "text/plain": [
       "<Figure size 504x504 with 2 Axes>"
      ]
     },
     "metadata": {
      "needs_background": "light"
     },
     "output_type": "display_data"
    }
   ],
   "source": [
    "metrics.represent_cm()"
   ]
  },
  {
   "cell_type": "code",
   "execution_count": 43,
   "metadata": {},
   "outputs": [
    {
     "data": {
      "text/plain": [
       "0.6474680652405603"
      ]
     },
     "execution_count": 43,
     "metadata": {},
     "output_type": "execute_result"
    }
   ],
   "source": [
    "metrics.balanced_score()"
   ]
  },
  {
   "cell_type": "code",
   "execution_count": null,
   "metadata": {},
   "outputs": [],
   "source": []
  },
  {
   "cell_type": "code",
   "execution_count": null,
   "metadata": {},
   "outputs": [],
   "source": []
  }
 ],
 "metadata": {
  "kernelspec": {
   "display_name": "Python 3",
   "language": "python",
   "name": "python3"
  },
  "language_info": {
   "codemirror_mode": {
    "name": "ipython",
    "version": 3
   },
   "file_extension": ".py",
   "mimetype": "text/x-python",
   "name": "python",
   "nbconvert_exporter": "python",
   "pygments_lexer": "ipython3",
   "version": "3.6.8"
  }
 },
 "nbformat": 4,
 "nbformat_minor": 2
}
