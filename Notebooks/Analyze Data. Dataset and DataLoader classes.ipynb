{
 "cells": [
  {
   "cell_type": "code",
   "execution_count": 1,
   "metadata": {},
   "outputs": [],
   "source": [
    "%load_ext autoreload\n",
    "%autoreload 2"
   ]
  },
  {
   "cell_type": "code",
   "execution_count": 2,
   "metadata": {},
   "outputs": [],
   "source": [
    "import torch\n",
    "import torchvision\n",
    "import torchvision.transforms as transforms\n",
    "import numpy as np\n",
    "import matplotlib.pyplot as plt\n",
    "from utils import Preprocessing\n",
    "from data import Fer2013Dataset\n",
    "from torch.utils.data import WeightedRandomSampler, DataLoader\n",
    "from models import CnnDoubleLayer\n",
    "\n",
    "\n",
    "from train import TrainClassifier2"
   ]
  },
  {
   "cell_type": "code",
   "execution_count": 5,
   "metadata": {},
   "outputs": [],
   "source": [
    "#load data\n",
    "pre = Preprocessing('fer2013')\n",
    "train_df = pre.load_data(filename='train_expanded_c1_rot.csv', name='train')"
   ]
  },
  {
   "cell_type": "code",
   "execution_count": 6,
   "metadata": {},
   "outputs": [],
   "source": [
    "%reload_ext autoreload"
   ]
  },
  {
   "cell_type": "code",
   "execution_count": 7,
   "metadata": {},
   "outputs": [],
   "source": [
    "n_classes = 7\n",
    "n_epochs = 2\n",
    "learning_rate = 0.0001\n",
    "batch_size = 32\n",
    "\n",
    "model_name = f'cnn_double_layer_exp_c1_rot_{learning_rate}_{batch_size}_{n_epochs}_{n_classes}'\n",
    "model = CnnDoubleLayer(model_name, d_out=n_classes)"
   ]
  },
  {
   "cell_type": "code",
   "execution_count": null,
   "metadata": {},
   "outputs": [
    {
     "name": "stdout",
     "output_type": "stream",
     "text": [
      "use cuda: False\n"
     ]
    }
   ],
   "source": [
    "X_df = pre.get(name='train').drop(columns=['emotion'])\n",
    "y_df = pre.get(name='train')['emotion']\n",
    "train_classifier = TrainClassifier2(model, X_df, y_df)"
   ]
  },
  {
   "cell_type": "code",
   "execution_count": null,
   "metadata": {},
   "outputs": [
    {
     "data": {
      "text/plain": [
       "False"
      ]
     },
     "execution_count": 9,
     "metadata": {},
     "output_type": "execute_result"
    }
   ],
   "source": [
    "train_classifier.use_cuda"
   ]
  },
  {
   "cell_type": "code",
   "execution_count": null,
   "metadata": {},
   "outputs": [],
   "source": [
    "target_np = train_classifier.training_set.y_data.numpy().astype(int)"
   ]
  },
  {
   "cell_type": "code",
   "execution_count": null,
   "metadata": {},
   "outputs": [
    {
     "name": "stdout",
     "output_type": "stream",
     "text": [
      "1: 3133267968\n",
      "b0: 3133267968\n",
      "b1: 3133267968\n",
      "b2: 3133267968\n",
      "b3: 3133267968\n",
      "b4: 3133267968\n",
      "b5: 3133267968\n",
      "b6: 3133267968\n",
      "b7: 3133267968\n",
      "b8: 3133267968\n",
      "b9: 3133267968\n",
      "b10: 3133267968\n",
      "b11: 3133267968\n",
      "b12: 3133267968\n",
      "b13: 3133267968\n",
      "b14: 3133267968\n",
      "b15: 3133267968\n",
      "b16: 3133267968\n",
      "b17: 3133267968\n",
      "b18: 3133267968\n",
      "b19: 3133267968\n",
      "b20: 3133267968\n",
      "b21: 3133267968\n",
      "b22: 3133267968\n",
      "b23: 3133267968\n",
      "b24: 3133267968\n",
      "b25: 3133267968\n",
      "b26: 3133267968\n",
      "b27: 3133267968\n",
      "b28: 3133267968\n",
      "b29: 3133267968\n",
      "b30: 3133267968\n",
      "b31: 3133267968\n"
     ]
    }
   ],
   "source": [
    "model, optimizer, criterion, loss_hist, loss_val_hist, f1_val_hist = train_classifier.run_train(n_epochs, lr=learning_rate, batch_size=batch_size)"
   ]
  },
  {
   "cell_type": "code",
   "execution_count": 36,
   "metadata": {},
   "outputs": [],
   "source": []
  },
  {
   "cell_type": "code",
   "execution_count": null,
   "metadata": {},
   "outputs": [],
   "source": []
  },
  {
   "cell_type": "code",
   "execution_count": null,
   "metadata": {},
   "outputs": [],
   "source": []
  },
  {
   "cell_type": "code",
   "execution_count": null,
   "metadata": {},
   "outputs": [],
   "source": []
  }
 ],
 "metadata": {
  "kernelspec": {
   "display_name": "Python 3",
   "language": "python",
   "name": "python3"
  },
  "language_info": {
   "codemirror_mode": {
    "name": "ipython",
    "version": 3
   },
   "file_extension": ".py",
   "mimetype": "text/x-python",
   "name": "python",
   "nbconvert_exporter": "python",
   "pygments_lexer": "ipython3",
   "version": "3.6.8"
  }
 },
 "nbformat": 4,
 "nbformat_minor": 2
}
