{
 "cells": [
  {
   "cell_type": "code",
   "execution_count": 1,
   "metadata": {},
   "outputs": [],
   "source": [
    "from utils import ModelImporter, Preprocessing\n",
    "import torch\n",
    "import pandas as pd\n",
    "import numpy as np\n",
    "import matplotlib.pyplot as plt"
   ]
  },
  {
   "cell_type": "code",
   "execution_count": 2,
   "metadata": {},
   "outputs": [],
   "source": [
    "pre = Preprocessing('fer2013')\n",
    "train = pre.load_data(filename='DatasetA.csv.gz', name='train')\n",
    "train_no_happy = train.loc[train['emotion'] != 3]\n",
    "train_no_happy = train_no_happy.reset_index().drop(columns = ['index'])"
   ]
  },
  {
   "cell_type": "code",
   "execution_count": 3,
   "metadata": {},
   "outputs": [],
   "source": [
    "from image_utils import ImageConverter\n",
    "import matplotlib.pyplot as plt"
   ]
  },
  {
   "cell_type": "code",
   "execution_count": 4,
   "metadata": {},
   "outputs": [],
   "source": [
    "img_conv = ImageConverter()"
   ]
  },
  {
   "cell_type": "code",
   "execution_count": 5,
   "metadata": {},
   "outputs": [],
   "source": [
    "train_no_happy_np = train_no_happy.drop(columns = ['emotion']).values"
   ]
  },
  {
   "cell_type": "code",
   "execution_count": null,
   "metadata": {},
   "outputs": [],
   "source": []
  },
  {
   "cell_type": "code",
   "execution_count": 6,
   "metadata": {},
   "outputs": [],
   "source": [
    "array_0 = train_no_happy_np[0]\n",
    "array_0_frame = img_conv.reshape_array_to_frame(array_0)\n",
    "array_0_frame_flipped = img_conv.rotate_image(array_0_frame, 20)"
   ]
  },
  {
   "cell_type": "code",
   "execution_count": 7,
   "metadata": {},
   "outputs": [
    {
     "data": {
      "image/png": "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\n",
      "text/plain": [
       "<Figure size 720x360 with 2 Axes>"
      ]
     },
     "metadata": {
      "needs_background": "light"
     },
     "output_type": "display_data"
    }
   ],
   "source": [
    "plt.figure(1, figsize=(10, 5))\n",
    "plt.subplot(1,2, 1)\n",
    "plt.imshow(array_0_frame, cmap='gray', interpolation='none')\n",
    "plt.subplot(1,2, 2)\n",
    "plt.imshow(array_0_frame_flipped, cmap='gray', interpolation='none')\n",
    "plt.show()"
   ]
  },
  {
   "cell_type": "code",
   "execution_count": 8,
   "metadata": {},
   "outputs": [],
   "source": [
<<<<<<< refs/remotes/origin/master
=======
    "array_1 = train_no_happy_np[1]"
   ]
  },
  {
   "cell_type": "code",
   "execution_count": 9,
   "metadata": {},
   "outputs": [
    {
     "data": {
      "text/plain": [
       "array([[0.59215686, 0.58823529, 0.57647059, ..., 0.50588235, 0.54901961,\n",
       "        0.47058824],\n",
       "       [0.59215686, 0.58431373, 0.58431373, ..., 0.47843137, 0.55294118,\n",
       "        0.5372549 ],\n",
       "       [0.59215686, 0.59215686, 0.61176471, ..., 0.42745098, 0.48235294,\n",
       "        0.57254902],\n",
       "       ...,\n",
       "       [0.7372549 , 0.7372549 , 0.4745098 , ..., 0.7254902 , 0.7254902 ,\n",
       "        0.72941176],\n",
       "       [0.7372549 , 0.73333333, 0.76862745, ..., 0.72941176, 0.71372549,\n",
       "        0.73333333],\n",
       "       [0.72941176, 0.72156863, 0.7254902 , ..., 0.75686275, 0.71764706,\n",
       "        0.72156863]])"
      ]
     },
     "execution_count": 9,
     "metadata": {},
     "output_type": "execute_result"
    }
   ],
   "source": [
    "array_1_frame = img_conv.reshape_array_to_frame(array_1)\n",
    "array_1_frame"
   ]
  },
  {
   "cell_type": "code",
   "execution_count": 10,
   "metadata": {},
   "outputs": [
    {
     "data": {
      "text/plain": [
       "tensor([[0.5922, 0.5882, 0.5765,  ..., 0.5059, 0.5490, 0.4706],\n",
       "        [0.5922, 0.5843, 0.5843,  ..., 0.4784, 0.5529, 0.5373],\n",
       "        [0.5922, 0.5922, 0.6118,  ..., 0.4275, 0.4824, 0.5725],\n",
       "        ...,\n",
       "        [0.7373, 0.7373, 0.4745,  ..., 0.7255, 0.7255, 0.7294],\n",
       "        [0.7373, 0.7333, 0.7686,  ..., 0.7294, 0.7137, 0.7333],\n",
       "        [0.7294, 0.7216, 0.7255,  ..., 0.7569, 0.7176, 0.7216]])"
      ]
     },
     "execution_count": 10,
     "metadata": {},
     "output_type": "execute_result"
    }
   ],
   "source": [
    "x_data = torch.tensor(array_1_frame, device='cpu', dtype=torch.float)\n",
    "x_data"
   ]
  },
  {
   "cell_type": "code",
   "execution_count": 11,
   "metadata": {},
   "outputs": [
    {
     "data": {
      "text/plain": [
       "tensor([[[0.5922, 0.5882, 0.5765,  ..., 0.5059, 0.5490, 0.4706],\n",
       "         [0.5922, 0.5843, 0.5843,  ..., 0.4784, 0.5529, 0.5373],\n",
       "         [0.5922, 0.5922, 0.6118,  ..., 0.4275, 0.4824, 0.5725],\n",
       "         ...,\n",
       "         [0.7373, 0.7373, 0.4745,  ..., 0.7255, 0.7255, 0.7294],\n",
       "         [0.7373, 0.7333, 0.7686,  ..., 0.7294, 0.7137, 0.7333],\n",
       "         [0.7294, 0.7216, 0.7255,  ..., 0.7569, 0.7176, 0.7216]]])"
      ]
     },
     "execution_count": 11,
     "metadata": {},
     "output_type": "execute_result"
    }
   ],
   "source": [
    "x_data = x_data.unsqueeze(0)\n",
    "x_data"
   ]
  },
  {
   "cell_type": "code",
   "execution_count": 12,
   "metadata": {},
   "outputs": [
    {
     "data": {
      "text/plain": [
       "tensor([[[0.5922, 0.5882, 0.5765,  ..., 0.5059, 0.5490, 0.4706],\n",
       "         [0.5922, 0.5843, 0.5843,  ..., 0.4784, 0.5529, 0.5373],\n",
       "         [0.5922, 0.5922, 0.6118,  ..., 0.4275, 0.4824, 0.5725],\n",
       "         ...,\n",
       "         [0.7373, 0.7373, 0.4745,  ..., 0.7255, 0.7255, 0.7294],\n",
       "         [0.7373, 0.7333, 0.7686,  ..., 0.7294, 0.7137, 0.7333],\n",
       "         [0.7294, 0.7216, 0.7255,  ..., 0.7569, 0.7176, 0.7216]],\n",
       "\n",
       "        [[0.5922, 0.5882, 0.5765,  ..., 0.5059, 0.5490, 0.4706],\n",
       "         [0.5922, 0.5843, 0.5843,  ..., 0.4784, 0.5529, 0.5373],\n",
       "         [0.5922, 0.5922, 0.6118,  ..., 0.4275, 0.4824, 0.5725],\n",
       "         ...,\n",
       "         [0.7373, 0.7373, 0.4745,  ..., 0.7255, 0.7255, 0.7294],\n",
       "         [0.7373, 0.7333, 0.7686,  ..., 0.7294, 0.7137, 0.7333],\n",
       "         [0.7294, 0.7216, 0.7255,  ..., 0.7569, 0.7176, 0.7216]],\n",
       "\n",
       "        [[0.5922, 0.5882, 0.5765,  ..., 0.5059, 0.5490, 0.4706],\n",
       "         [0.5922, 0.5843, 0.5843,  ..., 0.4784, 0.5529, 0.5373],\n",
       "         [0.5922, 0.5922, 0.6118,  ..., 0.4275, 0.4824, 0.5725],\n",
       "         ...,\n",
       "         [0.7373, 0.7373, 0.4745,  ..., 0.7255, 0.7255, 0.7294],\n",
       "         [0.7373, 0.7333, 0.7686,  ..., 0.7294, 0.7137, 0.7333],\n",
       "         [0.7294, 0.7216, 0.7255,  ..., 0.7569, 0.7176, 0.7216]]])"
      ]
     },
     "execution_count": 12,
     "metadata": {},
     "output_type": "execute_result"
    }
   ],
   "source": [
    "x_data = x_data.repeat(3, 1, 1)\n",
    "x_data"
   ]
  },
  {
   "cell_type": "code",
   "execution_count": 17,
   "metadata": {},
   "outputs": [
    {
     "data": {
      "text/plain": [
       "(3, 48, 48)"
      ]
     },
     "execution_count": 17,
     "metadata": {},
     "output_type": "execute_result"
    }
   ],
   "source": [
    "x_data_np = x_data.detach().numpy()\n",
    "x_data_np.shape"
   ]
  },
  {
   "cell_type": "code",
   "execution_count": 30,
   "metadata": {},
   "outputs": [],
   "source": [
    "x_data_rgb_np = x_data.transpose(0, 2).transpose(0, 1).detach().numpy()"
   ]
  },
  {
   "cell_type": "code",
   "execution_count": 29,
   "metadata": {},
   "outputs": [
    {
     "data": {
      "text/plain": [
       "(48, 48)"
      ]
     },
     "execution_count": 29,
     "metadata": {},
     "output_type": "execute_result"
    }
   ],
   "source": [
    "x_data_np_grey = (x_data_np[0] + x_data_np[1] + x_data_np[2])/3\n",
    "x_data_np_grey.shape"
   ]
  },
  {
   "cell_type": "code",
   "execution_count": 31,
   "metadata": {},
   "outputs": [
    {
     "data": {
      "image/png": "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\n",
      "text/plain": [
       "<Figure size 720x360 with 2 Axes>"
      ]
     },
     "metadata": {
      "needs_background": "light"
     },
     "output_type": "display_data"
    }
   ],
   "source": [
    "plt.figure(1, figsize=(10, 5))\n",
    "plt.subplot(1,2, 1)\n",
    "plt.imshow(x_data_np_grey, cmap='gray', interpolation='none')\n",
    "plt.subplot(1,2, 2)\n",
    "plt.imshow(x_data_rgb_np, cmap='gray', interpolation='none')\n",
    "plt.show()"
   ]
  },
  {
   "cell_type": "code",
   "execution_count": null,
   "metadata": {},
   "outputs": [],
   "source": []
  },
  {
   "cell_type": "code",
   "execution_count": 8,
   "metadata": {},
   "outputs": [],
   "source": [
>>>>>>> changed: many changes
    "array_50 = train_no_happy_np[50]\n",
    "array_50_frame = img_conv.reshape_array_to_frame(array_50)\n",
    "array_50_frame_flipped = img_conv.rotate_image(array_50_frame, 20)"
   ]
  },
  {
   "cell_type": "code",
   "execution_count": 9,
   "metadata": {},
   "outputs": [
    {
     "data": {
      "image/png": "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\n",
      "text/plain": [
       "<Figure size 720x360 with 2 Axes>"
      ]
     },
     "metadata": {
      "needs_background": "light"
     },
     "output_type": "display_data"
    }
   ],
   "source": [
    "plt.figure(1, figsize=(10, 5))\n",
    "plt.subplot(1,2, 1)\n",
    "plt.imshow(array_50_frame, cmap='gray', interpolation='none')\n",
    "plt.subplot(1,2, 2)\n",
    "plt.imshow(array_50_frame_flipped, cmap='gray', interpolation='none')\n",
    "plt.show()"
   ]
  },
  {
   "cell_type": "code",
   "execution_count": 10,
   "metadata": {},
   "outputs": [],
   "source": [
    "rotated_10_train = np.zeros(shape=train_no_happy_np.shape)\n",
    "rotated_20_train = np.zeros(shape=train_no_happy_np.shape)\n",
    "idx = 0\n",
    "for i in range(len(train_no_happy_np)):\n",
    "    array = train_no_happy_np[i]\n",
    "    frame = img_conv.reshape_array_to_frame(array)\n",
    "    \n",
    "    rot_10 = img_conv.rotate_image(frame, 10)\n",
    "    array_rot_10 = img_conv.reshape_frame_to_array(rot_10)\n",
    "    rotated_10_train[i] = array_rot_10  \n",
    "    \n",
    "    rot_20 = img_conv.rotate_image(frame, 20)\n",
    "    array_rot_20 = img_conv.reshape_frame_to_array(rot_20)\n",
    "    rotated_20_train[i] = array_rot_20\n",
    "    \n",
    "    ##rot_15 = img_conv.rotate_image(img_conv.reshape_array_to_frame(train_only_disgust_np[i]), 15)\n",
    "    #rotated_train_only_disgust[i] = img_conv.reshape_frame_to_array(rot_5)\n",
    "    #rotated_train_only_disgust[idx + 1] = img_conv.reshape_frame_to_array(rot_15)"
   ]
  },
  {
   "cell_type": "code",
   "execution_count": 11,
   "metadata": {},
   "outputs": [
    {
     "data": {
      "text/plain": [
       "21494"
      ]
     },
     "execution_count": 11,
     "metadata": {},
     "output_type": "execute_result"
    }
   ],
   "source": [
    "len(rotated_10_train)"
   ]
  },
  {
   "cell_type": "code",
   "execution_count": 12,
   "metadata": {},
   "outputs": [
    {
     "data": {
      "text/plain": [
       "21494"
      ]
     },
     "execution_count": 12,
     "metadata": {},
     "output_type": "execute_result"
    }
   ],
   "source": [
    "len(rotated_20_train)"
   ]
  },
  {
   "cell_type": "code",
   "execution_count": 13,
   "metadata": {},
   "outputs": [
    {
     "data": {
      "image/png": "iVBORw0KGgoAAAANSUhEUgAAAlMAAADHCAYAAAA9KdaUAAAABHNCSVQICAgIfAhkiAAAAAlwSFlzAAALEgAACxIB0t1+/AAAADl0RVh0U29mdHdhcmUAbWF0cGxvdGxpYiB2ZXJzaW9uIDMuMC4zLCBodHRwOi8vbWF0cGxvdGxpYi5vcmcvnQurowAAIABJREFUeJztvWusJdd5nvmu7pZMyTTFO9lk836/iZRMUxQ9ggjJBmQ7iAewbMQJBgIsWH8ygOPJIJZmgCABZgD7T5wACQLQsCENEMROnBgSBEEBLZMcGbJJ8yrxomY3781bSxYp05ZMSurKjz67+NTLs77ep/fpfXbzvA9AsOpU7apVa33fqur1futbbRgGhRBCCCGEo2PHVhcghBBCCOF4Jh9TIYQQQggLkI+pEEIIIYQFyMdUCCGEEMIC5GMqhBBCCGEB8jEVQgghhLAA+ZgKIYQQQliAhT6mWmsfa63tba3tb619erMKFcLxSnwihCnxibAdaEebtLO1tlPS45J+VtIBSX8l6VeHYXh084oXwvFDfCKEKfGJsF1YZGTqJkn7h2F4chiGNyT9oaRf3JxihXBcEp8IYUp8ImwLdi3w23MlPYf9A5I+UP3gne985/Cud71rgVtKrbWj+t0Pf/jDcfsHP/hB99hG7r1z585xe9euN6vyHe94x+Q8HuNvJGnHjje/Zw8dOtQ9Ns/f14Nl9t/xmD/bj370o3XL5WV84403xu3XX399coz7/jvej3Xyzne+c3Ie667CR1h5/d7o6/e+9z298cYbR2dQ63NUPnHCCSese6yyddZnZc9sxwq/V2XP3Pf2YVtWbVDZcHWsZ8/uV5VtEy9XZes8tzqPdv/9739/coxtVdUJ/cDr+Gj7wHn4/ve/r9dff31LfWLnzp3DzMa8b57Xnt2Gen219ze98/yaVX/j9Gxx3t94uSpbr6hslhxNXypN3wV///d/PznGfW9TXtPbjX0N28qf+Vgsize75rzviUU+puaitfYpSZ+SpBNOOEG33HLLEX9TfVS4Idm9xm2v3G9/+9vj9ssvvzw59td//dfd3xF3rpNPPnncPv3008ftc889d3Lee97znnH7tNNOmxyjgdAY/VjVAbB+3Bj5ux/7sR+b6/qS9Dd/8zfj9t/93d+N29/73vcm5z377LPrbkvSvn37xm1/qdBJTjrppHF7z549k/NYrxUb6QBm+3fddddc195s3CduuukmSfXHrsN2OHjw4OQY91999dWqHOO2f9Cx3s8888zJMdo3fUCSTj311HGbbewdaGV7PFZ1rj/+4z8+bp944omT8/g83mfQHvzlTFuvPoRY/+4TTz311Lj98MMPT449//zz47bXCZ+HfsA6leqXyrwv6x533nnnhn+zGdAndu3apQsvvFCS9K1vfWtyHvulyue9r2Mdsg/2/qbqqzkQUL2j3J5ps/N+rPk/YNhHuq3THqr3Fz/y/WOHv/P3EMtcfQi98MIL4/Y3v/nNyXnc9zblNX2whX3NOeecM2573W3Gx5T3BTN///M///O5fr/Ix9Tzks7D/p61v00YhuE2SbdJ0kknnTTMKs6NhYbknQDPrYyYRvDSSy9Nznv66afHbe/82InRmaTpy2L37t2TY2efffa626eccsrkPBq7d+zVMT4rjcXr7t3vfve47QbBa/rveE03xp/4iZ8Yt2ns7Mwk6Ywzzhi3L7vsssmxWYcoSQ899NDk2IEDB8bt73znO93y897+kUo7qf7FupF/RS7IUflE72IsdzVydLSjQ9VHBeu9Gh3w3/X+lekfa7RZbkvTlwVfIlJ/RNNtm+WqRoD8d8TrlfVAv/UPfvYF/rJ+8MEHx+29e/dOjr322mvjdtVfsR9i3yUd/ejJRs7ZIBv2iXe/+93jaK1/FM1rz26zvQ8Jfjyv3Xvd33hZ/CO/GvXhfvUxxT7X30P0Cfe53vWd3kedNK0vL1flS9znx477O9+j99133+QY+3//yOM/DFl+f8e6nZBqFJ/7/hE5+93co6FznbU+fyXpstbaRa21d0r6R5K+sMD1QjjeiU+EMCU+EbYFRz0yNQzDD1tr/7uk/yFpp6Q/GIbhkU0rWQjHGfGJEKbEJ8J2YaGYqWEYviTpS5tUlhCOe+ITIUyJT4TtwDEPQCette7srGrWWS92SJpqngwy92Bo6qHUdiXpkksuGbc9LooxQR74R42bsQseh0F92vXXKlasN6PKNXnWQRXE7L+rtOBeTE41C8R1a9bX+eefPzn2yCNv/uP0/vvvH7f/9m//dnIeY6vcdhib4lRB+TOO5ayojTCr03lnsUnzzx7daBlmsC3pA5J03nlvhsB4cDpjI9j+VZmqmVdVvNO8M5w2MnOJdel1Tj/j/TwOg896wQUXTI4xwNb9hT7BvszjP1kH3pexH1oV+94oO3bsUC9mivtVEHU1w5LvAo9Hq2YnM67Iy8X7uT2zTegfPrGAVO/AakZ49R7l7zw+qHevI12T7xD6gcdMMd7V242xgz45jG3AY/7uYj/kz8ZyVfFmvQD0qv8gWU4mhBBCCGEB8jEVQgghhLAAS5X5pP7Qc5W8spqayeFwTid2rrvuunH7yiuvnBzjNFSfauzTtgmnR1fTxXkNz6PBcyspZ15Jw4/xGj5Ey+HQaop7NYTNqes+ZM5rUBqSptPJWT9f+9rXJudxSJiSnzQdavcp9FWZZ8P1xyLR27FiI9PcKUfQHlya4PRil6MuvfTScbtqO7fnXlqGeZMo+n5lz/Q/f7YqRUCV9qFKNNuTH6vknt5OlHauueaayTFeh/mpXPpmXjyXU6r8WhWr5AuttfE5qudzuYj48/TkO88lxmOVzOdT8/kO8bQGtAHar/e5vQSV0tTP/FivL3Dbruy++h2p0vdUf+dzu7zJfF7+Dunlc6veBVUi3o2kRpjVQ2S+EEIIIYQlkI+pEEIIIYQFyMdUCCGEEMICLD01wiyWoVpYt9L6fa0xn0o54+qrr57sM2bK42tINYXb40OopVbrQlXLasy7aHEV+1Qxb7xWtUgxNfQqNUWVEqJam4/rNbqmfffdd3fL+MQTT4zbTG8hTWMaerEJG6nHY8k8C1q7bs8lGDxWkEv+ML7J46IuvvjicdvjohjXwBQg0rTtqrXzqvQU1WLJ1bIXPV/yWMfe4tHS1BY9Hsntj/SmgVcxXx7Xw3b0euVyTIwP4Vp/0nQJFNqBX9Njd+aJi1qF2KkdO3aMfai3I/vWakkUf45eX+d9Cm3PfYLT+z2WtvKJXpxftQyUx0Xxud1uevFCbtu0Kb93Zc+sV/ePKpaX8Jr+/uW+t3cvFtnLwdhpf8/xXP8d46R66w4mZiqEEEIIYQnkYyqEEEIIYQGWnhphHqosqy7zcRidUs/1118/OY/Dh9VQtk+PrNIO8JocanXJocp6zOFPH2bsSRo+xFxNZeXwsw+hVjLcd7/73XG7GuaspBzWs9cd25S/u+GGGybnUcat5Kznn58uRM828Oeed9h2GbTWxrpx6Zv151OGWS+UfSTprLPOGreZBuSiiy6anMeswW6ztMsqtUCVuoB2Wsnnfoy/q2Rx3tuH9imTuH9UU6Up+3h79Kage59Bn6tkcYfPTYnOn42+6m1/8ODBcdvbtFqJYba/CjKf9GZZq9QI3pdWKXTYJlw5geEfknTVVVeN2575n/f2vq5nl1I/hYeHRVSpPmgDla1XWcjpBy4j9vpjadr39KQwv3fV33v/y5USfJUR3pvXdPmcMp/L2yyz232VYmajKwhkZCqEEEIIYQHyMRVCCCGEsAD5mAohhBBCWIAtW06mmkbpmirjYTwVAqdwX3HFFeO2a8LUWP0YqaaMusZNTZrbfg3q335v1kMV00Qt2ctRUU0zZ524Tt5bnb2KAfG4Hl7D47wYm1K1DWMaPF6O+jfjp6Tpkhuc0iytTkoEx+2esTh8Hkl65ZVXxm1fnoHxgkx/4DE0rGu3jd7SKdLUvj1+g/u0Z7dZxiP4MU799jKz7XgNtxue99prr02OzZt6ofIz2p7Hb1RLzVRxGL2+wOug5zvS1C48/qSKG52Vc5XiCaXavjyuiPXi6QP27NkzbrNP4bJJ0jROqnpHVfFOfqyXGsHblft+jXljX9lnuE9UyzTx3GrpKr9mL8awiinz9yOf++STT54cYwxgZZvVO6S3xNVms5pvlRBCCCGE44R8TIUQQgghLMDSM6DPhviq4W+Xiyjv+BDk7t27x+1qRfF5UxBUq127VMVjLL+fV02prTLi9oZ2fZi3Womc9/Nj1RT3Hl7+KmvvvNmk2VbeNpSwPIM3z/Vsv0zt4FOcK5l3K3Hb4xR4lzhZ70x/IE2lC7dFwvbx4W+2c5WNuTrG7cq2/RpV1n5esxr257O5zfZWLpBqe+79zp+NUkuVasWhT8wrG/m9KbvQB/zei2Z7XhZeHk6B/9a3vjU5xlQfTHEgTVfEYH/gUlv1/JVMRjt1u+mtjuFSJGXZSqqqMr9X7zle0/2qSnHDa7o991JC+Hms10rm876aEj3Dffz9Tn/3ND8udxN+T/j7cVbmedOFZGQqhBBCCGEB8jEVQgghhLAAS5X5hmEYh+OqDKkcypWmQ3o+ZMfhykq2IJWkUckR/rueBFhlba4WA/bf8dl4ryrzrw/tVkP7vHeVJZpUmax9aJfl8ufuDa/6fblfzU6pJDKXO0477bT1H2CLmNmHDydT7vZM15yh6JIG65r14nVUDV+zbuednST1pT0/r5IcqizX9CVKWv5s7AuqkAJ/Nr8f4XXYD3lYAn2pmtVUUdV/BX3J7Z70FgJ2qWOrmNW1z2KlnO8L5lLe9ll6XPCb9uZ9Op/f31G0jSoLuds6268ng/t+JTF7P0tbZ/n92Srbrt6BtO/eLFD/XWXn1bvZ25Sz+2jPvkA1vxHcH9lW1fuldywyXwghhBDCEsjHVAghhBDCAuRjKoQQQghhAZaeGqGn/1MP/c53vjM5Rh3Y44oINc8qBsg1YWrjrvVW2Yx7U/+rKal+Deq7Xje8fqXbUkPvrQa/3r172aSleoo4qbKj83l8Kitjmqr0Db3ySvU0Y2rqbk+rFjM1q3uPA2A6BI/RuPDCC8ftanp8L32HU8UObSQdRm/6eBWn6LEptCOvE9pwL1bEz6vu7f0Jz63ShVTlr47R7qu0CSyX2zZTAlTP7VPE50l/sgqpEQ4dOjS2u2ev5zNcdtllk2PXXnvtuP2e97xncqwXO+q+M+97wuuS/lP5Etu1Sn/g0A8qn6Dv+PU8DQThe2jfvn2TY0xJ4O3B9zavUcVI+jHGH3pfw5UtaPfuO9z3NDl893hf0Ks77idmKoQQQghhCRzxY6q19gettYOttYfxt1Nba7e31vat/f+UY1vMEFaH+EQIU+ITYbszj8z3WUn/XtL/h799WtJXhmH47dbap9f2f+tIFxqGYRwy8+E8Tv12+YzDpj702ksLMO80UL/+emWeUQ1PMjWCD6dyuNXLz2t6mXsyicuIrINqSHIj07Q5HM0hVJcBWAf+bBwC9jITPlu12G81jXkjmaBnQ8cLTAP/rDbJJ6Q328yznNMnTjll+h7qtY/Uz4JcpbWoJIZq4dMjndsrY7XqQCXR9YblKwnY/colU8KFVd1ueIxt47bN/svvzXarbJ3SHqf1S1O5wyWNagFmlws3mc9qk3zi0KFD43O5RE8/8PQHnEbv9jBvyET1rpk3xc1GZF/C9qrec05v4XFPI8Q+8emnn54ce+KJJ8btBx98cHKM57rNnnPOOeuW6YUXXpjsVxn9uRi7y7Pnn3/+uE0/e+qppybnse5cBu2FPUhTW+jJfPNyxJGpYRj+f0nfsT//oqTPrW1/TtL/uqG7hnAcE58IYUp8Imx3jjZm6qxhGF5c235J0lmbVJ4QjlfiEyFMiU+EbcPCAejD4bGw7nhYa+1TrbV7W2v3+lB/CG9H4hMhTNmIT1QhASGsKkebGuHl1truYRhebK3tlnSwd+IwDLdJuk2STjnllGGmH7v2Su3ftUrGIFVxH9SVe2kLpLfGTFDH9hgHxhm4nsvU9yyjx1ZRM/fr83l8mjbLVcVCkGpKqt+bx7zO2R78nS/vwI8BL/+806zZeVbLFVQadpXawT9YZhr6Jk8DPyqfOOmkk4ZZeap2rZbjcVvvTe+vntfrlm1S+ZLHgPSWQamWaaqW3+gteyJN/cqvQX/0uqNt+zTwRx99dNz2uI/nnntu3OZz+/Vpb14uxj9VS2MRrzv6mfscY7k8zmbelACbyFH5xAknnDDMpuB7OXfv3j1uM0Zq7RrjdhVjxGf12KoqHrCKmeIxt9leGpjKJ7z8vKb/jv1zFcP69a9/fdy+/fbbJ8e+9rWvjdu+HMuePXvGbU9HcdZZbw428v3o9cj0Cr5cHPfPPPPMyTHuV0vq0O6ZTkGa9qtV6qNFOdqRqS9I+sTa9ickfX5zihPCcUt8IoQp8YmwbZgnNcJ/lvQXkq5orR1orX1S0m9L+tnW2j5JP7O2H8K2ID4RwpT4RNjuHFHmG4bhVzuHPno0N5wNs3FYTppOQ/YhZw6p+7B2L7u4X6Na0ZrD60xx4Meq7OvVMGw19MohWr83y1mlCKhSQlCK9OfmVPwnn3xycozTwDlM7UO0VdoH1okPyfN3nLpayQ1VCguXyHhNHxKe2drRpkbYTJ9gtmef5s768zavst7zWJWtvJIAue82RTt1m+W5bC/3He673EU78nL10mi47dEn9u/fPzl27733jttf/epXJ8defPHFcdvlzVNPPXXcpvThqQt4b5/aT6nQ6+Tcc88dt1mvHl7A+nJpkPvVFHGv141me3Y2+z0xq0O3Pda1H2M/VfUVVWb+ecMKqnQkfu+e3F2dV1GFNFCio6wnSXfddde4vXfv3u69zzvvvMkxZpZnGgNp2q+zPapQHX8XVBnWKfNddNFF3euz//eUJlVqnyptxWzfv1V6JAN6CCGEEMIC5GMqhBBCCGEB8jEVQgghhLAAR5sa4ahorY16r0+/ZLxIFUPBGCBpqvVS/6yWSvFjvL7Hn7Bcnv+kl9aAsRWSdNppp43bnErqv5t3+QLXfakze/mpR3PatyQ98sgj4/bjjz8+OcbYqGqZA8Yw+HNT2/cldqi9s709zoP148th8Hceb1QxO/cYTQffEIcOHRp9oUqNUC094rE9vZijyu49XoPt5W3H2IgqNQLbp1pWpVp+yeEz0O697hj7dM8990yOPfTQQ+teQ5ramPc1XL6EfuxL/TDeye3y2WefHbcPHDgwOcZYD6YAOPvssyfnscx+fe57jBxtphcPtJlTxY+WH/3oR2Ocij8D28f742rJLdpUlcaAdeTvKMajuY1Wy6XQ9iu753nuq7TvKj6Uds/+XZJeeumlcdv7cdrYVVddNTn2/ve/f93zpOn7hnXnfsX6OuOMM7rHqvgk1iv9Q5qmQ/D0Pawvj3XjvY/5cjIhhBBCCKFPPqZCCCGEEBZgqTIfqbI2Ozzm04nnXQmdcodP7+d0ZS8Xf8ept9J0GJhDti53XX/99eO2D6FyGmolYbIOfJiXZfap2JT2fKosh31dXuPzUK7hlHBpKmG6lEPJwVf55sr3lPy8Dlj/lczqw+4czvX6cllmKxmGYWw/fz6XOAjbvJL5KBe4j/E8T3FQpQGh3bvd8Do8RjuRprbt12CZXd5kW/K5X3nllcl5zzzzzLjtkgOfzW2B+9dcc83kGKdm0z+qtBLVagsutbz88svjNuvYZZFzzjln3HZ/5z5Tn0hT++qFQayCzCe9WVZPC8E2r9ITeH/QS5tTyedeR+zfqpUsvF17qXfcNujvfm/KaVWIDCUu93dKY54+4IILLhi3b7rppsmxSy65ZNz29y3ri+8Tz0LOOnEbYxtXIT5Vv0CfoO9LU2ndw2DmCYOovk1IRqZCCCGEEBYgH1MhhBBCCAuQj6kQQgghhAVYeszUTJecV4eU6qVgeqn6PU6G05A9RoP4dFVqrB6DQP2ecVhMRyBNdWWf+klt2WMjevq66/XU0P3e1NM9losxYB6vw5T/jBXx2Be2RxVn40sUfOMb3xi3n3766XGb8WVSvZwPy+zTkaulUlaJYRhGe3Sf6KX98H2PmWLsRTX1t0ofQrvx+ArarMcRsq6ZNuPCCy+cnMfYO49bqmJfes/tZWSclD8nYzTc57h0xhVXXDE5xqUt2Fbu04zf8vrhs/m9e7E8bttV7AuXgeK2NG3/o11KaVnM6tf7Jfbdbvd8vir+sLckkdRPd+PHqtgyP8Zy8t4e88XzNvLcvfeLtzHrwGNfL7vssnHb3xMsS/VsjNdyu2T5PYaReIwcY2irJdtYRn82xkQzrkua9g1+zVlbJWYqhBBCCGEJ5GMqhBBCCGEBli7z9YZvOdxaDUFXU145LOtyF2U4H16njMWV2/1+Pg2ZUgiH9n1aKIc4fejdZUXCclLy82FHDvN6GauMspRXXIa7/PLL1z3m9+Zwrt+LbeP1Sij5efl5bx9+pozkcgqlEU8xMGuPVZgGztQIbvcsXzUVu5LreA2Xtznk7W1H2/Ys2xymd6mCcIie06ulqYR2/vnnT46xnX3Yn/uVhMn+pcr27HZJOdLTRbANaF9ue9z3NmVZ3PeZVZ3yictNvLeXn9PAfYo4y+V+vJGwi2NNlS6EdurT6BkS4G3OvojPWmUrd79im1QSqvsEr0nb9jQwtOdKpnS7JHxu7zOqLOSsO6bokKT9+/d3y0Vpb+/eveO2y3z0A4aQSFNZzsNI3P9neJ/E6zPNgzQN8fG0SOwTPVXFrJxM41ORkakQQgghhAXIx1QIIYQQwgJsWQZ0l+s49OrDqxzmdsmGxziM7cN5lPI8CzmHPH2YkUPxPiTMcnIokLMHpOlQqM/E4HCoDzNyGJhDu56FlkOePlzPoV4fFucMDpf5KAFy2+uf5fLhUD63z67kM7D+faYH69xnfbF+qrZxZkPVqyLzzcrjtkG8XWkrVZZtDn97+1SLePN+Xk+0AbcHnlutOkC/8merZmlSCuM1XKakPOBlpN245MByctFY/x3L5TOEKPP4bLGqjVlOPpv3lZQm3KdZRj9WSbKzdnPJcquY+a/bHtvZ27yabdez52qVAZ+9TWmPcqo0tRWX0xmOwEzd3PbzXAKs5EEeq2Zosy/wvpR2+cADD0yOUebzVTTuv//+cZsrWdBPpWlf4xnW+W72cAC+vyp5ls/qYQOU+bjIuTTtJ3wm+Wxmr7d1j4xMhRBCCCEsQD6mQgghhBAWIB9TIYQQQggLsPSYqZlu63ou8XgXav+ulTJmirELritzCrHHSfgUUkId3mMQmBGZ0ztds+UU5RdeeKF7L4faPuvEn43Pw+zI0jT2wqfUMtbGY5UYX1FlX6dGX13Dpyrzeaive/tWU2oZa+W6NmNVPH5ilbI/t9bGZ95IOVl/3iaMLWDKDk8XQnuoUgS43TO+wtuLsXGMk/CYOT6rT3NmrIrHMPLZGPfh169SO9An3GYffvjhcZuxFtI0bQfjZ7zdWCeezqNKy8C4Rfdxwhgqf27Wifs74zOr2K1VoJeqgfFIHgPG/SqtAd897mOMffL0B+y7feo/V6HwdxvP5XnclqYxYIyfkqY25X28xyfNcLvk/dw2Hn300XGbPiBNUyW4L7EsjH1iPK407avf+973To4x1srtvpe1v/oOcNtmbJrHZLHuPv7xj697b49J7ZGRqRBCCCGEBcjHVAghhBDCAixd5psNUfsw7ryLSPo04d40ZEpw0nS43YeHOXTpU5krOYXDudx2WcRlP8IhYB+aZj1UmaxZd542oVq4k8PYzF4rTeU7SgcutREfDuW0Y382DtlyaNfLyGv4kDyHjn2qL+/ntja7ziqkRtixY8coO/nzcbi6WtTVn4Pt4HIEqaYk02a9zdlGbm98BkponpaBtlfJmS5jcZ+yiMvILLP7I+3hL/7iLybHOC3cZR5OEadkQpnC7/fEE09MjtHWXQKk5MAp214/lEE9izplUb8+5RrvR2eyyapkQu/ZRFU+/qbybdqlt3ElhbJP9MzclLvcFnspL/z6tGd/13BVDfdp+iB93/2WdunX57n+7qRk56t7sJ+lbO0SNrOSe0qIXioXaVpHfG/7O7BasJg+cemll06OsW28n/jqV78q6a1ybI+MTIUQQgghLMARP6Zaa+e11u5orT3aWnuktfYba38/tbV2e2tt39r/TznStUJ4OxCfCGFKfCJsd+YZmfqhpH8+DMPVkm6W9E9ba1dL+rSkrwzDcJmkr6zth7AdiE+EMCU+EbY1R4yZGobhRUkvrm2/1lp7TNK5kn5R0q1rp31O0p2SfmveG1ep7qvVrh3GOPF3Hr9DvdXvTR3YY3uefvrp7r15brX69I033jhue2wKp6R6fAivyW3Xrfk7jzmiXuzTwL/85S93r8lYj8cff1w9GC/C9BDSNO7Gp+9y6m+1VALx+uGzus3w2Lya97xstk/04kAYL1Atj+E224st8CWD2F4eA1LFpjDOwNuLZWEMgsdW8RiXHfLye9vRTuln1ZI3/mzsM5iqQJrGh3h8BeNi2F+5bTP+hHF90tRfvD04XZ19nsdx8t4eO8J4F59ez7bx+pr5T7UMU8Vm+8SsfB5Dw/J5WTld3u23t7QRU4dI036jan9fhob9rMfesI3o0750D99LXn7GU3mZ6VusA08fwDb39ArsPz3Gl+XyMvditLxf4L7XHevHr8/2Z51U/ZPbRRXzyzp57LHHJsdmZXH/6953rrPWaK1dKOl9ku6WdNaaA0nSS5LWT3YRwtuY+EQIU+ITYTsy98dUa+1ESf9N0j8bhmEyjDEc/rxbd/pEa+1TrbV7W2v3+r+iQjie2QyfWKUEoiEsymb4xLwjASGsEnOlRmitvUOHHeQ/DcPw39f+/HJrbfcwDC+21nZLOrjeb4dhuE3SbZJ06qmnjo7kU3rpQC7rVUN6HMrkkKMPJVI68NXGOdWY04el6TRUz17OabVXXnnluO2rYv/e7/3euP2bv/mbk2Mclvdp1Bx6nTdLu9cdJQiXySgDMOO1NK1Lpo7wclxxxRXjttfdfffdN25T6vR7c1jch8hZZu9k+ayVjXi23xm+KvxG2CyfOPHUAAx5AAAgAElEQVTEE4eZL7hES3zoms/rtk5pjBKXD3HTbvwfOrR7l8UpF1My8d8xY7jfmxKjS230My9Xb9jf7Z514nbDvudnfuZnJsduvvnmcfu5556bHPvJn/zJcZvygNss69yltp4tejmrLN1sN5dyWM9VuhCf/n7DDTdIkr70pS91y3ckNssnduzYMcza3fubalUF+o/XC+Ujpulwu+EUfs/izen+Lh1z3+udZWZf6mEX7I9cyuMxl8yZaoB273VHO/JUJbRhD0Wh3bgtsv54De+PK/mYvuR9TfVd0DvP783re7oQtof3ZbP29v61xzyz+Zqk35f02DAM/waHviDpE2vbn5D0+bnuGMJxTnwihCnxibDdmWdk6qcl/W+SvtFae3Dtb/+XpN+W9F9aa5+U9IykXzk2RQxh5YhPhDAlPhG2NfPM5vtzST0N5aObW5wQVp/4RAhT4hNhu7P05WRmema1nIzrstU0cOqojEdwPZ166LPPPjs59swzz4zbrtkytsOnjHI5jltuuWXc9pgp3tvjtXg/1/nnnaZMbdyvz2nnXv5f//VfH7c9XouxVlddddW65ZXqduN0YV9yg8eI1wHL7/dmXJfHG1XLSazScjLSm/btMQ6MF/Nn762m7nBKssfr8Jq+RAXjnTxuifEbL7744uQYYzHYxh5jwjipj33sY5NjjL3w1Ai+BMcMj6dgXfpK9/Qrjz9hfXnKA8bd8H5ue7ThKnbTp4Gzntmm7tOsA+8jWBaPU2Oahl/6pV+aHHv/+98vSbr77ru1Csx8wpf+ok94DCjt2dPTsD7ZZ3k6F8YL+fT+KkaT/uhtQn/hu8Zj7WhvbjcvvfTSuO3P3Ytp9b6Ux/waTDni/QT33db5rNXEAdZPdZ7Xay920O2C8Wfer3Pfy8/+xe89q9d5JwllOZkQQgghhAXIx1QIIYQQwgIsXebrSSvVEB6HJHurnUvTYVOX+Xr38t85VXZuHuO2X49DyZ5pnBJgJfNwaN+HKvk8Xj+8hksmlDiuvfbayTFOEabM4HXHIVsvF4eHqwzevIYPkbPOXe6oZD7ahT/3otmeN5MdO3aMz+HSBGUgl/nmnTpfDcOzXrxumfbjwIEDk2OULTy9BNMOzKbbS9IHP/hB9fBnq8pM/2E/4bJIJYPyWX1on/bm/sj2YR37NeiDbmOVrfd+5+fxeSq/cp+47rrrxm2X3Z988klJb5V0t4Jdu3aNEmW12oP7NeulkpJYny4/045cCqOt+72ZRsPTGuzbt2/cZj/udn/11VeP22wradpX+70pyfN5XOYjLpfTlyqbqsJzeMyvUaU4qCRAnsvz/BuBdutlrFKo0BZc1p/1E/O+J7b+bRJCCCGEcByTj6kQQgghhAVYqszXWhuHzFyG45CkD/VxmK0aUucQpw/Rc5jUF3nkcGu1YK7Ld72FHV2u4fBklXXbh317mVerWSx+DeKzmtgG1XOzvjYyRMuhZC9zL7O5n8djbjMsczVTzaky6S6b1trYzj4s38uILdUzTNh2vVlM0tQeOMtIelP2kd4qK3AWq2fO51A5s+O7zzEDt8siLJfbFOuht6CzNLVLlxx4Dbc3+ty8GZcrKjus5LtKyqvuzWPeD7FtvL1nsu4qyHw7duwY5WJfBLua4Uq87+y9J1wKpbReLbrrfenTTz89bj/44IOTY8zo/3M/93Pj9q233jo5j+8otw36rvsjZ+KyzNU71vsaSt9uX5VMVs3mJrxmtXC3y4+9Y+4TLIdLgL1VE6R6QfHZQtfVyhQkI1MhhBBCCAuQj6kQQgghhAXIx1QIIYQQwgIsNWZqGIZRl/QYHe67Hkod33VgxsowRsCvwfM89on6enV91+F5v6r8jJNyPZe6v/+OMVnU0zn9XJrq3a7lVxnWqUH7s/WmuXqcAq/pdUcNuppuy2v6SuqVDs9rVlPjfcrrLO3Dyy+/3L32smitjZq8T9Nmpv6N2A3bhHq/+xyv4TFn5513Xvd3POaxUDw2W3VdemsbsIzVVGaHNsZn89XgidssY7Q8Lobl8udmfEUVr8P28BgT/s5jNHp+VsXIVPFg7u/c95QDsxi2KqXMsti5c+fY9zHzt1SnFuAxj73hczG+tUoX4vF0TGPjK0Z4fZIrr7xy3W36ijT1JbdLlsXjqXp9gafy4XvD34GM+fK4OfbJXl+8Ju2rivOr4iCdXsqkjcRVV9npea6/Oze6QkZGpkIIIYQQFiAfUyGEEEIIC7BlY7o+zMjhQl90lcNt1TA0hyd9iJ7X9+HPSqrisKAf4xA+h2F9mJFDkj5kzyFUl1ooI/IYFyyVpnKgTzPn/SqpqJoOWw13VnITqbI9V1Nv2abV0K4f40K6v/IrvzI5Npuy/41vfKNb3mWxY8eO0f58KjulSx/255C0D5OzDmkbbl+Ujt2miC+YSznS5TUubszfuT+y/C7l8nmqKeLc9v6kktp69/JyVRnQSSVbuE9UKz3wOtWCyPNKPt4PVVJIbwH6rYCpEbyvppzm7wnWk8t89KXe6gvStN49LQMzmfsC35Ts2PdIb06xl6YLKbvv0D/dJ9h21SoXfJ4q1Yqn6HGJi9DP3Ba5sHm1qHqVgoC4v7A9Ktuu3lc8VmUzd3lzo76QkakQQgghhAXIx1QIIYQQwgLkYyqEEEIIYQGWHjM10zM9/ohxGFwF26mWYKDmWa2YXcUHeZwEcS2WunylxVZxEvyda7acFkzN2fV6XpNpEqRpnIdfn+eecsopk2NVOgRSTXFn/Xid897VdOcqNUIV88UV2K+55prJsXvuuectZdgqhmHo+gTbzu2GMQ4eH9K7BmOkpDoekDEPnoqD8Um+1ALvR5v18pMqTsLblTGBTB3hU9N5DT/GOEW3e/q/20fvuT2GpRf7JE190G27FydVxZi4v8wbB+nLAD333HNHvNey2Llz52irHjPF9vf2qZaa6bWXvycYY+ppWniNyy+/fHJsz5494/Zll102OcY4KZ7ntsdy+fuE7eJxSzzGd4P3C/Qzf7ZZ+0vT2DBpavf+3OxTLr744nHbfYLP423DOq/6+971/H5+rIq7rdKdzOLBqv51Uqa5zgohhBBCCOuSj6kQQgghhAVYqsy3Y8eOUQbwoTgOJbqsUE1R7Elo1fC6SxOUOHxIb97pkZx661Ihn9WHMfms+/fv75aZQ5AuyfCanjH4/PPPH7d9ym4lr7GOODRaTR/1uuKwezV8y/M8tQPbsVrh3euEz3r//fdPjj3yyCNvue9W0Vob7cOnE1P65hRkafrs/hysC8oY1YrvLqdw+N7rvbompYRKMpp3urLzzDPPjNuUOj21A+3mwIEDk2N/+Zd/OW779PSPfvSj4/YsK/gMPivvV60q7xJmlc6D7Ug/q/qkKq2EH2NZPJXEVVddJal+lmXB94SXk32r1wulK5fC6Fu9VTOkqR/4e4j155L5OeecM2673dBWmC7EfYft5ce476s98Fn37t07bvu7gP7uaR/uvvvucfv222+fHOP9rr322smxm266adymdOzvgkp+Jm6zPYmt8qsqFYqXi+f6vWcZ76swl0kZ5jorhBBCCCGsSz6mQgghhBAWIB9TIYQQQggLsNSYqUOHDo2xAK5Vc1qlxxxVsVCEOmq1dIrr6VU8EnGturdKtl+DsRCetp8xIF/+8pcnx04//fRx+5Zbbhm3Xa9nPM2f/MmfTI5Rx/61X/u1yTEugeDtwXszxsDjW/hsrm+zDVyPZkwIp677cjvUuD1ei/eubMbjAz784Q9Lku68805tNcMwjDEEbl+Mr/DlH1hPXme0xWqJJdqvt2sVg8ByeuxCbykVn4JOm/JjtCNvuz/90z8dt/k8733ve7vl91jEP/uzP1u3vJL09NNPj9sf+MAHJsd++Zd/edymPXt/wuf2eDbez/uoeWP4eP1qCr23TbUsyGwZoI3Ery0DLk8kTWMqDx48ODlGH3GfYGwc7ZdxidI0Rsvja2in3gfTVz3WinbK9qlicao0Ke4vTBFx1113jdtuT0zR4GklHnvssXHbUzawLExHIkkXXHDBuM1+3ONzqyV82B7ex/f6k6Nd9sjrlfu9ZWjmvdcRPae1dkJr7Z7W2kOttUdaa/967e8Xtdbubq3tb639UWvtnUe6VghvB+ITIUyJT4Ttzjz/DHld0keGYbhe0g2SPtZau1nS70j63WEYLpX0iqRPHrtihrBSxCdCmBKfCNuaI8p8w+Gxr5k29Y61/wZJH5H0j9f+/jlJ/0rSf6yu9frrr49D7i4dMGP17t27J8eqrK4cyuRwnA/nVSvRc8jeM8NyyLZaAZ7P4+dx+PmJJ56YHOM0bU5rlaZDnvfee++47cO8L7zwwrjtQ8ec8uoyz6233jpu/8Iv/MLkWJXFmcw79OrXYJ1UaRN4rJIKnWoK9Wxousp2X7GZPiG9WdferpxiPZumO6OaBk4boH+4T9BmvS5ZN1U2Y/elXqoM9wkO7fuwP23jgQcemByjPVNa+e53v9u9vt/7fe9737r3kqSnnnpq3PYp7rQ/1qXbJZ+nSl3gdtmT6Ko6rlYM8HqtpqTPJH+Xmudls31i9oyeGoGyH7N2S1NJ2FfRYNgC66EK3XB/YdoETyVSyda97N/erpWMyPAQl++efPLJcXu2uoP0VtujLOphHeeee+647StGUAr1+mLqnV4dS3UYTE/K831uVykUXOKtqFaBmNnQpqZGaK3tbK09KOmgpNslPSHp1WEYZnc5IOnc3u9DeLsRnwhhSnwibGfm+pgahuFHwzDcIGmPpJskXTnvDVprn2qt3dtau3feL7wQVp3N8olqdC2E44n4RNjObGjqxjAMr0q6Q9IHJZ3cWpuNi+2R9HznN7cNw3DjMAw3VjPlQjgeWdQnjlZqDGFViU+E7cgRv25aa2dI+sEwDK+21t4l6Wd1OKjwDkkfl/SHkj4h6fNHutaOHTvG5Qo8RQCn9/t0VcZGVFMnecz1aC6T4HES1OV70yN9W+ovIeNl5HRSj5li+a+//vrJMaYuYMyMx1p86EMfGrd9SZKHH3543Oa0b2la5z4FmfXnMTmEz+p1x2Me09KbIl4tQ1Dp5K7Rc+V2nxo/e+6jHSndTJ+oYNyEtw/r02MoWBesI7dL/uPGX2CMk6pWTa/SJpAq3tDtizGSHhfDadt79uwZt91uaL/uV5wi7jbAOqINSdPp9byf10EVu8m28jhC1onXV+/6bvd8Hq8TXrNKp3E0HCuf8LplDKsvBcRn8j6e/sJYuCqOzN8hLEuVQqJaYqkXd+fHqmVP3F/27du37u/43vR9vzdTi9x4442TY1UsLFMa0fe9z5j32apldKo6ZztW6UKqdBe+lNIsZqqyETLPUNFuSZ9rre3U4ZGs/zIMwxdba49K+sPW2v8j6QFJvz/XHUM4/olPhDAlPhG2NfPM5vu6pPet8/cndVgXD2FbEZ8IYUp8Imx3lhrEtHPnznFotspE6tlZq+m6PRnIh+aq1dA59OfZazkU79fgUGYlW1BG5BRUaTrk7FIOV/2mDHPDDTdMzrvyyjfjPL2uOHzr0+s5BdanypJqqndV52wbl1N6UoVfn0O2LmexbXxol+14xRVXTI7NZORqdfFlQem7ykLuGYWJPwclDcq+laTldUt783Ix03FlNyyX+w7b2SUnlsuzMZ9zzjnjNp/NJUxKgL7SPa/pz8YQA58iTpti+at2c/mMfUYlhdAnqhQHfqySZHiut/css3iVpmSZ9LJPU/o+66yzJse4mgQzpfs+69376irFDevM0x8Q/x2vOW82bbcN3s/bjvtMVcBtx99zfA95Wgm+v7wPue+++9a9n/sEn8evwXf/GWecMTnG+qpS9Mwru24kVGR2zU3LgB5CCCGEEPrkYyqEEEIIYQGWKvPt2rVrnFHgQ2eUuJ5/fjp7lsNvLhf0ZDifLVilZaiG8arZMfP8RpouNkz5QZoOM1PWk6bDt5Q3PDMzh2V9Nh+HaJn5WZpKjj6EWi1S28OlFj6b10lvJp0PtXJYtrqGy5scvvVswjM7OdrFMjeTYRjGZ/ShfZbPZy6xnd3WWe9+rIe3cSXR9RZulfqZjr19aG+eTZqyrMviLCfDASg9StKll17aLT/t1MvFvsdnoFIuZP1UmbIrKdnloN4sTJd1KItuJDt9b7UI6U0ZedXS11SL4rJPlKYz+LztKPPxPJe7KomWx7z+aM8+M5b2x/qtZrVVYQveFzDMg/2CS2Z8T/g1+F7ye/N5/P3C9mAYiV+DM8er9ztn2krTd101i5W4DVdSHt8vlYw4DxmZCiGEEEJYgHxMhRBCCCEsQD6mQgghhBAWYOmpEWaxUR7HUmn1nH7tumZvKms1FdtTL1BT9RgElstjdlgW3nsj12CsB1c9l6bT4W+55ZZx2+NgqqnqL7/8cvf6H/zgB8dtz5bbi/WoppZ6zFSV2XzerLK8pscUVauNM17A425msWmrEDP1xhtvjFO6vf5YR542g8/HuDj/HeNk3Md4XpX5322WNjBvyhG/PsvicSuMTfJ4IcZeMDu6tzHjA6tVE7z8rBP/3WOPPab1eO211yb79CXGS0rT+BOvE+5z2+uf8ShV2oRqujj7BenNKe6epmKr6PUPtCmP32Hcj9cZ24jxUx5/Wq2iQdyXqtQF7LeqeEPez/tfXsNtiu8J1o+3MZ/N00owk7nDWKunnnpqcuzgwYPjNuvc37H0iWr1E/c5PjdTmnjbk42kI+E7qvf+mnd1gIxMhRBCCCEsQD6mQgghhBAWYOnzYGdDmz68ziFCH0LlkF616CpxOarKQtvLZM7yrnfvXpldiuSw7wsvvDA5xqHFyy+/fHKMQ9Dc9qnkPgWWcDjXF/989NFHx22fzsth2YsuumjcrhbnrDKgVxIWz/M6ruSOqk2rIfPZdRZd3HUzYGoEr1uWz4fN6RNV6opKhmXbVX5V+UQl+1awzN523HfZifuU9jzbMzOZu91TZnB/5DEPRWCdsz1cTuGC4i5psMzVagJVJvKjlacrCWgmNXtKgVWjl3pDmvaRbus9mc/9qpL2Kn+kT3i6Ddp61V/y+u5HLFeVnoDP6f3lBRdcMG77O4PZ432lDB5zma+XDsHfUSyX91fnnXfeuO3yI5+tep9w34+xz3AJtgoVmaWYmTckJSNTIYQQQggLkI+pEEIIIYQFyMdUCCGEEMICLDVm6tChQ6N+6VPxqY26XsxlVlzr7a3e7nEy1D17MTRSvYq4a73UZhkn9eKLL07Oo77ucRisB0+z/8QTT4zbjDHz9AesL19Wg2X26eOsS0+bwNXAed5P/dRPTc7zae2kigFgnbDOPQ6iig+h/u31yrZ58sknJ8f27t37lt9vFTt37hzje9wu+eweB0B/8fgNHmMsXBXP5PEVtBuPGWB7+bIUfAaWuWpXvz7jdnwFe16fsRC0V2n6rO7TjJnx69OPPV6LKSgYo1XFSHocBuvZ012wjvi7ygeqaeBerirWbVavq5AuRHqzHFWaGX929oueLoQ2RXvwfq9aToZtV8UKevwp91n+KpWMx0VVy9Dwd4xh8vLTnu+5557JMb6zmHJEmvqL12svDQjjs6Rpn+TPzVg3jxvmszH+sFpCq6pX7/P5O+8LZveo4hdJRqZCCCGEEBYgH1MhhBBCCAuwVJlvGIZxqNSH4jh0yWnN0lTGqKYpVsPYHOrzqatkI9OVObTL6dA+tZTDmD5N+4477hi3OZwqTYd2OTzpkgz3Xe6qps1Tvrv55psnx9gGHALev3//5DwO57osUqUeYFvxOat2q1IvuM0wK/Djjz8+OTark1WQNHbt2jVKZS5p9CQtaSoReQbuntTmz1tlMmfbeb1XWYPZlr1ySFPfYQZkaSq9uDxIH6EM7r7D+vLnZrm8L6CM4ZmmeR1mfvbp9PR398cqVUVPYnI/qla65zVd0qh8aRXShMxorY3SmJeT9efPxzavUr3Q1r2/4bvG25X3c+mY5XKJjm3Ce7vP8X5uszzX7YZhMAzz8DZlBv99+/ZNjrHMHkpDPzj99NMnxxj2QenbQ10oy/lzs228vfn+oq96X8m6c5+opHuWy8MlZu9xf9/2yMhUCCGEEMIC5GMqhBBCCGEB8jEVQgghhLAAS19OZkaVjt+n8FPn9Kn/vfT/rqlWcQbzplTw6Zi98/z6Dz300Ljty1dQP+aq2F6W3bt3j9seK8B4EY8xYeyA692M8/rjP/7jyTFq6IzPcT2dOrYvITDvcjKMD3Cdn23jbc1rcMkDabpUjv+uWjJi2ezatWusX287ltNTifCYp6dgm1RTybnvsSNsO49xIO7HtFne2+ucfkw79LK43Tz77LPr3tvLeM4554zbPk2b5fJYOy6d5PFOjE3jNGqPqaCfeeqIKu6G+zxvI8tjcL+aBu7tvUo+wRQ6Hg9Iu6n68crWK3uuptHTr/wY+7AqzQiPeZ1XMZxsL4+7ZSoDpofwd82BAwfGbbf7PXv2jNsf/vCHJ8euueaacduXIWKdMI6Q95KmPudxiqxLj3VjnbBtvN/hvvsL39vVMV9KaRYHN2884ep4UAghhBDCcUg+pkIIIYQQFmDpGdBnQ83VlGEfnuTQnw9Pc4iQw4c+BMzf+XAqhyB9+JB4mgEOm/OYD01zaPSSSy6ZHKME4UOclPauu+66brk4NdZX3SY+BZ1ShWe95TOwHC5FsQ5c5iOV1FaltGD7eptyyJx1IE2fp5duwYd1t4LW2mi3lTRRZRB3u+FzUa51eYP14tnRWdde71V29N7Uf5c+aDf+3JxW7TZLGePKK68ct93uKU1QwpCmQ/v+3OyXPMUJf8cUClVWaJc0uO91R/mGUp7Xf5XtmfsuI9Knvc7dhraS119/fUx74XZPGdlXgqj6f8Jj3jfQr7zPog37u4DHvG7ZzlXqhV7ogx9zn2C7PvXUU+O2S3L0kYsvvnhyjNK033u2YoQ0ldml6aod7IMps0vSVVdd1b0+27RK+1Nl96e/ePoD7leysYcQze696TJfa21na+2B1toX1/Yvaq3d3Vrb31r7o9ZaP3lTCG9D4hMhTIlPhO3KRmS+35D0GPZ/R9LvDsNwqaRXJH1yMwsWwnFAfCKEKfGJsC2ZS+Zrre2R9AuS/l9J/0c7PE73EUn/eO2Uz0n6V5L+4xGuMw7x+XAeJYgqC6oPxVHSoMxUySLVsF210HG1QDKH9j/0oQ91y+iyAp/V64Sywje/+c1umVl3PsTJbNJ+jMPMLiNy2JcSgC8GSWnCZ7jweaqstGwPr/8qo3NP4pWmNuN1Ppv95u25ETbLJyh9u91z32UYtrlnXOZQdrUAK9unsm2XkogP2fN3bB8/j9f0tqtmMZ533nnjdiUrU3JwCZjyncv6VZZwZnhmVmi3L0pHVfb4qi+oMn2zzH4N+qPLlKxzt4XZvRfJhL5ZPrFjx47Rvr2ctJVKQvXn6P3OFzruzR7zYy7R8VyX09kX0Ta8XemD7i/su/3evD7fGR5Kw1nyXnecEe52U0mH9EH6KkNDpOlMdZ99XEnM9Ilq8W8e83qtZuzxuX0Vhdk1q1VXyLwjU/9W0r+QNLvqaZJeHYZh1nMekHTuej8M4W1KfCKEKfGJsG054sdUa+0fSDo4DMN9R3OD1tqnWmv3ttbu9S/GEI5H4hMhTNlMn/DRthCOB+aR+X5a0j9srf28pBMknSTp30k6ubW2a+1fHXskPb/ej4dhuE3SbZJ02mmnrc5qmiEcPZvmE2eccUZ8Irwd2DSfOPHEE+MT4bjjiB9TwzB8RtJnJKm1dquk/3MYhn/SWvuvkj4u6Q8lfULS5+e54Uzvraau+rRTxgG4rslMrozXcE2YmqrHgFTTzHlNj+fhuSyHT9nlvT3miBq667nMKMvpsD41ljEzrkdTq67SMnh79FJEeP3wWT0zL0ddPIaBMQC9OBsvhx+rbKj61+0snq7KOFyxmT4xDEP3OSqb5TGPd+K0ZNaD2y+f3+MC2CYea1fF+bFctEu3G5brzDPPnBxjFnKPkeQz8Bpue0yv4nExjCnz+BbGmTA+S5r6EmMy/RqsnyrLuT8by8XzfDo3j7mfsh68r2EbeDqHRdlMn9i5c+dY1xuJmeK5/g6hj/CYv094DfeJKpUIcX8htBu/RvWuIf47+s/ZZ589bnv/VqU7YZmrdCG+AgbjsJhuwc9jvVbZ9qt4MPaBvXQ3fp5UpwDiO8X7shnLyID+WzocZLhfh7Xx31/gWiG8HYhPhDAlPhG2BRtK2jkMw52S7lzbflLSTZtfpBCOH+ITIUyJT4TtyNIXOu5NM6yG6TgEyWFMaTp8yPN8iLOafllNh64WSOa0UA4XuuxCGcCnq/JZvcw9qc0XqawWpeUUVZdTWM5qyLyadlot3NnLhu37PK8a+nbZgm21kcWMN5rZ9lgyDMNcU2+9Xlj2Smojfl61wGi1YgCPua1TnqhkVModLk3TR6rFYGlD/sy8vvtcT56XpvKELzxO3+L1XVIiG8ksT3/nti+wzn2XAKtUKJRdq8Vmt5pdu3aN0+y9P2Pbuc1uRD6a4ek1GFrhKUdop9VC0dUCzFXKFvYD/txV5nyGWnBhbfd32or3x7yf+3SV8oB1xLp0v6K/ePmr9Dc9SdvtnvuVzOp2z3u7jXgbH4mszRdCCCGEsAD5mAohhBBCWIB8TIUQQgghLMBSY6aGYRh1yGrFbNfCXbsmPV2zN81ReqsmXMXeVOkWeG61DEG1JA31aF86oxf34UvlsFxVmn2vE+r3HvfBZ6hSFzBGw5+70sI9DmSGp4eotPB5p6evMkyNUK027zB+w222t2yI+wrr09uH1/dyVTGGbAeWw22PcR7ertWyGvxdFftUHWNaALcbHqtSnPDZqmWAKvw8xtAwPsRTKFQr3TOusKo7f7ZVi5maLWflfR1xu6xSF9Cm+OxuG1VKAl6/iplyW2db0i79fUJ78OtXcYq9VE+IMd8AAAklSURBVCXep/O5vV5ZLvcJvpc8xozPzXK4PfHe3m481+NimQaIaT+8jnupL6Q6VrBaIqj6hliPjEyFEEIIISxAPqZCCCGEEBZgqTJfa+0tQ5TzwCHbaqo0hy6rFbl9GJPXqOQup3esSsNQDa/6FO6epOF1wOfx4XviQ9g+PZaw/ubN6OzSXZXdnVCq8HQQHOb1+qmm21asmgTYKw/tsspm7DbLoWy2j7cBbcqHtGkb1dB4lUqkGnrnedVUafcltjnL5Rm9KUd46gWWy/2xKnNPonGfoO+4j1XZyyl30ideeumlyXmU1n2KOO/tz81nrfqoVWDWDlVmfrdZ2lQlmVcpO5jR26/PNqlkUb8+672SjmhT/m7h7yqZj9sbkbRo6+5LfKdUkja33e75bqhSNvhz891fpfKpUpXQ1j1kiD7oz1al2liPjEyFEEIIISxAPqZCCCGEEBYgH1MhhBBCCAuw9OVkZrg+WenY1e8IdVPXzKmN+rRZxhz576jvupZM/ZVar+vp/J1rtry3xzFwn2V2TbiKb+G9/Xe9uChpqk8zVsDrrloyhjp5FVdCzZzTX/0avpRQNR25Wp19XltbFrPybKRcVXwI9xmH4/bLmBpvf9qzX5+24fXei2H089gm7i+8n8eH0IZp65XveL2yLNUSTlVfM2/qArdn7jP2SZr6Aeukiq3yKfSsO48/4b4/96yeV8E3hmEYn79aKmkjsY/8HfuUKr1CFd/kdcv+rVq2q4r5qpbm4jWqVCgsRxWD6/F09KsqhnHe1DteP/RHj1Ps9Rlerl78lF/f+xNew2OK2Yf4+2ujPpGRqRBCCCGEBcjHVAghhBDCAmyZzFdlkO2teu/nVfhwHofefTivSn9QpXJgWSrJidd3qaWSB3vZbCu5zmH5vc45JOxSWE/G8KnYPM+lPEoaXkZKFa+88sq615OmQ+aeIZ7Zcit51odpZ/VQ2dlWUMl11bnVeZSVjzabtLcrbb2afl1JTpS33adpA57GhPJEJeXyGpVk4n1BlZbh29/+9rhdyTX0F687SijeHixnNdW71+9I/fqXps9WZQjfag4dOlSmbZlR2b33dT0JrZpiX/mj91O0S+/rem1eyc8Of+dtzvtVqxPwdx5u0pNBpWk/7vdm/VV2WWVwr1LA0ParlURYDvcX1p3Lm/Rxb9ONSt4ZmQohhBBCWIB8TIUQQgghLEA+pkIIIYQQFmCpMVPDMIxafTU9ssK12N5K25Wm6stqMK6hWu7FdXxqrLt37x63q/iTamVqr4PeCvZ+Hvc9xoTxG9XSH14n1OG57VO9q3iq559/ftz2aeB87irtA+OkPL6B+LPxOr34vFWZBj4r30ametOOKnvgttdDtbwE/cBjKNh27i9sI16/mgZepUnxe/N+VYoGPqvHTzJepIo5cnrPVsVk+fWquJLe9PcqrqdK++H9EPs5j2Gb3WMVfELqx0P1+nvf99/3/MCvUS0nxL7PY1+ZhqBKLVD195XdVGVmn8/feQxQtfxWlQqldy8vcxX3XC0fVT03bb+KmeqlTJHqtAnsG/x3szInNUIIIYQQwhLIx1QIIYQQwgK0ZU4Pb619S9Izkk6X9O0jnL4MUo4p260cFwzDcMYS7tNlzSf+TqtR79L2s4Ejsd3KEZ94K9vNBo7EdivHXD6x1I+p8aat3TsMw41Lv3HKkXKsIKv0vKtSlpRjNcuxLFbpeVelLCnHapZjRmS+EEIIIYQFyMdUCCGEEMICbNXH1G1bdF8n5ZiScmwNq/S8q1KWlGPKqpRjWazS865KWVKOKatSDklbFDMVQgghhPB2ITJfCCGEEMICLPVjqrX2sdba3tba/tbap5d87z9orR1srT2Mv53aWru9tbZv7f+nHOMynNdau6O19mhr7ZHW2m9sRTnW7nlCa+2e1tpDa2X512t/v6i1dvdaG/1Ra62fdnzzyrKztfZAa+2LW1WGrWKrfGIV/GHtnvGJ9csSn4hPbKlPrJI/rN13pX1iaR9TrbWdkv6DpJ+TdLWkX22tXb2s+0v6rKSP2d8+LekrwzBcJukra/vHkh9K+ufDMFwt6WZJ/3StDpZdDkl6XdJHhmG4XtINkj7WWrtZ0u9I+t1hGC6V9IqkTy6hLL8h6THsb0UZls4W+8RntfX+IMUnesQn4hNb7ROr5A/SqvvEMAxL+U/SByX9D+x/RtJnlnX/tXteKOlh7O+VtHtte7ekvUsuz+cl/ewKlOPdku6X9AEdToK2a702O0b33qPDHcNHJH1RUlt2Gbbqv632iVXzh7X7xifiE/GJaZm23Ce20h/W7rPyPrFMme9cSc9h/8Da37aSs4ZheHFt+yVJZy3rxq21CyW9T9LdW1WOtWHTByUdlHS7pCckvToMw2w1zmW00b+V9C8kzVa/PG0LyrBVrJpPbJk/SPEJEJ94k61+1m3tEyviD9Jx4BMJQF9jOPx5u5Spja21EyX9N0n/bBiGv9mqcgzD8KNhGG7Q4a/+myRduYz7zmit/QNJB4dhuG+Z9w1HZpl2KMUnZsQnVpft6BNb7Q/S8eMTu5Z4r+clnYf9PWt/20pebq3tHobhxdbabh3++j6mtNbeocMO8p+GYfjvW1UOMgzDq621O3R4qPTk1tqutS/+Y91GPy3pH7bWfl7SCZJOkvTvllyGrWTVfGJL7DA+MSE+EZ9YOZ/YQn+QjhOfWObI1F9JumwtAv+dkv6RpC8s8f7r8QVJn1jb/oQOa9PHjNZak/T7kh4bhuHfbFU51spyRmvt5LXtd+mwJv+YpDskfXwZZRmG4TPDMOwZhuFCHbaHPxuG4Z8sswxbzKr5xFbYYXwCxCfiE6viE6vgD9Jx5BPLDNCS9POSHtdh3fX/XvK9/7OkFyX9QIf11U/qsO76FUn7JP2ppFOPcRn+Fx0emv26pAfX/vv5ZZdjrSzvlfTAWlkelvQv1/5+saR7JO2X9F8l/diS2udWSV/cyjJsxX9b5ROr4A9r5YhP9MsTn4hPbJlPrJo/rN17ZX0iGdBDCCGEEBYgAeghhBBCCAuQj6kQQgghhAXIx1QIIYQQwgLkYyqEEEIIYQHyMRVCCCGEsAD5mAohhBBCWIB8TIUQQgghLEA+pkIIIYQQFuB/Al8X1QtaP+sGAAAAAElFTkSuQmCC\n",
      "text/plain": [
       "<Figure size 720x360 with 3 Axes>"
      ]
     },
     "metadata": {
      "needs_background": "light"
     },
     "output_type": "display_data"
    }
   ],
   "source": [
    "img_idx = 170\n",
    "plt.figure(1, figsize=(10, 5))\n",
    "plt.subplot(1,3, 1)\n",
    "plt.imshow(img_conv.reshape_array_to_frame(train_no_happy_np[img_idx]), cmap='gray', interpolation='none')\n",
    "plt.subplot(1,3, 2)\n",
    "plt.imshow(img_conv.reshape_array_to_frame(rotated_10_train[img_idx]), cmap='gray', interpolation='none')\n",
    "plt.subplot(1,3, 3)\n",
    "plt.imshow(img_conv.reshape_array_to_frame(rotated_20_train[img_idx]), cmap='gray', interpolation='none')\n",
    "plt.show()"
   ]
  },
  {
   "cell_type": "code",
   "execution_count": 14,
   "metadata": {},
   "outputs": [],
   "source": [
    "#Seems to work, going to save the data"
   ]
  },
  {
   "cell_type": "code",
   "execution_count": 15,
   "metadata": {},
   "outputs": [
    {
     "data": {
      "text/html": [
       "<div>\n",
       "<style scoped>\n",
       "    .dataframe tbody tr th:only-of-type {\n",
       "        vertical-align: middle;\n",
       "    }\n",
       "\n",
       "    .dataframe tbody tr th {\n",
       "        vertical-align: top;\n",
       "    }\n",
       "\n",
       "    .dataframe thead th {\n",
       "        text-align: right;\n",
       "    }\n",
       "</style>\n",
       "<table border=\"1\" class=\"dataframe\">\n",
       "  <thead>\n",
       "    <tr style=\"text-align: right;\">\n",
       "      <th></th>\n",
       "      <th>0</th>\n",
       "      <th>1</th>\n",
       "      <th>2</th>\n",
       "      <th>3</th>\n",
       "      <th>4</th>\n",
       "      <th>5</th>\n",
       "      <th>6</th>\n",
       "      <th>7</th>\n",
       "      <th>8</th>\n",
       "      <th>9</th>\n",
       "      <th>...</th>\n",
       "      <th>2295</th>\n",
       "      <th>2296</th>\n",
       "      <th>2297</th>\n",
       "      <th>2298</th>\n",
       "      <th>2299</th>\n",
       "      <th>2300</th>\n",
       "      <th>2301</th>\n",
       "      <th>2302</th>\n",
       "      <th>2303</th>\n",
       "      <th>emotion</th>\n",
       "    </tr>\n",
       "  </thead>\n",
       "  <tbody>\n",
       "    <tr>\n",
       "      <th>21489</th>\n",
       "      <td>0.333333</td>\n",
       "      <td>0.333333</td>\n",
       "      <td>0.333333</td>\n",
       "      <td>0.334926</td>\n",
       "      <td>0.337255</td>\n",
       "      <td>0.337255</td>\n",
       "      <td>0.338603</td>\n",
       "      <td>0.339828</td>\n",
       "      <td>0.337255</td>\n",
       "      <td>0.343382</td>\n",
       "      <td>...</td>\n",
       "      <td>0.131618</td>\n",
       "      <td>0.150245</td>\n",
       "      <td>0.140074</td>\n",
       "      <td>0.135784</td>\n",
       "      <td>0.134804</td>\n",
       "      <td>0.135662</td>\n",
       "      <td>0.139583</td>\n",
       "      <td>0.150000</td>\n",
       "      <td>0.128186</td>\n",
       "      <td>2</td>\n",
       "    </tr>\n",
       "    <tr>\n",
       "      <th>21490</th>\n",
       "      <td>0.435294</td>\n",
       "      <td>0.437010</td>\n",
       "      <td>0.440809</td>\n",
       "      <td>0.446324</td>\n",
       "      <td>0.448039</td>\n",
       "      <td>0.444608</td>\n",
       "      <td>0.449755</td>\n",
       "      <td>0.481863</td>\n",
       "      <td>0.567647</td>\n",
       "      <td>0.600245</td>\n",
       "      <td>...</td>\n",
       "      <td>0.277451</td>\n",
       "      <td>0.297794</td>\n",
       "      <td>0.313603</td>\n",
       "      <td>0.322549</td>\n",
       "      <td>0.352451</td>\n",
       "      <td>0.398897</td>\n",
       "      <td>0.449877</td>\n",
       "      <td>0.516912</td>\n",
       "      <td>0.559559</td>\n",
       "      <td>0</td>\n",
       "    </tr>\n",
       "    <tr>\n",
       "      <th>21491</th>\n",
       "      <td>0.381127</td>\n",
       "      <td>0.388725</td>\n",
       "      <td>0.376348</td>\n",
       "      <td>0.383824</td>\n",
       "      <td>0.433824</td>\n",
       "      <td>0.480882</td>\n",
       "      <td>0.506127</td>\n",
       "      <td>0.539093</td>\n",
       "      <td>0.581127</td>\n",
       "      <td>0.617157</td>\n",
       "      <td>...</td>\n",
       "      <td>0.827451</td>\n",
       "      <td>0.819730</td>\n",
       "      <td>0.815686</td>\n",
       "      <td>0.823039</td>\n",
       "      <td>0.834804</td>\n",
       "      <td>0.832230</td>\n",
       "      <td>0.822794</td>\n",
       "      <td>0.799755</td>\n",
       "      <td>0.773284</td>\n",
       "      <td>4</td>\n",
       "    </tr>\n",
       "    <tr>\n",
       "      <th>21492</th>\n",
       "      <td>0.344118</td>\n",
       "      <td>0.342647</td>\n",
       "      <td>0.318260</td>\n",
       "      <td>0.329044</td>\n",
       "      <td>0.358333</td>\n",
       "      <td>0.358824</td>\n",
       "      <td>0.415196</td>\n",
       "      <td>0.486887</td>\n",
       "      <td>0.542647</td>\n",
       "      <td>0.587745</td>\n",
       "      <td>...</td>\n",
       "      <td>0.547794</td>\n",
       "      <td>0.546446</td>\n",
       "      <td>0.534804</td>\n",
       "      <td>0.531863</td>\n",
       "      <td>0.540686</td>\n",
       "      <td>0.549755</td>\n",
       "      <td>0.562255</td>\n",
       "      <td>0.550980</td>\n",
       "      <td>0.541667</td>\n",
       "      <td>0</td>\n",
       "    </tr>\n",
       "    <tr>\n",
       "      <th>21493</th>\n",
       "      <td>0.800490</td>\n",
       "      <td>0.801225</td>\n",
       "      <td>0.812623</td>\n",
       "      <td>0.818015</td>\n",
       "      <td>0.818627</td>\n",
       "      <td>0.826471</td>\n",
       "      <td>0.831373</td>\n",
       "      <td>0.834069</td>\n",
       "      <td>0.841667</td>\n",
       "      <td>0.849510</td>\n",
       "      <td>...</td>\n",
       "      <td>0.640196</td>\n",
       "      <td>0.538480</td>\n",
       "      <td>0.485172</td>\n",
       "      <td>0.453922</td>\n",
       "      <td>0.392647</td>\n",
       "      <td>0.304167</td>\n",
       "      <td>0.185907</td>\n",
       "      <td>0.071569</td>\n",
       "      <td>0.025735</td>\n",
       "      <td>4</td>\n",
       "    </tr>\n",
       "  </tbody>\n",
       "</table>\n",
       "<p>5 rows × 2305 columns</p>\n",
       "</div>"
      ],
      "text/plain": [
       "              0         1         2         3         4         5         6  \\\n",
       "21489  0.333333  0.333333  0.333333  0.334926  0.337255  0.337255  0.338603   \n",
       "21490  0.435294  0.437010  0.440809  0.446324  0.448039  0.444608  0.449755   \n",
       "21491  0.381127  0.388725  0.376348  0.383824  0.433824  0.480882  0.506127   \n",
       "21492  0.344118  0.342647  0.318260  0.329044  0.358333  0.358824  0.415196   \n",
       "21493  0.800490  0.801225  0.812623  0.818015  0.818627  0.826471  0.831373   \n",
       "\n",
       "              7         8         9  ...      2295      2296      2297  \\\n",
       "21489  0.339828  0.337255  0.343382  ...  0.131618  0.150245  0.140074   \n",
       "21490  0.481863  0.567647  0.600245  ...  0.277451  0.297794  0.313603   \n",
       "21491  0.539093  0.581127  0.617157  ...  0.827451  0.819730  0.815686   \n",
       "21492  0.486887  0.542647  0.587745  ...  0.547794  0.546446  0.534804   \n",
       "21493  0.834069  0.841667  0.849510  ...  0.640196  0.538480  0.485172   \n",
       "\n",
       "           2298      2299      2300      2301      2302      2303  emotion  \n",
       "21489  0.135784  0.134804  0.135662  0.139583  0.150000  0.128186        2  \n",
       "21490  0.322549  0.352451  0.398897  0.449877  0.516912  0.559559        0  \n",
       "21491  0.823039  0.834804  0.832230  0.822794  0.799755  0.773284        4  \n",
       "21492  0.531863  0.540686  0.549755  0.562255  0.550980  0.541667        0  \n",
       "21493  0.453922  0.392647  0.304167  0.185907  0.071569  0.025735        4  \n",
       "\n",
       "[5 rows x 2305 columns]"
      ]
     },
     "execution_count": 15,
     "metadata": {},
     "output_type": "execute_result"
    }
   ],
   "source": [
    "rot_10_df = pd.DataFrame(rotated_10_train)\n",
    "rot_10_df['emotion'] = train_no_happy['emotion']\n",
    "rot_10_df.tail()"
   ]
  },
  {
   "cell_type": "code",
   "execution_count": 16,
   "metadata": {},
   "outputs": [
    {
     "data": {
      "text/html": [
       "<div>\n",
       "<style scoped>\n",
       "    .dataframe tbody tr th:only-of-type {\n",
       "        vertical-align: middle;\n",
       "    }\n",
       "\n",
       "    .dataframe tbody tr th {\n",
       "        vertical-align: top;\n",
       "    }\n",
       "\n",
       "    .dataframe thead th {\n",
       "        text-align: right;\n",
       "    }\n",
       "</style>\n",
       "<table border=\"1\" class=\"dataframe\">\n",
       "  <thead>\n",
       "    <tr style=\"text-align: right;\">\n",
       "      <th></th>\n",
       "      <th>0</th>\n",
       "      <th>1</th>\n",
       "      <th>2</th>\n",
       "      <th>3</th>\n",
       "      <th>4</th>\n",
       "      <th>5</th>\n",
       "      <th>6</th>\n",
       "      <th>7</th>\n",
       "      <th>8</th>\n",
       "      <th>9</th>\n",
       "      <th>...</th>\n",
       "      <th>2295</th>\n",
       "      <th>2296</th>\n",
       "      <th>2297</th>\n",
       "      <th>2298</th>\n",
       "      <th>2299</th>\n",
       "      <th>2300</th>\n",
       "      <th>2301</th>\n",
       "      <th>2302</th>\n",
       "      <th>2303</th>\n",
       "      <th>emotion</th>\n",
       "    </tr>\n",
       "  </thead>\n",
       "  <tbody>\n",
       "    <tr>\n",
       "      <th>21489</th>\n",
       "      <td>0.337255</td>\n",
       "      <td>0.338848</td>\n",
       "      <td>0.339828</td>\n",
       "      <td>0.337255</td>\n",
       "      <td>0.341544</td>\n",
       "      <td>0.357475</td>\n",
       "      <td>0.361887</td>\n",
       "      <td>0.375490</td>\n",
       "      <td>0.463725</td>\n",
       "      <td>0.541299</td>\n",
       "      <td>...</td>\n",
       "      <td>0.399877</td>\n",
       "      <td>0.396201</td>\n",
       "      <td>0.413848</td>\n",
       "      <td>0.237010</td>\n",
       "      <td>0.124265</td>\n",
       "      <td>0.132966</td>\n",
       "      <td>0.150245</td>\n",
       "      <td>0.141299</td>\n",
       "      <td>0.135417</td>\n",
       "      <td>2</td>\n",
       "    </tr>\n",
       "    <tr>\n",
       "      <th>21490</th>\n",
       "      <td>0.444975</td>\n",
       "      <td>0.450245</td>\n",
       "      <td>0.481863</td>\n",
       "      <td>0.564216</td>\n",
       "      <td>0.613113</td>\n",
       "      <td>0.485049</td>\n",
       "      <td>0.367770</td>\n",
       "      <td>0.319853</td>\n",
       "      <td>0.268382</td>\n",
       "      <td>0.430147</td>\n",
       "      <td>...</td>\n",
       "      <td>0.270588</td>\n",
       "      <td>0.270588</td>\n",
       "      <td>0.252819</td>\n",
       "      <td>0.241054</td>\n",
       "      <td>0.260662</td>\n",
       "      <td>0.277941</td>\n",
       "      <td>0.297794</td>\n",
       "      <td>0.312868</td>\n",
       "      <td>0.321814</td>\n",
       "      <td>0</td>\n",
       "    </tr>\n",
       "    <tr>\n",
       "      <th>21491</th>\n",
       "      <td>0.483456</td>\n",
       "      <td>0.507598</td>\n",
       "      <td>0.539093</td>\n",
       "      <td>0.580270</td>\n",
       "      <td>0.612010</td>\n",
       "      <td>0.661029</td>\n",
       "      <td>0.695588</td>\n",
       "      <td>0.709559</td>\n",
       "      <td>0.702206</td>\n",
       "      <td>0.623775</td>\n",
       "      <td>...</td>\n",
       "      <td>0.808456</td>\n",
       "      <td>0.826838</td>\n",
       "      <td>0.820343</td>\n",
       "      <td>0.816299</td>\n",
       "      <td>0.824877</td>\n",
       "      <td>0.827451</td>\n",
       "      <td>0.819730</td>\n",
       "      <td>0.815686</td>\n",
       "      <td>0.821936</td>\n",
       "      <td>4</td>\n",
       "    </tr>\n",
       "    <tr>\n",
       "      <th>21492</th>\n",
       "      <td>0.363235</td>\n",
       "      <td>0.420098</td>\n",
       "      <td>0.486887</td>\n",
       "      <td>0.540931</td>\n",
       "      <td>0.585539</td>\n",
       "      <td>0.606373</td>\n",
       "      <td>0.621078</td>\n",
       "      <td>0.635907</td>\n",
       "      <td>0.654289</td>\n",
       "      <td>0.658456</td>\n",
       "      <td>...</td>\n",
       "      <td>0.541544</td>\n",
       "      <td>0.552574</td>\n",
       "      <td>0.528064</td>\n",
       "      <td>0.525490</td>\n",
       "      <td>0.540809</td>\n",
       "      <td>0.547917</td>\n",
       "      <td>0.546446</td>\n",
       "      <td>0.535784</td>\n",
       "      <td>0.531495</td>\n",
       "      <td>0</td>\n",
       "    </tr>\n",
       "    <tr>\n",
       "      <th>21493</th>\n",
       "      <td>0.827206</td>\n",
       "      <td>0.831373</td>\n",
       "      <td>0.834069</td>\n",
       "      <td>0.841422</td>\n",
       "      <td>0.848775</td>\n",
       "      <td>0.851838</td>\n",
       "      <td>0.836029</td>\n",
       "      <td>0.843382</td>\n",
       "      <td>0.850735</td>\n",
       "      <td>0.847426</td>\n",
       "      <td>...</td>\n",
       "      <td>0.717770</td>\n",
       "      <td>0.721446</td>\n",
       "      <td>0.707353</td>\n",
       "      <td>0.702574</td>\n",
       "      <td>0.695833</td>\n",
       "      <td>0.637745</td>\n",
       "      <td>0.538480</td>\n",
       "      <td>0.486397</td>\n",
       "      <td>0.457598</td>\n",
       "      <td>4</td>\n",
       "    </tr>\n",
       "  </tbody>\n",
       "</table>\n",
       "<p>5 rows × 2305 columns</p>\n",
       "</div>"
      ],
      "text/plain": [
       "              0         1         2         3         4         5         6  \\\n",
       "21489  0.337255  0.338848  0.339828  0.337255  0.341544  0.357475  0.361887   \n",
       "21490  0.444975  0.450245  0.481863  0.564216  0.613113  0.485049  0.367770   \n",
       "21491  0.483456  0.507598  0.539093  0.580270  0.612010  0.661029  0.695588   \n",
       "21492  0.363235  0.420098  0.486887  0.540931  0.585539  0.606373  0.621078   \n",
       "21493  0.827206  0.831373  0.834069  0.841422  0.848775  0.851838  0.836029   \n",
       "\n",
       "              7         8         9  ...      2295      2296      2297  \\\n",
       "21489  0.375490  0.463725  0.541299  ...  0.399877  0.396201  0.413848   \n",
       "21490  0.319853  0.268382  0.430147  ...  0.270588  0.270588  0.252819   \n",
       "21491  0.709559  0.702206  0.623775  ...  0.808456  0.826838  0.820343   \n",
       "21492  0.635907  0.654289  0.658456  ...  0.541544  0.552574  0.528064   \n",
       "21493  0.843382  0.850735  0.847426  ...  0.717770  0.721446  0.707353   \n",
       "\n",
       "           2298      2299      2300      2301      2302      2303  emotion  \n",
       "21489  0.237010  0.124265  0.132966  0.150245  0.141299  0.135417        2  \n",
       "21490  0.241054  0.260662  0.277941  0.297794  0.312868  0.321814        0  \n",
       "21491  0.816299  0.824877  0.827451  0.819730  0.815686  0.821936        4  \n",
       "21492  0.525490  0.540809  0.547917  0.546446  0.535784  0.531495        0  \n",
       "21493  0.702574  0.695833  0.637745  0.538480  0.486397  0.457598        4  \n",
       "\n",
       "[5 rows x 2305 columns]"
      ]
     },
     "execution_count": 16,
     "metadata": {},
     "output_type": "execute_result"
    }
   ],
   "source": [
    "rot_20_df = pd.DataFrame(rotated_20_train)\n",
    "rot_20_df['emotion'] = train_no_happy['emotion']\n",
    "rot_20_df.tail()"
   ]
  },
  {
   "cell_type": "code",
   "execution_count": 17,
   "metadata": {},
   "outputs": [],
   "source": [
    "rot_df = pd.concat([rot_10_df, rot_20_df])"
   ]
  },
  {
   "cell_type": "code",
   "execution_count": 18,
   "metadata": {},
   "outputs": [
    {
     "name": "stdout",
     "output_type": "stream",
     "text": [
      "<class 'pandas.core.frame.DataFrame'>\n",
      "Int64Index: 42988 entries, 0 to 21493\n",
      "Columns: 2305 entries, 0 to emotion\n",
      "dtypes: float64(2304), int64(1)\n",
      "memory usage: 756.3 MB\n"
     ]
    }
   ],
   "source": [
    "rot_df.info()"
   ]
  },
  {
   "cell_type": "code",
   "execution_count": null,
   "metadata": {},
   "outputs": [],
   "source": []
  },
  {
   "cell_type": "code",
   "execution_count": 19,
   "metadata": {},
   "outputs": [
    {
     "name": "stdout",
     "output_type": "stream",
     "text": [
      "<class 'pandas.core.frame.DataFrame'>\n",
      "RangeIndex: 28709 entries, 0 to 28708\n",
      "Columns: 2305 entries, 0 to emotion\n",
      "dtypes: float64(2304), int64(1)\n",
      "memory usage: 504.9 MB\n"
     ]
    }
   ],
   "source": [
    "train.info()"
   ]
  },
  {
   "cell_type": "code",
   "execution_count": 20,
   "metadata": {},
   "outputs": [],
   "source": [
    "#the rotated dataset and the train seems to match"
   ]
  },
  {
   "cell_type": "code",
   "execution_count": 21,
   "metadata": {},
   "outputs": [],
   "source": [
    "rot_df.columns = train.columns "
   ]
  },
  {
   "cell_type": "code",
   "execution_count": 22,
   "metadata": {},
   "outputs": [],
   "source": [
    "train_expanded_rot = pd.concat([train, rot_df], axis = 0)"
   ]
  },
  {
   "cell_type": "code",
   "execution_count": 23,
   "metadata": {},
   "outputs": [],
   "source": [
    "train_expanded_rot = train_expanded_rot.reset_index().drop(columns = ['index'])"
   ]
  },
  {
   "cell_type": "code",
   "execution_count": 24,
   "metadata": {},
   "outputs": [
    {
     "data": {
      "text/html": [
       "<div>\n",
       "<style scoped>\n",
       "    .dataframe tbody tr th:only-of-type {\n",
       "        vertical-align: middle;\n",
       "    }\n",
       "\n",
       "    .dataframe tbody tr th {\n",
       "        vertical-align: top;\n",
       "    }\n",
       "\n",
       "    .dataframe thead th {\n",
       "        text-align: right;\n",
       "    }\n",
       "</style>\n",
       "<table border=\"1\" class=\"dataframe\">\n",
       "  <thead>\n",
       "    <tr style=\"text-align: right;\">\n",
       "      <th></th>\n",
       "      <th>0</th>\n",
       "      <th>1</th>\n",
       "      <th>2</th>\n",
       "      <th>3</th>\n",
       "      <th>4</th>\n",
       "      <th>5</th>\n",
       "      <th>6</th>\n",
       "      <th>7</th>\n",
       "      <th>8</th>\n",
       "      <th>9</th>\n",
       "      <th>...</th>\n",
       "      <th>2295</th>\n",
       "      <th>2296</th>\n",
       "      <th>2297</th>\n",
       "      <th>2298</th>\n",
       "      <th>2299</th>\n",
       "      <th>2300</th>\n",
       "      <th>2301</th>\n",
       "      <th>2302</th>\n",
       "      <th>2303</th>\n",
       "      <th>emotion</th>\n",
       "    </tr>\n",
       "  </thead>\n",
       "  <tbody>\n",
       "    <tr>\n",
       "      <th>71692</th>\n",
       "      <td>0.337255</td>\n",
       "      <td>0.338848</td>\n",
       "      <td>0.339828</td>\n",
       "      <td>0.337255</td>\n",
       "      <td>0.341544</td>\n",
       "      <td>0.357475</td>\n",
       "      <td>0.361887</td>\n",
       "      <td>0.375490</td>\n",
       "      <td>0.463725</td>\n",
       "      <td>0.541299</td>\n",
       "      <td>...</td>\n",
       "      <td>0.399877</td>\n",
       "      <td>0.396201</td>\n",
       "      <td>0.413848</td>\n",
       "      <td>0.237010</td>\n",
       "      <td>0.124265</td>\n",
       "      <td>0.132966</td>\n",
       "      <td>0.150245</td>\n",
       "      <td>0.141299</td>\n",
       "      <td>0.135417</td>\n",
       "      <td>2</td>\n",
       "    </tr>\n",
       "    <tr>\n",
       "      <th>71693</th>\n",
       "      <td>0.444975</td>\n",
       "      <td>0.450245</td>\n",
       "      <td>0.481863</td>\n",
       "      <td>0.564216</td>\n",
       "      <td>0.613113</td>\n",
       "      <td>0.485049</td>\n",
       "      <td>0.367770</td>\n",
       "      <td>0.319853</td>\n",
       "      <td>0.268382</td>\n",
       "      <td>0.430147</td>\n",
       "      <td>...</td>\n",
       "      <td>0.270588</td>\n",
       "      <td>0.270588</td>\n",
       "      <td>0.252819</td>\n",
       "      <td>0.241054</td>\n",
       "      <td>0.260662</td>\n",
       "      <td>0.277941</td>\n",
       "      <td>0.297794</td>\n",
       "      <td>0.312868</td>\n",
       "      <td>0.321814</td>\n",
       "      <td>0</td>\n",
       "    </tr>\n",
       "    <tr>\n",
       "      <th>71694</th>\n",
       "      <td>0.483456</td>\n",
       "      <td>0.507598</td>\n",
       "      <td>0.539093</td>\n",
       "      <td>0.580270</td>\n",
       "      <td>0.612010</td>\n",
       "      <td>0.661029</td>\n",
       "      <td>0.695588</td>\n",
       "      <td>0.709559</td>\n",
       "      <td>0.702206</td>\n",
       "      <td>0.623775</td>\n",
       "      <td>...</td>\n",
       "      <td>0.808456</td>\n",
       "      <td>0.826838</td>\n",
       "      <td>0.820343</td>\n",
       "      <td>0.816299</td>\n",
       "      <td>0.824877</td>\n",
       "      <td>0.827451</td>\n",
       "      <td>0.819730</td>\n",
       "      <td>0.815686</td>\n",
       "      <td>0.821936</td>\n",
       "      <td>4</td>\n",
       "    </tr>\n",
       "    <tr>\n",
       "      <th>71695</th>\n",
       "      <td>0.363235</td>\n",
       "      <td>0.420098</td>\n",
       "      <td>0.486887</td>\n",
       "      <td>0.540931</td>\n",
       "      <td>0.585539</td>\n",
       "      <td>0.606373</td>\n",
       "      <td>0.621078</td>\n",
       "      <td>0.635907</td>\n",
       "      <td>0.654289</td>\n",
       "      <td>0.658456</td>\n",
       "      <td>...</td>\n",
       "      <td>0.541544</td>\n",
       "      <td>0.552574</td>\n",
       "      <td>0.528064</td>\n",
       "      <td>0.525490</td>\n",
       "      <td>0.540809</td>\n",
       "      <td>0.547917</td>\n",
       "      <td>0.546446</td>\n",
       "      <td>0.535784</td>\n",
       "      <td>0.531495</td>\n",
       "      <td>0</td>\n",
       "    </tr>\n",
       "    <tr>\n",
       "      <th>71696</th>\n",
       "      <td>0.827206</td>\n",
       "      <td>0.831373</td>\n",
       "      <td>0.834069</td>\n",
       "      <td>0.841422</td>\n",
       "      <td>0.848775</td>\n",
       "      <td>0.851838</td>\n",
       "      <td>0.836029</td>\n",
       "      <td>0.843382</td>\n",
       "      <td>0.850735</td>\n",
       "      <td>0.847426</td>\n",
       "      <td>...</td>\n",
       "      <td>0.717770</td>\n",
       "      <td>0.721446</td>\n",
       "      <td>0.707353</td>\n",
       "      <td>0.702574</td>\n",
       "      <td>0.695833</td>\n",
       "      <td>0.637745</td>\n",
       "      <td>0.538480</td>\n",
       "      <td>0.486397</td>\n",
       "      <td>0.457598</td>\n",
       "      <td>4</td>\n",
       "    </tr>\n",
       "  </tbody>\n",
       "</table>\n",
       "<p>5 rows × 2305 columns</p>\n",
       "</div>"
      ],
      "text/plain": [
       "              0         1         2         3         4         5         6  \\\n",
       "71692  0.337255  0.338848  0.339828  0.337255  0.341544  0.357475  0.361887   \n",
       "71693  0.444975  0.450245  0.481863  0.564216  0.613113  0.485049  0.367770   \n",
       "71694  0.483456  0.507598  0.539093  0.580270  0.612010  0.661029  0.695588   \n",
       "71695  0.363235  0.420098  0.486887  0.540931  0.585539  0.606373  0.621078   \n",
       "71696  0.827206  0.831373  0.834069  0.841422  0.848775  0.851838  0.836029   \n",
       "\n",
       "              7         8         9  ...      2295      2296      2297  \\\n",
       "71692  0.375490  0.463725  0.541299  ...  0.399877  0.396201  0.413848   \n",
       "71693  0.319853  0.268382  0.430147  ...  0.270588  0.270588  0.252819   \n",
       "71694  0.709559  0.702206  0.623775  ...  0.808456  0.826838  0.820343   \n",
       "71695  0.635907  0.654289  0.658456  ...  0.541544  0.552574  0.528064   \n",
       "71696  0.843382  0.850735  0.847426  ...  0.717770  0.721446  0.707353   \n",
       "\n",
       "           2298      2299      2300      2301      2302      2303  emotion  \n",
       "71692  0.237010  0.124265  0.132966  0.150245  0.141299  0.135417        2  \n",
       "71693  0.241054  0.260662  0.277941  0.297794  0.312868  0.321814        0  \n",
       "71694  0.816299  0.824877  0.827451  0.819730  0.815686  0.821936        4  \n",
       "71695  0.525490  0.540809  0.547917  0.546446  0.535784  0.531495        0  \n",
       "71696  0.702574  0.695833  0.637745  0.538480  0.486397  0.457598        4  \n",
       "\n",
       "[5 rows x 2305 columns]"
      ]
     },
     "execution_count": 24,
     "metadata": {},
     "output_type": "execute_result"
    }
   ],
   "source": [
    "train_expanded_rot.tail()"
   ]
  },
  {
   "cell_type": "code",
   "execution_count": 25,
   "metadata": {},
   "outputs": [],
   "source": [
    "# I have now the data with rotated images, my next step is to flip ALL OF IT"
   ]
  },
  {
   "cell_type": "code",
   "execution_count": 26,
   "metadata": {},
   "outputs": [],
   "source": [
    "train_expanded_np = train_expanded_rot.drop(columns = ['emotion']).values"
   ]
  },
  {
   "cell_type": "code",
   "execution_count": 27,
   "metadata": {},
   "outputs": [],
   "source": [
    "flipped_train_np = np.zeros(shape=train_expanded_np.shape)\n",
    "for i in range(len(train_expanded_np)):\n",
    "    flipped_np = img_conv.flip_frame_horitzontally(img_conv.reshape_array_to_frame(train_expanded_np[i]))\n",
    "    flipped_train_np[i] = img_conv.reshape_frame_to_array(flipped_np)"
   ]
  },
  {
   "cell_type": "code",
   "execution_count": 28,
   "metadata": {},
   "outputs": [
    {
     "data": {
      "text/plain": [
       "array([[0.16078431, 0.16862745, 0.20392157, ..., 0.32941176, 0.28235294,\n",
       "        0.30196078],\n",
       "       [0.47058824, 0.54901961, 0.50588235, ..., 0.7254902 , 0.72156863,\n",
       "        0.72941176],\n",
       "       [0.0627451 , 0.10588235, 0.17254902, ..., 0.98039216, 0.98431373,\n",
       "        0.98039216],\n",
       "       ...,\n",
       "       [0.77377451, 0.7872549 , 0.79044118, ..., 0.40134804, 0.40392157,\n",
       "        0.40392157],\n",
       "       [0.51973039, 0.47794118, 0.48419118, ..., 0.82879902, 0.83039216,\n",
       "        0.82769608],\n",
       "       [0.78590686, 0.78186275, 0.77781863, ..., 0.74644608, 0.75      ,\n",
       "        0.75269608]])"
      ]
     },
     "execution_count": 28,
     "metadata": {},
     "output_type": "execute_result"
    }
   ],
   "source": [
    "flipped_train_np"
   ]
  },
  {
   "cell_type": "code",
   "execution_count": null,
   "metadata": {},
   "outputs": [],
   "source": []
  },
  {
   "cell_type": "code",
   "execution_count": 29,
   "metadata": {},
   "outputs": [
    {
     "data": {
      "text/html": [
       "<div>\n",
       "<style scoped>\n",
       "    .dataframe tbody tr th:only-of-type {\n",
       "        vertical-align: middle;\n",
       "    }\n",
       "\n",
       "    .dataframe tbody tr th {\n",
       "        vertical-align: top;\n",
       "    }\n",
       "\n",
       "    .dataframe thead th {\n",
       "        text-align: right;\n",
       "    }\n",
       "</style>\n",
       "<table border=\"1\" class=\"dataframe\">\n",
       "  <thead>\n",
       "    <tr style=\"text-align: right;\">\n",
       "      <th></th>\n",
       "      <th>0</th>\n",
       "      <th>1</th>\n",
       "      <th>2</th>\n",
       "      <th>3</th>\n",
       "      <th>4</th>\n",
       "      <th>5</th>\n",
       "      <th>6</th>\n",
       "      <th>7</th>\n",
       "      <th>8</th>\n",
       "      <th>9</th>\n",
       "      <th>...</th>\n",
       "      <th>2295</th>\n",
       "      <th>2296</th>\n",
       "      <th>2297</th>\n",
       "      <th>2298</th>\n",
       "      <th>2299</th>\n",
       "      <th>2300</th>\n",
       "      <th>2301</th>\n",
       "      <th>2302</th>\n",
       "      <th>2303</th>\n",
       "      <th>emotion</th>\n",
       "    </tr>\n",
       "  </thead>\n",
       "  <tbody>\n",
       "    <tr>\n",
       "      <th>71692</th>\n",
       "      <td>0.350858</td>\n",
       "      <td>0.349510</td>\n",
       "      <td>0.349020</td>\n",
       "      <td>0.349020</td>\n",
       "      <td>0.349020</td>\n",
       "      <td>0.349020</td>\n",
       "      <td>0.349020</td>\n",
       "      <td>0.349020</td>\n",
       "      <td>0.347917</td>\n",
       "      <td>0.345328</td>\n",
       "      <td>...</td>\n",
       "      <td>0.439759</td>\n",
       "      <td>0.394118</td>\n",
       "      <td>0.383333</td>\n",
       "      <td>0.372549</td>\n",
       "      <td>0.364706</td>\n",
       "      <td>0.364706</td>\n",
       "      <td>0.364706</td>\n",
       "      <td>0.364216</td>\n",
       "      <td>0.362868</td>\n",
       "      <td>2</td>\n",
       "    </tr>\n",
       "    <tr>\n",
       "      <th>71693</th>\n",
       "      <td>0.201348</td>\n",
       "      <td>0.194608</td>\n",
       "      <td>0.187868</td>\n",
       "      <td>0.181127</td>\n",
       "      <td>0.174387</td>\n",
       "      <td>0.176471</td>\n",
       "      <td>0.181863</td>\n",
       "      <td>0.187255</td>\n",
       "      <td>0.209658</td>\n",
       "      <td>0.210677</td>\n",
       "      <td>...</td>\n",
       "      <td>0.257728</td>\n",
       "      <td>0.236029</td>\n",
       "      <td>0.240074</td>\n",
       "      <td>0.244118</td>\n",
       "      <td>0.247426</td>\n",
       "      <td>0.248775</td>\n",
       "      <td>0.250123</td>\n",
       "      <td>0.250000</td>\n",
       "      <td>0.247304</td>\n",
       "      <td>0</td>\n",
       "    </tr>\n",
       "    <tr>\n",
       "      <th>71694</th>\n",
       "      <td>0.773775</td>\n",
       "      <td>0.787255</td>\n",
       "      <td>0.790441</td>\n",
       "      <td>0.787745</td>\n",
       "      <td>0.785049</td>\n",
       "      <td>0.784314</td>\n",
       "      <td>0.784314</td>\n",
       "      <td>0.784314</td>\n",
       "      <td>0.771343</td>\n",
       "      <td>0.758548</td>\n",
       "      <td>...</td>\n",
       "      <td>0.436152</td>\n",
       "      <td>0.381127</td>\n",
       "      <td>0.385172</td>\n",
       "      <td>0.389216</td>\n",
       "      <td>0.393260</td>\n",
       "      <td>0.397304</td>\n",
       "      <td>0.401348</td>\n",
       "      <td>0.403922</td>\n",
       "      <td>0.403922</td>\n",
       "      <td>4</td>\n",
       "    </tr>\n",
       "    <tr>\n",
       "      <th>71695</th>\n",
       "      <td>0.519730</td>\n",
       "      <td>0.477941</td>\n",
       "      <td>0.484191</td>\n",
       "      <td>0.517892</td>\n",
       "      <td>0.551593</td>\n",
       "      <td>0.567647</td>\n",
       "      <td>0.577083</td>\n",
       "      <td>0.586520</td>\n",
       "      <td>0.595136</td>\n",
       "      <td>0.610968</td>\n",
       "      <td>...</td>\n",
       "      <td>0.629462</td>\n",
       "      <td>0.643137</td>\n",
       "      <td>0.707843</td>\n",
       "      <td>0.772549</td>\n",
       "      <td>0.820711</td>\n",
       "      <td>0.824755</td>\n",
       "      <td>0.828799</td>\n",
       "      <td>0.830392</td>\n",
       "      <td>0.827696</td>\n",
       "      <td>0</td>\n",
       "    </tr>\n",
       "    <tr>\n",
       "      <th>71696</th>\n",
       "      <td>0.785907</td>\n",
       "      <td>0.781863</td>\n",
       "      <td>0.777819</td>\n",
       "      <td>0.773775</td>\n",
       "      <td>0.769730</td>\n",
       "      <td>0.766667</td>\n",
       "      <td>0.763971</td>\n",
       "      <td>0.761275</td>\n",
       "      <td>0.783352</td>\n",
       "      <td>0.833793</td>\n",
       "      <td>...</td>\n",
       "      <td>0.761497</td>\n",
       "      <td>0.700490</td>\n",
       "      <td>0.713971</td>\n",
       "      <td>0.727451</td>\n",
       "      <td>0.738358</td>\n",
       "      <td>0.742402</td>\n",
       "      <td>0.746446</td>\n",
       "      <td>0.750000</td>\n",
       "      <td>0.752696</td>\n",
       "      <td>4</td>\n",
       "    </tr>\n",
       "  </tbody>\n",
       "</table>\n",
       "<p>5 rows × 2305 columns</p>\n",
       "</div>"
      ],
      "text/plain": [
       "              0         1         2         3         4         5         6  \\\n",
       "71692  0.350858  0.349510  0.349020  0.349020  0.349020  0.349020  0.349020   \n",
       "71693  0.201348  0.194608  0.187868  0.181127  0.174387  0.176471  0.181863   \n",
       "71694  0.773775  0.787255  0.790441  0.787745  0.785049  0.784314  0.784314   \n",
       "71695  0.519730  0.477941  0.484191  0.517892  0.551593  0.567647  0.577083   \n",
       "71696  0.785907  0.781863  0.777819  0.773775  0.769730  0.766667  0.763971   \n",
       "\n",
       "              7         8         9  ...      2295      2296      2297  \\\n",
       "71692  0.349020  0.347917  0.345328  ...  0.439759  0.394118  0.383333   \n",
       "71693  0.187255  0.209658  0.210677  ...  0.257728  0.236029  0.240074   \n",
       "71694  0.784314  0.771343  0.758548  ...  0.436152  0.381127  0.385172   \n",
       "71695  0.586520  0.595136  0.610968  ...  0.629462  0.643137  0.707843   \n",
       "71696  0.761275  0.783352  0.833793  ...  0.761497  0.700490  0.713971   \n",
       "\n",
       "           2298      2299      2300      2301      2302      2303  emotion  \n",
       "71692  0.372549  0.364706  0.364706  0.364706  0.364216  0.362868        2  \n",
       "71693  0.244118  0.247426  0.248775  0.250123  0.250000  0.247304        0  \n",
       "71694  0.389216  0.393260  0.397304  0.401348  0.403922  0.403922        4  \n",
       "71695  0.772549  0.820711  0.824755  0.828799  0.830392  0.827696        0  \n",
       "71696  0.727451  0.738358  0.742402  0.746446  0.750000  0.752696        4  \n",
       "\n",
       "[5 rows x 2305 columns]"
      ]
     },
     "execution_count": 29,
     "metadata": {},
     "output_type": "execute_result"
    }
   ],
   "source": [
    "new_train = pd.DataFrame(flipped_train_np)\n",
    "new_train['emotion'] = train_expanded_rot['emotion']\n",
    "new_train.tail()"
   ]
  },
  {
   "cell_type": "code",
   "execution_count": 30,
   "metadata": {},
   "outputs": [],
   "source": [
    "new_train.columns = train_expanded_rot.columns "
   ]
  },
  {
   "cell_type": "code",
   "execution_count": 31,
   "metadata": {},
   "outputs": [],
   "source": [
    "train_expanded = pd.concat([train_expanded_rot, new_train], axis = 0)"
   ]
  },
  {
   "cell_type": "code",
   "execution_count": 32,
   "metadata": {},
   "outputs": [
    {
     "name": "stdout",
     "output_type": "stream",
     "text": [
      "<class 'pandas.core.frame.DataFrame'>\n",
      "Int64Index: 143394 entries, 0 to 71696\n",
      "Columns: 2305 entries, 0 to emotion\n",
      "dtypes: float64(2304), int64(1)\n",
      "memory usage: 2.5 GB\n"
     ]
    }
   ],
   "source": [
    "train_expanded.info()"
   ]
  },
  {
   "cell_type": "code",
   "execution_count": 33,
   "metadata": {},
   "outputs": [],
   "source": [
    "pre.set(name='DatasetE', value=train_expanded)"
   ]
  },
  {
   "cell_type": "code",
   "execution_count": 34,
   "metadata": {},
   "outputs": [],
   "source": [
    "#Check the structure of the new training dataset"
   ]
  },
  {
   "cell_type": "code",
   "execution_count": 35,
   "metadata": {},
   "outputs": [],
   "source": [
    "X_df = train_expanded.drop(columns=['emotion'])\n",
    "y_df = train_expanded['emotion']"
   ]
  },
  {
   "cell_type": "code",
   "execution_count": 36,
   "metadata": {},
   "outputs": [
    {
     "data": {
      "image/png": "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\n",
      "text/plain": [
       "<Figure size 720x360 with 1 Axes>"
      ]
     },
     "metadata": {
      "needs_background": "light"
     },
     "output_type": "display_data"
    }
   ],
   "source": [
    "plt.figure(1, figsize=(10, 5))\n",
    "plt.hist(y_df.values, bins = [0, 1, 2, 3, 4, 5, 6, 7])\n",
    "plt.show()"
   ]
  },
  {
   "cell_type": "code",
   "execution_count": 37,
   "metadata": {},
   "outputs": [],
   "source": [
    "pre.save(name= 'DatasetE')"
   ]
  },
  {
   "cell_type": "code",
   "execution_count": 38,
   "metadata": {},
   "outputs": [
    {
     "name": "stdout",
     "output_type": "stream",
     "text": [
      "DatasetE saved\n"
     ]
    }
   ],
   "source": [
    "print('DatasetE saved')"
   ]
  },
  {
   "cell_type": "code",
   "execution_count": 16,
   "metadata": {},
   "outputs": [],
   "source": [
    "#compare the new with the old one"
   ]
  },
  {
   "cell_type": "code",
   "execution_count": 46,
   "metadata": {},
   "outputs": [],
   "source": [
    "pre.load_data(filename='train_norm.csv', name='train_norm')\n",
    "\n",
    "X_df_old = pre.get(name='train_norm').drop(columns=['emotion'])\n",
    "y_df_old= pre.get(name='train_norm')['emotion']"
   ]
  },
  {
   "cell_type": "code",
   "execution_count": 49,
   "metadata": {},
   "outputs": [],
   "source": [
    "pre.load_data(filename='train_expanded_disgust.csv', name='train_expanded_disgust')\n",
    "\n",
    "X_df_exp_c1 = pre.get(name='train_expanded_disgust').drop(columns=['emotion'])\n",
    "y_df_exp_c1 = pre.get(name='train_expanded_disgust')['emotion']"
   ]
  },
  {
   "cell_type": "code",
   "execution_count": 48,
   "metadata": {},
   "outputs": [],
   "source": [
    "pre.load_data(filename='train_expanded.csv', name='train_expanded')\n",
    "\n",
    "X_df_exp = pre.get(name='train_expanded').drop(columns=['emotion'])\n",
    "y_df_exp = pre.get(name='train_expanded')['emotion']"
   ]
  },
  {
   "cell_type": "code",
   "execution_count": null,
   "metadata": {},
   "outputs": [],
   "source": []
  },
  {
   "cell_type": "code",
   "execution_count": 69,
   "metadata": {},
   "outputs": [
    {
     "data": {
      "image/png": "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\n",
      "text/plain": [
       "<Figure size 1440x360 with 4 Axes>"
      ]
     },
     "metadata": {
      "needs_background": "light"
     },
     "output_type": "display_data"
    }
   ],
   "source": [
    "plt.figure(1, figsize=(20, 5))\n",
    "plt.subplot(1,4, 1)\n",
    "plt.hist(y_df_old.values, bins = [0, 1, 2, 3, 4, 5, 6, 7])\n",
    "plt.ylim([0,15000])\n",
    "plt.title('A: original')\n",
    "plt.subplot(1,4, 2)\n",
    "plt.hist(y_df_exp_c1.values, bins = [0, 1, 2, 3, 4, 5, 6, 7])\n",
    "plt.ylim([0,15000])\n",
    "plt.title('B: 1:Disgust x2')\n",
    "plt.subplot(1,4, 3)\n",
    "plt.hist(y_df_exp.values, bins = [0, 1, 2, 3, 4, 5, 6, 7])\n",
    "plt.ylim([0,15000])\n",
    "plt.title('C: original x2')\n",
    "plt.subplot(1,4, 4)\n",
    "plt.hist(y_df.values, bins = [0, 1, 2, 3, 4, 5, 6, 7])\n",
    "plt.ylim([0,15000])\n",
    "plt.title('D: 1:Disgust x6, rest x2')\n",
    "plt.show()"
   ]
  },
  {
   "cell_type": "code",
   "execution_count": null,
   "metadata": {},
   "outputs": [],
   "source": []
  }
 ],
 "metadata": {
  "kernelspec": {
   "display_name": "Python 3",
   "language": "python",
   "name": "python3"
  },
  "language_info": {
   "codemirror_mode": {
    "name": "ipython",
    "version": 3
   },
   "file_extension": ".py",
   "mimetype": "text/x-python",
   "name": "python",
   "nbconvert_exporter": "python",
   "pygments_lexer": "ipython3",
   "version": "3.6.8"
  }
 },
 "nbformat": 4,
 "nbformat_minor": 2
}
