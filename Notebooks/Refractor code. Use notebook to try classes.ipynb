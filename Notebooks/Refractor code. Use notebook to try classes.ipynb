{
 "cells": [
  {
   "cell_type": "code",
   "execution_count": 23,
   "metadata": {},
   "outputs": [],
   "source": [
    "from utils import ModelImporter, Preprocessing\n",
    "import torch\n",
    "import pandas as pd\n",
    "import numpy as np\n",
    "from sklearn import metrics\n",
    "import matplotlib.pyplot as plt\n",
    "import time\n"
   ]
  },
  {
   "cell_type": "code",
   "execution_count": 24,
   "metadata": {},
   "outputs": [
    {
     "name": "stdout",
     "output_type": "stream",
     "text": [
      "The autoreload extension is already loaded. To reload it, use:\n",
      "  %reload_ext autoreload\n"
     ]
    }
   ],
   "source": [
    "%load_ext autoreload\n",
    "%autoreload 2"
   ]
  },
  {
   "cell_type": "code",
   "execution_count": 33,
   "metadata": {},
   "outputs": [],
   "source": [
    "%reload_ext autoreload"
   ]
  },
  {
   "cell_type": "code",
   "execution_count": 26,
   "metadata": {},
   "outputs": [],
   "source": [
    "#load data\n",
    "pre = Preprocessing('fer2013')\n",
    "pre.load_data(filename='train_reduced_norm.csv', name='train')\n",
    "\n",
    "X_df = pre.get(name='train').drop(columns=['emotion'])\n",
    "y_df = pre.get(name='train')['emotion']"
   ]
  },
  {
   "cell_type": "code",
   "execution_count": 27,
   "metadata": {},
   "outputs": [],
   "source": [
    "from models import CnnSimple\n",
    "from train import TrainClassifier2"
   ]
  },
  {
   "cell_type": "code",
   "execution_count": 28,
   "metadata": {},
   "outputs": [],
   "source": [
    "dtype = torch.float\n",
    "device = torch.device(\"cpu\")\n",
    "\n",
    "n_classes = 7\n",
    "n_epochs = 10\n",
    "learning_rate = 0.001\n",
    "batch_size = 64"
   ]
  },
  {
   "cell_type": "code",
   "execution_count": 29,
   "metadata": {},
   "outputs": [
    {
     "data": {
      "text/plain": [
       "CnnSimple(\n",
       "  (drop_hidden): Dropout(p=0.5)\n",
       "  (drop_visible): Dropout(p=0.2)\n",
       "  (conv1): Conv2d(1, 15, kernel_size=(3, 3), stride=(1, 1), padding=(1, 1))\n",
       "  (batchnorm1): BatchNorm2d(15, eps=1e-05, momentum=0.1, affine=True, track_running_stats=True)\n",
       "  (pool): MaxPool2d(kernel_size=2, stride=2, padding=0, dilation=1, ceil_mode=False)\n",
       "  (fc1): Linear(in_features=8640, out_features=32, bias=True)\n",
       "  (fc2): Linear(in_features=32, out_features=7, bias=True)\n",
       ")"
      ]
     },
     "execution_count": 29,
     "metadata": {},
     "output_type": "execute_result"
    }
   ],
   "source": [
    "model_name = f'cnn_simple_Reduced_{learning_rate}_{batch_size}_{n_epochs}_{n_classes}'\n",
    "model = CnnSimple(model_name, d_out=n_classes)\n",
    "model.train()"
   ]
  },
  {
   "cell_type": "code",
   "execution_count": null,
   "metadata": {},
   "outputs": [
    {
     "name": "stdout",
     "output_type": "stream",
     "text": [
      "use cuda: False\n",
      "training model: cnn_simple_Reduced_0.001_64_10_7\n",
      "..........\n",
      "0 loss t:1.439 v: 1.494 | acc t: 0.4713 v 0.440 | f1 t: 0.470 v: 0.402\n",
      "............................................................"
     ]
    }
   ],
   "source": [
    "train_classifier = TrainClassifier2(model, X_df, y_df)\n",
    "t = time.time()\n",
    "trained_model , optimizer, criterion,\\\n",
    "train_loss_hist, train_acc_hist, train_f1_hist,\\\n",
    "val_loss_hist, val_acc_hist, val_f1_hist = train_classifier.run_train(n_epochs = n_epochs,\n",
    "                                                                      lr=learning_rate,\n",
    "                                                                      batch_size=batch_size)\n"
   ]
  },
  {
   "cell_type": "code",
   "execution_count": null,
   "metadata": {},
   "outputs": [],
   "source": [
    "outputs_val = train_classifier.model(train_classifier.validation_set.x_data.to(train_classifier.device))"
   ]
  },
  {
   "cell_type": "code",
   "execution_count": null,
   "metadata": {},
   "outputs": [],
   "source": [
    "accuracy_val= (outputs_val.argmax(1) == train_classifier.validation_set.y_data.to(train_classifier.device)).float().mean()"
   ]
  },
  {
   "cell_type": "code",
   "execution_count": null,
   "metadata": {},
   "outputs": [],
   "source": [
    "accuracy_val"
   ]
  },
  {
   "cell_type": "code",
   "execution_count": null,
   "metadata": {},
   "outputs": [],
   "source": [
    "y_true = train_classifier.validation_set.y_data\n",
    "y_pred = outputs_val.argmax(1)"
   ]
  },
  {
   "cell_type": "code",
   "execution_count": null,
   "metadata": {},
   "outputs": [],
   "source": [
    "metrics.f1_score()"
   ]
  },
  {
   "cell_type": "code",
   "execution_count": null,
   "metadata": {},
   "outputs": [],
   "source": []
  }
 ],
 "metadata": {
  "kernelspec": {
   "display_name": "Python 3",
   "language": "python",
   "name": "python3"
  },
  "language_info": {
   "codemirror_mode": {
    "name": "ipython",
    "version": 3
   },
   "file_extension": ".py",
   "mimetype": "text/x-python",
   "name": "python",
   "nbconvert_exporter": "python",
   "pygments_lexer": "ipython3",
   "version": "3.6.8"
  }
 },
 "nbformat": 4,
 "nbformat_minor": 2
}
