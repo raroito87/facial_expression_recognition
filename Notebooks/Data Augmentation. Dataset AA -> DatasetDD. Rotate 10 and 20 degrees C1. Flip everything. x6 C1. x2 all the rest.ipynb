{
 "cells": [
  {
   "cell_type": "code",
   "execution_count": 1,
   "metadata": {},
   "outputs": [],
   "source": [
    "from utils import ModelImporter, Preprocessing\n",
    "import torch\n",
    "import pandas as pd\n",
    "import numpy as np\n",
    "import matplotlib.pyplot as plt"
   ]
  },
  {
   "cell_type": "code",
   "execution_count": 3,
   "metadata": {},
   "outputs": [],
   "source": [
    "pre = Preprocessing('fer2013')\n",
    "train = pre.load_data(filename='DatasetAA.csv.gz', name='train')"
   ]
  },
  {
   "cell_type": "markdown",
   "metadata": {},
   "source": [
    "#### I have a very little amount of samples of class 1:Disgust,  I am going to increase that number by rotating and flipping horizontal"
   ]
  },
  {
   "cell_type": "code",
   "execution_count": 4,
   "metadata": {},
   "outputs": [
    {
     "data": {
      "text/html": [
       "<div>\n",
       "<style scoped>\n",
       "    .dataframe tbody tr th:only-of-type {\n",
       "        vertical-align: middle;\n",
       "    }\n",
       "\n",
       "    .dataframe tbody tr th {\n",
       "        vertical-align: top;\n",
       "    }\n",
       "\n",
       "    .dataframe thead th {\n",
       "        text-align: right;\n",
       "    }\n",
       "</style>\n",
       "<table border=\"1\" class=\"dataframe\">\n",
       "  <thead>\n",
       "    <tr style=\"text-align: right;\">\n",
       "      <th></th>\n",
       "      <th>0</th>\n",
       "      <th>1</th>\n",
       "      <th>2</th>\n",
       "      <th>3</th>\n",
       "      <th>4</th>\n",
       "      <th>5</th>\n",
       "      <th>6</th>\n",
       "      <th>7</th>\n",
       "      <th>8</th>\n",
       "      <th>9</th>\n",
       "      <th>...</th>\n",
       "      <th>2295</th>\n",
       "      <th>2296</th>\n",
       "      <th>2297</th>\n",
       "      <th>2298</th>\n",
       "      <th>2299</th>\n",
       "      <th>2300</th>\n",
       "      <th>2301</th>\n",
       "      <th>2302</th>\n",
       "      <th>2303</th>\n",
       "      <th>emotion</th>\n",
       "    </tr>\n",
       "  </thead>\n",
       "  <tbody>\n",
       "    <tr>\n",
       "      <th>299</th>\n",
       "      <td>-0.011765</td>\n",
       "      <td>-0.011765</td>\n",
       "      <td>0.011765</td>\n",
       "      <td>-0.058824</td>\n",
       "      <td>-0.137255</td>\n",
       "      <td>0.317647</td>\n",
       "      <td>0.364706</td>\n",
       "      <td>0.349020</td>\n",
       "      <td>0.356863</td>\n",
       "      <td>0.364706</td>\n",
       "      <td>...</td>\n",
       "      <td>0.019608</td>\n",
       "      <td>-0.168627</td>\n",
       "      <td>-0.333333</td>\n",
       "      <td>-0.396078</td>\n",
       "      <td>-0.443137</td>\n",
       "      <td>-0.529412</td>\n",
       "      <td>-0.160784</td>\n",
       "      <td>0.560784</td>\n",
       "      <td>0.631373</td>\n",
       "      <td>1</td>\n",
       "    </tr>\n",
       "    <tr>\n",
       "      <th>388</th>\n",
       "      <td>-0.301961</td>\n",
       "      <td>-0.568627</td>\n",
       "      <td>-0.811765</td>\n",
       "      <td>-0.686275</td>\n",
       "      <td>-0.662745</td>\n",
       "      <td>-0.623529</td>\n",
       "      <td>-0.584314</td>\n",
       "      <td>-0.568627</td>\n",
       "      <td>-0.537255</td>\n",
       "      <td>-0.678431</td>\n",
       "      <td>...</td>\n",
       "      <td>-0.223529</td>\n",
       "      <td>-0.137255</td>\n",
       "      <td>-0.043137</td>\n",
       "      <td>-0.215686</td>\n",
       "      <td>-0.466667</td>\n",
       "      <td>-0.725490</td>\n",
       "      <td>-0.819608</td>\n",
       "      <td>-0.819608</td>\n",
       "      <td>-0.858824</td>\n",
       "      <td>1</td>\n",
       "    </tr>\n",
       "    <tr>\n",
       "      <th>416</th>\n",
       "      <td>0.600000</td>\n",
       "      <td>0.529412</td>\n",
       "      <td>0.419608</td>\n",
       "      <td>0.027451</td>\n",
       "      <td>-0.607843</td>\n",
       "      <td>-0.607843</td>\n",
       "      <td>-0.552941</td>\n",
       "      <td>-0.560784</td>\n",
       "      <td>-0.482353</td>\n",
       "      <td>-0.231373</td>\n",
       "      <td>...</td>\n",
       "      <td>-0.074510</td>\n",
       "      <td>-0.105882</td>\n",
       "      <td>-0.129412</td>\n",
       "      <td>-0.058824</td>\n",
       "      <td>0.090196</td>\n",
       "      <td>0.121569</td>\n",
       "      <td>0.176471</td>\n",
       "      <td>0.223529</td>\n",
       "      <td>0.262745</td>\n",
       "      <td>1</td>\n",
       "    </tr>\n",
       "    <tr>\n",
       "      <th>473</th>\n",
       "      <td>-0.890196</td>\n",
       "      <td>-0.913725</td>\n",
       "      <td>-0.898039</td>\n",
       "      <td>-0.905882</td>\n",
       "      <td>-0.678431</td>\n",
       "      <td>-0.254902</td>\n",
       "      <td>-0.113725</td>\n",
       "      <td>-0.121569</td>\n",
       "      <td>-0.129412</td>\n",
       "      <td>-0.043137</td>\n",
       "      <td>...</td>\n",
       "      <td>-0.450980</td>\n",
       "      <td>-0.592157</td>\n",
       "      <td>-0.756863</td>\n",
       "      <td>-0.819608</td>\n",
       "      <td>-0.725490</td>\n",
       "      <td>-0.647059</td>\n",
       "      <td>-0.647059</td>\n",
       "      <td>-0.639216</td>\n",
       "      <td>-0.623529</td>\n",
       "      <td>1</td>\n",
       "    </tr>\n",
       "    <tr>\n",
       "      <th>533</th>\n",
       "      <td>-0.858824</td>\n",
       "      <td>-0.803922</td>\n",
       "      <td>-0.615686</td>\n",
       "      <td>-0.411765</td>\n",
       "      <td>-0.301961</td>\n",
       "      <td>-0.239216</td>\n",
       "      <td>-0.215686</td>\n",
       "      <td>-0.215686</td>\n",
       "      <td>-0.207843</td>\n",
       "      <td>-0.192157</td>\n",
       "      <td>...</td>\n",
       "      <td>0.286275</td>\n",
       "      <td>0.294118</td>\n",
       "      <td>0.309804</td>\n",
       "      <td>0.317647</td>\n",
       "      <td>0.317647</td>\n",
       "      <td>0.278431</td>\n",
       "      <td>0.239216</td>\n",
       "      <td>-0.341176</td>\n",
       "      <td>-0.890196</td>\n",
       "      <td>1</td>\n",
       "    </tr>\n",
       "  </tbody>\n",
       "</table>\n",
       "<p>5 rows × 2305 columns</p>\n",
       "</div>"
      ],
      "text/plain": [
       "            0         1         2         3         4         5         6  \\\n",
       "299 -0.011765 -0.011765  0.011765 -0.058824 -0.137255  0.317647  0.364706   \n",
       "388 -0.301961 -0.568627 -0.811765 -0.686275 -0.662745 -0.623529 -0.584314   \n",
       "416  0.600000  0.529412  0.419608  0.027451 -0.607843 -0.607843 -0.552941   \n",
       "473 -0.890196 -0.913725 -0.898039 -0.905882 -0.678431 -0.254902 -0.113725   \n",
       "533 -0.858824 -0.803922 -0.615686 -0.411765 -0.301961 -0.239216 -0.215686   \n",
       "\n",
       "            7         8         9  ...      2295      2296      2297  \\\n",
       "299  0.349020  0.356863  0.364706  ...  0.019608 -0.168627 -0.333333   \n",
       "388 -0.568627 -0.537255 -0.678431  ... -0.223529 -0.137255 -0.043137   \n",
       "416 -0.560784 -0.482353 -0.231373  ... -0.074510 -0.105882 -0.129412   \n",
       "473 -0.121569 -0.129412 -0.043137  ... -0.450980 -0.592157 -0.756863   \n",
       "533 -0.215686 -0.207843 -0.192157  ...  0.286275  0.294118  0.309804   \n",
       "\n",
       "         2298      2299      2300      2301      2302      2303  emotion  \n",
       "299 -0.396078 -0.443137 -0.529412 -0.160784  0.560784  0.631373        1  \n",
       "388 -0.215686 -0.466667 -0.725490 -0.819608 -0.819608 -0.858824        1  \n",
       "416 -0.058824  0.090196  0.121569  0.176471  0.223529  0.262745        1  \n",
       "473 -0.819608 -0.725490 -0.647059 -0.647059 -0.639216 -0.623529        1  \n",
       "533  0.317647  0.317647  0.278431  0.239216 -0.341176 -0.890196        1  \n",
       "\n",
       "[5 rows x 2305 columns]"
      ]
     },
     "execution_count": 4,
     "metadata": {},
     "output_type": "execute_result"
    }
   ],
   "source": [
    "disgust = train.loc[train['emotion'] == 1]\n",
    "disgust.head()"
   ]
  },
  {
   "cell_type": "code",
   "execution_count": 5,
   "metadata": {},
   "outputs": [
    {
     "data": {
      "text/plain": [
       "436"
      ]
     },
     "execution_count": 5,
     "metadata": {},
     "output_type": "execute_result"
    }
   ],
   "source": [
    "len(disgust)"
   ]
  },
  {
   "cell_type": "code",
   "execution_count": 6,
   "metadata": {},
   "outputs": [],
   "source": [
    "from image_utils import ImageConverter\n",
    "import matplotlib.pyplot as plt"
   ]
  },
  {
   "cell_type": "code",
   "execution_count": 7,
   "metadata": {},
   "outputs": [],
   "source": [
    "img_conv = ImageConverter()"
   ]
  },
  {
   "cell_type": "code",
   "execution_count": 8,
   "metadata": {},
   "outputs": [],
   "source": [
    "train_only_disgust_np = disgust.drop(columns = ['emotion']).values"
   ]
  },
  {
   "cell_type": "code",
   "execution_count": 9,
   "metadata": {},
   "outputs": [],
   "source": [
    "array_0 = train_only_disgust_np[0]\n",
    "array_0_frame = img_conv.reshape_array_to_frame(array_0)\n",
    "array_0_frame_flipped = img_conv.rotate_image(array_0_frame, 20)"
   ]
  },
  {
   "cell_type": "code",
   "execution_count": 10,
   "metadata": {},
   "outputs": [
    {
     "data": {
      "image/png": "[encoded data removed]",
      "text/plain": [
       "<Figure size 720x360 with 2 Axes>"
      ]
     },
     "metadata": {
      "needs_background": "light"
     },
     "output_type": "display_data"
    }
   ],
   "source": [
    "plt.figure(1, figsize=(10, 5))\n",
    "plt.subplot(1,2, 1)\n",
    "plt.imshow(array_0_frame, cmap='gray', interpolation='none')\n",
    "plt.subplot(1,2, 2)\n",
    "plt.imshow(array_0_frame_flipped, cmap='gray', interpolation='none')\n",
    "plt.show()"
   ]
  },
  {
   "cell_type": "code",
   "execution_count": 11,
   "metadata": {},
   "outputs": [],
   "source": [
    "array_50 = train_only_disgust_np[50]\n",
    "array_50_frame = img_conv.reshape_array_to_frame(array_50)\n",
    "array_50_frame_flipped = img_conv.rotate_image(array_50_frame, 20)"
   ]
  },
  {
   "cell_type": "code",
   "execution_count": 12,
   "metadata": {},
   "outputs": [
    {
     "data": {
      "image/png": "[encoded data removed]",
      "text/plain": [
       "<Figure size 720x360 with 2 Axes>"
      ]
     },
     "metadata": {
      "needs_background": "light"
     },
     "output_type": "display_data"
    }
   ],
   "source": [
    "plt.figure(1, figsize=(10, 5))\n",
    "plt.subplot(1,2, 1)\n",
    "plt.imshow(array_50_frame, cmap='gray', interpolation='none')\n",
    "plt.subplot(1,2, 2)\n",
    "plt.imshow(array_50_frame_flipped, cmap='gray', interpolation='none')\n",
    "plt.show()"
   ]
  },
  {
   "cell_type": "code",
   "execution_count": 13,
   "metadata": {},
   "outputs": [],
   "source": [
    "rotated_10_train_only_disgust = np.zeros(shape=train_only_disgust_np.shape)\n",
    "rotated_20_train_only_disgust = np.zeros(shape=train_only_disgust_np.shape)\n",
    "idx = 0\n",
    "for i in range(len(train_only_disgust_np)):\n",
    "    array = train_only_disgust_np[i]\n",
    "    frame = img_conv.reshape_array_to_frame(array)\n",
    "    \n",
    "    rot_10 = img_conv.rotate_image(frame, 10)\n",
    "    array_rot_10 = img_conv.reshape_frame_to_array(rot_10)\n",
    "    rotated_10_train_only_disgust[i] = array_rot_10  \n",
    "    \n",
    "    rot_20 = img_conv.rotate_image(frame, 20)\n",
    "    array_rot_20 = img_conv.reshape_frame_to_array(rot_20)\n",
    "    rotated_20_train_only_disgust[i] = array_rot_20\n",
    "    \n",
    "    ##rot_15 = img_conv.rotate_image(img_conv.reshape_array_to_frame(train_only_disgust_np[i]), 15)\n",
    "    #rotated_train_only_disgust[i] = img_conv.reshape_frame_to_array(rot_5)\n",
    "    #rotated_train_only_disgust[idx + 1] = img_conv.reshape_frame_to_array(rot_15)"
   ]
  },
  {
   "cell_type": "code",
   "execution_count": 14,
   "metadata": {},
   "outputs": [
    {
     "data": {
      "text/plain": [
       "436"
      ]
     },
     "execution_count": 14,
     "metadata": {},
     "output_type": "execute_result"
    }
   ],
   "source": [
    "len(rotated_10_train_only_disgust)"
   ]
  },
  {
   "cell_type": "code",
   "execution_count": 15,
   "metadata": {},
   "outputs": [
    {
     "data": {
      "text/plain": [
       "436"
      ]
     },
     "execution_count": 15,
     "metadata": {},
     "output_type": "execute_result"
    }
   ],
   "source": [
    "len(rotated_20_train_only_disgust)"
   ]
  },
  {
   "cell_type": "code",
   "execution_count": 16,
   "metadata": {},
   "outputs": [
    {
     "data": {
      "image/png": "[encoded data removed]",
      "text/plain": [
       "<Figure size 720x360 with 3 Axes>"
      ]
     },
     "metadata": {
      "needs_background": "light"
     },
     "output_type": "display_data"
    }
   ],
   "source": [
    "img_idx = 170\n",
    "plt.figure(1, figsize=(10, 5))\n",
    "plt.subplot(1,3, 1)\n",
    "plt.imshow(img_conv.reshape_array_to_frame(train_only_disgust_np[img_idx]), cmap='gray', interpolation='none')\n",
    "plt.subplot(1,3, 2)\n",
    "plt.imshow(img_conv.reshape_array_to_frame(rotated_10_train_only_disgust[img_idx]), cmap='gray', interpolation='none')\n",
    "plt.subplot(1,3, 3)\n",
    "plt.imshow(img_conv.reshape_array_to_frame(rotated_20_train_only_disgust[img_idx]), cmap='gray', interpolation='none')\n",
    "plt.show()"
   ]
  },
  {
   "cell_type": "code",
   "execution_count": 17,
   "metadata": {},
   "outputs": [],
   "source": [
    "#Seems to work, going to save the data"
   ]
  },
  {
   "cell_type": "code",
   "execution_count": 18,
   "metadata": {},
   "outputs": [
    {
     "data": {
      "text/html": [
       "<div>\n",
       "<style scoped>\n",
       "    .dataframe tbody tr th:only-of-type {\n",
       "        vertical-align: middle;\n",
       "    }\n",
       "\n",
       "    .dataframe tbody tr th {\n",
       "        vertical-align: top;\n",
       "    }\n",
       "\n",
       "    .dataframe thead th {\n",
       "        text-align: right;\n",
       "    }\n",
       "</style>\n",
       "<table border=\"1\" class=\"dataframe\">\n",
       "  <thead>\n",
       "    <tr style=\"text-align: right;\">\n",
       "      <th></th>\n",
       "      <th>0</th>\n",
       "      <th>1</th>\n",
       "      <th>2</th>\n",
       "      <th>3</th>\n",
       "      <th>4</th>\n",
       "      <th>5</th>\n",
       "      <th>6</th>\n",
       "      <th>7</th>\n",
       "      <th>8</th>\n",
       "      <th>9</th>\n",
       "      <th>...</th>\n",
       "      <th>2295</th>\n",
       "      <th>2296</th>\n",
       "      <th>2297</th>\n",
       "      <th>2298</th>\n",
       "      <th>2299</th>\n",
       "      <th>2300</th>\n",
       "      <th>2301</th>\n",
       "      <th>2302</th>\n",
       "      <th>2303</th>\n",
       "      <th>emotion</th>\n",
       "    </tr>\n",
       "  </thead>\n",
       "  <tbody>\n",
       "    <tr>\n",
       "      <th>431</th>\n",
       "      <td>-0.738235</td>\n",
       "      <td>-0.711275</td>\n",
       "      <td>-0.682353</td>\n",
       "      <td>-0.419853</td>\n",
       "      <td>0.075490</td>\n",
       "      <td>0.549020</td>\n",
       "      <td>0.755147</td>\n",
       "      <td>0.817157</td>\n",
       "      <td>0.829902</td>\n",
       "      <td>0.837745</td>\n",
       "      <td>...</td>\n",
       "      <td>-0.666176</td>\n",
       "      <td>-0.714461</td>\n",
       "      <td>-0.759069</td>\n",
       "      <td>-0.792157</td>\n",
       "      <td>-0.843137</td>\n",
       "      <td>-0.866667</td>\n",
       "      <td>-0.848039</td>\n",
       "      <td>-0.764706</td>\n",
       "      <td>-0.745098</td>\n",
       "      <td>1</td>\n",
       "    </tr>\n",
       "    <tr>\n",
       "      <th>432</th>\n",
       "      <td>-0.364706</td>\n",
       "      <td>-0.368137</td>\n",
       "      <td>-0.375735</td>\n",
       "      <td>-0.383578</td>\n",
       "      <td>-0.391176</td>\n",
       "      <td>-0.393137</td>\n",
       "      <td>-0.382843</td>\n",
       "      <td>-0.367157</td>\n",
       "      <td>-0.349510</td>\n",
       "      <td>-0.328431</td>\n",
       "      <td>...</td>\n",
       "      <td>-0.078922</td>\n",
       "      <td>-0.097549</td>\n",
       "      <td>-0.165196</td>\n",
       "      <td>-0.216667</td>\n",
       "      <td>-0.221569</td>\n",
       "      <td>-0.141176</td>\n",
       "      <td>-0.099510</td>\n",
       "      <td>-0.105882</td>\n",
       "      <td>-0.123529</td>\n",
       "      <td>1</td>\n",
       "    </tr>\n",
       "    <tr>\n",
       "      <th>433</th>\n",
       "      <td>0.624020</td>\n",
       "      <td>0.722059</td>\n",
       "      <td>0.736765</td>\n",
       "      <td>0.777451</td>\n",
       "      <td>0.801961</td>\n",
       "      <td>0.814706</td>\n",
       "      <td>0.814216</td>\n",
       "      <td>0.790441</td>\n",
       "      <td>0.762255</td>\n",
       "      <td>0.744608</td>\n",
       "      <td>...</td>\n",
       "      <td>0.543627</td>\n",
       "      <td>0.540196</td>\n",
       "      <td>0.441912</td>\n",
       "      <td>0.307843</td>\n",
       "      <td>-0.117647</td>\n",
       "      <td>-0.732353</td>\n",
       "      <td>-0.981373</td>\n",
       "      <td>-0.986275</td>\n",
       "      <td>-1.000000</td>\n",
       "      <td>1</td>\n",
       "    </tr>\n",
       "    <tr>\n",
       "      <th>434</th>\n",
       "      <td>-0.667647</td>\n",
       "      <td>-0.599510</td>\n",
       "      <td>-0.559069</td>\n",
       "      <td>-0.541912</td>\n",
       "      <td>-0.516667</td>\n",
       "      <td>-0.461765</td>\n",
       "      <td>-0.397794</td>\n",
       "      <td>-0.316912</td>\n",
       "      <td>-0.268137</td>\n",
       "      <td>-0.270098</td>\n",
       "      <td>...</td>\n",
       "      <td>-0.568627</td>\n",
       "      <td>-0.573775</td>\n",
       "      <td>-0.576471</td>\n",
       "      <td>-0.571569</td>\n",
       "      <td>-0.568627</td>\n",
       "      <td>-0.568627</td>\n",
       "      <td>-0.573284</td>\n",
       "      <td>-0.576471</td>\n",
       "      <td>-0.576471</td>\n",
       "      <td>1</td>\n",
       "    </tr>\n",
       "    <tr>\n",
       "      <th>435</th>\n",
       "      <td>0.024020</td>\n",
       "      <td>-0.234804</td>\n",
       "      <td>-0.421814</td>\n",
       "      <td>-0.335784</td>\n",
       "      <td>0.075490</td>\n",
       "      <td>0.462745</td>\n",
       "      <td>0.590441</td>\n",
       "      <td>0.641667</td>\n",
       "      <td>0.628922</td>\n",
       "      <td>0.621078</td>\n",
       "      <td>...</td>\n",
       "      <td>0.593627</td>\n",
       "      <td>0.555882</td>\n",
       "      <td>0.524510</td>\n",
       "      <td>0.469608</td>\n",
       "      <td>0.359804</td>\n",
       "      <td>0.184069</td>\n",
       "      <td>-0.023039</td>\n",
       "      <td>-0.172059</td>\n",
       "      <td>-0.263235</td>\n",
       "      <td>1</td>\n",
       "    </tr>\n",
       "  </tbody>\n",
       "</table>\n",
       "<p>5 rows × 2305 columns</p>\n",
       "</div>"
      ],
      "text/plain": [
       "            0         1         2         3         4         5         6  \\\n",
       "431 -0.738235 -0.711275 -0.682353 -0.419853  0.075490  0.549020  0.755147   \n",
       "432 -0.364706 -0.368137 -0.375735 -0.383578 -0.391176 -0.393137 -0.382843   \n",
       "433  0.624020  0.722059  0.736765  0.777451  0.801961  0.814706  0.814216   \n",
       "434 -0.667647 -0.599510 -0.559069 -0.541912 -0.516667 -0.461765 -0.397794   \n",
       "435  0.024020 -0.234804 -0.421814 -0.335784  0.075490  0.462745  0.590441   \n",
       "\n",
       "            7         8         9  ...      2295      2296      2297  \\\n",
       "431  0.817157  0.829902  0.837745  ... -0.666176 -0.714461 -0.759069   \n",
       "432 -0.367157 -0.349510 -0.328431  ... -0.078922 -0.097549 -0.165196   \n",
       "433  0.790441  0.762255  0.744608  ...  0.543627  0.540196  0.441912   \n",
       "434 -0.316912 -0.268137 -0.270098  ... -0.568627 -0.573775 -0.576471   \n",
       "435  0.641667  0.628922  0.621078  ...  0.593627  0.555882  0.524510   \n",
       "\n",
       "         2298      2299      2300      2301      2302      2303  emotion  \n",
       "431 -0.792157 -0.843137 -0.866667 -0.848039 -0.764706 -0.745098        1  \n",
       "432 -0.216667 -0.221569 -0.141176 -0.099510 -0.105882 -0.123529        1  \n",
       "433  0.307843 -0.117647 -0.732353 -0.981373 -0.986275 -1.000000        1  \n",
       "434 -0.571569 -0.568627 -0.568627 -0.573284 -0.576471 -0.576471        1  \n",
       "435  0.469608  0.359804  0.184069 -0.023039 -0.172059 -0.263235        1  \n",
       "\n",
       "[5 rows x 2305 columns]"
      ]
     },
     "execution_count": 18,
     "metadata": {},
     "output_type": "execute_result"
    }
   ],
   "source": [
    "rot_disgust_10_df = pd.DataFrame(rotated_10_train_only_disgust)\n",
    "rot_disgust_10_df['emotion'] = 1\n",
    "rot_disgust_10_df.tail()"
   ]
  },
  {
   "cell_type": "code",
   "execution_count": 19,
   "metadata": {},
   "outputs": [
    {
     "data": {
      "text/html": [
       "<div>\n",
       "<style scoped>\n",
       "    .dataframe tbody tr th:only-of-type {\n",
       "        vertical-align: middle;\n",
       "    }\n",
       "\n",
       "    .dataframe tbody tr th {\n",
       "        vertical-align: top;\n",
       "    }\n",
       "\n",
       "    .dataframe thead th {\n",
       "        text-align: right;\n",
       "    }\n",
       "</style>\n",
       "<table border=\"1\" class=\"dataframe\">\n",
       "  <thead>\n",
       "    <tr style=\"text-align: right;\">\n",
       "      <th></th>\n",
       "      <th>0</th>\n",
       "      <th>1</th>\n",
       "      <th>2</th>\n",
       "      <th>3</th>\n",
       "      <th>4</th>\n",
       "      <th>5</th>\n",
       "      <th>6</th>\n",
       "      <th>7</th>\n",
       "      <th>8</th>\n",
       "      <th>9</th>\n",
       "      <th>...</th>\n",
       "      <th>2295</th>\n",
       "      <th>2296</th>\n",
       "      <th>2297</th>\n",
       "      <th>2298</th>\n",
       "      <th>2299</th>\n",
       "      <th>2300</th>\n",
       "      <th>2301</th>\n",
       "      <th>2302</th>\n",
       "      <th>2303</th>\n",
       "      <th>emotion</th>\n",
       "    </tr>\n",
       "  </thead>\n",
       "  <tbody>\n",
       "    <tr>\n",
       "      <th>431</th>\n",
       "      <td>0.575490</td>\n",
       "      <td>0.760539</td>\n",
       "      <td>0.817157</td>\n",
       "      <td>0.829657</td>\n",
       "      <td>0.837010</td>\n",
       "      <td>0.844363</td>\n",
       "      <td>0.848039</td>\n",
       "      <td>0.819363</td>\n",
       "      <td>0.812010</td>\n",
       "      <td>0.818873</td>\n",
       "      <td>...</td>\n",
       "      <td>-0.376471</td>\n",
       "      <td>-0.494118</td>\n",
       "      <td>-0.554902</td>\n",
       "      <td>-0.593873</td>\n",
       "      <td>-0.630637</td>\n",
       "      <td>-0.667402</td>\n",
       "      <td>-0.714461</td>\n",
       "      <td>-0.756618</td>\n",
       "      <td>-0.789216</td>\n",
       "      <td>1</td>\n",
       "    </tr>\n",
       "    <tr>\n",
       "      <th>432</th>\n",
       "      <td>-0.392402</td>\n",
       "      <td>-0.381863</td>\n",
       "      <td>-0.367157</td>\n",
       "      <td>-0.350245</td>\n",
       "      <td>-0.329902</td>\n",
       "      <td>-0.313971</td>\n",
       "      <td>-0.291176</td>\n",
       "      <td>-0.262010</td>\n",
       "      <td>-0.239951</td>\n",
       "      <td>-0.239216</td>\n",
       "      <td>...</td>\n",
       "      <td>-0.127941</td>\n",
       "      <td>-0.083824</td>\n",
       "      <td>-0.089461</td>\n",
       "      <td>-0.129902</td>\n",
       "      <td>-0.112745</td>\n",
       "      <td>-0.077696</td>\n",
       "      <td>-0.097549</td>\n",
       "      <td>-0.160294</td>\n",
       "      <td>-0.212990</td>\n",
       "      <td>1</td>\n",
       "    </tr>\n",
       "    <tr>\n",
       "      <th>433</th>\n",
       "      <td>0.815441</td>\n",
       "      <td>0.813235</td>\n",
       "      <td>0.790441</td>\n",
       "      <td>0.762500</td>\n",
       "      <td>0.748284</td>\n",
       "      <td>0.710294</td>\n",
       "      <td>0.669853</td>\n",
       "      <td>0.662010</td>\n",
       "      <td>0.639951</td>\n",
       "      <td>0.632108</td>\n",
       "      <td>...</td>\n",
       "      <td>0.662500</td>\n",
       "      <td>0.655147</td>\n",
       "      <td>0.626471</td>\n",
       "      <td>0.537500</td>\n",
       "      <td>0.509314</td>\n",
       "      <td>0.545343</td>\n",
       "      <td>0.540196</td>\n",
       "      <td>0.450245</td>\n",
       "      <td>0.321078</td>\n",
       "      <td>1</td>\n",
       "    </tr>\n",
       "    <tr>\n",
       "      <th>434</th>\n",
       "      <td>-0.456618</td>\n",
       "      <td>-0.392402</td>\n",
       "      <td>-0.316912</td>\n",
       "      <td>-0.268382</td>\n",
       "      <td>-0.267892</td>\n",
       "      <td>-0.289951</td>\n",
       "      <td>-0.311275</td>\n",
       "      <td>-0.326961</td>\n",
       "      <td>-0.371078</td>\n",
       "      <td>-0.393873</td>\n",
       "      <td>...</td>\n",
       "      <td>-0.537990</td>\n",
       "      <td>-0.560049</td>\n",
       "      <td>-0.560784</td>\n",
       "      <td>-0.560784</td>\n",
       "      <td>-0.566912</td>\n",
       "      <td>-0.568627</td>\n",
       "      <td>-0.573775</td>\n",
       "      <td>-0.576471</td>\n",
       "      <td>-0.572304</td>\n",
       "      <td>1</td>\n",
       "    </tr>\n",
       "    <tr>\n",
       "      <th>435</th>\n",
       "      <td>0.477451</td>\n",
       "      <td>0.595833</td>\n",
       "      <td>0.641667</td>\n",
       "      <td>0.629167</td>\n",
       "      <td>0.621814</td>\n",
       "      <td>0.615686</td>\n",
       "      <td>0.617157</td>\n",
       "      <td>0.632843</td>\n",
       "      <td>0.676961</td>\n",
       "      <td>0.671324</td>\n",
       "      <td>...</td>\n",
       "      <td>0.647304</td>\n",
       "      <td>0.654657</td>\n",
       "      <td>0.654902</td>\n",
       "      <td>0.654902</td>\n",
       "      <td>0.636520</td>\n",
       "      <td>0.591912</td>\n",
       "      <td>0.555882</td>\n",
       "      <td>0.526471</td>\n",
       "      <td>0.476225</td>\n",
       "      <td>1</td>\n",
       "    </tr>\n",
       "  </tbody>\n",
       "</table>\n",
       "<p>5 rows × 2305 columns</p>\n",
       "</div>"
      ],
      "text/plain": [
       "            0         1         2         3         4         5         6  \\\n",
       "431  0.575490  0.760539  0.817157  0.829657  0.837010  0.844363  0.848039   \n",
       "432 -0.392402 -0.381863 -0.367157 -0.350245 -0.329902 -0.313971 -0.291176   \n",
       "433  0.815441  0.813235  0.790441  0.762500  0.748284  0.710294  0.669853   \n",
       "434 -0.456618 -0.392402 -0.316912 -0.268382 -0.267892 -0.289951 -0.311275   \n",
       "435  0.477451  0.595833  0.641667  0.629167  0.621814  0.615686  0.617157   \n",
       "\n",
       "            7         8         9  ...      2295      2296      2297  \\\n",
       "431  0.819363  0.812010  0.818873  ... -0.376471 -0.494118 -0.554902   \n",
       "432 -0.262010 -0.239951 -0.239216  ... -0.127941 -0.083824 -0.089461   \n",
       "433  0.662010  0.639951  0.632108  ...  0.662500  0.655147  0.626471   \n",
       "434 -0.326961 -0.371078 -0.393873  ... -0.537990 -0.560049 -0.560784   \n",
       "435  0.632843  0.676961  0.671324  ...  0.647304  0.654657  0.654902   \n",
       "\n",
       "         2298      2299      2300      2301      2302      2303  emotion  \n",
       "431 -0.593873 -0.630637 -0.667402 -0.714461 -0.756618 -0.789216        1  \n",
       "432 -0.129902 -0.112745 -0.077696 -0.097549 -0.160294 -0.212990        1  \n",
       "433  0.537500  0.509314  0.545343  0.540196  0.450245  0.321078        1  \n",
       "434 -0.560784 -0.566912 -0.568627 -0.573775 -0.576471 -0.572304        1  \n",
       "435  0.654902  0.636520  0.591912  0.555882  0.526471  0.476225        1  \n",
       "\n",
       "[5 rows x 2305 columns]"
      ]
     },
     "execution_count": 19,
     "metadata": {},
     "output_type": "execute_result"
    }
   ],
   "source": [
    "rot_disgust_20_df = pd.DataFrame(rotated_20_train_only_disgust)\n",
    "rot_disgust_20_df['emotion'] = 1\n",
    "rot_disgust_20_df.tail()"
   ]
  },
  {
   "cell_type": "code",
   "execution_count": 20,
   "metadata": {},
   "outputs": [],
   "source": [
    "rot_disgust_df = pd.concat([rot_disgust_10_df, rot_disgust_20_df])"
   ]
  },
  {
   "cell_type": "code",
   "execution_count": 21,
   "metadata": {},
   "outputs": [
    {
     "name": "stdout",
     "output_type": "stream",
     "text": [
      "<class 'pandas.core.frame.DataFrame'>\n",
      "Int64Index: 872 entries, 0 to 435\n",
      "Columns: 2305 entries, 0 to emotion\n",
      "dtypes: float64(2304), int64(1)\n",
      "memory usage: 15.3 MB\n"
     ]
    }
   ],
   "source": [
    "rot_disgust_df.info()"
   ]
  },
  {
   "cell_type": "code",
   "execution_count": null,
   "metadata": {},
   "outputs": [],
   "source": []
  },
  {
   "cell_type": "code",
   "execution_count": 22,
   "metadata": {},
   "outputs": [
    {
     "name": "stdout",
     "output_type": "stream",
     "text": [
      "<class 'pandas.core.frame.DataFrame'>\n",
      "RangeIndex: 28709 entries, 0 to 28708\n",
      "Columns: 2305 entries, 0 to emotion\n",
      "dtypes: float64(2304), int64(1)\n",
      "memory usage: 504.9 MB\n"
     ]
    }
   ],
   "source": [
    "train.info()"
   ]
  },
  {
   "cell_type": "code",
   "execution_count": 23,
   "metadata": {},
   "outputs": [],
   "source": [
    "#the rotated dataset and the train seems to match"
   ]
  },
  {
   "cell_type": "code",
   "execution_count": 24,
   "metadata": {},
   "outputs": [],
   "source": [
    "rot_disgust_df.columns = train.columns "
   ]
  },
  {
   "cell_type": "code",
   "execution_count": 25,
   "metadata": {},
   "outputs": [],
   "source": [
    "train_expanded_disgust_rot = pd.concat([train, rot_disgust_df], axis = 0)"
   ]
  },
  {
   "cell_type": "code",
   "execution_count": 26,
   "metadata": {},
   "outputs": [],
   "source": [
    "train_expanded_disgust_rot = train_expanded_disgust_rot.reset_index().drop(columns = ['index'])"
   ]
  },
  {
   "cell_type": "code",
   "execution_count": 27,
   "metadata": {},
   "outputs": [
    {
     "data": {
      "text/html": [
       "<div>\n",
       "<style scoped>\n",
       "    .dataframe tbody tr th:only-of-type {\n",
       "        vertical-align: middle;\n",
       "    }\n",
       "\n",
       "    .dataframe tbody tr th {\n",
       "        vertical-align: top;\n",
       "    }\n",
       "\n",
       "    .dataframe thead th {\n",
       "        text-align: right;\n",
       "    }\n",
       "</style>\n",
       "<table border=\"1\" class=\"dataframe\">\n",
       "  <thead>\n",
       "    <tr style=\"text-align: right;\">\n",
       "      <th></th>\n",
       "      <th>0</th>\n",
       "      <th>1</th>\n",
       "      <th>2</th>\n",
       "      <th>3</th>\n",
       "      <th>4</th>\n",
       "      <th>5</th>\n",
       "      <th>6</th>\n",
       "      <th>7</th>\n",
       "      <th>8</th>\n",
       "      <th>9</th>\n",
       "      <th>...</th>\n",
       "      <th>2295</th>\n",
       "      <th>2296</th>\n",
       "      <th>2297</th>\n",
       "      <th>2298</th>\n",
       "      <th>2299</th>\n",
       "      <th>2300</th>\n",
       "      <th>2301</th>\n",
       "      <th>2302</th>\n",
       "      <th>2303</th>\n",
       "      <th>emotion</th>\n",
       "    </tr>\n",
       "  </thead>\n",
       "  <tbody>\n",
       "    <tr>\n",
       "      <th>29576</th>\n",
       "      <td>0.575490</td>\n",
       "      <td>0.760539</td>\n",
       "      <td>0.817157</td>\n",
       "      <td>0.829657</td>\n",
       "      <td>0.837010</td>\n",
       "      <td>0.844363</td>\n",
       "      <td>0.848039</td>\n",
       "      <td>0.819363</td>\n",
       "      <td>0.812010</td>\n",
       "      <td>0.818873</td>\n",
       "      <td>...</td>\n",
       "      <td>-0.376471</td>\n",
       "      <td>-0.494118</td>\n",
       "      <td>-0.554902</td>\n",
       "      <td>-0.593873</td>\n",
       "      <td>-0.630637</td>\n",
       "      <td>-0.667402</td>\n",
       "      <td>-0.714461</td>\n",
       "      <td>-0.756618</td>\n",
       "      <td>-0.789216</td>\n",
       "      <td>1</td>\n",
       "    </tr>\n",
       "    <tr>\n",
       "      <th>29577</th>\n",
       "      <td>-0.392402</td>\n",
       "      <td>-0.381863</td>\n",
       "      <td>-0.367157</td>\n",
       "      <td>-0.350245</td>\n",
       "      <td>-0.329902</td>\n",
       "      <td>-0.313971</td>\n",
       "      <td>-0.291176</td>\n",
       "      <td>-0.262010</td>\n",
       "      <td>-0.239951</td>\n",
       "      <td>-0.239216</td>\n",
       "      <td>...</td>\n",
       "      <td>-0.127941</td>\n",
       "      <td>-0.083824</td>\n",
       "      <td>-0.089461</td>\n",
       "      <td>-0.129902</td>\n",
       "      <td>-0.112745</td>\n",
       "      <td>-0.077696</td>\n",
       "      <td>-0.097549</td>\n",
       "      <td>-0.160294</td>\n",
       "      <td>-0.212990</td>\n",
       "      <td>1</td>\n",
       "    </tr>\n",
       "    <tr>\n",
       "      <th>29578</th>\n",
       "      <td>0.815441</td>\n",
       "      <td>0.813235</td>\n",
       "      <td>0.790441</td>\n",
       "      <td>0.762500</td>\n",
       "      <td>0.748284</td>\n",
       "      <td>0.710294</td>\n",
       "      <td>0.669853</td>\n",
       "      <td>0.662010</td>\n",
       "      <td>0.639951</td>\n",
       "      <td>0.632108</td>\n",
       "      <td>...</td>\n",
       "      <td>0.662500</td>\n",
       "      <td>0.655147</td>\n",
       "      <td>0.626471</td>\n",
       "      <td>0.537500</td>\n",
       "      <td>0.509314</td>\n",
       "      <td>0.545343</td>\n",
       "      <td>0.540196</td>\n",
       "      <td>0.450245</td>\n",
       "      <td>0.321078</td>\n",
       "      <td>1</td>\n",
       "    </tr>\n",
       "    <tr>\n",
       "      <th>29579</th>\n",
       "      <td>-0.456618</td>\n",
       "      <td>-0.392402</td>\n",
       "      <td>-0.316912</td>\n",
       "      <td>-0.268382</td>\n",
       "      <td>-0.267892</td>\n",
       "      <td>-0.289951</td>\n",
       "      <td>-0.311275</td>\n",
       "      <td>-0.326961</td>\n",
       "      <td>-0.371078</td>\n",
       "      <td>-0.393873</td>\n",
       "      <td>...</td>\n",
       "      <td>-0.537990</td>\n",
       "      <td>-0.560049</td>\n",
       "      <td>-0.560784</td>\n",
       "      <td>-0.560784</td>\n",
       "      <td>-0.566912</td>\n",
       "      <td>-0.568627</td>\n",
       "      <td>-0.573775</td>\n",
       "      <td>-0.576471</td>\n",
       "      <td>-0.572304</td>\n",
       "      <td>1</td>\n",
       "    </tr>\n",
       "    <tr>\n",
       "      <th>29580</th>\n",
       "      <td>0.477451</td>\n",
       "      <td>0.595833</td>\n",
       "      <td>0.641667</td>\n",
       "      <td>0.629167</td>\n",
       "      <td>0.621814</td>\n",
       "      <td>0.615686</td>\n",
       "      <td>0.617157</td>\n",
       "      <td>0.632843</td>\n",
       "      <td>0.676961</td>\n",
       "      <td>0.671324</td>\n",
       "      <td>...</td>\n",
       "      <td>0.647304</td>\n",
       "      <td>0.654657</td>\n",
       "      <td>0.654902</td>\n",
       "      <td>0.654902</td>\n",
       "      <td>0.636520</td>\n",
       "      <td>0.591912</td>\n",
       "      <td>0.555882</td>\n",
       "      <td>0.526471</td>\n",
       "      <td>0.476225</td>\n",
       "      <td>1</td>\n",
       "    </tr>\n",
       "  </tbody>\n",
       "</table>\n",
       "<p>5 rows × 2305 columns</p>\n",
       "</div>"
      ],
      "text/plain": [
       "              0         1         2         3         4         5         6  \\\n",
       "29576  0.575490  0.760539  0.817157  0.829657  0.837010  0.844363  0.848039   \n",
       "29577 -0.392402 -0.381863 -0.367157 -0.350245 -0.329902 -0.313971 -0.291176   \n",
       "29578  0.815441  0.813235  0.790441  0.762500  0.748284  0.710294  0.669853   \n",
       "29579 -0.456618 -0.392402 -0.316912 -0.268382 -0.267892 -0.289951 -0.311275   \n",
       "29580  0.477451  0.595833  0.641667  0.629167  0.621814  0.615686  0.617157   \n",
       "\n",
       "              7         8         9  ...      2295      2296      2297  \\\n",
       "29576  0.819363  0.812010  0.818873  ... -0.376471 -0.494118 -0.554902   \n",
       "29577 -0.262010 -0.239951 -0.239216  ... -0.127941 -0.083824 -0.089461   \n",
       "29578  0.662010  0.639951  0.632108  ...  0.662500  0.655147  0.626471   \n",
       "29579 -0.326961 -0.371078 -0.393873  ... -0.537990 -0.560049 -0.560784   \n",
       "29580  0.632843  0.676961  0.671324  ...  0.647304  0.654657  0.654902   \n",
       "\n",
       "           2298      2299      2300      2301      2302      2303  emotion  \n",
       "29576 -0.593873 -0.630637 -0.667402 -0.714461 -0.756618 -0.789216        1  \n",
       "29577 -0.129902 -0.112745 -0.077696 -0.097549 -0.160294 -0.212990        1  \n",
       "29578  0.537500  0.509314  0.545343  0.540196  0.450245  0.321078        1  \n",
       "29579 -0.560784 -0.566912 -0.568627 -0.573775 -0.576471 -0.572304        1  \n",
       "29580  0.654902  0.636520  0.591912  0.555882  0.526471  0.476225        1  \n",
       "\n",
       "[5 rows x 2305 columns]"
      ]
     },
     "execution_count": 27,
     "metadata": {},
     "output_type": "execute_result"
    }
   ],
   "source": [
    "train_expanded_disgust_rot.tail()"
   ]
  },
  {
   "cell_type": "code",
   "execution_count": 28,
   "metadata": {},
   "outputs": [],
   "source": [
    "# I have now the data with rotated disgust images, my next step is to flip ALL OF IT"
   ]
  },
  {
   "cell_type": "code",
   "execution_count": 29,
   "metadata": {},
   "outputs": [],
   "source": [
    "train_np = train_expanded_disgust_rot.drop(columns = ['emotion']).values"
   ]
  },
  {
   "cell_type": "code",
   "execution_count": 30,
   "metadata": {},
   "outputs": [],
   "source": [
    "flipped_train_np = np.zeros(shape=train_np.shape)\n",
    "for i in range(len(train_np)):\n",
    "    flipped_np = img_conv.flip_frame_horitzontally(img_conv.reshape_array_to_frame(train_np[i]))\n",
    "    flipped_train_np[i] = img_conv.reshape_frame_to_array(flipped_np)"
   ]
  },
  {
   "cell_type": "code",
   "execution_count": 31,
   "metadata": {},
   "outputs": [
    {
     "data": {
      "text/plain": [
       "array([[-0.67843137, -0.6627451 , -0.59215686, ..., -0.34117647,\n",
       "        -0.43529412, -0.39607843],\n",
       "       [-0.05882353,  0.09803922,  0.01176471, ...,  0.45098039,\n",
       "         0.44313725,  0.45882353],\n",
       "       [-0.8745098 , -0.78823529, -0.65490196, ...,  0.96078431,\n",
       "         0.96862745,  0.96078431],\n",
       "       ...,\n",
       "       [ 0.07916667,  0.17352941,  0.19411765, ..., -0.98431373,\n",
       "        -0.98529412, -0.9879902 ],\n",
       "       [-0.90906863, -0.90098039, -0.89117647, ..., -0.09754902,\n",
       "        -0.01470588, -0.02279412],\n",
       "       [-0.0870098 , -0.09509804, -0.09803922, ...,  1.        ,\n",
       "         1.        ,  1.        ]])"
      ]
     },
     "execution_count": 31,
     "metadata": {},
     "output_type": "execute_result"
    }
   ],
   "source": [
    "flipped_train_np"
   ]
  },
  {
   "cell_type": "code",
   "execution_count": null,
   "metadata": {},
   "outputs": [],
   "source": []
  },
  {
   "cell_type": "code",
   "execution_count": 32,
   "metadata": {},
   "outputs": [
    {
     "data": {
      "text/html": [
       "<div>\n",
       "<style scoped>\n",
       "    .dataframe tbody tr th:only-of-type {\n",
       "        vertical-align: middle;\n",
       "    }\n",
       "\n",
       "    .dataframe tbody tr th {\n",
       "        vertical-align: top;\n",
       "    }\n",
       "\n",
       "    .dataframe thead th {\n",
       "        text-align: right;\n",
       "    }\n",
       "</style>\n",
       "<table border=\"1\" class=\"dataframe\">\n",
       "  <thead>\n",
       "    <tr style=\"text-align: right;\">\n",
       "      <th></th>\n",
       "      <th>0</th>\n",
       "      <th>1</th>\n",
       "      <th>2</th>\n",
       "      <th>3</th>\n",
       "      <th>4</th>\n",
       "      <th>5</th>\n",
       "      <th>6</th>\n",
       "      <th>7</th>\n",
       "      <th>8</th>\n",
       "      <th>9</th>\n",
       "      <th>...</th>\n",
       "      <th>2295</th>\n",
       "      <th>2296</th>\n",
       "      <th>2297</th>\n",
       "      <th>2298</th>\n",
       "      <th>2299</th>\n",
       "      <th>2300</th>\n",
       "      <th>2301</th>\n",
       "      <th>2302</th>\n",
       "      <th>2303</th>\n",
       "      <th>emotion</th>\n",
       "    </tr>\n",
       "  </thead>\n",
       "  <tbody>\n",
       "    <tr>\n",
       "      <th>29576</th>\n",
       "      <td>-0.248529</td>\n",
       "      <td>-0.178431</td>\n",
       "      <td>-0.135784</td>\n",
       "      <td>-0.108824</td>\n",
       "      <td>-0.081863</td>\n",
       "      <td>-0.092157</td>\n",
       "      <td>-0.116422</td>\n",
       "      <td>-0.140686</td>\n",
       "      <td>-0.137837</td>\n",
       "      <td>-0.048407</td>\n",
       "      <td>...</td>\n",
       "      <td>0.307292</td>\n",
       "      <td>0.390686</td>\n",
       "      <td>0.490441</td>\n",
       "      <td>0.590196</td>\n",
       "      <td>0.665686</td>\n",
       "      <td>0.676471</td>\n",
       "      <td>0.687255</td>\n",
       "      <td>0.694118</td>\n",
       "      <td>0.694118</td>\n",
       "      <td>1</td>\n",
       "    </tr>\n",
       "    <tr>\n",
       "      <th>29577</th>\n",
       "      <td>0.045343</td>\n",
       "      <td>0.026471</td>\n",
       "      <td>-0.004412</td>\n",
       "      <td>-0.042157</td>\n",
       "      <td>-0.079902</td>\n",
       "      <td>-0.111765</td>\n",
       "      <td>-0.141422</td>\n",
       "      <td>-0.171078</td>\n",
       "      <td>0.091782</td>\n",
       "      <td>0.189798</td>\n",
       "      <td>...</td>\n",
       "      <td>0.354450</td>\n",
       "      <td>0.347059</td>\n",
       "      <td>0.293137</td>\n",
       "      <td>0.239216</td>\n",
       "      <td>0.208088</td>\n",
       "      <td>0.237745</td>\n",
       "      <td>0.267402</td>\n",
       "      <td>0.296078</td>\n",
       "      <td>0.323039</td>\n",
       "      <td>1</td>\n",
       "    </tr>\n",
       "    <tr>\n",
       "      <th>29578</th>\n",
       "      <td>0.079167</td>\n",
       "      <td>0.173529</td>\n",
       "      <td>0.194118</td>\n",
       "      <td>0.172549</td>\n",
       "      <td>0.150980</td>\n",
       "      <td>0.143137</td>\n",
       "      <td>0.140441</td>\n",
       "      <td>0.137745</td>\n",
       "      <td>-0.050123</td>\n",
       "      <td>-0.646109</td>\n",
       "      <td>...</td>\n",
       "      <td>-1.000000</td>\n",
       "      <td>-0.999020</td>\n",
       "      <td>-0.993627</td>\n",
       "      <td>-0.988235</td>\n",
       "      <td>-0.984314</td>\n",
       "      <td>-0.984314</td>\n",
       "      <td>-0.984314</td>\n",
       "      <td>-0.985294</td>\n",
       "      <td>-0.987990</td>\n",
       "      <td>1</td>\n",
       "    </tr>\n",
       "    <tr>\n",
       "      <th>29579</th>\n",
       "      <td>-0.909069</td>\n",
       "      <td>-0.900980</td>\n",
       "      <td>-0.891176</td>\n",
       "      <td>-0.880392</td>\n",
       "      <td>-0.869608</td>\n",
       "      <td>-0.868627</td>\n",
       "      <td>-0.871324</td>\n",
       "      <td>-0.874020</td>\n",
       "      <td>-0.865196</td>\n",
       "      <td>-0.864246</td>\n",
       "      <td>...</td>\n",
       "      <td>-0.125498</td>\n",
       "      <td>-0.389216</td>\n",
       "      <td>-0.394608</td>\n",
       "      <td>-0.400000</td>\n",
       "      <td>-0.367157</td>\n",
       "      <td>-0.232353</td>\n",
       "      <td>-0.097549</td>\n",
       "      <td>-0.014706</td>\n",
       "      <td>-0.022794</td>\n",
       "      <td>1</td>\n",
       "    </tr>\n",
       "    <tr>\n",
       "      <th>29580</th>\n",
       "      <td>-0.087010</td>\n",
       "      <td>-0.095098</td>\n",
       "      <td>-0.098039</td>\n",
       "      <td>-0.098039</td>\n",
       "      <td>-0.098039</td>\n",
       "      <td>-0.072549</td>\n",
       "      <td>-0.037500</td>\n",
       "      <td>-0.002451</td>\n",
       "      <td>-0.063649</td>\n",
       "      <td>-0.056189</td>\n",
       "      <td>...</td>\n",
       "      <td>1.000000</td>\n",
       "      <td>1.000000</td>\n",
       "      <td>1.000000</td>\n",
       "      <td>1.000000</td>\n",
       "      <td>1.000000</td>\n",
       "      <td>1.000000</td>\n",
       "      <td>1.000000</td>\n",
       "      <td>1.000000</td>\n",
       "      <td>1.000000</td>\n",
       "      <td>1</td>\n",
       "    </tr>\n",
       "  </tbody>\n",
       "</table>\n",
       "<p>5 rows × 2305 columns</p>\n",
       "</div>"
      ],
      "text/plain": [
       "              0         1         2         3         4         5         6  \\\n",
       "29576 -0.248529 -0.178431 -0.135784 -0.108824 -0.081863 -0.092157 -0.116422   \n",
       "29577  0.045343  0.026471 -0.004412 -0.042157 -0.079902 -0.111765 -0.141422   \n",
       "29578  0.079167  0.173529  0.194118  0.172549  0.150980  0.143137  0.140441   \n",
       "29579 -0.909069 -0.900980 -0.891176 -0.880392 -0.869608 -0.868627 -0.871324   \n",
       "29580 -0.087010 -0.095098 -0.098039 -0.098039 -0.098039 -0.072549 -0.037500   \n",
       "\n",
       "              7         8         9  ...      2295      2296      2297  \\\n",
       "29576 -0.140686 -0.137837 -0.048407  ...  0.307292  0.390686  0.490441   \n",
       "29577 -0.171078  0.091782  0.189798  ...  0.354450  0.347059  0.293137   \n",
       "29578  0.137745 -0.050123 -0.646109  ... -1.000000 -0.999020 -0.993627   \n",
       "29579 -0.874020 -0.865196 -0.864246  ... -0.125498 -0.389216 -0.394608   \n",
       "29580 -0.002451 -0.063649 -0.056189  ...  1.000000  1.000000  1.000000   \n",
       "\n",
       "           2298      2299      2300      2301      2302      2303  emotion  \n",
       "29576  0.590196  0.665686  0.676471  0.687255  0.694118  0.694118        1  \n",
       "29577  0.239216  0.208088  0.237745  0.267402  0.296078  0.323039        1  \n",
       "29578 -0.988235 -0.984314 -0.984314 -0.984314 -0.985294 -0.987990        1  \n",
       "29579 -0.400000 -0.367157 -0.232353 -0.097549 -0.014706 -0.022794        1  \n",
       "29580  1.000000  1.000000  1.000000  1.000000  1.000000  1.000000        1  \n",
       "\n",
       "[5 rows x 2305 columns]"
      ]
     },
     "execution_count": 32,
     "metadata": {},
     "output_type": "execute_result"
    }
   ],
   "source": [
    "new_train = pd.DataFrame(flipped_train_np)\n",
    "new_train['emotion'] = train_expanded_disgust_rot['emotion']\n",
    "new_train.tail()"
   ]
  },
  {
   "cell_type": "code",
   "execution_count": 33,
   "metadata": {},
   "outputs": [],
   "source": [
    "new_train.columns = train_expanded_disgust_rot.columns "
   ]
  },
  {
   "cell_type": "code",
   "execution_count": 34,
   "metadata": {},
   "outputs": [],
   "source": [
    "train_expanded = pd.concat([train_expanded_disgust_rot, new_train], axis = 0)"
   ]
  },
  {
   "cell_type": "code",
   "execution_count": 35,
   "metadata": {},
   "outputs": [
    {
     "name": "stdout",
     "output_type": "stream",
     "text": [
      "<class 'pandas.core.frame.DataFrame'>\n",
      "Int64Index: 59162 entries, 0 to 29580\n",
      "Columns: 2305 entries, 0 to emotion\n",
      "dtypes: float64(2304), int64(1)\n",
      "memory usage: 1.0 GB\n"
     ]
    }
   ],
   "source": [
    "train_expanded.info()"
   ]
  },
  {
   "cell_type": "code",
   "execution_count": 36,
   "metadata": {},
   "outputs": [],
   "source": [
    "pre.set(name='DatasetDD', value=train_expanded)"
   ]
  },
  {
   "cell_type": "code",
   "execution_count": 37,
   "metadata": {},
   "outputs": [],
   "source": [
    "#Chack the structure of the new training dataset"
   ]
  },
  {
   "cell_type": "code",
   "execution_count": 38,
   "metadata": {},
   "outputs": [],
   "source": [
    "X_df = train_expanded.drop(columns=['emotion'])\n",
    "y_df = train_expanded['emotion']"
   ]
  },
  {
   "cell_type": "code",
   "execution_count": 39,
   "metadata": {},
   "outputs": [
    {
     "data": {
      "image/png": "[encoded data removed]",
      "text/plain": [
       "<Figure size 720x360 with 1 Axes>"
      ]
     },
     "metadata": {
      "needs_background": "light"
     },
     "output_type": "display_data"
    }
   ],
   "source": [
    "plt.figure(1, figsize=(10, 5))\n",
    "plt.hist(y_df.values, bins = [0, 1, 2, 3, 4, 5, 6, 7])\n",
    "plt.show()"
   ]
  },
  {
   "cell_type": "code",
   "execution_count": 40,
   "metadata": {},
   "outputs": [],
   "source": [
    "pre.save(name= 'DatasetDD')"
   ]
  },
  {
   "cell_type": "code",
   "execution_count": 16,
   "metadata": {},
   "outputs": [],
   "source": [
    "#compare the new with the old one"
   ]
  },
  {
   "cell_type": "code",
   "execution_count": 46,
   "metadata": {},
   "outputs": [],
   "source": [
    "pre.load_data(filename='train_norm.csv', name='train_norm')\n",
    "\n",
    "X_df_old = pre.get(name='train_norm').drop(columns=['emotion'])\n",
    "y_df_old= pre.get(name='train_norm')['emotion']"
   ]
  },
  {
   "cell_type": "code",
   "execution_count": 49,
   "metadata": {},
   "outputs": [],
   "source": [
    "pre.load_data(filename='train_expanded_disgust.csv', name='train_expanded_disgust')\n",
    "\n",
    "X_df_exp_c1 = pre.get(name='train_expanded_disgust').drop(columns=['emotion'])\n",
    "y_df_exp_c1 = pre.get(name='train_expanded_disgust')['emotion']"
   ]
  },
  {
   "cell_type": "code",
   "execution_count": 48,
   "metadata": {},
   "outputs": [],
   "source": [
    "pre.load_data(filename='train_expanded.csv', name='train_expanded')\n",
    "\n",
    "X_df_exp = pre.get(name='train_expanded').drop(columns=['emotion'])\n",
    "y_df_exp = pre.get(name='train_expanded')['emotion']"
   ]
  },
  {
   "cell_type": "code",
   "execution_count": null,
   "metadata": {},
   "outputs": [],
   "source": []
  },
  {
   "cell_type": "code",
   "execution_count": 69,
   "metadata": {},
   "outputs": [
    {
     "data": {
      "image/png": "[encoded data removed]",
      "text/plain": [
       "<Figure size 1440x360 with 4 Axes>"
      ]
     },
     "metadata": {
      "needs_background": "light"
     },
     "output_type": "display_data"
    }
   ],
   "source": [
    "plt.figure(1, figsize=(20, 5))\n",
    "plt.subplot(1,4, 1)\n",
    "plt.hist(y_df_old.values, bins = [0, 1, 2, 3, 4, 5, 6, 7])\n",
    "plt.ylim([0,15000])\n",
    "plt.title('A: original')\n",
    "plt.subplot(1,4, 2)\n",
    "plt.hist(y_df_exp_c1.values, bins = [0, 1, 2, 3, 4, 5, 6, 7])\n",
    "plt.ylim([0,15000])\n",
    "plt.title('B: 1:Disgust x2')\n",
    "plt.subplot(1,4, 3)\n",
    "plt.hist(y_df_exp.values, bins = [0, 1, 2, 3, 4, 5, 6, 7])\n",
    "plt.ylim([0,15000])\n",
    "plt.title('C: original x2')\n",
    "plt.subplot(1,4, 4)\n",
    "plt.hist(y_df.values, bins = [0, 1, 2, 3, 4, 5, 6, 7])\n",
    "plt.ylim([0,15000])\n",
    "plt.title('D: 1:Disgust x6, rest x2')\n",
    "plt.show()"
   ]
  },
  {
   "cell_type": "code",
   "execution_count": null,
   "metadata": {},
   "outputs": [],
   "source": []
  }
 ],
 "metadata": {
  "kernelspec": {
   "display_name": "Python 3",
   "language": "python",
   "name": "python3"
  },
  "language_info": {
   "codemirror_mode": {
    "name": "ipython",
    "version": 3
   },
   "file_extension": ".py",
   "mimetype": "text/x-python",
   "name": "python",
   "nbconvert_exporter": "python",
   "pygments_lexer": "ipython3",
   "version": "3.6.8"
  }
 },
 "nbformat": 4,
 "nbformat_minor": 2
}
