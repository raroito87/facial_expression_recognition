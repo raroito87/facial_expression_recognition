{
 "cells": [
  {
   "cell_type": "code",
   "execution_count": 7,
   "metadata": {},
   "outputs": [],
   "source": [
    "from utils import ModelImporter, Preprocessing\n",
    "import torch\n",
    "import pandas as pd\n",
    "import numpy as np\n",
    "from sklearn import metrics"
   ]
  },
  {
   "cell_type": "markdown",
   "metadata": {},
   "source": [
    "# Analize Test Data Results with model train with entire data and tuned parameters"
   ]
  },
  {
   "cell_type": "code",
   "execution_count": 2,
   "metadata": {},
   "outputs": [],
   "source": [
    "pre = Preprocessing('fer2013')\n",
    "pre.load_data(filename='test_public_norm.csv', name='test')\n",
    "\n",
    "X_df = pre.get(name='test').drop(columns=['emotion'])\n",
    "y_df = pre.get(name='test')['emotion']"
   ]
  },
  {
   "cell_type": "code",
   "execution_count": 3,
   "metadata": {},
   "outputs": [
    {
     "name": "stdout",
     "output_type": "stream",
     "text": [
      "['cnn_simple_0.0001_32_100_7_epoch80', 1, 7, [48, 48], 15, 2]\n",
      "load model CnnSimple(\n",
      "  (drop_hidden): Dropout(p=0.5)\n",
      "  (drop_visible): Dropout(p=0.2)\n",
      "  (conv1): Conv2d(1, 15, kernel_size=(3, 3), stride=(1, 1), padding=(1, 1))\n",
      "  (batchnorm1): BatchNorm2d(15, eps=1e-05, momentum=0.1, affine=True, track_running_stats=True)\n",
      "  (pool): MaxPool2d(kernel_size=2, stride=2, padding=0, dilation=1, ceil_mode=False)\n",
      "  (fc1): Linear(in_features=8640, out_features=32, bias=True)\n",
      "  (fc2): Linear(in_features=32, out_features=7, bias=True)\n",
      ")\n"
     ]
    }
   ],
   "source": [
    "dtype = torch.float\n",
    "device = torch.device(\"cpu\")\n",
    "\n",
    "n_classes = 7\n",
    "n_epochs = 100\n",
    "learning_rate = 0.0001\n",
    "batch_size = 32\n",
    "epoch_n=80\n",
    "\n",
    "model_name = f'cnn_simple_{learning_rate}_{batch_size}_{n_epochs}_{n_classes}_epoch{epoch_n}'\n",
    "\n",
    "m_importer = ModelImporter('fer2013')\n",
    "\n",
    "model = m_importer.load_nn_model(model_name)"
   ]
  },
  {
   "cell_type": "code",
   "execution_count": 8,
   "metadata": {},
   "outputs": [],
   "source": [
    "X_test = model.reshape_data(torch.tensor(X_df.values, device=device, dtype=dtype))\n",
    "y_test = torch.tensor(y_df.values, device=device, dtype=torch.long)"
   ]
  },
  {
   "cell_type": "code",
   "execution_count": 9,
   "metadata": {},
   "outputs": [],
   "source": [
    "y_pred_prob = model(X_test)"
   ]
  },
  {
   "cell_type": "code",
   "execution_count": 10,
   "metadata": {},
   "outputs": [],
   "source": [
    "y_pred = y_pred_prob.argmax(1)"
   ]
  },
  {
   "cell_type": "code",
   "execution_count": 11,
   "metadata": {
    "scrolled": true
   },
   "outputs": [
    {
     "data": {
      "text/plain": [
       "tensor(0.4806)"
      ]
     },
     "execution_count": 11,
     "metadata": {},
     "output_type": "execute_result"
    }
   ],
   "source": [
    "accuracy_soft = (y_pred == y_test).float().mean()\n",
    "accuracy_soft"
   ]
  },
  {
   "cell_type": "code",
   "execution_count": 17,
   "metadata": {},
   "outputs": [
    {
     "data": {
      "text/plain": [
       "tensor([2, 3, 2,  ..., 4, 0, 6])"
      ]
     },
     "execution_count": 17,
     "metadata": {},
     "output_type": "execute_result"
    }
   ],
   "source": [
    "y_pred"
   ]
  },
  {
   "cell_type": "code",
   "execution_count": 18,
   "metadata": {},
   "outputs": [],
   "source": [
    "results = pd.DataFrame()"
   ]
  },
  {
   "cell_type": "code",
   "execution_count": 19,
   "metadata": {},
   "outputs": [],
   "source": [
    "results['y_test'] = y_test\n",
    "results['y_pred'] = y_pred\n",
    "results['right'] = (y_pred == y_test).float()\n",
    "results['ones'] = 1"
   ]
  },
  {
   "cell_type": "code",
   "execution_count": 20,
   "metadata": {},
   "outputs": [
    {
     "data": {
      "text/html": [
       "<div>\n",
       "<style scoped>\n",
       "    .dataframe tbody tr th:only-of-type {\n",
       "        vertical-align: middle;\n",
       "    }\n",
       "\n",
       "    .dataframe tbody tr th {\n",
       "        vertical-align: top;\n",
       "    }\n",
       "\n",
       "    .dataframe thead th {\n",
       "        text-align: right;\n",
       "    }\n",
       "</style>\n",
       "<table border=\"1\" class=\"dataframe\">\n",
       "  <thead>\n",
       "    <tr style=\"text-align: right;\">\n",
       "      <th></th>\n",
       "      <th>y_test</th>\n",
       "      <th>y_pred</th>\n",
       "      <th>right</th>\n",
       "      <th>ones</th>\n",
       "    </tr>\n",
       "  </thead>\n",
       "  <tbody>\n",
       "    <tr>\n",
       "      <th>3584</th>\n",
       "      <td>4</td>\n",
       "      <td>0</td>\n",
       "      <td>0.0</td>\n",
       "      <td>1</td>\n",
       "    </tr>\n",
       "    <tr>\n",
       "      <th>3585</th>\n",
       "      <td>3</td>\n",
       "      <td>3</td>\n",
       "      <td>1.0</td>\n",
       "      <td>1</td>\n",
       "    </tr>\n",
       "    <tr>\n",
       "      <th>3586</th>\n",
       "      <td>4</td>\n",
       "      <td>4</td>\n",
       "      <td>1.0</td>\n",
       "      <td>1</td>\n",
       "    </tr>\n",
       "    <tr>\n",
       "      <th>3587</th>\n",
       "      <td>4</td>\n",
       "      <td>0</td>\n",
       "      <td>0.0</td>\n",
       "      <td>1</td>\n",
       "    </tr>\n",
       "    <tr>\n",
       "      <th>3588</th>\n",
       "      <td>4</td>\n",
       "      <td>6</td>\n",
       "      <td>0.0</td>\n",
       "      <td>1</td>\n",
       "    </tr>\n",
       "  </tbody>\n",
       "</table>\n",
       "</div>"
      ],
      "text/plain": [
       "      y_test  y_pred  right  ones\n",
       "3584       4       0    0.0     1\n",
       "3585       3       3    1.0     1\n",
       "3586       4       4    1.0     1\n",
       "3587       4       0    0.0     1\n",
       "3588       4       6    0.0     1"
      ]
     },
     "execution_count": 20,
     "metadata": {},
     "output_type": "execute_result"
    }
   ],
   "source": [
    "results.tail()"
   ]
  },
  {
   "cell_type": "code",
   "execution_count": 21,
   "metadata": {},
   "outputs": [
    {
     "data": {
      "text/html": [
       "<div>\n",
       "<style scoped>\n",
       "    .dataframe tbody tr th:only-of-type {\n",
       "        vertical-align: middle;\n",
       "    }\n",
       "\n",
       "    .dataframe tbody tr th {\n",
       "        vertical-align: top;\n",
       "    }\n",
       "\n",
       "    .dataframe thead th {\n",
       "        text-align: right;\n",
       "    }\n",
       "</style>\n",
       "<table border=\"1\" class=\"dataframe\">\n",
       "  <thead>\n",
       "    <tr style=\"text-align: right;\">\n",
       "      <th></th>\n",
       "      <th>y_pred</th>\n",
       "      <th>right</th>\n",
       "      <th>ones</th>\n",
       "    </tr>\n",
       "    <tr>\n",
       "      <th>y_test</th>\n",
       "      <th></th>\n",
       "      <th></th>\n",
       "      <th></th>\n",
       "    </tr>\n",
       "  </thead>\n",
       "  <tbody>\n",
       "    <tr>\n",
       "      <th>0</th>\n",
       "      <td>1314</td>\n",
       "      <td>126.0</td>\n",
       "      <td>467</td>\n",
       "    </tr>\n",
       "    <tr>\n",
       "      <th>1</th>\n",
       "      <td>118</td>\n",
       "      <td>11.0</td>\n",
       "      <td>56</td>\n",
       "    </tr>\n",
       "    <tr>\n",
       "      <th>2</th>\n",
       "      <td>1620</td>\n",
       "      <td>164.0</td>\n",
       "      <td>496</td>\n",
       "    </tr>\n",
       "    <tr>\n",
       "      <th>3</th>\n",
       "      <td>2941</td>\n",
       "      <td>617.0</td>\n",
       "      <td>895</td>\n",
       "    </tr>\n",
       "    <tr>\n",
       "      <th>4</th>\n",
       "      <td>2307</td>\n",
       "      <td>243.0</td>\n",
       "      <td>653</td>\n",
       "    </tr>\n",
       "    <tr>\n",
       "      <th>5</th>\n",
       "      <td>1785</td>\n",
       "      <td>272.0</td>\n",
       "      <td>415</td>\n",
       "    </tr>\n",
       "    <tr>\n",
       "      <th>6</th>\n",
       "      <td>2672</td>\n",
       "      <td>292.0</td>\n",
       "      <td>607</td>\n",
       "    </tr>\n",
       "  </tbody>\n",
       "</table>\n",
       "</div>"
      ],
      "text/plain": [
       "        y_pred  right  ones\n",
       "y_test                     \n",
       "0         1314  126.0   467\n",
       "1          118   11.0    56\n",
       "2         1620  164.0   496\n",
       "3         2941  617.0   895\n",
       "4         2307  243.0   653\n",
       "5         1785  272.0   415\n",
       "6         2672  292.0   607"
      ]
     },
     "execution_count": 21,
     "metadata": {},
     "output_type": "execute_result"
    }
   ],
   "source": [
    "report = results.groupby('y_test').sum()\n",
    "report"
   ]
  },
  {
   "cell_type": "code",
   "execution_count": 22,
   "metadata": {},
   "outputs": [
    {
     "data": {
      "text/html": [
       "<div>\n",
       "<style scoped>\n",
       "    .dataframe tbody tr th:only-of-type {\n",
       "        vertical-align: middle;\n",
       "    }\n",
       "\n",
       "    .dataframe tbody tr th {\n",
       "        vertical-align: top;\n",
       "    }\n",
       "\n",
       "    .dataframe thead th {\n",
       "        text-align: right;\n",
       "    }\n",
       "</style>\n",
       "<table border=\"1\" class=\"dataframe\">\n",
       "  <thead>\n",
       "    <tr style=\"text-align: right;\">\n",
       "      <th></th>\n",
       "      <th>y_pred</th>\n",
       "      <th>right</th>\n",
       "      <th>ones</th>\n",
       "      <th>%</th>\n",
       "    </tr>\n",
       "    <tr>\n",
       "      <th>y_test</th>\n",
       "      <th></th>\n",
       "      <th></th>\n",
       "      <th></th>\n",
       "      <th></th>\n",
       "    </tr>\n",
       "  </thead>\n",
       "  <tbody>\n",
       "    <tr>\n",
       "      <th>0</th>\n",
       "      <td>1314</td>\n",
       "      <td>126.0</td>\n",
       "      <td>467</td>\n",
       "      <td>0.269807</td>\n",
       "    </tr>\n",
       "    <tr>\n",
       "      <th>1</th>\n",
       "      <td>118</td>\n",
       "      <td>11.0</td>\n",
       "      <td>56</td>\n",
       "      <td>0.196429</td>\n",
       "    </tr>\n",
       "    <tr>\n",
       "      <th>2</th>\n",
       "      <td>1620</td>\n",
       "      <td>164.0</td>\n",
       "      <td>496</td>\n",
       "      <td>0.330645</td>\n",
       "    </tr>\n",
       "    <tr>\n",
       "      <th>3</th>\n",
       "      <td>2941</td>\n",
       "      <td>617.0</td>\n",
       "      <td>895</td>\n",
       "      <td>0.689385</td>\n",
       "    </tr>\n",
       "    <tr>\n",
       "      <th>4</th>\n",
       "      <td>2307</td>\n",
       "      <td>243.0</td>\n",
       "      <td>653</td>\n",
       "      <td>0.372129</td>\n",
       "    </tr>\n",
       "    <tr>\n",
       "      <th>5</th>\n",
       "      <td>1785</td>\n",
       "      <td>272.0</td>\n",
       "      <td>415</td>\n",
       "      <td>0.655422</td>\n",
       "    </tr>\n",
       "    <tr>\n",
       "      <th>6</th>\n",
       "      <td>2672</td>\n",
       "      <td>292.0</td>\n",
       "      <td>607</td>\n",
       "      <td>0.481054</td>\n",
       "    </tr>\n",
       "  </tbody>\n",
       "</table>\n",
       "</div>"
      ],
      "text/plain": [
       "        y_pred  right  ones         %\n",
       "y_test                               \n",
       "0         1314  126.0   467  0.269807\n",
       "1          118   11.0    56  0.196429\n",
       "2         1620  164.0   496  0.330645\n",
       "3         2941  617.0   895  0.689385\n",
       "4         2307  243.0   653  0.372129\n",
       "5         1785  272.0   415  0.655422\n",
       "6         2672  292.0   607  0.481054"
      ]
     },
     "execution_count": 22,
     "metadata": {},
     "output_type": "execute_result"
    }
   ],
   "source": [
    "report['%'] = report['right']/report['ones']\n",
    "report"
   ]
  },
  {
   "cell_type": "code",
   "execution_count": 23,
   "metadata": {},
   "outputs": [
    {
     "data": {
      "text/plain": [
       "3589"
      ]
     },
     "execution_count": 23,
     "metadata": {},
     "output_type": "execute_result"
    }
   ],
   "source": [
    "report['ones'].sum()"
   ]
  },
  {
   "cell_type": "code",
   "execution_count": 24,
   "metadata": {},
   "outputs": [],
   "source": [
    "#class 3 is somhow well recognized (also is the class with more samples) \n",
    "#whereas not a single sample of class 2 was properly detected"
   ]
  },
  {
   "cell_type": "markdown",
   "metadata": {},
   "source": [
    "# Analize Test Data Results with model train with disgust only expanded data "
   ]
  },
  {
   "cell_type": "code",
   "execution_count": 26,
   "metadata": {},
   "outputs": [
    {
     "name": "stdout",
     "output_type": "stream",
     "text": [
      "['cnn_simple_0.0001_32_100_7_epoch80', 1, 7, [48, 48], 15, 2]\n",
      "load model CnnSimple(\n",
      "  (drop_hidden): Dropout(p=0.5)\n",
      "  (drop_visible): Dropout(p=0.2)\n",
      "  (conv1): Conv2d(1, 15, kernel_size=(3, 3), stride=(1, 1), padding=(1, 1))\n",
      "  (batchnorm1): BatchNorm2d(15, eps=1e-05, momentum=0.1, affine=True, track_running_stats=True)\n",
      "  (pool): MaxPool2d(kernel_size=2, stride=2, padding=0, dilation=1, ceil_mode=False)\n",
      "  (fc1): Linear(in_features=8640, out_features=32, bias=True)\n",
      "  (fc2): Linear(in_features=32, out_features=7, bias=True)\n",
      ")\n"
     ]
    }
   ],
   "source": [
    "epoch_n=80\n",
    "model_name = f'cnn_simple_{learning_rate}_{batch_size}_{n_epochs}_{n_classes}_epoch{epoch_n}'\n",
    "m_importer = ModelImporter('fer2013_expanded_disgust')\n",
    "model = m_importer.load_nn_model(model_name)"
   ]
  },
  {
   "cell_type": "code",
   "execution_count": 27,
   "metadata": {},
   "outputs": [],
   "source": [
    "X_test = model.reshape_data(torch.tensor(X_df.values, device=device, dtype=dtype))\n",
    "y_test = torch.tensor(y_df.values, device=device, dtype=torch.long)"
   ]
  },
  {
   "cell_type": "code",
   "execution_count": 28,
   "metadata": {},
   "outputs": [],
   "source": [
    "y_pred_prob = model(X_test)"
   ]
  },
  {
   "cell_type": "code",
   "execution_count": 29,
   "metadata": {},
   "outputs": [],
   "source": [
    "y_pred = y_pred_prob.argmax(1)"
   ]
  },
  {
   "cell_type": "code",
   "execution_count": 30,
   "metadata": {},
   "outputs": [
    {
     "data": {
      "text/plain": [
       "tensor(0.4987)"
      ]
     },
     "execution_count": 30,
     "metadata": {},
     "output_type": "execute_result"
    }
   ],
   "source": [
    "accuracy_soft = (y_pred == y_test).float().mean()\n",
    "accuracy_soft"
   ]
  },
  {
   "cell_type": "code",
   "execution_count": 31,
   "metadata": {},
   "outputs": [],
   "source": [
    "results_expanded_disgust = pd.DataFrame()"
   ]
  },
  {
   "cell_type": "code",
   "execution_count": 32,
   "metadata": {},
   "outputs": [],
   "source": [
    "results_expanded_disgust['y_test'] = y_test\n",
    "results_expanded_disgust['y_pred'] = y_pred\n",
    "results_expanded_disgust['right'] = (y_pred == y_test).float()\n",
    "results_expanded_disgust['ones'] = 1"
   ]
  },
  {
   "cell_type": "code",
   "execution_count": 33,
   "metadata": {},
   "outputs": [
    {
     "data": {
      "text/html": [
       "<div>\n",
       "<style scoped>\n",
       "    .dataframe tbody tr th:only-of-type {\n",
       "        vertical-align: middle;\n",
       "    }\n",
       "\n",
       "    .dataframe tbody tr th {\n",
       "        vertical-align: top;\n",
       "    }\n",
       "\n",
       "    .dataframe thead th {\n",
       "        text-align: right;\n",
       "    }\n",
       "</style>\n",
       "<table border=\"1\" class=\"dataframe\">\n",
       "  <thead>\n",
       "    <tr style=\"text-align: right;\">\n",
       "      <th></th>\n",
       "      <th>y_test</th>\n",
       "      <th>y_pred</th>\n",
       "      <th>right</th>\n",
       "      <th>ones</th>\n",
       "    </tr>\n",
       "  </thead>\n",
       "  <tbody>\n",
       "    <tr>\n",
       "      <th>3584</th>\n",
       "      <td>4</td>\n",
       "      <td>0</td>\n",
       "      <td>0.0</td>\n",
       "      <td>1</td>\n",
       "    </tr>\n",
       "    <tr>\n",
       "      <th>3585</th>\n",
       "      <td>3</td>\n",
       "      <td>3</td>\n",
       "      <td>1.0</td>\n",
       "      <td>1</td>\n",
       "    </tr>\n",
       "    <tr>\n",
       "      <th>3586</th>\n",
       "      <td>4</td>\n",
       "      <td>4</td>\n",
       "      <td>1.0</td>\n",
       "      <td>1</td>\n",
       "    </tr>\n",
       "    <tr>\n",
       "      <th>3587</th>\n",
       "      <td>4</td>\n",
       "      <td>0</td>\n",
       "      <td>0.0</td>\n",
       "      <td>1</td>\n",
       "    </tr>\n",
       "    <tr>\n",
       "      <th>3588</th>\n",
       "      <td>4</td>\n",
       "      <td>6</td>\n",
       "      <td>0.0</td>\n",
       "      <td>1</td>\n",
       "    </tr>\n",
       "  </tbody>\n",
       "</table>\n",
       "</div>"
      ],
      "text/plain": [
       "      y_test  y_pred  right  ones\n",
       "3584       4       0    0.0     1\n",
       "3585       3       3    1.0     1\n",
       "3586       4       4    1.0     1\n",
       "3587       4       0    0.0     1\n",
       "3588       4       6    0.0     1"
      ]
     },
     "execution_count": 33,
     "metadata": {},
     "output_type": "execute_result"
    }
   ],
   "source": [
    "results_expanded_disgust.tail()"
   ]
  },
  {
   "cell_type": "code",
   "execution_count": 34,
   "metadata": {},
   "outputs": [
    {
     "data": {
      "text/html": [
       "<div>\n",
       "<style scoped>\n",
       "    .dataframe tbody tr th:only-of-type {\n",
       "        vertical-align: middle;\n",
       "    }\n",
       "\n",
       "    .dataframe tbody tr th {\n",
       "        vertical-align: top;\n",
       "    }\n",
       "\n",
       "    .dataframe thead th {\n",
       "        text-align: right;\n",
       "    }\n",
       "</style>\n",
       "<table border=\"1\" class=\"dataframe\">\n",
       "  <thead>\n",
       "    <tr style=\"text-align: right;\">\n",
       "      <th></th>\n",
       "      <th>y_pred</th>\n",
       "      <th>right</th>\n",
       "      <th>ones</th>\n",
       "    </tr>\n",
       "    <tr>\n",
       "      <th>y_test</th>\n",
       "      <th></th>\n",
       "      <th></th>\n",
       "      <th></th>\n",
       "    </tr>\n",
       "  </thead>\n",
       "  <tbody>\n",
       "    <tr>\n",
       "      <th>0</th>\n",
       "      <td>1211</td>\n",
       "      <td>146.0</td>\n",
       "      <td>467</td>\n",
       "    </tr>\n",
       "    <tr>\n",
       "      <th>1</th>\n",
       "      <td>101</td>\n",
       "      <td>19.0</td>\n",
       "      <td>56</td>\n",
       "    </tr>\n",
       "    <tr>\n",
       "      <th>2</th>\n",
       "      <td>1649</td>\n",
       "      <td>135.0</td>\n",
       "      <td>496</td>\n",
       "    </tr>\n",
       "    <tr>\n",
       "      <th>3</th>\n",
       "      <td>2874</td>\n",
       "      <td>680.0</td>\n",
       "      <td>895</td>\n",
       "    </tr>\n",
       "    <tr>\n",
       "      <th>4</th>\n",
       "      <td>2312</td>\n",
       "      <td>247.0</td>\n",
       "      <td>653</td>\n",
       "    </tr>\n",
       "    <tr>\n",
       "      <th>5</th>\n",
       "      <td>1818</td>\n",
       "      <td>275.0</td>\n",
       "      <td>415</td>\n",
       "    </tr>\n",
       "    <tr>\n",
       "      <th>6</th>\n",
       "      <td>2657</td>\n",
       "      <td>288.0</td>\n",
       "      <td>607</td>\n",
       "    </tr>\n",
       "  </tbody>\n",
       "</table>\n",
       "</div>"
      ],
      "text/plain": [
       "        y_pred  right  ones\n",
       "y_test                     \n",
       "0         1211  146.0   467\n",
       "1          101   19.0    56\n",
       "2         1649  135.0   496\n",
       "3         2874  680.0   895\n",
       "4         2312  247.0   653\n",
       "5         1818  275.0   415\n",
       "6         2657  288.0   607"
      ]
     },
     "execution_count": 34,
     "metadata": {},
     "output_type": "execute_result"
    }
   ],
   "source": [
    "report_exp_disgust = results_expanded_disgust.groupby('y_test').sum()\n",
    "report_exp_disgust"
   ]
  },
  {
   "cell_type": "code",
   "execution_count": 35,
   "metadata": {},
   "outputs": [
    {
     "data": {
      "text/html": [
       "<div>\n",
       "<style scoped>\n",
       "    .dataframe tbody tr th:only-of-type {\n",
       "        vertical-align: middle;\n",
       "    }\n",
       "\n",
       "    .dataframe tbody tr th {\n",
       "        vertical-align: top;\n",
       "    }\n",
       "\n",
       "    .dataframe thead th {\n",
       "        text-align: right;\n",
       "    }\n",
       "</style>\n",
       "<table border=\"1\" class=\"dataframe\">\n",
       "  <thead>\n",
       "    <tr style=\"text-align: right;\">\n",
       "      <th></th>\n",
       "      <th>y_pred</th>\n",
       "      <th>right</th>\n",
       "      <th>ones</th>\n",
       "      <th>%</th>\n",
       "    </tr>\n",
       "    <tr>\n",
       "      <th>y_test</th>\n",
       "      <th></th>\n",
       "      <th></th>\n",
       "      <th></th>\n",
       "      <th></th>\n",
       "    </tr>\n",
       "  </thead>\n",
       "  <tbody>\n",
       "    <tr>\n",
       "      <th>0</th>\n",
       "      <td>1211</td>\n",
       "      <td>146.0</td>\n",
       "      <td>467</td>\n",
       "      <td>0.312634</td>\n",
       "    </tr>\n",
       "    <tr>\n",
       "      <th>1</th>\n",
       "      <td>101</td>\n",
       "      <td>19.0</td>\n",
       "      <td>56</td>\n",
       "      <td>0.339286</td>\n",
       "    </tr>\n",
       "    <tr>\n",
       "      <th>2</th>\n",
       "      <td>1649</td>\n",
       "      <td>135.0</td>\n",
       "      <td>496</td>\n",
       "      <td>0.272177</td>\n",
       "    </tr>\n",
       "    <tr>\n",
       "      <th>3</th>\n",
       "      <td>2874</td>\n",
       "      <td>680.0</td>\n",
       "      <td>895</td>\n",
       "      <td>0.759777</td>\n",
       "    </tr>\n",
       "    <tr>\n",
       "      <th>4</th>\n",
       "      <td>2312</td>\n",
       "      <td>247.0</td>\n",
       "      <td>653</td>\n",
       "      <td>0.378254</td>\n",
       "    </tr>\n",
       "    <tr>\n",
       "      <th>5</th>\n",
       "      <td>1818</td>\n",
       "      <td>275.0</td>\n",
       "      <td>415</td>\n",
       "      <td>0.662651</td>\n",
       "    </tr>\n",
       "    <tr>\n",
       "      <th>6</th>\n",
       "      <td>2657</td>\n",
       "      <td>288.0</td>\n",
       "      <td>607</td>\n",
       "      <td>0.474465</td>\n",
       "    </tr>\n",
       "  </tbody>\n",
       "</table>\n",
       "</div>"
      ],
      "text/plain": [
       "        y_pred  right  ones         %\n",
       "y_test                               \n",
       "0         1211  146.0   467  0.312634\n",
       "1          101   19.0    56  0.339286\n",
       "2         1649  135.0   496  0.272177\n",
       "3         2874  680.0   895  0.759777\n",
       "4         2312  247.0   653  0.378254\n",
       "5         1818  275.0   415  0.662651\n",
       "6         2657  288.0   607  0.474465"
      ]
     },
     "execution_count": 35,
     "metadata": {},
     "output_type": "execute_result"
    }
   ],
   "source": [
    "report_exp_disgust['%'] = report_exp_disgust['right']/report_exp_disgust['ones']\n",
    "report_exp_disgust"
   ]
  },
  {
   "cell_type": "code",
   "execution_count": null,
   "metadata": {},
   "outputs": [],
   "source": [
    "# the general accuracy has improved from 46.81% to 49.23% \n",
    "# the main changed has happened in the prediction of the disgust class, going from 14.28% to 23.21% \n",
    "# this considerable improvement has happened only by adding the flippedimages "
   ]
  },
  {
   "cell_type": "markdown",
   "metadata": {},
   "source": [
    "## Analize Test Data Results with model train with expanded data "
   ]
  },
  {
   "cell_type": "code",
   "execution_count": 52,
   "metadata": {},
   "outputs": [],
   "source": [
    "dtype = torch.float\n",
    "device = torch.device(\"cpu\")\n",
    "\n",
    "n_classes = 7\n",
    "n_epochs = 100\n",
    "learning_rate = 0.0001\n",
    "batch_size = 32\n",
    "epoch_n=60"
   ]
  },
  {
   "cell_type": "code",
   "execution_count": 53,
   "metadata": {},
   "outputs": [
    {
     "name": "stdout",
     "output_type": "stream",
     "text": [
      "['cnn_simple_expanded_0.0001_32_100_7_epoch60', 1, 7, [48, 48], 15, 2]\n",
      "load model CnnSimple(\n",
      "  (drop_hidden): Dropout(p=0.5)\n",
      "  (drop_visible): Dropout(p=0.2)\n",
      "  (conv1): Conv2d(1, 15, kernel_size=(3, 3), stride=(1, 1), padding=(1, 1))\n",
      "  (batchnorm1): BatchNorm2d(15, eps=1e-05, momentum=0.1, affine=True, track_running_stats=True)\n",
      "  (pool): MaxPool2d(kernel_size=2, stride=2, padding=0, dilation=1, ceil_mode=False)\n",
      "  (fc1): Linear(in_features=8640, out_features=32, bias=True)\n",
      "  (fc2): Linear(in_features=32, out_features=7, bias=True)\n",
      ")\n",
      "OrderedDict([('conv1.weight', tensor([[[[ 0.0042, -0.1761,  0.1045],\n",
      "          [-0.2366,  0.2980,  0.0053],\n",
      "          [ 0.2086, -0.0152, -0.1142]]],\n",
      "\n",
      "\n",
      "        [[[ 0.0581,  0.1283,  0.2127],\n",
      "          [-0.0529, -0.3404, -0.3195],\n",
      "          [ 0.0550,  0.2163,  0.1197]]],\n",
      "\n",
      "\n",
      "        [[[ 0.2406, -0.0417, -0.0047],\n",
      "          [ 0.3672,  0.1402,  0.2999],\n",
      "          [ 0.1990,  0.0204,  0.2339]]],\n",
      "\n",
      "\n",
      "        [[[-0.0999,  0.3016, -0.0296],\n",
      "          [ 0.2190,  0.2398, -0.3846],\n",
      "          [-0.0512, -0.3254,  0.0011]]],\n",
      "\n",
      "\n",
      "        [[[-0.0287, -0.2724, -0.0216],\n",
      "          [ 0.2794,  0.2399, -0.3544],\n",
      "          [-0.2499,  0.2229,  0.2081]]],\n",
      "\n",
      "\n",
      "        [[[ 0.0060, -0.2046,  0.2414],\n",
      "          [-0.4730, -0.0172,  0.0355],\n",
      "          [-0.1846, -0.1876,  0.2555]]],\n",
      "\n",
      "\n",
      "        [[[-0.2039,  0.1048, -0.2820],\n",
      "          [ 0.2926, -0.0609, -0.1121],\n",
      "          [ 0.1644,  0.0139,  0.0594]]],\n",
      "\n",
      "\n",
      "        [[[-0.0784, -0.3502,  0.1582],\n",
      "          [-0.0096, -0.0453, -0.0061],\n",
      "          [ 0.0411, -0.0374,  0.3561]]],\n",
      "\n",
      "\n",
      "        [[[ 0.1092,  0.2265,  0.0025],\n",
      "          [-0.0792,  0.1449, -0.3314],\n",
      "          [-0.1659, -0.1888,  0.3398]]],\n",
      "\n",
      "\n",
      "        [[[ 0.0622, -0.2857,  0.2510],\n",
      "          [-0.0044,  0.1633, -0.2144],\n",
      "          [-0.0572,  0.1090, -0.0317]]],\n",
      "\n",
      "\n",
      "        [[[ 0.2013, -0.1750,  0.0178],\n",
      "          [ 0.1101, -0.1783,  0.0484],\n",
      "          [ 0.0883, -0.1924,  0.0996]]],\n",
      "\n",
      "\n",
      "        [[[ 0.2808,  0.2728,  0.1979],\n",
      "          [-0.1658, -0.3016, -0.0225],\n",
      "          [-0.1290,  0.0533, -0.1827]]],\n",
      "\n",
      "\n",
      "        [[[ 0.0214, -0.1425,  0.1755],\n",
      "          [-0.0678, -0.1769,  0.1975],\n",
      "          [ 0.3053, -0.3488,  0.0487]]],\n",
      "\n",
      "\n",
      "        [[[-0.0211,  0.1907, -0.0729],\n",
      "          [-0.3034,  0.2654, -0.0203],\n",
      "          [ 0.1880, -0.3423,  0.2144]]],\n",
      "\n",
      "\n",
      "        [[[ 0.3150,  0.0455, -0.1139],\n",
      "          [-0.2848, -0.3866,  0.0804],\n",
      "          [-0.0153,  0.3327,  0.0249]]]])), ('conv1.bias', tensor([ 0.0432, -0.1470,  0.1865,  0.1665,  0.1921,  0.2622, -0.0201,  0.0892,\n",
      "         0.0882, -0.2677,  0.0275,  0.1921, -0.1549, -0.0871,  0.0591])), ('batchnorm1.weight', tensor([0.5411, 0.8896, 0.5331, 0.3992, 0.5970, 0.7335, 0.7693, 0.8248, 0.7189,\n",
      "        0.5069, 0.7722, 0.9190, 0.4557, 0.4645, 0.8049])), ('batchnorm1.bias', tensor([-0.3304, -0.5464, -0.2587, -0.0497, -0.1503, -0.4372, -0.3936, -0.3744,\n",
      "        -0.4169, -0.3728, -0.3008, -0.2225, -0.1620, -0.2742, -0.3595])), ('batchnorm1.running_mean', tensor([ 0.0819, -0.1153,  0.8974,  0.1074,  0.2076, -0.0012, -0.0295,  0.0978,\n",
      "         0.1145, -0.2721,  0.0313,  0.1907, -0.1565, -0.0397,  0.0522])), ('batchnorm1.running_var', tensor([0.0010, 0.0030, 0.1236, 0.0057, 0.0032, 0.0270, 0.0050, 0.0055, 0.0024,\n",
      "        0.0003, 0.0020, 0.0075, 0.0028, 0.0017, 0.0023])), ('batchnorm1.num_batches_tracked', tensor(98468)), ('fc1.weight', tensor([[ 0.0139,  0.0150,  0.0178,  ...,  0.0215, -0.0742, -0.0294],\n",
      "        [-0.0037,  0.0041, -0.0370,  ..., -0.0039,  0.0268,  0.0014],\n",
      "        [-0.0217, -0.0236,  0.0144,  ..., -0.0232, -0.0121, -0.0213],\n",
      "        ...,\n",
      "        [-0.0013,  0.0006, -0.0017,  ..., -0.0060, -0.0124,  0.0089],\n",
      "        [ 0.0031,  0.0067, -0.0143,  ...,  0.0006, -0.0061,  0.0045],\n",
      "        [ 0.0179,  0.0154,  0.0073,  ..., -0.0357, -0.0124,  0.0252]])), ('fc1.bias', tensor([ 2.7821e-02,  1.2714e-02,  4.5859e-02,  1.9771e-02,  4.3860e-02,\n",
      "         5.5358e-02,  3.9062e-02,  5.8425e-04, -5.3208e-05,  1.3118e-03,\n",
      "        -9.1680e-03,  6.8500e-02, -4.7835e-02,  8.2439e-03,  7.0598e-02,\n",
      "        -4.2880e-02, -2.3322e-02,  2.0806e-03,  4.0475e-02,  5.5238e-03,\n",
      "         5.1931e-02, -1.0424e-02,  2.9290e-02, -2.8713e-02,  5.2308e-04,\n",
      "         3.6417e-02,  8.5568e-02, -9.5714e-04, -4.1672e-03, -3.3094e-03,\n",
      "         2.4810e-03, -6.2405e-04])), ('fc2.weight', tensor([[-0.1424, -0.0565,  0.1087,  0.1533, -0.3877, -0.1880,  0.1073,  0.1957,\n",
      "          0.2521, -0.0219,  0.1190,  0.1240,  0.1718,  0.3659, -0.0672,  0.2354,\n",
      "         -0.2952, -0.1274,  0.0104,  0.0305,  0.1371, -0.0551, -0.0361,  0.1553,\n",
      "         -0.3613,  0.1828,  0.0190, -0.1596, -0.1580,  0.0492, -0.0104, -0.0565],\n",
      "        [-0.5400,  0.1974,  0.0728,  0.1050, -0.5721, -0.5965, -0.1539, -0.1233,\n",
      "         -0.1447,  0.0400, -0.1687,  0.1295,  0.1592,  0.4068,  0.3707, -0.1173,\n",
      "         -0.3312,  0.1582, -0.3660,  0.0132, -0.2501,  0.1022,  0.3645, -0.3555,\n",
      "         -0.0304, -0.0019, -0.6336,  0.0401, -0.0361,  0.1664,  0.1278, -0.8681],\n",
      "        [ 0.1929,  0.1610,  0.0443,  0.0194, -0.1105,  0.0063, -0.0753, -0.0145,\n",
      "         -0.3044, -0.0304,  0.1219,  0.0448,  0.1978, -0.3042, -0.1805,  0.0826,\n",
      "          0.1575, -0.0369, -0.1768,  0.0537, -0.0659,  0.1151, -0.2194,  0.0933,\n",
      "          0.1922,  0.1584,  0.1142,  0.1564,  0.0668, -0.0330, -0.0236, -0.2445],\n",
      "        [-0.0434, -0.3648,  0.2620, -0.6174,  0.2717, -0.4694,  0.2794, -0.3173,\n",
      "         -0.0082, -0.1115, -0.0057,  0.1516, -0.0266, -0.2417,  0.3105, -0.1123,\n",
      "          0.0290,  0.1641,  0.4095,  0.1743, -0.0061, -0.1552, -0.1497, -0.0997,\n",
      "         -0.3140,  0.0154,  0.1092,  0.1527,  0.1153, -0.0717, -0.1436,  0.0493],\n",
      "        [ 0.2163,  0.1621, -0.2591,  0.0527,  0.1044, -0.0278, -0.0056,  0.2845,\n",
      "         -0.3902, -0.0536, -0.0450,  0.1339,  0.0217, -0.3847, -0.2408, -0.2829,\n",
      "         -0.3702, -0.1683, -0.2296, -0.1760,  0.1944, -0.1857, -0.4092, -0.1317,\n",
      "         -0.0677,  0.2674,  0.0888,  0.1510, -0.1197, -0.1279, -0.0931, -0.2021],\n",
      "        [ 0.2313, -0.4168,  0.0759,  0.0443,  0.0608,  0.2160,  0.0770, -0.0039,\n",
      "          0.1943,  0.1032,  0.1542, -0.3474,  0.1539, -0.2739, -0.3650,  0.3086,\n",
      "          0.1611, -0.0173, -0.0699,  0.1026, -0.2459, -0.0404, -0.2528, -0.3250,\n",
      "          0.2289, -0.2827, -0.2326,  0.0204,  0.0805, -0.0272,  0.0569,  0.1295],\n",
      "        [ 0.0351, -0.1207, -0.3719,  0.0637,  0.1365,  0.2058, -0.2857, -0.3685,\n",
      "         -0.1027,  0.0251, -0.0667,  0.0666, -0.3366, -0.3524,  0.1179, -0.2819,\n",
      "         -0.0778,  0.0345,  0.1162, -0.0333,  0.2457, -0.1422,  0.3166,  0.0408,\n",
      "         -0.0118, -0.1969,  0.1197, -0.1215, -0.1723,  0.0110, -0.0308, -0.0074]])), ('fc2.bias', tensor([-0.1554, -0.8404, -0.0668,  0.1878,  0.3137, -0.1882,  0.3192]))])\n"
     ]
    }
   ],
   "source": [
    "model_name = f'cnn_simple_{learning_rate}_{batch_size}_{n_epochs}_{n_classes}_epoch{epoch_n}'\n",
    "m_importer = ModelImporter('fer2013_expanded')\n",
    "model = m_importer.load_nn_model(model_name)\n",
    "print(model.state_dict())"
   ]
  },
  {
   "cell_type": "code",
   "execution_count": 54,
   "metadata": {},
   "outputs": [],
   "source": [
    "X_test = model.reshape_data(torch.tensor(X_df.values, device=device, dtype=dtype))\n",
    "y_test = torch.tensor(y_df.values, device=device, dtype=torch.long)"
   ]
  },
  {
   "cell_type": "code",
   "execution_count": 55,
   "metadata": {},
   "outputs": [],
   "source": [
    "y_pred_prob = model(X_test)"
   ]
  },
  {
   "cell_type": "code",
   "execution_count": 56,
   "metadata": {},
   "outputs": [],
   "source": [
    "y_pred = y_pred_prob.argmax(1)"
   ]
  },
  {
   "cell_type": "code",
   "execution_count": 57,
   "metadata": {},
   "outputs": [
    {
     "data": {
      "text/plain": [
       "tensor(0.5043)"
      ]
     },
     "execution_count": 57,
     "metadata": {},
     "output_type": "execute_result"
    }
   ],
   "source": [
    "accuracy_soft = (y_pred == y_test).float().mean()\n",
    "accuracy_soft"
   ]
  },
  {
   "cell_type": "code",
   "execution_count": 58,
   "metadata": {},
   "outputs": [],
   "source": [
    "results_expanded = pd.DataFrame()"
   ]
  },
  {
   "cell_type": "code",
   "execution_count": 59,
   "metadata": {},
   "outputs": [],
   "source": [
    "results_expanded['y_test'] = y_test\n",
    "results_expanded['y_pred'] = y_pred\n",
    "results_expanded['right'] = (y_pred == y_test).float()\n",
    "results_expanded['ones'] = 1"
   ]
  },
  {
   "cell_type": "code",
   "execution_count": 60,
   "metadata": {},
   "outputs": [
    {
     "data": {
      "text/html": [
       "<div>\n",
       "<style scoped>\n",
       "    .dataframe tbody tr th:only-of-type {\n",
       "        vertical-align: middle;\n",
       "    }\n",
       "\n",
       "    .dataframe tbody tr th {\n",
       "        vertical-align: top;\n",
       "    }\n",
       "\n",
       "    .dataframe thead th {\n",
       "        text-align: right;\n",
       "    }\n",
       "</style>\n",
       "<table border=\"1\" class=\"dataframe\">\n",
       "  <thead>\n",
       "    <tr style=\"text-align: right;\">\n",
       "      <th></th>\n",
       "      <th>y_test</th>\n",
       "      <th>y_pred</th>\n",
       "      <th>right</th>\n",
       "      <th>ones</th>\n",
       "    </tr>\n",
       "  </thead>\n",
       "  <tbody>\n",
       "    <tr>\n",
       "      <th>3584</th>\n",
       "      <td>4</td>\n",
       "      <td>3</td>\n",
       "      <td>0.0</td>\n",
       "      <td>1</td>\n",
       "    </tr>\n",
       "    <tr>\n",
       "      <th>3585</th>\n",
       "      <td>3</td>\n",
       "      <td>3</td>\n",
       "      <td>1.0</td>\n",
       "      <td>1</td>\n",
       "    </tr>\n",
       "    <tr>\n",
       "      <th>3586</th>\n",
       "      <td>4</td>\n",
       "      <td>6</td>\n",
       "      <td>0.0</td>\n",
       "      <td>1</td>\n",
       "    </tr>\n",
       "    <tr>\n",
       "      <th>3587</th>\n",
       "      <td>4</td>\n",
       "      <td>0</td>\n",
       "      <td>0.0</td>\n",
       "      <td>1</td>\n",
       "    </tr>\n",
       "    <tr>\n",
       "      <th>3588</th>\n",
       "      <td>4</td>\n",
       "      <td>6</td>\n",
       "      <td>0.0</td>\n",
       "      <td>1</td>\n",
       "    </tr>\n",
       "  </tbody>\n",
       "</table>\n",
       "</div>"
      ],
      "text/plain": [
       "      y_test  y_pred  right  ones\n",
       "3584       4       3    0.0     1\n",
       "3585       3       3    1.0     1\n",
       "3586       4       6    0.0     1\n",
       "3587       4       0    0.0     1\n",
       "3588       4       6    0.0     1"
      ]
     },
     "execution_count": 60,
     "metadata": {},
     "output_type": "execute_result"
    }
   ],
   "source": [
    "results_expanded.tail()"
   ]
  },
  {
   "cell_type": "code",
   "execution_count": 61,
   "metadata": {},
   "outputs": [
    {
     "data": {
      "text/html": [
       "<div>\n",
       "<style scoped>\n",
       "    .dataframe tbody tr th:only-of-type {\n",
       "        vertical-align: middle;\n",
       "    }\n",
       "\n",
       "    .dataframe tbody tr th {\n",
       "        vertical-align: top;\n",
       "    }\n",
       "\n",
       "    .dataframe thead th {\n",
       "        text-align: right;\n",
       "    }\n",
       "</style>\n",
       "<table border=\"1\" class=\"dataframe\">\n",
       "  <thead>\n",
       "    <tr style=\"text-align: right;\">\n",
       "      <th></th>\n",
       "      <th>y_pred</th>\n",
       "      <th>right</th>\n",
       "      <th>ones</th>\n",
       "    </tr>\n",
       "    <tr>\n",
       "      <th>y_test</th>\n",
       "      <th></th>\n",
       "      <th></th>\n",
       "      <th></th>\n",
       "    </tr>\n",
       "  </thead>\n",
       "  <tbody>\n",
       "    <tr>\n",
       "      <th>0</th>\n",
       "      <td>1346</td>\n",
       "      <td>132.0</td>\n",
       "      <td>467</td>\n",
       "    </tr>\n",
       "    <tr>\n",
       "      <th>1</th>\n",
       "      <td>130</td>\n",
       "      <td>9.0</td>\n",
       "      <td>56</td>\n",
       "    </tr>\n",
       "    <tr>\n",
       "      <th>2</th>\n",
       "      <td>1766</td>\n",
       "      <td>122.0</td>\n",
       "      <td>496</td>\n",
       "    </tr>\n",
       "    <tr>\n",
       "      <th>3</th>\n",
       "      <td>2971</td>\n",
       "      <td>639.0</td>\n",
       "      <td>895</td>\n",
       "    </tr>\n",
       "    <tr>\n",
       "      <th>4</th>\n",
       "      <td>2537</td>\n",
       "      <td>312.0</td>\n",
       "      <td>653</td>\n",
       "    </tr>\n",
       "    <tr>\n",
       "      <th>5</th>\n",
       "      <td>1852</td>\n",
       "      <td>290.0</td>\n",
       "      <td>415</td>\n",
       "    </tr>\n",
       "    <tr>\n",
       "      <th>6</th>\n",
       "      <td>2770</td>\n",
       "      <td>306.0</td>\n",
       "      <td>607</td>\n",
       "    </tr>\n",
       "  </tbody>\n",
       "</table>\n",
       "</div>"
      ],
      "text/plain": [
       "        y_pred  right  ones\n",
       "y_test                     \n",
       "0         1346  132.0   467\n",
       "1          130    9.0    56\n",
       "2         1766  122.0   496\n",
       "3         2971  639.0   895\n",
       "4         2537  312.0   653\n",
       "5         1852  290.0   415\n",
       "6         2770  306.0   607"
      ]
     },
     "execution_count": 61,
     "metadata": {},
     "output_type": "execute_result"
    }
   ],
   "source": [
    "report_exp = results_expanded.groupby('y_test').sum()\n",
    "report_exp"
   ]
  },
  {
   "cell_type": "code",
   "execution_count": 62,
   "metadata": {},
   "outputs": [
    {
     "data": {
      "text/html": [
       "<div>\n",
       "<style scoped>\n",
       "    .dataframe tbody tr th:only-of-type {\n",
       "        vertical-align: middle;\n",
       "    }\n",
       "\n",
       "    .dataframe tbody tr th {\n",
       "        vertical-align: top;\n",
       "    }\n",
       "\n",
       "    .dataframe thead th {\n",
       "        text-align: right;\n",
       "    }\n",
       "</style>\n",
       "<table border=\"1\" class=\"dataframe\">\n",
       "  <thead>\n",
       "    <tr style=\"text-align: right;\">\n",
       "      <th></th>\n",
       "      <th>y_pred</th>\n",
       "      <th>right</th>\n",
       "      <th>ones</th>\n",
       "      <th>%</th>\n",
       "    </tr>\n",
       "    <tr>\n",
       "      <th>y_test</th>\n",
       "      <th></th>\n",
       "      <th></th>\n",
       "      <th></th>\n",
       "      <th></th>\n",
       "    </tr>\n",
       "  </thead>\n",
       "  <tbody>\n",
       "    <tr>\n",
       "      <th>0</th>\n",
       "      <td>1346</td>\n",
       "      <td>132.0</td>\n",
       "      <td>467</td>\n",
       "      <td>0.282655</td>\n",
       "    </tr>\n",
       "    <tr>\n",
       "      <th>1</th>\n",
       "      <td>130</td>\n",
       "      <td>9.0</td>\n",
       "      <td>56</td>\n",
       "      <td>0.160714</td>\n",
       "    </tr>\n",
       "    <tr>\n",
       "      <th>2</th>\n",
       "      <td>1766</td>\n",
       "      <td>122.0</td>\n",
       "      <td>496</td>\n",
       "      <td>0.245968</td>\n",
       "    </tr>\n",
       "    <tr>\n",
       "      <th>3</th>\n",
       "      <td>2971</td>\n",
       "      <td>639.0</td>\n",
       "      <td>895</td>\n",
       "      <td>0.713966</td>\n",
       "    </tr>\n",
       "    <tr>\n",
       "      <th>4</th>\n",
       "      <td>2537</td>\n",
       "      <td>312.0</td>\n",
       "      <td>653</td>\n",
       "      <td>0.477795</td>\n",
       "    </tr>\n",
       "    <tr>\n",
       "      <th>5</th>\n",
       "      <td>1852</td>\n",
       "      <td>290.0</td>\n",
       "      <td>415</td>\n",
       "      <td>0.698795</td>\n",
       "    </tr>\n",
       "    <tr>\n",
       "      <th>6</th>\n",
       "      <td>2770</td>\n",
       "      <td>306.0</td>\n",
       "      <td>607</td>\n",
       "      <td>0.504119</td>\n",
       "    </tr>\n",
       "  </tbody>\n",
       "</table>\n",
       "</div>"
      ],
      "text/plain": [
       "        y_pred  right  ones         %\n",
       "y_test                               \n",
       "0         1346  132.0   467  0.282655\n",
       "1          130    9.0    56  0.160714\n",
       "2         1766  122.0   496  0.245968\n",
       "3         2971  639.0   895  0.713966\n",
       "4         2537  312.0   653  0.477795\n",
       "5         1852  290.0   415  0.698795\n",
       "6         2770  306.0   607  0.504119"
      ]
     },
     "execution_count": 62,
     "metadata": {},
     "output_type": "execute_result"
    }
   ],
   "source": [
    "report_exp['%'] = report_exp['right']/report_exp['ones']\n",
    "report_exp"
   ]
  },
  {
   "cell_type": "code",
   "execution_count": null,
   "metadata": {},
   "outputs": [],
   "source": []
  },
  {
   "cell_type": "code",
   "execution_count": null,
   "metadata": {},
   "outputs": [],
   "source": []
  }
 ],
 "metadata": {
  "kernelspec": {
   "display_name": "Python 3",
   "language": "python",
   "name": "python3"
  },
  "language_info": {
   "codemirror_mode": {
    "name": "ipython",
    "version": 3
   },
   "file_extension": ".py",
   "mimetype": "text/x-python",
   "name": "python",
   "nbconvert_exporter": "python",
   "pygments_lexer": "ipython3",
   "version": "3.6.8"
  }
 },
 "nbformat": 4,
 "nbformat_minor": 2
}
