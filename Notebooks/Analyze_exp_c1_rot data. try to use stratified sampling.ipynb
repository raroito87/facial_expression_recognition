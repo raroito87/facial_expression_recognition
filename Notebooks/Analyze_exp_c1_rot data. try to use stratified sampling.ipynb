{
 "cells": [
  {
   "cell_type": "code",
   "execution_count": 2,
   "metadata": {},
   "outputs": [],
   "source": [
    "%matplotlib inline\n",
    "\n",
    "from utils import ModelImporter, Preprocessing\n",
    "import torch\n",
    "import pandas as pd\n",
    "import numpy as np\n",
    "import matplotlib.pyplot as plt"
   ]
  },
  {
   "cell_type": "code",
   "execution_count": 3,
   "metadata": {},
   "outputs": [],
   "source": [
    "pre = Preprocessing('fer2013')\n",
    "pre.load_data(filename='train_expanded_c1_rot.csv', name='train')\n",
    "\n",
    "X_df = pre.get(name='train').drop(columns=['emotion'])\n",
    "y_df = pre.get(name='train')['emotion']"
   ]
  },
  {
   "cell_type": "code",
   "execution_count": 8,
   "metadata": {},
   "outputs": [],
   "source": [
    "train_df = pre.get(name='train')"
   ]
  },
  {
   "cell_type": "code",
   "execution_count": 4,
   "metadata": {},
   "outputs": [
    {
     "data": {
      "image/png": "[encoded data removed]",
      "text/plain": [
       "<Figure size 720x360 with 1 Axes>"
      ]
     },
     "metadata": {
      "needs_background": "light"
     },
     "output_type": "display_data"
    }
   ],
   "source": [
    "plt.figure(1, figsize=(10, 5))\n",
    "plt.hist(y_df.values, bins = [0, 1, 2, 3, 4, 5, 6, 7])\n",
    "plt.show()"
   ]
  },
  {
   "cell_type": "code",
   "execution_count": 34,
   "metadata": {},
   "outputs": [],
   "source": [
    "from torch.utils.data import WeightedRandomSampler, DataLoader, TensorDataset"
   ]
  },
  {
   "cell_type": "code",
   "execution_count": 130,
   "metadata": {},
   "outputs": [],
   "source": [
    "batc_size = 64\n",
    "n_classes = 7\n",
    "weights = [1./n_classes, 1./n_classes, 1./n_classes, 1./n_classes, 1./n_classes, 1./n_classes, 1./n_classes]\n",
    "#weights = [1, 1, 1, 1, 1, 1, 1]\n",
    "sampler = WeightedRandomSampler(weights, batc_size, replacement=True)"
   ]
  },
  {
   "cell_type": "code",
   "execution_count": 163,
   "metadata": {},
   "outputs": [
    {
     "data": {
      "text/plain": [
       "array([ 7990,  2616,  8194, 14430,  9660,  6342,  9930])"
      ]
     },
     "execution_count": 163,
     "metadata": {},
     "output_type": "execute_result"
    }
   ],
   "source": [
    "class_sample_count = np.array([len(np.where(y_df.values==t)[0]) for t in np.unique(y_df.values)])\n",
    "#class_sample_count = np.array([100, 100, 100, 100, 100, 100, 100])\n",
    "class_sample_count"
   ]
  },
  {
   "cell_type": "code",
   "execution_count": 174,
   "metadata": {},
   "outputs": [
    {
     "data": {
      "text/plain": [
       "array([1.25156446e-04, 3.82262997e-04, 1.22040517e-04, 6.93000693e-05,\n",
       "       1.03519669e-04, 1.57678966e-04, 1.00704935e-04])"
      ]
     },
     "execution_count": 174,
     "metadata": {},
     "output_type": "execute_result"
    }
   ],
   "source": [
    "#weight = np.array([1./n_classes, 1./n_classes, 1./n_classes, 1./n_classes, 1./n_classes, 1./n_classes, 1./n_classes])\n",
    "weight = 1./class_sample_count\n",
    "weight"
   ]
  },
  {
   "cell_type": "code",
   "execution_count": 175,
   "metadata": {},
   "outputs": [
    {
     "data": {
      "text/plain": [
       "array([0.00012516, 0.00012516, 0.00012204, ..., 0.00038226, 0.00038226,\n",
       "       0.00038226])"
      ]
     },
     "execution_count": 175,
     "metadata": {},
     "output_type": "execute_result"
    }
   ],
   "source": [
    "samples_weight = np.array([weight[t] for t in y_df.values])\n",
    "samples_weight"
   ]
  },
  {
   "cell_type": "code",
   "execution_count": 176,
   "metadata": {},
   "outputs": [
    {
     "data": {
      "text/plain": [
       "59162"
      ]
     },
     "execution_count": 176,
     "metadata": {},
     "output_type": "execute_result"
    }
   ],
   "source": [
    "len(samples_weight)"
   ]
  },
  {
   "cell_type": "code",
   "execution_count": 166,
   "metadata": {},
   "outputs": [
    {
     "data": {
      "text/plain": [
       "tensor([0.0001, 0.0001, 0.0001,  ..., 0.0004, 0.0004, 0.0004],\n",
       "       dtype=torch.float64)"
      ]
     },
     "execution_count": 166,
     "metadata": {},
     "output_type": "execute_result"
    }
   ],
   "source": [
    "samples_weight_t = torch.from_numpy(samples_weight).double()\n",
    "samples_weight_t"
   ]
  },
  {
   "cell_type": "code",
   "execution_count": null,
   "metadata": {},
   "outputs": [],
   "source": []
  },
  {
   "cell_type": "code",
   "execution_count": 167,
   "metadata": {},
   "outputs": [],
   "source": [
    "sampler = WeightedRandomSampler(samples_weight, batc_size, replacement=True)"
   ]
  },
  {
   "cell_type": "code",
   "execution_count": 168,
   "metadata": {},
   "outputs": [],
   "source": [
    "data = torch.tensor(X_df.values, device='cpu', dtype=torch.float)\n",
    "data = data.reshape(data.shape[0], 1, 48, 48)\n",
    "target = torch.tensor(y_df.values, device='cpu', dtype=torch.float)"
   ]
  },
  {
   "cell_type": "code",
   "execution_count": 169,
   "metadata": {},
   "outputs": [],
   "source": [
    "trainDataset = TensorDataset(torch.FloatTensor(data), torch.FloatTensor(target))"
   ]
  },
  {
   "cell_type": "code",
   "execution_count": 170,
   "metadata": {},
   "outputs": [],
   "source": [
    "trainLoader = DataLoader(dataset = trainDataset, batch_size=batc_size, sampler = sampler)"
   ]
  },
  {
   "cell_type": "code",
   "execution_count": 171,
   "metadata": {},
   "outputs": [],
   "source": [
    "#for data, labels in trainLoader:\n",
    "#    print(labels, len(labels))\n",
    "#    print(np.array([len(np.where(labels.numpy()==t)[0]) for t in np.unique(labels.numpy())]))"
   ]
  },
  {
   "cell_type": "code",
   "execution_count": 173,
   "metadata": {},
   "outputs": [
    {
     "name": "stdout",
     "output_type": "stream",
     "text": [
      "[ 8  4  7  8 13 13 11]\n",
      "[14  9 11  4  5  8 13]\n",
      "[11  7  8  5 15 10  8]\n",
      "[11 10  9  9  8 10  7]\n",
      "[ 7  8  8  5 12 11 13]\n",
      "[ 9 10 16 10  8  5  6]\n",
      "[10  8 12  6  8 10 10]\n",
      "[ 8  8  9  8 12 17  2]\n",
      "[13  6  5 12 12  7  9]\n",
      "[ 5  7 10 15  8 16  3]\n",
      "[10 10 10 10  9  6  9]\n",
      "[ 5  9 10  4 15  8 13]\n",
      "[11  6 11  4  9  9 14]\n",
      "[ 8  8  7  9 13  5 14]\n",
      "[10 14  6 12  7  4 11]\n",
      "[ 7  5 10 10 13 11  8]\n",
      "[14 11  6  9  6  7 11]\n",
      "[ 9  7  7  7 12 13  9]\n",
      "[16  6 12 11 12  4  3]\n",
      "[13  9  9 10  7  8  8]\n",
      "[12  7  8 10  8 10  9]\n",
      "[ 5  4 15  8  8 10 14]\n",
      "[ 5 11  8 10  8 10 12]\n",
      "[ 6  8  9 12  9  9 11]\n",
      "[ 7 11 11 10  9  8  8]\n",
      "[ 5  9 10  8 16  8  8]\n",
      "[11  9  6 10 14  8  6]\n",
      "[10  8 10 14 11  5  6]\n",
      "[ 7 11 10 10 12  7  7]\n",
      "[ 7 14  7 11  8  9  8]\n",
      "[13  6  5  8 10 10 12]\n",
      "[ 8 12  9  8  5 12 10]\n",
      "[13  8 10  6 11 11  5]\n",
      "[ 3  8 12 13  8  6 14]\n",
      "[ 9 14  8  5  8  9 11]\n",
      "[ 8  7  6 14  8 11 10]\n",
      "[14 11 13 10  6  6  4]\n",
      "[ 9  8 13 11  9  9  5]\n",
      "[13 10  7  5 15  7  7]\n",
      "[ 8 14  8 11  4 11  8]\n",
      "[ 9 11  7  6  8 15  8]\n",
      "[ 9 10  6  5 16  6 12]\n",
      "[16  5  6  9  7 11 10]\n",
      "[10  9 12  7  9  9  8]\n",
      "[ 8 11  8  6 11 12  8]\n",
      "[10  9  8 11  6 11  9]\n",
      "[ 9 12  9  6  5 13 10]\n",
      "[ 9  6  4 13 12  8 12]\n",
      "[ 6  6  7  4 19 12 10]\n",
      "[ 8 14  9  9  9  9  6]\n"
     ]
    }
   ],
   "source": [
    "for epoch in range(50):\n",
    "    for data, labels in trainLoader:\n",
    "        print(np.array([len(np.where(labels.numpy()==t)[0]) for t in np.unique(labels.numpy())]))"
   ]
  },
  {
   "cell_type": "code",
   "execution_count": null,
   "metadata": {},
   "outputs": [],
   "source": []
  },
  {
   "cell_type": "code",
   "execution_count": null,
   "metadata": {},
   "outputs": [],
   "source": []
  }
 ],
 "metadata": {
  "kernelspec": {
   "display_name": "Python 3",
   "language": "python",
   "name": "python3"
  },
  "language_info": {
   "codemirror_mode": {
    "name": "ipython",
    "version": 3
   },
   "file_extension": ".py",
   "mimetype": "text/x-python",
   "name": "python",
   "nbconvert_exporter": "python",
   "pygments_lexer": "ipython3",
   "version": "3.6.8"
  }
 },
 "nbformat": 4,
 "nbformat_minor": 2
}
