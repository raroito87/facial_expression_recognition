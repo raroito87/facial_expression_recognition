{
 "cells": [
  {
   "cell_type": "code",
   "execution_count": 1,
   "metadata": {},
   "outputs": [],
   "source": [
    "from utils import ModelImporter, Preprocessing\n",
    "import torch\n",
    "import pandas as pd\n",
    "import numpy as np\n",
    "import matplotlib.pyplot as plt"
   ]
  },
  {
   "cell_type": "code",
   "execution_count": 2,
   "metadata": {},
   "outputs": [],
   "source": [
    "pre = Preprocessing('fer2013')\n",
    "train = pre.load_data(filename='DatasetAAA.csv.gz', name='train')"
   ]
  },
  {
   "cell_type": "markdown",
   "metadata": {},
   "source": [
    "#### I have a very little amount of samples of class 1:Disgust,  I am going to increase that number by rotating and flipping horizontal"
   ]
  },
  {
   "cell_type": "code",
   "execution_count": 3,
   "metadata": {},
   "outputs": [
    {
     "data": {
      "text/html": [
       "<div>\n",
       "<style scoped>\n",
       "    .dataframe tbody tr th:only-of-type {\n",
       "        vertical-align: middle;\n",
       "    }\n",
       "\n",
       "    .dataframe tbody tr th {\n",
       "        vertical-align: top;\n",
       "    }\n",
       "\n",
       "    .dataframe thead th {\n",
       "        text-align: right;\n",
       "    }\n",
       "</style>\n",
       "<table border=\"1\" class=\"dataframe\">\n",
       "  <thead>\n",
       "    <tr style=\"text-align: right;\">\n",
       "      <th></th>\n",
       "      <th>0</th>\n",
       "      <th>1</th>\n",
       "      <th>2</th>\n",
       "      <th>3</th>\n",
       "      <th>4</th>\n",
       "      <th>5</th>\n",
       "      <th>6</th>\n",
       "      <th>7</th>\n",
       "      <th>8</th>\n",
       "      <th>9</th>\n",
       "      <th>...</th>\n",
       "      <th>2295</th>\n",
       "      <th>2296</th>\n",
       "      <th>2297</th>\n",
       "      <th>2298</th>\n",
       "      <th>2299</th>\n",
       "      <th>2300</th>\n",
       "      <th>2301</th>\n",
       "      <th>2302</th>\n",
       "      <th>2303</th>\n",
       "      <th>emotion</th>\n",
       "    </tr>\n",
       "  </thead>\n",
       "  <tbody>\n",
       "    <tr>\n",
       "      <th>299</th>\n",
       "      <td>0.072682</td>\n",
       "      <td>0.111679</td>\n",
       "      <td>0.188440</td>\n",
       "      <td>0.109479</td>\n",
       "      <td>0.009431</td>\n",
       "      <td>0.806314</td>\n",
       "      <td>0.918836</td>\n",
       "      <td>0.913721</td>\n",
       "      <td>0.935763</td>\n",
       "      <td>0.941302</td>\n",
       "      <td>...</td>\n",
       "      <td>0.278435</td>\n",
       "      <td>-0.054155</td>\n",
       "      <td>-0.341554</td>\n",
       "      <td>-0.450808</td>\n",
       "      <td>-0.529405</td>\n",
       "      <td>-0.675712</td>\n",
       "      <td>-0.074243</td>\n",
       "      <td>1.093875</td>\n",
       "      <td>1.187717</td>\n",
       "      <td>1</td>\n",
       "    </tr>\n",
       "    <tr>\n",
       "      <th>388</th>\n",
       "      <td>-0.376043</td>\n",
       "      <td>-0.764840</td>\n",
       "      <td>-1.128628</td>\n",
       "      <td>-0.913922</td>\n",
       "      <td>-0.866859</td>\n",
       "      <td>-0.799514</td>\n",
       "      <td>-0.736829</td>\n",
       "      <td>-0.720456</td>\n",
       "      <td>-0.685124</td>\n",
       "      <td>-0.975994</td>\n",
       "      <td>...</td>\n",
       "      <td>-0.156266</td>\n",
       "      <td>0.001144</td>\n",
       "      <td>0.161743</td>\n",
       "      <td>-0.143023</td>\n",
       "      <td>-0.569086</td>\n",
       "      <td>-1.002380</td>\n",
       "      <td>-1.158057</td>\n",
       "      <td>-1.158461</td>\n",
       "      <td>-1.224517</td>\n",
       "      <td>1</td>\n",
       "    </tr>\n",
       "    <tr>\n",
       "      <th>416</th>\n",
       "      <td>1.018644</td>\n",
       "      <td>0.963507</td>\n",
       "      <td>0.840702</td>\n",
       "      <td>0.250196</td>\n",
       "      <td>-0.775306</td>\n",
       "      <td>-0.772750</td>\n",
       "      <td>-0.682096</td>\n",
       "      <td>-0.706489</td>\n",
       "      <td>-0.585595</td>\n",
       "      <td>-0.154296</td>\n",
       "      <td>...</td>\n",
       "      <td>0.110164</td>\n",
       "      <td>0.056442</td>\n",
       "      <td>0.012114</td>\n",
       "      <td>0.124617</td>\n",
       "      <td>0.370031</td>\n",
       "      <td>0.408824</td>\n",
       "      <td>0.480566</td>\n",
       "      <td>0.543589</td>\n",
       "      <td>0.591006</td>\n",
       "      <td>1</td>\n",
       "    </tr>\n",
       "    <tr>\n",
       "      <th>473</th>\n",
       "      <td>-1.285622</td>\n",
       "      <td>-1.308035</td>\n",
       "      <td>-1.266606</td>\n",
       "      <td>-1.272112</td>\n",
       "      <td>-0.893017</td>\n",
       "      <td>-0.170564</td>\n",
       "      <td>0.084162</td>\n",
       "      <td>0.075681</td>\n",
       "      <td>0.054228</td>\n",
       "      <td>0.191682</td>\n",
       "      <td>...</td>\n",
       "      <td>-0.562923</td>\n",
       "      <td>-0.800681</td>\n",
       "      <td>-1.076096</td>\n",
       "      <td>-1.173435</td>\n",
       "      <td>-1.005577</td>\n",
       "      <td>-0.871713</td>\n",
       "      <td>-0.874201</td>\n",
       "      <td>-0.864121</td>\n",
       "      <td>-0.843638</td>\n",
       "      <td>1</td>\n",
       "    </tr>\n",
       "    <tr>\n",
       "      <th>533</th>\n",
       "      <td>-1.237111</td>\n",
       "      <td>-1.135201</td>\n",
       "      <td>-0.815040</td>\n",
       "      <td>-0.466184</td>\n",
       "      <td>-0.265227</td>\n",
       "      <td>-0.143801</td>\n",
       "      <td>-0.093719</td>\n",
       "      <td>-0.091927</td>\n",
       "      <td>-0.087955</td>\n",
       "      <td>-0.082217</td>\n",
       "      <td>...</td>\n",
       "      <td>0.755205</td>\n",
       "      <td>0.761494</td>\n",
       "      <td>0.773861</td>\n",
       "      <td>0.766952</td>\n",
       "      <td>0.753614</td>\n",
       "      <td>0.670158</td>\n",
       "      <td>0.583787</td>\n",
       "      <td>-0.377822</td>\n",
       "      <td>-1.275301</td>\n",
       "      <td>1</td>\n",
       "    </tr>\n",
       "  </tbody>\n",
       "</table>\n",
       "<p>5 rows × 2305 columns</p>\n",
       "</div>"
      ],
      "text/plain": [
       "            0         1         2         3         4         5         6  \\\n",
       "299  0.072682  0.111679  0.188440  0.109479  0.009431  0.806314  0.918836   \n",
       "388 -0.376043 -0.764840 -1.128628 -0.913922 -0.866859 -0.799514 -0.736829   \n",
       "416  1.018644  0.963507  0.840702  0.250196 -0.775306 -0.772750 -0.682096   \n",
       "473 -1.285622 -1.308035 -1.266606 -1.272112 -0.893017 -0.170564  0.084162   \n",
       "533 -1.237111 -1.135201 -0.815040 -0.466184 -0.265227 -0.143801 -0.093719   \n",
       "\n",
       "            7         8         9  ...      2295      2296      2297  \\\n",
       "299  0.913721  0.935763  0.941302  ...  0.278435 -0.054155 -0.341554   \n",
       "388 -0.720456 -0.685124 -0.975994  ... -0.156266  0.001144  0.161743   \n",
       "416 -0.706489 -0.585595 -0.154296  ...  0.110164  0.056442  0.012114   \n",
       "473  0.075681  0.054228  0.191682  ... -0.562923 -0.800681 -1.076096   \n",
       "533 -0.091927 -0.087955 -0.082217  ...  0.755205  0.761494  0.773861   \n",
       "\n",
       "         2298      2299      2300      2301      2302      2303  emotion  \n",
       "299 -0.450808 -0.529405 -0.675712 -0.074243  1.093875  1.187717        1  \n",
       "388 -0.143023 -0.569086 -1.002380 -1.158057 -1.158461 -1.224517        1  \n",
       "416  0.124617  0.370031  0.408824  0.480566  0.543589  0.591006        1  \n",
       "473 -1.173435 -1.005577 -0.871713 -0.874201 -0.864121 -0.843638        1  \n",
       "533  0.766952  0.753614  0.670158  0.583787 -0.377822 -1.275301        1  \n",
       "\n",
       "[5 rows x 2305 columns]"
      ]
     },
     "execution_count": 3,
     "metadata": {},
     "output_type": "execute_result"
    }
   ],
   "source": [
    "disgust = train.loc[train['emotion'] == 1]\n",
    "disgust.head()"
   ]
  },
  {
   "cell_type": "code",
   "execution_count": 4,
   "metadata": {},
   "outputs": [
    {
     "data": {
      "text/plain": [
       "436"
      ]
     },
     "execution_count": 4,
     "metadata": {},
     "output_type": "execute_result"
    }
   ],
   "source": [
    "len(disgust)"
   ]
  },
  {
   "cell_type": "code",
   "execution_count": 5,
   "metadata": {},
   "outputs": [],
   "source": [
    "from image_utils import ImageConverter\n",
    "import matplotlib.pyplot as plt"
   ]
  },
  {
   "cell_type": "code",
   "execution_count": 6,
   "metadata": {},
   "outputs": [],
   "source": [
    "img_conv = ImageConverter()"
   ]
  },
  {
   "cell_type": "code",
   "execution_count": 7,
   "metadata": {},
   "outputs": [],
   "source": [
    "train_only_disgust_np = disgust.drop(columns = ['emotion']).values"
   ]
  },
  {
   "cell_type": "code",
   "execution_count": 8,
   "metadata": {},
   "outputs": [],
   "source": [
    "array_0 = train_only_disgust_np[0]\n",
    "array_0_frame = img_conv.reshape_array_to_frame(array_0)\n",
    "array_0_frame_flipped = img_conv.rotate_image(array_0_frame, 20)"
   ]
  },
  {
   "cell_type": "code",
   "execution_count": 9,
   "metadata": {},
   "outputs": [
    {
     "data": {
      "image/png": "[encoded data removed]",
      "text/plain": [
       "<Figure size 720x360 with 2 Axes>"
      ]
     },
     "metadata": {
      "needs_background": "light"
     },
     "output_type": "display_data"
    }
   ],
   "source": [
    "plt.figure(1, figsize=(10, 5))\n",
    "plt.subplot(1,2, 1)\n",
    "plt.imshow(array_0_frame, cmap='gray', interpolation='none')\n",
    "plt.subplot(1,2, 2)\n",
    "plt.imshow(array_0_frame_flipped, cmap='gray', interpolation='none')\n",
    "plt.show()"
   ]
  },
  {
   "cell_type": "code",
   "execution_count": 10,
   "metadata": {},
   "outputs": [],
   "source": [
    "array_50 = train_only_disgust_np[50]\n",
    "array_50_frame = img_conv.reshape_array_to_frame(array_50)\n",
    "array_50_frame_flipped = img_conv.rotate_image(array_50_frame, 20)"
   ]
  },
  {
   "cell_type": "code",
   "execution_count": 11,
   "metadata": {},
   "outputs": [
    {
     "data": {
      "image/png": "[encoded data removed]",
      "text/plain": [
       "<Figure size 720x360 with 2 Axes>"
      ]
     },
     "metadata": {
      "needs_background": "light"
     },
     "output_type": "display_data"
    }
   ],
   "source": [
    "plt.figure(1, figsize=(10, 5))\n",
    "plt.subplot(1,2, 1)\n",
    "plt.imshow(array_50_frame, cmap='gray', interpolation='none')\n",
    "plt.subplot(1,2, 2)\n",
    "plt.imshow(array_50_frame_flipped, cmap='gray', interpolation='none')\n",
    "plt.show()"
   ]
  },
  {
   "cell_type": "code",
   "execution_count": 12,
   "metadata": {},
   "outputs": [],
   "source": [
    "rotated_10_train_only_disgust = np.zeros(shape=train_only_disgust_np.shape)\n",
    "rotated_20_train_only_disgust = np.zeros(shape=train_only_disgust_np.shape)\n",
    "idx = 0\n",
    "for i in range(len(train_only_disgust_np)):\n",
    "    array = train_only_disgust_np[i]\n",
    "    frame = img_conv.reshape_array_to_frame(array)\n",
    "    \n",
    "    rot_10 = img_conv.rotate_image(frame, 10)\n",
    "    array_rot_10 = img_conv.reshape_frame_to_array(rot_10)\n",
    "    rotated_10_train_only_disgust[i] = array_rot_10  \n",
    "    \n",
    "    rot_20 = img_conv.rotate_image(frame, 20)\n",
    "    array_rot_20 = img_conv.reshape_frame_to_array(rot_20)\n",
    "    rotated_20_train_only_disgust[i] = array_rot_20\n",
    "    \n",
    "    ##rot_15 = img_conv.rotate_image(img_conv.reshape_array_to_frame(train_only_disgust_np[i]), 15)\n",
    "    #rotated_train_only_disgust[i] = img_conv.reshape_frame_to_array(rot_5)\n",
    "    #rotated_train_only_disgust[idx + 1] = img_conv.reshape_frame_to_array(rot_15)"
   ]
  },
  {
   "cell_type": "code",
   "execution_count": 13,
   "metadata": {},
   "outputs": [
    {
     "data": {
      "text/plain": [
       "436"
      ]
     },
     "execution_count": 13,
     "metadata": {},
     "output_type": "execute_result"
    }
   ],
   "source": [
    "len(rotated_10_train_only_disgust)"
   ]
  },
  {
   "cell_type": "code",
   "execution_count": 14,
   "metadata": {},
   "outputs": [
    {
     "data": {
      "text/plain": [
       "436"
      ]
     },
     "execution_count": 14,
     "metadata": {},
     "output_type": "execute_result"
    }
   ],
   "source": [
    "len(rotated_20_train_only_disgust)"
   ]
  },
  {
   "cell_type": "code",
   "execution_count": 15,
   "metadata": {},
   "outputs": [
    {
     "data": {
      "image/png": "[encoded data removed]",
      "text/plain": [
       "<Figure size 720x360 with 3 Axes>"
      ]
     },
     "metadata": {
      "needs_background": "light"
     },
     "output_type": "display_data"
    }
   ],
   "source": [
    "img_idx = 170\n",
    "plt.figure(1, figsize=(10, 5))\n",
    "plt.subplot(1,3, 1)\n",
    "plt.imshow(img_conv.reshape_array_to_frame(train_only_disgust_np[img_idx]), cmap='gray', interpolation='none')\n",
    "plt.subplot(1,3, 2)\n",
    "plt.imshow(img_conv.reshape_array_to_frame(rotated_10_train_only_disgust[img_idx]), cmap='gray', interpolation='none')\n",
    "plt.subplot(1,3, 3)\n",
    "plt.imshow(img_conv.reshape_array_to_frame(rotated_20_train_only_disgust[img_idx]), cmap='gray', interpolation='none')\n",
    "plt.show()"
   ]
  },
  {
   "cell_type": "code",
   "execution_count": 16,
   "metadata": {},
   "outputs": [],
   "source": [
    "#Seems to work, going to save the data"
   ]
  },
  {
   "cell_type": "code",
   "execution_count": 17,
   "metadata": {},
   "outputs": [
    {
     "data": {
      "text/html": [
       "<div>\n",
       "<style scoped>\n",
       "    .dataframe tbody tr th:only-of-type {\n",
       "        vertical-align: middle;\n",
       "    }\n",
       "\n",
       "    .dataframe tbody tr th {\n",
       "        vertical-align: top;\n",
       "    }\n",
       "\n",
       "    .dataframe thead th {\n",
       "        text-align: right;\n",
       "    }\n",
       "</style>\n",
       "<table border=\"1\" class=\"dataframe\">\n",
       "  <thead>\n",
       "    <tr style=\"text-align: right;\">\n",
       "      <th></th>\n",
       "      <th>0</th>\n",
       "      <th>1</th>\n",
       "      <th>2</th>\n",
       "      <th>3</th>\n",
       "      <th>4</th>\n",
       "      <th>5</th>\n",
       "      <th>6</th>\n",
       "      <th>7</th>\n",
       "      <th>8</th>\n",
       "      <th>9</th>\n",
       "      <th>...</th>\n",
       "      <th>2295</th>\n",
       "      <th>2296</th>\n",
       "      <th>2297</th>\n",
       "      <th>2298</th>\n",
       "      <th>2299</th>\n",
       "      <th>2300</th>\n",
       "      <th>2301</th>\n",
       "      <th>2302</th>\n",
       "      <th>2303</th>\n",
       "      <th>emotion</th>\n",
       "    </tr>\n",
       "  </thead>\n",
       "  <tbody>\n",
       "    <tr>\n",
       "      <th>431</th>\n",
       "      <td>-0.993083</td>\n",
       "      <td>-0.953576</td>\n",
       "      <td>-0.912912</td>\n",
       "      <td>-0.458759</td>\n",
       "      <td>0.423167</td>\n",
       "      <td>1.277226</td>\n",
       "      <td>1.644133</td>\n",
       "      <td>1.734048</td>\n",
       "      <td>1.728515</td>\n",
       "      <td>1.713062</td>\n",
       "      <td>...</td>\n",
       "      <td>-1.087346</td>\n",
       "      <td>-1.137430</td>\n",
       "      <td>-1.182160</td>\n",
       "      <td>-1.212352</td>\n",
       "      <td>-1.274939</td>\n",
       "      <td>-1.293308</td>\n",
       "      <td>-1.241542</td>\n",
       "      <td>-1.084978</td>\n",
       "      <td>-1.041691</td>\n",
       "      <td>1</td>\n",
       "    </tr>\n",
       "    <tr>\n",
       "      <th>432</th>\n",
       "      <td>-0.364631</td>\n",
       "      <td>-0.362055</td>\n",
       "      <td>-0.374638</td>\n",
       "      <td>-0.397320</td>\n",
       "      <td>-0.430745</td>\n",
       "      <td>-0.463620</td>\n",
       "      <td>-0.478119</td>\n",
       "      <td>-0.490729</td>\n",
       "      <td>-0.502413</td>\n",
       "      <td>-0.506982</td>\n",
       "      <td>...</td>\n",
       "      <td>0.053891</td>\n",
       "      <td>0.039317</td>\n",
       "      <td>-0.071474</td>\n",
       "      <td>-0.155699</td>\n",
       "      <td>-0.156067</td>\n",
       "      <td>-0.007857</td>\n",
       "      <td>0.065584</td>\n",
       "      <td>0.048086</td>\n",
       "      <td>0.011769</td>\n",
       "      <td>1</td>\n",
       "    </tr>\n",
       "    <tr>\n",
       "      <th>433</th>\n",
       "      <td>1.302557</td>\n",
       "      <td>1.516351</td>\n",
       "      <td>1.583090</td>\n",
       "      <td>1.685676</td>\n",
       "      <td>1.743617</td>\n",
       "      <td>1.766334</td>\n",
       "      <td>1.753959</td>\n",
       "      <td>1.683693</td>\n",
       "      <td>1.600510</td>\n",
       "      <td>1.535659</td>\n",
       "      <td>...</td>\n",
       "      <td>1.264152</td>\n",
       "      <td>1.255733</td>\n",
       "      <td>1.064086</td>\n",
       "      <td>0.808108</td>\n",
       "      <td>0.036170</td>\n",
       "      <td>-1.051171</td>\n",
       "      <td>-1.474320</td>\n",
       "      <td>-1.464660</td>\n",
       "      <td>-1.474078</td>\n",
       "      <td>1</td>\n",
       "    </tr>\n",
       "    <tr>\n",
       "      <th>434</th>\n",
       "      <td>-0.874180</td>\n",
       "      <td>-0.760116</td>\n",
       "      <td>-0.696906</td>\n",
       "      <td>-0.681223</td>\n",
       "      <td>-0.659052</td>\n",
       "      <td>-0.590080</td>\n",
       "      <td>-0.505777</td>\n",
       "      <td>-0.396174</td>\n",
       "      <td>-0.348534</td>\n",
       "      <td>-0.396013</td>\n",
       "      <td>...</td>\n",
       "      <td>-0.897944</td>\n",
       "      <td>-0.869497</td>\n",
       "      <td>-0.841074</td>\n",
       "      <td>-0.807669</td>\n",
       "      <td>-0.781032</td>\n",
       "      <td>-0.764917</td>\n",
       "      <td>-0.761599</td>\n",
       "      <td>-0.760625</td>\n",
       "      <td>-0.756158</td>\n",
       "      <td>1</td>\n",
       "    </tr>\n",
       "    <tr>\n",
       "      <th>435</th>\n",
       "      <td>0.287703</td>\n",
       "      <td>-0.134694</td>\n",
       "      <td>-0.456527</td>\n",
       "      <td>-0.308740</td>\n",
       "      <td>0.422797</td>\n",
       "      <td>1.117299</td>\n",
       "      <td>1.337003</td>\n",
       "      <td>1.404287</td>\n",
       "      <td>1.348297</td>\n",
       "      <td>1.300559</td>\n",
       "      <td>...</td>\n",
       "      <td>1.362073</td>\n",
       "      <td>1.285656</td>\n",
       "      <td>1.217691</td>\n",
       "      <td>1.104541</td>\n",
       "      <td>0.892289</td>\n",
       "      <td>0.570821</td>\n",
       "      <td>0.200374</td>\n",
       "      <td>-0.064824</td>\n",
       "      <td>-0.224854</td>\n",
       "      <td>1</td>\n",
       "    </tr>\n",
       "  </tbody>\n",
       "</table>\n",
       "<p>5 rows × 2305 columns</p>\n",
       "</div>"
      ],
      "text/plain": [
       "            0         1         2         3         4         5         6  \\\n",
       "431 -0.993083 -0.953576 -0.912912 -0.458759  0.423167  1.277226  1.644133   \n",
       "432 -0.364631 -0.362055 -0.374638 -0.397320 -0.430745 -0.463620 -0.478119   \n",
       "433  1.302557  1.516351  1.583090  1.685676  1.743617  1.766334  1.753959   \n",
       "434 -0.874180 -0.760116 -0.696906 -0.681223 -0.659052 -0.590080 -0.505777   \n",
       "435  0.287703 -0.134694 -0.456527 -0.308740  0.422797  1.117299  1.337003   \n",
       "\n",
       "            7         8         9  ...      2295      2296      2297  \\\n",
       "431  1.734048  1.728515  1.713062  ... -1.087346 -1.137430 -1.182160   \n",
       "432 -0.490729 -0.502413 -0.506982  ...  0.053891  0.039317 -0.071474   \n",
       "433  1.683693  1.600510  1.535659  ...  1.264152  1.255733  1.064086   \n",
       "434 -0.396174 -0.348534 -0.396013  ... -0.897944 -0.869497 -0.841074   \n",
       "435  1.404287  1.348297  1.300559  ...  1.362073  1.285656  1.217691   \n",
       "\n",
       "         2298      2299      2300      2301      2302      2303  emotion  \n",
       "431 -1.212352 -1.274939 -1.293308 -1.241542 -1.084978 -1.041691        1  \n",
       "432 -0.155699 -0.156067 -0.007857  0.065584  0.048086  0.011769        1  \n",
       "433  0.808108  0.036170 -1.051171 -1.474320 -1.464660 -1.474078        1  \n",
       "434 -0.807669 -0.781032 -0.764917 -0.761599 -0.760625 -0.756158        1  \n",
       "435  1.104541  0.892289  0.570821  0.200374 -0.064824 -0.224854        1  \n",
       "\n",
       "[5 rows x 2305 columns]"
      ]
     },
     "execution_count": 17,
     "metadata": {},
     "output_type": "execute_result"
    }
   ],
   "source": [
    "rot_disgust_10_df = pd.DataFrame(rotated_10_train_only_disgust)\n",
    "rot_disgust_10_df['emotion'] = 1\n",
    "rot_disgust_10_df.tail()"
   ]
  },
  {
   "cell_type": "code",
   "execution_count": 18,
   "metadata": {},
   "outputs": [
    {
     "data": {
      "text/html": [
       "<div>\n",
       "<style scoped>\n",
       "    .dataframe tbody tr th:only-of-type {\n",
       "        vertical-align: middle;\n",
       "    }\n",
       "\n",
       "    .dataframe tbody tr th {\n",
       "        vertical-align: top;\n",
       "    }\n",
       "\n",
       "    .dataframe thead th {\n",
       "        text-align: right;\n",
       "    }\n",
       "</style>\n",
       "<table border=\"1\" class=\"dataframe\">\n",
       "  <thead>\n",
       "    <tr style=\"text-align: right;\">\n",
       "      <th></th>\n",
       "      <th>0</th>\n",
       "      <th>1</th>\n",
       "      <th>2</th>\n",
       "      <th>3</th>\n",
       "      <th>4</th>\n",
       "      <th>5</th>\n",
       "      <th>6</th>\n",
       "      <th>7</th>\n",
       "      <th>8</th>\n",
       "      <th>9</th>\n",
       "      <th>...</th>\n",
       "      <th>2295</th>\n",
       "      <th>2296</th>\n",
       "      <th>2297</th>\n",
       "      <th>2298</th>\n",
       "      <th>2299</th>\n",
       "      <th>2300</th>\n",
       "      <th>2301</th>\n",
       "      <th>2302</th>\n",
       "      <th>2303</th>\n",
       "      <th>emotion</th>\n",
       "    </tr>\n",
       "  </thead>\n",
       "  <tbody>\n",
       "    <tr>\n",
       "      <th>431</th>\n",
       "      <td>1.325168</td>\n",
       "      <td>1.652732</td>\n",
       "      <td>1.734048</td>\n",
       "      <td>1.728997</td>\n",
       "      <td>1.714517</td>\n",
       "      <td>1.699515</td>\n",
       "      <td>1.675425</td>\n",
       "      <td>1.591326</td>\n",
       "      <td>1.555430</td>\n",
       "      <td>1.551096</td>\n",
       "      <td>...</td>\n",
       "      <td>-0.710129</td>\n",
       "      <td>-0.913766</td>\n",
       "      <td>-0.993138</td>\n",
       "      <td>-1.025566</td>\n",
       "      <td>-1.057214</td>\n",
       "      <td>-1.088372</td>\n",
       "      <td>-1.137430</td>\n",
       "      <td>-1.179887</td>\n",
       "      <td>-1.209698</td>\n",
       "      <td>1</td>\n",
       "    </tr>\n",
       "    <tr>\n",
       "      <th>432</th>\n",
       "      <td>-0.465268</td>\n",
       "      <td>-0.478757</td>\n",
       "      <td>-0.490729</td>\n",
       "      <td>-0.502373</td>\n",
       "      <td>-0.505878</td>\n",
       "      <td>-0.514298</td>\n",
       "      <td>-0.508173</td>\n",
       "      <td>-0.489293</td>\n",
       "      <td>-0.476356</td>\n",
       "      <td>-0.497212</td>\n",
       "      <td>...</td>\n",
       "      <td>-0.187602</td>\n",
       "      <td>-0.061887</td>\n",
       "      <td>-0.043311</td>\n",
       "      <td>-0.095673</td>\n",
       "      <td>-0.036257</td>\n",
       "      <td>0.057105</td>\n",
       "      <td>0.039317</td>\n",
       "      <td>-0.063253</td>\n",
       "      <td>-0.149847</td>\n",
       "      <td>1</td>\n",
       "    </tr>\n",
       "    <tr>\n",
       "      <th>433</th>\n",
       "      <td>1.767167</td>\n",
       "      <td>1.750698</td>\n",
       "      <td>1.683693</td>\n",
       "      <td>1.601949</td>\n",
       "      <td>1.545613</td>\n",
       "      <td>1.443239</td>\n",
       "      <td>1.333895</td>\n",
       "      <td>1.288566</td>\n",
       "      <td>1.223106</td>\n",
       "      <td>1.189541</td>\n",
       "      <td>...</td>\n",
       "      <td>1.474798</td>\n",
       "      <td>1.472724</td>\n",
       "      <td>1.418044</td>\n",
       "      <td>1.242165</td>\n",
       "      <td>1.190794</td>\n",
       "      <td>1.267739</td>\n",
       "      <td>1.255733</td>\n",
       "      <td>1.080129</td>\n",
       "      <td>0.833270</td>\n",
       "      <td>1</td>\n",
       "    </tr>\n",
       "    <tr>\n",
       "      <th>434</th>\n",
       "      <td>-0.583700</td>\n",
       "      <td>-0.498182</td>\n",
       "      <td>-0.396174</td>\n",
       "      <td>-0.347597</td>\n",
       "      <td>-0.387950</td>\n",
       "      <td>-0.468427</td>\n",
       "      <td>-0.546727</td>\n",
       "      <td>-0.614280</td>\n",
       "      <td>-0.729637</td>\n",
       "      <td>-0.796614</td>\n",
       "      <td>...</td>\n",
       "      <td>-1.049904</td>\n",
       "      <td>-1.050768</td>\n",
       "      <td>-1.005348</td>\n",
       "      <td>-0.959457</td>\n",
       "      <td>-0.931716</td>\n",
       "      <td>-0.896665</td>\n",
       "      <td>-0.869497</td>\n",
       "      <td>-0.843000</td>\n",
       "      <td>-0.811091</td>\n",
       "      <td>1</td>\n",
       "    </tr>\n",
       "    <tr>\n",
       "      <th>435</th>\n",
       "      <td>1.143279</td>\n",
       "      <td>1.345459</td>\n",
       "      <td>1.404287</td>\n",
       "      <td>1.349791</td>\n",
       "      <td>1.305015</td>\n",
       "      <td>1.262459</td>\n",
       "      <td>1.232903</td>\n",
       "      <td>1.232464</td>\n",
       "      <td>1.294605</td>\n",
       "      <td>1.265457</td>\n",
       "      <td>...</td>\n",
       "      <td>1.442826</td>\n",
       "      <td>1.471692</td>\n",
       "      <td>1.475973</td>\n",
       "      <td>1.476921</td>\n",
       "      <td>1.441706</td>\n",
       "      <td>1.358903</td>\n",
       "      <td>1.285656</td>\n",
       "      <td>1.221933</td>\n",
       "      <td>1.118014</td>\n",
       "      <td>1</td>\n",
       "    </tr>\n",
       "  </tbody>\n",
       "</table>\n",
       "<p>5 rows × 2305 columns</p>\n",
       "</div>"
      ],
      "text/plain": [
       "            0         1         2         3         4         5         6  \\\n",
       "431  1.325168  1.652732  1.734048  1.728997  1.714517  1.699515  1.675425   \n",
       "432 -0.465268 -0.478757 -0.490729 -0.502373 -0.505878 -0.514298 -0.508173   \n",
       "433  1.767167  1.750698  1.683693  1.601949  1.545613  1.443239  1.333895   \n",
       "434 -0.583700 -0.498182 -0.396174 -0.347597 -0.387950 -0.468427 -0.546727   \n",
       "435  1.143279  1.345459  1.404287  1.349791  1.305015  1.262459  1.232903   \n",
       "\n",
       "            7         8         9  ...      2295      2296      2297  \\\n",
       "431  1.591326  1.555430  1.551096  ... -0.710129 -0.913766 -0.993138   \n",
       "432 -0.489293 -0.476356 -0.497212  ... -0.187602 -0.061887 -0.043311   \n",
       "433  1.288566  1.223106  1.189541  ...  1.474798  1.472724  1.418044   \n",
       "434 -0.614280 -0.729637 -0.796614  ... -1.049904 -1.050768 -1.005348   \n",
       "435  1.232464  1.294605  1.265457  ...  1.442826  1.471692  1.475973   \n",
       "\n",
       "         2298      2299      2300      2301      2302      2303  emotion  \n",
       "431 -1.025566 -1.057214 -1.088372 -1.137430 -1.179887 -1.209698        1  \n",
       "432 -0.095673 -0.036257  0.057105  0.039317 -0.063253 -0.149847        1  \n",
       "433  1.242165  1.190794  1.267739  1.255733  1.080129  0.833270        1  \n",
       "434 -0.959457 -0.931716 -0.896665 -0.869497 -0.843000 -0.811091        1  \n",
       "435  1.476921  1.441706  1.358903  1.285656  1.221933  1.118014        1  \n",
       "\n",
       "[5 rows x 2305 columns]"
      ]
     },
     "execution_count": 18,
     "metadata": {},
     "output_type": "execute_result"
    }
   ],
   "source": [
    "rot_disgust_20_df = pd.DataFrame(rotated_20_train_only_disgust)\n",
    "rot_disgust_20_df['emotion'] = 1\n",
    "rot_disgust_20_df.tail()"
   ]
  },
  {
   "cell_type": "code",
   "execution_count": 19,
   "metadata": {},
   "outputs": [],
   "source": [
    "rot_disgust_df = pd.concat([rot_disgust_10_df, rot_disgust_20_df])"
   ]
  },
  {
   "cell_type": "code",
   "execution_count": 20,
   "metadata": {},
   "outputs": [
    {
     "name": "stdout",
     "output_type": "stream",
     "text": [
      "<class 'pandas.core.frame.DataFrame'>\n",
      "Int64Index: 872 entries, 0 to 435\n",
      "Columns: 2305 entries, 0 to emotion\n",
      "dtypes: float64(2304), int64(1)\n",
      "memory usage: 15.3 MB\n"
     ]
    }
   ],
   "source": [
    "rot_disgust_df.info()"
   ]
  },
  {
   "cell_type": "code",
   "execution_count": null,
   "metadata": {},
   "outputs": [],
   "source": []
  },
  {
   "cell_type": "code",
   "execution_count": 21,
   "metadata": {},
   "outputs": [
    {
     "name": "stdout",
     "output_type": "stream",
     "text": [
      "<class 'pandas.core.frame.DataFrame'>\n",
      "RangeIndex: 28709 entries, 0 to 28708\n",
      "Columns: 2305 entries, 0 to emotion\n",
      "dtypes: float64(2304), int64(1)\n",
      "memory usage: 504.9 MB\n"
     ]
    }
   ],
   "source": [
    "train.info()"
   ]
  },
  {
   "cell_type": "code",
   "execution_count": 22,
   "metadata": {},
   "outputs": [],
   "source": [
    "#the rotated dataset and the train seems to match"
   ]
  },
  {
   "cell_type": "code",
   "execution_count": 23,
   "metadata": {},
   "outputs": [],
   "source": [
    "rot_disgust_df.columns = train.columns "
   ]
  },
  {
   "cell_type": "code",
   "execution_count": 24,
   "metadata": {},
   "outputs": [],
   "source": [
    "train_expanded_disgust_rot = pd.concat([train, rot_disgust_df], axis = 0)"
   ]
  },
  {
   "cell_type": "code",
   "execution_count": 25,
   "metadata": {},
   "outputs": [],
   "source": [
    "train_expanded_disgust_rot = train_expanded_disgust_rot.reset_index().drop(columns = ['index'])"
   ]
  },
  {
   "cell_type": "code",
   "execution_count": 26,
   "metadata": {},
   "outputs": [
    {
     "data": {
      "text/html": [
       "<div>\n",
       "<style scoped>\n",
       "    .dataframe tbody tr th:only-of-type {\n",
       "        vertical-align: middle;\n",
       "    }\n",
       "\n",
       "    .dataframe tbody tr th {\n",
       "        vertical-align: top;\n",
       "    }\n",
       "\n",
       "    .dataframe thead th {\n",
       "        text-align: right;\n",
       "    }\n",
       "</style>\n",
       "<table border=\"1\" class=\"dataframe\">\n",
       "  <thead>\n",
       "    <tr style=\"text-align: right;\">\n",
       "      <th></th>\n",
       "      <th>0</th>\n",
       "      <th>1</th>\n",
       "      <th>2</th>\n",
       "      <th>3</th>\n",
       "      <th>4</th>\n",
       "      <th>5</th>\n",
       "      <th>6</th>\n",
       "      <th>7</th>\n",
       "      <th>8</th>\n",
       "      <th>9</th>\n",
       "      <th>...</th>\n",
       "      <th>2295</th>\n",
       "      <th>2296</th>\n",
       "      <th>2297</th>\n",
       "      <th>2298</th>\n",
       "      <th>2299</th>\n",
       "      <th>2300</th>\n",
       "      <th>2301</th>\n",
       "      <th>2302</th>\n",
       "      <th>2303</th>\n",
       "      <th>emotion</th>\n",
       "    </tr>\n",
       "  </thead>\n",
       "  <tbody>\n",
       "    <tr>\n",
       "      <th>29576</th>\n",
       "      <td>1.325168</td>\n",
       "      <td>1.652732</td>\n",
       "      <td>1.734048</td>\n",
       "      <td>1.728997</td>\n",
       "      <td>1.714517</td>\n",
       "      <td>1.699515</td>\n",
       "      <td>1.675425</td>\n",
       "      <td>1.591326</td>\n",
       "      <td>1.555430</td>\n",
       "      <td>1.551096</td>\n",
       "      <td>...</td>\n",
       "      <td>-0.710129</td>\n",
       "      <td>-0.913766</td>\n",
       "      <td>-0.993138</td>\n",
       "      <td>-1.025566</td>\n",
       "      <td>-1.057214</td>\n",
       "      <td>-1.088372</td>\n",
       "      <td>-1.137430</td>\n",
       "      <td>-1.179887</td>\n",
       "      <td>-1.209698</td>\n",
       "      <td>1</td>\n",
       "    </tr>\n",
       "    <tr>\n",
       "      <th>29577</th>\n",
       "      <td>-0.465268</td>\n",
       "      <td>-0.478757</td>\n",
       "      <td>-0.490729</td>\n",
       "      <td>-0.502373</td>\n",
       "      <td>-0.505878</td>\n",
       "      <td>-0.514298</td>\n",
       "      <td>-0.508173</td>\n",
       "      <td>-0.489293</td>\n",
       "      <td>-0.476356</td>\n",
       "      <td>-0.497212</td>\n",
       "      <td>...</td>\n",
       "      <td>-0.187602</td>\n",
       "      <td>-0.061887</td>\n",
       "      <td>-0.043311</td>\n",
       "      <td>-0.095673</td>\n",
       "      <td>-0.036257</td>\n",
       "      <td>0.057105</td>\n",
       "      <td>0.039317</td>\n",
       "      <td>-0.063253</td>\n",
       "      <td>-0.149847</td>\n",
       "      <td>1</td>\n",
       "    </tr>\n",
       "    <tr>\n",
       "      <th>29578</th>\n",
       "      <td>1.767167</td>\n",
       "      <td>1.750698</td>\n",
       "      <td>1.683693</td>\n",
       "      <td>1.601949</td>\n",
       "      <td>1.545613</td>\n",
       "      <td>1.443239</td>\n",
       "      <td>1.333895</td>\n",
       "      <td>1.288566</td>\n",
       "      <td>1.223106</td>\n",
       "      <td>1.189541</td>\n",
       "      <td>...</td>\n",
       "      <td>1.474798</td>\n",
       "      <td>1.472724</td>\n",
       "      <td>1.418044</td>\n",
       "      <td>1.242165</td>\n",
       "      <td>1.190794</td>\n",
       "      <td>1.267739</td>\n",
       "      <td>1.255733</td>\n",
       "      <td>1.080129</td>\n",
       "      <td>0.833270</td>\n",
       "      <td>1</td>\n",
       "    </tr>\n",
       "    <tr>\n",
       "      <th>29579</th>\n",
       "      <td>-0.583700</td>\n",
       "      <td>-0.498182</td>\n",
       "      <td>-0.396174</td>\n",
       "      <td>-0.347597</td>\n",
       "      <td>-0.387950</td>\n",
       "      <td>-0.468427</td>\n",
       "      <td>-0.546727</td>\n",
       "      <td>-0.614280</td>\n",
       "      <td>-0.729637</td>\n",
       "      <td>-0.796614</td>\n",
       "      <td>...</td>\n",
       "      <td>-1.049904</td>\n",
       "      <td>-1.050768</td>\n",
       "      <td>-1.005348</td>\n",
       "      <td>-0.959457</td>\n",
       "      <td>-0.931716</td>\n",
       "      <td>-0.896665</td>\n",
       "      <td>-0.869497</td>\n",
       "      <td>-0.843000</td>\n",
       "      <td>-0.811091</td>\n",
       "      <td>1</td>\n",
       "    </tr>\n",
       "    <tr>\n",
       "      <th>29580</th>\n",
       "      <td>1.143279</td>\n",
       "      <td>1.345459</td>\n",
       "      <td>1.404287</td>\n",
       "      <td>1.349791</td>\n",
       "      <td>1.305015</td>\n",
       "      <td>1.262459</td>\n",
       "      <td>1.232903</td>\n",
       "      <td>1.232464</td>\n",
       "      <td>1.294605</td>\n",
       "      <td>1.265457</td>\n",
       "      <td>...</td>\n",
       "      <td>1.442826</td>\n",
       "      <td>1.471692</td>\n",
       "      <td>1.475973</td>\n",
       "      <td>1.476921</td>\n",
       "      <td>1.441706</td>\n",
       "      <td>1.358903</td>\n",
       "      <td>1.285656</td>\n",
       "      <td>1.221933</td>\n",
       "      <td>1.118014</td>\n",
       "      <td>1</td>\n",
       "    </tr>\n",
       "  </tbody>\n",
       "</table>\n",
       "<p>5 rows × 2305 columns</p>\n",
       "</div>"
      ],
      "text/plain": [
       "              0         1         2         3         4         5         6  \\\n",
       "29576  1.325168  1.652732  1.734048  1.728997  1.714517  1.699515  1.675425   \n",
       "29577 -0.465268 -0.478757 -0.490729 -0.502373 -0.505878 -0.514298 -0.508173   \n",
       "29578  1.767167  1.750698  1.683693  1.601949  1.545613  1.443239  1.333895   \n",
       "29579 -0.583700 -0.498182 -0.396174 -0.347597 -0.387950 -0.468427 -0.546727   \n",
       "29580  1.143279  1.345459  1.404287  1.349791  1.305015  1.262459  1.232903   \n",
       "\n",
       "              7         8         9  ...      2295      2296      2297  \\\n",
       "29576  1.591326  1.555430  1.551096  ... -0.710129 -0.913766 -0.993138   \n",
       "29577 -0.489293 -0.476356 -0.497212  ... -0.187602 -0.061887 -0.043311   \n",
       "29578  1.288566  1.223106  1.189541  ...  1.474798  1.472724  1.418044   \n",
       "29579 -0.614280 -0.729637 -0.796614  ... -1.049904 -1.050768 -1.005348   \n",
       "29580  1.232464  1.294605  1.265457  ...  1.442826  1.471692  1.475973   \n",
       "\n",
       "           2298      2299      2300      2301      2302      2303  emotion  \n",
       "29576 -1.025566 -1.057214 -1.088372 -1.137430 -1.179887 -1.209698        1  \n",
       "29577 -0.095673 -0.036257  0.057105  0.039317 -0.063253 -0.149847        1  \n",
       "29578  1.242165  1.190794  1.267739  1.255733  1.080129  0.833270        1  \n",
       "29579 -0.959457 -0.931716 -0.896665 -0.869497 -0.843000 -0.811091        1  \n",
       "29580  1.476921  1.441706  1.358903  1.285656  1.221933  1.118014        1  \n",
       "\n",
       "[5 rows x 2305 columns]"
      ]
     },
     "execution_count": 26,
     "metadata": {},
     "output_type": "execute_result"
    }
   ],
   "source": [
    "train_expanded_disgust_rot.tail()"
   ]
  },
  {
   "cell_type": "code",
   "execution_count": 27,
   "metadata": {},
   "outputs": [],
   "source": [
    "# I have now the data with rotated disgust images, my next step is to flip ALL OF IT"
   ]
  },
  {
   "cell_type": "code",
   "execution_count": 28,
   "metadata": {},
   "outputs": [],
   "source": [
    "train_np = train_expanded_disgust_rot.drop(columns = ['emotion']).values"
   ]
  },
  {
   "cell_type": "code",
   "execution_count": 29,
   "metadata": {},
   "outputs": [],
   "source": [
    "flipped_train_np = np.zeros(shape=train_np.shape)\n",
    "for i in range(len(train_np)):\n",
    "    flipped_np = img_conv.flip_frame_horitzontally(img_conv.reshape_array_to_frame(train_np[i]))\n",
    "    flipped_train_np[i] = img_conv.reshape_frame_to_array(flipped_np)"
   ]
  },
  {
   "cell_type": "code",
   "execution_count": 30,
   "metadata": {},
   "outputs": [
    {
     "data": {
      "text/plain": [
       "array([[-0.94871455, -0.90103049, -0.76584152, ..., -0.39951593,\n",
       "        -0.56421664, -0.51135155],\n",
       "       [ 0.01435704,  0.29842735,  0.20136557, ...,  0.88745717,\n",
       "         0.8548128 ,  0.86072528],\n",
       "       [-1.25348404, -1.0988792 , -0.86633057, ...,  1.71570718,\n",
       "         1.70369649,  1.66634838],\n",
       "       ...,\n",
       "       [ 0.33003196,  0.48236993,  0.51395664, ..., -1.47179619,\n",
       "        -1.47467521, -1.48061106],\n",
       "       [-1.27962384, -1.26600753, -1.24943582, ..., -0.05406153,\n",
       "         0.07727114,  0.06328149],\n",
       "       [ 0.05971013,  0.04541673,  0.03920234, ...,  1.70067913,\n",
       "         1.69976803,  1.699323  ]])"
      ]
     },
     "execution_count": 30,
     "metadata": {},
     "output_type": "execute_result"
    }
   ],
   "source": [
    "flipped_train_np"
   ]
  },
  {
   "cell_type": "code",
   "execution_count": null,
   "metadata": {},
   "outputs": [],
   "source": []
  },
  {
   "cell_type": "code",
   "execution_count": 31,
   "metadata": {},
   "outputs": [
    {
     "data": {
      "text/html": [
       "<div>\n",
       "<style scoped>\n",
       "    .dataframe tbody tr th:only-of-type {\n",
       "        vertical-align: middle;\n",
       "    }\n",
       "\n",
       "    .dataframe tbody tr th {\n",
       "        vertical-align: top;\n",
       "    }\n",
       "\n",
       "    .dataframe thead th {\n",
       "        text-align: right;\n",
       "    }\n",
       "</style>\n",
       "<table border=\"1\" class=\"dataframe\">\n",
       "  <thead>\n",
       "    <tr style=\"text-align: right;\">\n",
       "      <th></th>\n",
       "      <th>0</th>\n",
       "      <th>1</th>\n",
       "      <th>2</th>\n",
       "      <th>3</th>\n",
       "      <th>4</th>\n",
       "      <th>5</th>\n",
       "      <th>6</th>\n",
       "      <th>7</th>\n",
       "      <th>8</th>\n",
       "      <th>9</th>\n",
       "      <th>...</th>\n",
       "      <th>2295</th>\n",
       "      <th>2296</th>\n",
       "      <th>2297</th>\n",
       "      <th>2298</th>\n",
       "      <th>2299</th>\n",
       "      <th>2300</th>\n",
       "      <th>2301</th>\n",
       "      <th>2302</th>\n",
       "      <th>2303</th>\n",
       "      <th>emotion</th>\n",
       "    </tr>\n",
       "  </thead>\n",
       "  <tbody>\n",
       "    <tr>\n",
       "      <th>29576</th>\n",
       "      <td>-0.203743</td>\n",
       "      <td>-0.090326</td>\n",
       "      <td>-0.022239</td>\n",
       "      <td>0.019947</td>\n",
       "      <td>0.062132</td>\n",
       "      <td>0.043866</td>\n",
       "      <td>0.002929</td>\n",
       "      <td>-0.038007</td>\n",
       "      <td>-0.000856</td>\n",
       "      <td>0.182147</td>\n",
       "      <td>...</td>\n",
       "      <td>0.619192</td>\n",
       "      <td>0.731339</td>\n",
       "      <td>0.890033</td>\n",
       "      <td>1.048728</td>\n",
       "      <td>1.168525</td>\n",
       "      <td>1.184597</td>\n",
       "      <td>1.200669</td>\n",
       "      <td>1.210669</td>\n",
       "      <td>1.210043</td>\n",
       "      <td>1</td>\n",
       "    </tr>\n",
       "    <tr>\n",
       "      <th>29577</th>\n",
       "      <td>0.275378</td>\n",
       "      <td>0.243262</td>\n",
       "      <td>0.191481</td>\n",
       "      <td>0.128464</td>\n",
       "      <td>0.065446</td>\n",
       "      <td>0.012206</td>\n",
       "      <td>-0.037367</td>\n",
       "      <td>-0.086941</td>\n",
       "      <td>0.376351</td>\n",
       "      <td>0.581175</td>\n",
       "      <td>...</td>\n",
       "      <td>0.695242</td>\n",
       "      <td>0.661575</td>\n",
       "      <td>0.574571</td>\n",
       "      <td>0.487567</td>\n",
       "      <td>0.436907</td>\n",
       "      <td>0.483162</td>\n",
       "      <td>0.529417</td>\n",
       "      <td>0.574228</td>\n",
       "      <td>0.616510</td>\n",
       "      <td>1</td>\n",
       "    </tr>\n",
       "    <tr>\n",
       "      <th>29578</th>\n",
       "      <td>0.330032</td>\n",
       "      <td>0.482370</td>\n",
       "      <td>0.513957</td>\n",
       "      <td>0.476543</td>\n",
       "      <td>0.439129</td>\n",
       "      <td>0.423966</td>\n",
       "      <td>0.417148</td>\n",
       "      <td>0.410329</td>\n",
       "      <td>0.142462</td>\n",
       "      <td>-0.823467</td>\n",
       "      <td>...</td>\n",
       "      <td>-1.489551</td>\n",
       "      <td>-1.491536</td>\n",
       "      <td>-1.483354</td>\n",
       "      <td>-1.475173</td>\n",
       "      <td>-1.469532</td>\n",
       "      <td>-1.470664</td>\n",
       "      <td>-1.471796</td>\n",
       "      <td>-1.474675</td>\n",
       "      <td>-1.480611</td>\n",
       "      <td>1</td>\n",
       "    </tr>\n",
       "    <tr>\n",
       "      <th>29579</th>\n",
       "      <td>-1.279624</td>\n",
       "      <td>-1.266008</td>\n",
       "      <td>-1.249436</td>\n",
       "      <td>-1.231175</td>\n",
       "      <td>-1.212915</td>\n",
       "      <td>-1.210870</td>\n",
       "      <td>-1.214906</td>\n",
       "      <td>-1.218942</td>\n",
       "      <td>-1.193184</td>\n",
       "      <td>-1.185663</td>\n",
       "      <td>...</td>\n",
       "      <td>-0.078488</td>\n",
       "      <td>-0.516130</td>\n",
       "      <td>-0.525350</td>\n",
       "      <td>-0.534570</td>\n",
       "      <td>-0.482810</td>\n",
       "      <td>-0.268436</td>\n",
       "      <td>-0.054062</td>\n",
       "      <td>0.077271</td>\n",
       "      <td>0.063281</td>\n",
       "      <td>1</td>\n",
       "    </tr>\n",
       "    <tr>\n",
       "      <th>29580</th>\n",
       "      <td>0.059710</td>\n",
       "      <td>0.045417</td>\n",
       "      <td>0.039202</td>\n",
       "      <td>0.037605</td>\n",
       "      <td>0.036007</td>\n",
       "      <td>0.075290</td>\n",
       "      <td>0.129903</td>\n",
       "      <td>0.184516</td>\n",
       "      <td>0.120240</td>\n",
       "      <td>0.168377</td>\n",
       "      <td>...</td>\n",
       "      <td>1.736537</td>\n",
       "      <td>1.705972</td>\n",
       "      <td>1.705012</td>\n",
       "      <td>1.704053</td>\n",
       "      <td>1.703034</td>\n",
       "      <td>1.701857</td>\n",
       "      <td>1.700679</td>\n",
       "      <td>1.699768</td>\n",
       "      <td>1.699323</td>\n",
       "      <td>1</td>\n",
       "    </tr>\n",
       "  </tbody>\n",
       "</table>\n",
       "<p>5 rows × 2305 columns</p>\n",
       "</div>"
      ],
      "text/plain": [
       "              0         1         2         3         4         5         6  \\\n",
       "29576 -0.203743 -0.090326 -0.022239  0.019947  0.062132  0.043866  0.002929   \n",
       "29577  0.275378  0.243262  0.191481  0.128464  0.065446  0.012206 -0.037367   \n",
       "29578  0.330032  0.482370  0.513957  0.476543  0.439129  0.423966  0.417148   \n",
       "29579 -1.279624 -1.266008 -1.249436 -1.231175 -1.212915 -1.210870 -1.214906   \n",
       "29580  0.059710  0.045417  0.039202  0.037605  0.036007  0.075290  0.129903   \n",
       "\n",
       "              7         8         9  ...      2295      2296      2297  \\\n",
       "29576 -0.038007 -0.000856  0.182147  ...  0.619192  0.731339  0.890033   \n",
       "29577 -0.086941  0.376351  0.581175  ...  0.695242  0.661575  0.574571   \n",
       "29578  0.410329  0.142462 -0.823467  ... -1.489551 -1.491536 -1.483354   \n",
       "29579 -1.218942 -1.193184 -1.185663  ... -0.078488 -0.516130 -0.525350   \n",
       "29580  0.184516  0.120240  0.168377  ...  1.736537  1.705972  1.705012   \n",
       "\n",
       "           2298      2299      2300      2301      2302      2303  emotion  \n",
       "29576  1.048728  1.168525  1.184597  1.200669  1.210669  1.210043        1  \n",
       "29577  0.487567  0.436907  0.483162  0.529417  0.574228  0.616510        1  \n",
       "29578 -1.475173 -1.469532 -1.470664 -1.471796 -1.474675 -1.480611        1  \n",
       "29579 -0.534570 -0.482810 -0.268436 -0.054062  0.077271  0.063281        1  \n",
       "29580  1.704053  1.703034  1.701857  1.700679  1.699768  1.699323        1  \n",
       "\n",
       "[5 rows x 2305 columns]"
      ]
     },
     "execution_count": 31,
     "metadata": {},
     "output_type": "execute_result"
    }
   ],
   "source": [
    "new_train = pd.DataFrame(flipped_train_np)\n",
    "new_train['emotion'] = train_expanded_disgust_rot['emotion']\n",
    "new_train.tail()"
   ]
  },
  {
   "cell_type": "code",
   "execution_count": 32,
   "metadata": {},
   "outputs": [],
   "source": [
    "new_train.columns = train_expanded_disgust_rot.columns "
   ]
  },
  {
   "cell_type": "code",
   "execution_count": 33,
   "metadata": {},
   "outputs": [],
   "source": [
    "train_expanded = pd.concat([train_expanded_disgust_rot, new_train], axis = 0)"
   ]
  },
  {
   "cell_type": "code",
   "execution_count": 34,
   "metadata": {},
   "outputs": [
    {
     "name": "stdout",
     "output_type": "stream",
     "text": [
      "<class 'pandas.core.frame.DataFrame'>\n",
      "Int64Index: 59162 entries, 0 to 29580\n",
      "Columns: 2305 entries, 0 to emotion\n",
      "dtypes: float64(2304), int64(1)\n",
      "memory usage: 1.0 GB\n"
     ]
    }
   ],
   "source": [
    "train_expanded.info()"
   ]
  },
  {
   "cell_type": "code",
   "execution_count": 35,
   "metadata": {},
   "outputs": [],
   "source": [
    "pre.set(name='DatasetDDD', value=train_expanded)"
   ]
  },
  {
   "cell_type": "code",
   "execution_count": 36,
   "metadata": {},
   "outputs": [],
   "source": [
    "#Chack the structure of the new training dataset"
   ]
  },
  {
   "cell_type": "code",
   "execution_count": 37,
   "metadata": {},
   "outputs": [],
   "source": [
    "X_df = train_expanded.drop(columns=['emotion'])\n",
    "y_df = train_expanded['emotion']"
   ]
  },
  {
   "cell_type": "code",
   "execution_count": 38,
   "metadata": {},
   "outputs": [
    {
     "data": {
      "image/png": "[encoded data removed]",
      "text/plain": [
       "<Figure size 720x360 with 1 Axes>"
      ]
     },
     "metadata": {
      "needs_background": "light"
     },
     "output_type": "display_data"
    }
   ],
   "source": [
    "plt.figure(1, figsize=(10, 5))\n",
    "plt.hist(y_df.values, bins = [0, 1, 2, 3, 4, 5, 6, 7])\n",
    "plt.show()"
   ]
  },
  {
   "cell_type": "code",
   "execution_count": 39,
   "metadata": {},
   "outputs": [],
   "source": [
    "pre.save(name= 'DatasetDDD')\n"
   ]
  },
  {
   "cell_type": "code",
   "execution_count": 40,
   "metadata": {},
   "outputs": [
    {
     "name": "stdout",
     "output_type": "stream",
     "text": [
      "datasetDDD saved\n"
     ]
    }
   ],
   "source": [
    "print('datasetDDD saved')"
   ]
  },
  {
   "cell_type": "code",
   "execution_count": 16,
   "metadata": {},
   "outputs": [],
   "source": [
    "#compare the new with the old one"
   ]
  },
  {
   "cell_type": "code",
   "execution_count": 46,
   "metadata": {},
   "outputs": [],
   "source": [
    "pre.load_data(filename='train_norm.csv', name='train_norm')\n",
    "\n",
    "X_df_old = pre.get(name='train_norm').drop(columns=['emotion'])\n",
    "y_df_old= pre.get(name='train_norm')['emotion']"
   ]
  },
  {
   "cell_type": "code",
   "execution_count": 49,
   "metadata": {},
   "outputs": [],
   "source": [
    "pre.load_data(filename='train_expanded_disgust.csv', name='train_expanded_disgust')\n",
    "\n",
    "X_df_exp_c1 = pre.get(name='train_expanded_disgust').drop(columns=['emotion'])\n",
    "y_df_exp_c1 = pre.get(name='train_expanded_disgust')['emotion']"
   ]
  },
  {
   "cell_type": "code",
   "execution_count": 48,
   "metadata": {},
   "outputs": [],
   "source": [
    "pre.load_data(filename='train_expanded.csv', name='train_expanded')\n",
    "\n",
    "X_df_exp = pre.get(name='train_expanded').drop(columns=['emotion'])\n",
    "y_df_exp = pre.get(name='train_expanded')['emotion']"
   ]
  },
  {
   "cell_type": "code",
   "execution_count": null,
   "metadata": {},
   "outputs": [],
   "source": []
  },
  {
   "cell_type": "code",
   "execution_count": 69,
   "metadata": {},
   "outputs": [
    {
     "data": {
      "image/png": "[encoded data removed]",
      "text/plain": [
       "<Figure size 1440x360 with 4 Axes>"
      ]
     },
     "metadata": {
      "needs_background": "light"
     },
     "output_type": "display_data"
    }
   ],
   "source": [
    "plt.figure(1, figsize=(20, 5))\n",
    "plt.subplot(1,4, 1)\n",
    "plt.hist(y_df_old.values, bins = [0, 1, 2, 3, 4, 5, 6, 7])\n",
    "plt.ylim([0,15000])\n",
    "plt.title('A: original')\n",
    "plt.subplot(1,4, 2)\n",
    "plt.hist(y_df_exp_c1.values, bins = [0, 1, 2, 3, 4, 5, 6, 7])\n",
    "plt.ylim([0,15000])\n",
    "plt.title('B: 1:Disgust x2')\n",
    "plt.subplot(1,4, 3)\n",
    "plt.hist(y_df_exp.values, bins = [0, 1, 2, 3, 4, 5, 6, 7])\n",
    "plt.ylim([0,15000])\n",
    "plt.title('C: original x2')\n",
    "plt.subplot(1,4, 4)\n",
    "plt.hist(y_df.values, bins = [0, 1, 2, 3, 4, 5, 6, 7])\n",
    "plt.ylim([0,15000])\n",
    "plt.title('D: 1:Disgust x6, rest x2')\n",
    "plt.show()"
   ]
  },
  {
   "cell_type": "code",
   "execution_count": null,
   "metadata": {},
   "outputs": [],
   "source": []
  }
 ],
 "metadata": {
  "kernelspec": {
   "display_name": "Python 3",
   "language": "python",
   "name": "python3"
  },
  "language_info": {
   "codemirror_mode": {
    "name": "ipython",
    "version": 3
   },
   "file_extension": ".py",
   "mimetype": "text/x-python",
   "name": "python",
   "nbconvert_exporter": "python",
   "pygments_lexer": "ipython3",
   "version": "3.6.8"
  }
 },
 "nbformat": 4,
 "nbformat_minor": 2
}
